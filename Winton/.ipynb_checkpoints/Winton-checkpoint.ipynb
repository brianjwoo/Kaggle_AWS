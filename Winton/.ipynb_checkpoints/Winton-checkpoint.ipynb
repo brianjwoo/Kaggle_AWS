{
 "cells": [
  {
   "cell_type": "code",
   "execution_count": 21,
   "metadata": {
    "collapsed": true
   },
   "outputs": [],
   "source": [
    "import pandas as pd\n",
    "import numpy as np\n",
    "import matplotlib.pyplot as plt\n",
    "\n",
    "from collections import Counter\n",
    "\n",
    "%matplotlib inline"
   ]
  },
  {
   "cell_type": "code",
   "execution_count": 2,
   "metadata": {
    "collapsed": true
   },
   "outputs": [],
   "source": [
    "winton = pd.read_csv('./train.csv')"
   ]
  },
  {
   "cell_type": "code",
   "execution_count": 7,
   "metadata": {
    "collapsed": false
   },
   "outputs": [
    {
     "name": "stdout",
     "output_type": "stream",
     "text": [
      "<class 'pandas.core.frame.DataFrame'>\n",
      "Int64Index: 40000 entries, 0 to 39999\n",
      "Columns: 211 entries, Id to Weight_Daily\n",
      "dtypes: float64(209), int64(2)\n",
      "memory usage: 64.7 MB\n"
     ]
    }
   ],
   "source": [
    "winton.info()"
   ]
  },
  {
   "cell_type": "code",
   "execution_count": 25,
   "metadata": {
    "collapsed": false
   },
   "outputs": [
    {
     "name": "stdout",
     "output_type": "stream",
     "text": [
      "Feature_1 float64 0.832825\n",
      "Feature_2 float64 0.22865\n",
      "Feature_3 float64 0.030925\n",
      "Feature_4 float64 0.193025\n",
      "Feature_5 float64 0.0\n",
      "Feature_6 float64 0.048325\n",
      "Feature_7 int64 0.0\n",
      "Feature_8 float64 0.011725\n",
      "Feature_9 float64 0.046875\n",
      "Feature_10 float64 0.486775\n",
      "Feature_11 float64 0.024675\n",
      "Feature_12 float64 0.0274\n",
      "Feature_13 float64 0.01485\n",
      "Feature_14 float64 0.0182\n",
      "Feature_15 float64 0.053525\n",
      "Feature_16 float64 0.01525\n",
      "Feature_17 float64 0.01615\n",
      "Feature_18 float64 0.0142\n",
      "Feature_19 float64 0.02975\n",
      "Feature_20 float64 0.19565\n",
      "Feature_21 float64 0.02545\n",
      "Feature_22 float64 0.033625\n",
      "Feature_23 float64 0.042775\n",
      "Feature_24 float64 0.01815\n",
      "Feature_25 float64 0.016375\n"
     ]
    }
   ],
   "source": [
    "for c in winton.columns:\n",
    "    if 'Feature' in c:\n",
    "        print c, winton[c].dtypes, np.mean(pd.isnull(winton[c]))"
   ]
  },
  {
   "cell_type": "code",
   "execution_count": null,
   "metadata": {
    "collapsed": true
   },
   "outputs": [],
   "source": []
  },
  {
   "cell_type": "code",
   "execution_count": null,
   "metadata": {
    "collapsed": true
   },
   "outputs": [],
   "source": []
  },
  {
   "cell_type": "code",
   "execution_count": null,
   "metadata": {
    "collapsed": false
   },
   "outputs": [],
   "source": []
  },
  {
   "cell_type": "code",
   "execution_count": null,
   "metadata": {
    "collapsed": false
   },
   "outputs": [],
   "source": []
  },
  {
   "cell_type": "code",
   "execution_count": null,
   "metadata": {
    "collapsed": true
   },
   "outputs": [],
   "source": []
  }
 ],
 "metadata": {
  "kernelspec": {
   "display_name": "Python 2",
   "language": "python",
   "name": "python2"
  },
  "language_info": {
   "codemirror_mode": {
    "name": "ipython",
    "version": 2
   },
   "file_extension": ".py",
   "mimetype": "text/x-python",
   "name": "python",
   "nbconvert_exporter": "python",
   "pygments_lexer": "ipython2",
   "version": "2.7.10"
  }
 },
 "nbformat": 4,
 "nbformat_minor": 0
}
