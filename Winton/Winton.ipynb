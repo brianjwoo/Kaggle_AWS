{
 "cells": [
  {
   "cell_type": "code",
   "execution_count": 21,
   "metadata": {
    "collapsed": true
   },
   "outputs": [],
   "source": [
    "import pandas as pd\n",
    "import numpy as np\n",
    "import matplotlib.pyplot as plt\n",
    "\n",
    "from collections import Counter\n",
    "\n",
    "%matplotlib inline"
   ]
  },
  {
   "cell_type": "code",
   "execution_count": 2,
   "metadata": {
    "collapsed": true
   },
   "outputs": [],
   "source": [
    "winton = pd.read_csv('./train.csv')"
   ]
  },
  {
   "cell_type": "code",
   "execution_count": 7,
   "metadata": {
    "collapsed": false
   },
   "outputs": [
    {
     "name": "stdout",
     "output_type": "stream",
     "text": [
      "<class 'pandas.core.frame.DataFrame'>\n",
      "Int64Index: 40000 entries, 0 to 39999\n",
      "Columns: 211 entries, Id to Weight_Daily\n",
      "dtypes: float64(209), int64(2)\n",
      "memory usage: 64.7 MB\n"
     ]
    }
   ],
   "source": [
    "winton.info()"
   ]
  },
  {
   "cell_type": "code",
   "execution_count": 25,
   "metadata": {
    "collapsed": false
   },
   "outputs": [
    {
     "name": "stdout",
     "output_type": "stream",
     "text": [
      "Feature_1 float64 0.832825\n",
      "Feature_2 float64 0.22865\n",
      "Feature_3 float64 0.030925\n",
      "Feature_4 float64 0.193025\n",
      "Feature_5 float64 0.0\n",
      "Feature_6 float64 0.048325\n",
      "Feature_7 int64 0.0\n",
      "Feature_8 float64 0.011725\n",
      "Feature_9 float64 0.046875\n",
      "Feature_10 float64 0.486775\n",
      "Feature_11 float64 0.024675\n",
      "Feature_12 float64 0.0274\n",
      "Feature_13 float64 0.01485\n",
      "Feature_14 float64 0.0182\n",
      "Feature_15 float64 0.053525\n",
      "Feature_16 float64 0.01525\n",
      "Feature_17 float64 0.01615\n",
      "Feature_18 float64 0.0142\n",
      "Feature_19 float64 0.02975\n",
      "Feature_20 float64 0.19565\n",
      "Feature_21 float64 0.02545\n",
      "Feature_22 float64 0.033625\n",
      "Feature_23 float64 0.042775\n",
      "Feature_24 float64 0.01815\n",
      "Feature_25 float64 0.016375\n"
     ]
    }
   ],
   "source": [
    "# Features\n",
    "\n",
    "for c in winton.columns:\n",
    "    if 'Feature' in c:\n",
    "        print c, winton[c].dtypes, np.mean(pd.isnull(winton[c]))"
   ]
  },
  {
   "cell_type": "code",
   "execution_count": 28,
   "metadata": {
    "collapsed": false
   },
   "outputs": [
    {
     "name": "stdout",
     "output_type": "stream",
     "text": [
      "Ret_MinusTwo float64\n",
      "Ret_MinusOne float64\n",
      "Ret_2 float64\n",
      "Ret_3 float64\n",
      "Ret_4 float64\n",
      "Ret_5 float64\n",
      "Ret_6 float64\n",
      "Ret_7 float64\n",
      "Ret_8 float64\n",
      "Ret_9 float64\n",
      "Ret_10 float64\n",
      "Ret_11 float64\n",
      "Ret_12 float64\n",
      "Ret_13 float64\n",
      "Ret_14 float64\n",
      "Ret_15 float64\n",
      "Ret_16 float64\n",
      "Ret_17 float64\n",
      "Ret_18 float64\n",
      "Ret_19 float64\n",
      "Ret_20 float64\n",
      "Ret_21 float64\n",
      "Ret_22 float64\n",
      "Ret_23 float64\n",
      "Ret_24 float64\n",
      "Ret_25 float64\n",
      "Ret_26 float64\n",
      "Ret_27 float64\n",
      "Ret_28 float64\n",
      "Ret_29 float64\n",
      "Ret_30 float64\n",
      "Ret_31 float64\n",
      "Ret_32 float64\n",
      "Ret_33 float64\n",
      "Ret_34 float64\n",
      "Ret_35 float64\n",
      "Ret_36 float64\n",
      "Ret_37 float64\n",
      "Ret_38 float64\n",
      "Ret_39 float64\n",
      "Ret_40 float64\n",
      "Ret_41 float64\n",
      "Ret_42 float64\n",
      "Ret_43 float64\n",
      "Ret_44 float64\n",
      "Ret_45 float64\n",
      "Ret_46 float64\n",
      "Ret_47 float64\n",
      "Ret_48 float64\n",
      "Ret_49 float64\n",
      "Ret_50 float64\n",
      "Ret_51 float64\n",
      "Ret_52 float64\n",
      "Ret_53 float64\n",
      "Ret_54 float64\n",
      "Ret_55 float64\n",
      "Ret_56 float64\n",
      "Ret_57 float64\n",
      "Ret_58 float64\n",
      "Ret_59 float64\n",
      "Ret_60 float64\n",
      "Ret_61 float64\n",
      "Ret_62 float64\n",
      "Ret_63 float64\n",
      "Ret_64 float64\n",
      "Ret_65 float64\n",
      "Ret_66 float64\n",
      "Ret_67 float64\n",
      "Ret_68 float64\n",
      "Ret_69 float64\n",
      "Ret_70 float64\n",
      "Ret_71 float64\n",
      "Ret_72 float64\n",
      "Ret_73 float64\n",
      "Ret_74 float64\n",
      "Ret_75 float64\n",
      "Ret_76 float64\n",
      "Ret_77 float64\n",
      "Ret_78 float64\n",
      "Ret_79 float64\n",
      "Ret_80 float64\n",
      "Ret_81 float64\n",
      "Ret_82 float64\n",
      "Ret_83 float64\n",
      "Ret_84 float64\n",
      "Ret_85 float64\n",
      "Ret_86 float64\n",
      "Ret_87 float64\n",
      "Ret_88 float64\n",
      "Ret_89 float64\n",
      "Ret_90 float64\n",
      "Ret_91 float64\n",
      "Ret_92 float64\n",
      "Ret_93 float64\n",
      "Ret_94 float64\n",
      "Ret_95 float64\n",
      "Ret_96 float64\n",
      "Ret_97 float64\n",
      "Ret_98 float64\n",
      "Ret_99 float64\n",
      "Ret_100 float64\n",
      "Ret_101 float64\n",
      "Ret_102 float64\n",
      "Ret_103 float64\n",
      "Ret_104 float64\n",
      "Ret_105 float64\n",
      "Ret_106 float64\n",
      "Ret_107 float64\n",
      "Ret_108 float64\n",
      "Ret_109 float64\n",
      "Ret_110 float64\n",
      "Ret_111 float64\n",
      "Ret_112 float64\n",
      "Ret_113 float64\n",
      "Ret_114 float64\n",
      "Ret_115 float64\n",
      "Ret_116 float64\n",
      "Ret_117 float64\n",
      "Ret_118 float64\n",
      "Ret_119 float64\n",
      "Ret_120 float64\n",
      "Ret_121 float64\n",
      "Ret_122 float64\n",
      "Ret_123 float64\n",
      "Ret_124 float64\n",
      "Ret_125 float64\n",
      "Ret_126 float64\n",
      "Ret_127 float64\n",
      "Ret_128 float64\n",
      "Ret_129 float64\n",
      "Ret_130 float64\n",
      "Ret_131 float64\n",
      "Ret_132 float64\n",
      "Ret_133 float64\n",
      "Ret_134 float64\n",
      "Ret_135 float64\n",
      "Ret_136 float64\n",
      "Ret_137 float64\n",
      "Ret_138 float64\n",
      "Ret_139 float64\n",
      "Ret_140 float64\n",
      "Ret_141 float64\n",
      "Ret_142 float64\n",
      "Ret_143 float64\n",
      "Ret_144 float64\n",
      "Ret_145 float64\n",
      "Ret_146 float64\n",
      "Ret_147 float64\n",
      "Ret_148 float64\n",
      "Ret_149 float64\n",
      "Ret_150 float64\n",
      "Ret_151 float64\n",
      "Ret_152 float64\n",
      "Ret_153 float64\n",
      "Ret_154 float64\n",
      "Ret_155 float64\n",
      "Ret_156 float64\n",
      "Ret_157 float64\n",
      "Ret_158 float64\n",
      "Ret_159 float64\n",
      "Ret_160 float64\n",
      "Ret_161 float64\n",
      "Ret_162 float64\n",
      "Ret_163 float64\n",
      "Ret_164 float64\n",
      "Ret_165 float64\n",
      "Ret_166 float64\n",
      "Ret_167 float64\n",
      "Ret_168 float64\n",
      "Ret_169 float64\n",
      "Ret_170 float64\n",
      "Ret_171 float64\n",
      "Ret_172 float64\n",
      "Ret_173 float64\n",
      "Ret_174 float64\n",
      "Ret_175 float64\n",
      "Ret_176 float64\n",
      "Ret_177 float64\n",
      "Ret_178 float64\n",
      "Ret_179 float64\n",
      "Ret_180 float64\n",
      "Ret_PlusOne float64\n",
      "Ret_PlusTwo float64\n"
     ]
    }
   ],
   "source": [
    "#Predictions\n",
    "\n",
    "for c in winton.columns:\n",
    "    if 'Ret' in c:\n",
    "        print c, winton[c].dtypes"
   ]
  },
  {
   "cell_type": "code",
   "execution_count": null,
   "metadata": {
    "collapsed": true
   },
   "outputs": [],
   "source": []
  },
  {
   "cell_type": "code",
   "execution_count": null,
   "metadata": {
    "collapsed": false
   },
   "outputs": [],
   "source": []
  },
  {
   "cell_type": "code",
   "execution_count": null,
   "metadata": {
    "collapsed": false
   },
   "outputs": [],
   "source": []
  },
  {
   "cell_type": "code",
   "execution_count": null,
   "metadata": {
    "collapsed": true
   },
   "outputs": [],
   "source": []
  }
 ],
 "metadata": {
  "kernelspec": {
   "display_name": "Python 2",
   "language": "python",
   "name": "python2"
  },
  "language_info": {
   "codemirror_mode": {
    "name": "ipython",
    "version": 2
   },
   "file_extension": ".py",
   "mimetype": "text/x-python",
   "name": "python",
   "nbconvert_exporter": "python",
   "pygments_lexer": "ipython2",
   "version": "2.7.10"
  }
 },
 "nbformat": 4,
 "nbformat_minor": 0
}
