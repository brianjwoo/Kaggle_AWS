{
 "cells": [
  {
   "cell_type": "code",
   "execution_count": 1,
   "metadata": {
    "collapsed": true
   },
   "outputs": [],
   "source": [
    "import random\n",
    "import pandas as pd\n",
    "import numpy as np\n",
    "import matplotlib.pyplot as plt\n",
    "import xgboost as xgb\n",
    "from collections import Counter\n",
    "\n",
    "%matplotlib inline"
   ]
  },
  {
   "cell_type": "code",
   "execution_count": 2,
   "metadata": {
    "collapsed": true
   },
   "outputs": [],
   "source": [
    "import sklearn.metrics\n",
    "import sklearn.cross_validation\n",
    "import sklearn.tree\n",
    "import sklearn.decomposition\n",
    "import sklearn.preprocessing\n",
    "import sklearn.grid_search\n",
    "\n"
   ]
  },
  {
   "cell_type": "code",
   "execution_count": 92,
   "metadata": {
    "collapsed": true
   },
   "outputs": [],
   "source": [
    "import itertools"
   ]
  },
  {
   "cell_type": "code",
   "execution_count": 3,
   "metadata": {
    "collapsed": false
   },
   "outputs": [
    {
     "name": "stderr",
     "output_type": "stream",
     "text": [
      "//anaconda/lib/python2.7/site-packages/pandas/io/parsers.py:1170: DtypeWarning: Columns (8,9,10,11,12,43,157,196,214,225,228,229,231,235,238) have mixed types. Specify dtype option on import or set low_memory=False.\n",
      "  data = self._reader.read(nrows)\n"
     ]
    }
   ],
   "source": [
    "sl_train = pd.read_csv('train.csv')\n"
   ]
  },
  {
   "cell_type": "markdown",
   "metadata": {},
   "source": [
    "##Columns (8,9,10,11,12,43,157,196,214,225,228,229,231,235,238) have mixed types."
   ]
  },
  {
   "cell_type": "code",
   "execution_count": 4,
   "metadata": {
    "collapsed": false
   },
   "outputs": [
    {
     "name": "stdout",
     "output_type": "stream",
     "text": [
      "145231 1934\n"
     ]
    }
   ],
   "source": [
    "m,n = sl_train.shape\n",
    "print m, n"
   ]
  },
  {
   "cell_type": "code",
   "execution_count": 5,
   "metadata": {
    "collapsed": true
   },
   "outputs": [],
   "source": [
    "random.seed(1)\n",
    "r = np.random.choice(m, size = 10000, replace=False)"
   ]
  },
  {
   "cell_type": "code",
   "execution_count": 6,
   "metadata": {
    "collapsed": false
   },
   "outputs": [
    {
     "data": {
      "text/plain": [
       "Index([u'ID', u'VAR_0001', u'VAR_0002', u'VAR_0003', u'VAR_0004', u'VAR_0005',\n",
       "       u'VAR_0006', u'VAR_0007', u'VAR_0008', u'VAR_0009', \n",
       "       ...\n",
       "       u'VAR_1926', u'VAR_1927', u'VAR_1928', u'VAR_1929', u'VAR_1930',\n",
       "       u'VAR_1931', u'VAR_1932', u'VAR_1933', u'VAR_1934', u'target'],\n",
       "      dtype='object', length=1934)"
      ]
     },
     "execution_count": 6,
     "metadata": {},
     "output_type": "execute_result"
    }
   ],
   "source": [
    "sl_train.columns"
   ]
  },
  {
   "cell_type": "code",
   "execution_count": 41,
   "metadata": {
    "collapsed": false
   },
   "outputs": [
    {
     "name": "stdout",
     "output_type": "stream",
     "text": [
      "15\n"
     ]
    }
   ],
   "source": [
    "mixed_objects = [8,9,10,11,12,43,157,196,214,225,228,229,231,235,238] #all classified as objects\n",
    "print len(mixed_objects)"
   ]
  },
  {
   "cell_type": "code",
   "execution_count": null,
   "metadata": {
    "collapsed": false
   },
   "outputs": [],
   "source": []
  },
  {
   "cell_type": "code",
   "execution_count": 42,
   "metadata": {
    "collapsed": false
   },
   "outputs": [
    {
     "name": "stdout",
     "output_type": "stream",
     "text": [
      "8 VAR_0008 set([False, nan])\n",
      "9 VAR_0009 set([False, nan])\n",
      "10 VAR_0010 set([False, nan])\n",
      "11 VAR_0011 set([False, nan])\n",
      "12 VAR_0012 set([False, nan])\n",
      "43 VAR_0043 set([False, nan])\n",
      "196 VAR_0196 set([False, nan])\n",
      "225 VAR_0226 set([False, True, nan])\n",
      "228 VAR_0229 set([False, nan])\n",
      "229 VAR_0230 set([False, True, nan])\n",
      "231 VAR_0232 set([False, True, nan])\n",
      "235 VAR_0236 set([False, True, nan])\n",
      "238 VAR_0239 set([False, nan])\n"
     ]
    }
   ],
   "source": [
    "#checking mixed type columns\n",
    "for i in mixed_objects:\n",
    "    s = set(sl_train.iloc[r,i].values)\n",
    "    if len(s) < 80:\n",
    "        print i, sl_train.columns[i], s"
   ]
  },
  {
   "cell_type": "code",
   "execution_count": 51,
   "metadata": {
    "collapsed": false
   },
   "outputs": [],
   "source": [
    "#checking mixed type columns\n",
    "remove_vars = []\n",
    "objects = []\n",
    "for i in mixed_objects:\n",
    "    if len(set(sl_train.iloc[r,i].values)) == 1 or len(set(sl_train.iloc[r,i].values)) > 10:\n",
    "        remove_vars.append(sl_train.columns[i])\n",
    "    else:\n",
    "        objects.append(sl_train.columns[i])"
   ]
  },
  {
   "cell_type": "code",
   "execution_count": 52,
   "metadata": {
    "collapsed": false
   },
   "outputs": [
    {
     "name": "stdout",
     "output_type": "stream",
     "text": [
      "2\n"
     ]
    },
    {
     "data": {
      "text/plain": [
       "['VAR_0157', 'VAR_0214']"
      ]
     },
     "execution_count": 52,
     "metadata": {},
     "output_type": "execute_result"
    }
   ],
   "source": [
    "print len(remove_vars)\n",
    "remove_vars"
   ]
  },
  {
   "cell_type": "markdown",
   "metadata": {},
   "source": [
    "Var 157 and 214 are NaN and Misc Dates\n"
   ]
  },
  {
   "cell_type": "code",
   "execution_count": 53,
   "metadata": {
    "collapsed": false
   },
   "outputs": [
    {
     "data": {
      "text/plain": [
       "Counter({False: 144703, True: 472, nan: 56})"
      ]
     },
     "execution_count": 53,
     "metadata": {},
     "output_type": "execute_result"
    }
   ],
   "source": [
    "Counter(sl_train.iloc[:,225])"
   ]
  },
  {
   "cell_type": "code",
   "execution_count": null,
   "metadata": {
    "collapsed": false
   },
   "outputs": [],
   "source": []
  },
  {
   "cell_type": "code",
   "execution_count": null,
   "metadata": {
    "collapsed": true
   },
   "outputs": [],
   "source": []
  },
  {
   "cell_type": "code",
   "execution_count": 54,
   "metadata": {
    "collapsed": true
   },
   "outputs": [],
   "source": [
    "id_num = ['ID']\n",
    "target = ['target']\n",
    "ints = []\n",
    "floats = []\n"
   ]
  },
  {
   "cell_type": "code",
   "execution_count": null,
   "metadata": {
    "collapsed": false
   },
   "outputs": [],
   "source": []
  },
  {
   "cell_type": "code",
   "execution_count": 55,
   "metadata": {
    "collapsed": false
   },
   "outputs": [],
   "source": [
    "#Categorizing Variable Types\n",
    "for col in sl_train:\n",
    "    if col == 'ID' or col == 'target' or col in objects:\n",
    "        continue\n",
    "    elif sl_train[col].dtype == 'int64':\n",
    "        s = set(sl_train[col])\n",
    "        if len(s) == 1:\n",
    "            remove_vars.append(col)\n",
    "        else:\n",
    "            ints.append((col, len(s), s))\n",
    "    elif sl_train[col].dtype == 'float64':\n",
    "        floats.append(col)\n",
    "    elif sl_train[col].dtype == 'object':\n",
    "        objects.append(col)\n",
    "        "
   ]
  },
  {
   "cell_type": "code",
   "execution_count": 66,
   "metadata": {
    "collapsed": false
   },
   "outputs": [
    {
     "name": "stdout",
     "output_type": "stream",
     "text": [
      "1930\n"
     ]
    }
   ],
   "source": [
    "print len(ints) + len(floats) + len(objects)"
   ]
  },
  {
   "cell_type": "code",
   "execution_count": null,
   "metadata": {
    "collapsed": false
   },
   "outputs": [],
   "source": []
  },
  {
   "cell_type": "code",
   "execution_count": 19,
   "metadata": {
    "collapsed": true
   },
   "outputs": [],
   "source": [
    "n_categories_ints = map(lambda x: x[1] if x[1] < 60 else -1, ints)"
   ]
  },
  {
   "cell_type": "code",
   "execution_count": 20,
   "metadata": {
    "collapsed": false
   },
   "outputs": [
    {
     "data": {
      "image/png": "[encoded data removed]",
      "text/plain": [
       "<matplotlib.figure.Figure at 0x15f221f50>"
      ]
     },
     "metadata": {},
     "output_type": "display_data"
    }
   ],
   "source": [
    "plt.hist(n_categories_ints, bins = 100)\n",
    "plt.show()"
   ]
  },
  {
   "cell_type": "code",
   "execution_count": 21,
   "metadata": {
    "collapsed": true
   },
   "outputs": [],
   "source": [
    "ints.sort(key = lambda x: x[1])"
   ]
  },
  {
   "cell_type": "code",
   "execution_count": 22,
   "metadata": {
    "collapsed": false
   },
   "outputs": [
    {
     "data": {
      "text/plain": [
       "1402"
      ]
     },
     "execution_count": 22,
     "metadata": {},
     "output_type": "execute_result"
    }
   ],
   "source": [
    "len(ints)"
   ]
  },
  {
   "cell_type": "code",
   "execution_count": 24,
   "metadata": {
    "collapsed": false
   },
   "outputs": [
    {
     "data": {
      "text/plain": [
       "237"
      ]
     },
     "execution_count": 24,
     "metadata": {},
     "output_type": "execute_result"
    }
   ],
   "source": [
    "len(set(sl_train[ints[1000][0]]))"
   ]
  },
  {
   "cell_type": "code",
   "execution_count": 25,
   "metadata": {
    "collapsed": false
   },
   "outputs": [
    {
     "data": {
      "text/plain": [
       "Counter({-99999: 103440, 0: 8802, 100: 855, 92: 498, 93: 496, 97: 495, 96: 493, 91: 472, 95: 469, 94: 455, 98: 451, 90: 450, 89: 422, 87: 416, 85: 401, 88: 396, 82: 386, 86: 377, 2: 376, 80: 375, 99: 370, 81: 357, 83: 351, 84: 342, 74: 336, 1: 334, 75: 333, 78: 333, 79: 323, 3: 322, 71: 321, 77: 318, 4: 317, 5: 314, 10: 311, 69: 310, 72: 308, 11: 305, 63: 305, 76: 305, 73: 302, 66: 300, 7: 297, 70: 295, 49: 292, 21: 291, 9: 290, 12: 290, 13: 290, 8: 288, 51: 288, 60: 288, 15: 286, 61: 285, 65: 284, 67: 284, 6: 282, 56: 282, 26: 281, 41: 281, 16: 279, 19: 279, 40: 279, 23: 278, 68: 278, 33: 277, 64: 277, 27: 276, 47: 276, 48: 276, 14: 275, 46: 274, 35: 271, 22: 267, 50: 267, 62: 266, 36: 265, 44: 265, 45: 265, 58: 264, 59: 263, 39: 262, 32: 261, 55: 261, 17: 260, 31: 260, 53: 259, 54: 257, 57: 257, 18: 254, 24: 254, 37: 251, 28: 248, 38: 246, 43: 246, 34: 245, 20: 243, 25: 241, 29: 239, 42: 235, 52: 235, 101: 218, 30: 217, 102: 158, 103: 119, 104: 94, 107: 68, 105: 65, 106: 57, 110: 48, 108: 47, 111: 42, 109: 41, 117: 32, 112: 30, 113: 29, 115: 25, 114: 24, 119: 22, 116: 18, 118: 18, 121: 13, 127: 11, 131: 11, 133: 11, 138: 11, 125: 10, 132: 10, 120: 8, 122: 8, 123: 8, 134: 8, 129: 7, 124: 6, 135: 6, 141: 6, 143: 6, 126: 5, 130: 5, 148: 5, 149: 5, 128: 4, 137: 4, 139: 4, 140: 4, 154: 4, 155: 4, 156: 4, 171: 4, 136: 3, 144: 3, 145: 3, 147: 3, 151: 3, 152: 3, 153: 3, 164: 3, 173: 3, 193: 3, 142: 2, 146: 2, 150: 2, 160: 2, 166: 2, 176: 2, 177: 2, 192: 2, 198: 2, 204: 2, 236: 2, 250: 2, 157: 1, 158: 1, 159: 1, 161: 1, 169: 1, 172: 1, 174: 1, 178: 1, 179: 1, 183: 1, 184: 1, 190: 1, 194: 1, 195: 1, 196: 1, 201: 1, 207: 1, 209: 1, 213: 1, 214: 1, 216: 1, 219: 1, 220: 1, 222: 1, 740: 1, 550: 1, 234: 1, 237: 1, 239: 1, 244: 1, 252: 1, 258: 1, 262: 1, 264: 1, 271: 1, 273: 1, 279: 1, 282: 1, 284: 1, 289: 1, 290: 1, 298: 1, 1118: 1, 318: 1, 522: 1, 330: 1, 846: 1, 852: 1, 346: 1, 349: 1, 355: 1, 361: 1, 364: 1, 372: 1, 394: 1, 909: 1, 399: 1, 664: 1, 1092: 1, 525: 1, 1690: 1, 2487: 1, 463: 1, 334: 1, 340: 1, 508: 1})"
      ]
     },
     "execution_count": 25,
     "metadata": {},
     "output_type": "execute_result"
    }
   ],
   "source": [
    "Counter(sl_train[ints[1000][0]])"
   ]
  },
  {
   "cell_type": "code",
   "execution_count": 26,
   "metadata": {
    "collapsed": false
   },
   "outputs": [
    {
     "data": {
      "text/plain": [
       "Counter({3: 17589, 2: 17469, 4: 16199, 1: 14625, 5: 14266, 6: 12064, 7: 10427, 8: 8433, 9: 7003, 10: 5576, 11: 4473, 12: 3609, 13: 2831, 14: 2273, 15: 1730, 16: 1350, 17: 1075, 18: 882, 19: 614, 99: 601, 20: 471, 21: 367, 22: 281, 23: 224, 24: 168, 25: 149, 26: 92, 27: 88, 28: 68, 29: 41, 30: 30, 31: 29, 32: 27, 33: 19, 34: 17, 35: 14, 36: 9, 37: 9, 39: 9, 41: 7, 38: 4, 51: 4, 40: 3, 47: 3, 44: 2, 46: 2, 42: 1, 50: 1, 52: 1, 60: 1, 69: 1})"
      ]
     },
     "execution_count": 26,
     "metadata": {},
     "output_type": "execute_result"
    }
   ],
   "source": [
    "Counter(sl_train[ints[700][0]])"
   ]
  },
  {
   "cell_type": "code",
   "execution_count": null,
   "metadata": {
    "collapsed": false
   },
   "outputs": [],
   "source": []
  },
  {
   "cell_type": "code",
   "execution_count": 70,
   "metadata": {
    "collapsed": false
   },
   "outputs": [],
   "source": [
    "#look at different types of int variables and splits them into categories\n",
    "ints_categories_binary = []\n",
    "ints_categories_55 = []\n",
    "ints_real = []\n",
    "\n",
    "for var, l, s in ints:\n",
    "    if l == 2:\n",
    "        ints_categories_binary.append(var)\n",
    "    elif l <= 55:\n",
    "        ints_categories_55.append(var)\n",
    "    else:\n",
    "        ints_real.append(var)"
   ]
  },
  {
   "cell_type": "code",
   "execution_count": null,
   "metadata": {
    "collapsed": false
   },
   "outputs": [],
   "source": []
  },
  {
   "cell_type": "code",
   "execution_count": 71,
   "metadata": {
    "collapsed": false
   },
   "outputs": [
    {
     "name": "stdout",
     "output_type": "stream",
     "text": [
      "1402\n",
      "1402\n"
     ]
    }
   ],
   "source": [
    "print len(ints)\n",
    "print len(ints_categories_binary) + len(ints_categories_55) + len(ints_real)"
   ]
  },
  {
   "cell_type": "code",
   "execution_count": null,
   "metadata": {
    "collapsed": false
   },
   "outputs": [],
   "source": [
    "# Need to cooerce non 0/1 binaries into 0/1 binaries"
   ]
  },
  {
   "cell_type": "code",
   "execution_count": null,
   "metadata": {
    "collapsed": true
   },
   "outputs": [],
   "source": [
    "#Need to generate dummy variables on category binaries ?? Combine rare events using counter?\n",
    "\n",
    "def simplify_column(col):\n",
    "    '''\n",
    "    Removes uncommon events from pandas column\n",
    "    '''\n",
    "    \n",
    "    "
   ]
  },
  {
   "cell_type": "code",
   "execution_count": 31,
   "metadata": {
    "collapsed": false
   },
   "outputs": [
    {
     "name": "stdout",
     "output_type": "stream",
     "text": [
      "Counter({0: 140366, 1: 4715, 9: 150})\n",
      "Counter({0: 138276, 1: 6354, 99: 601})\n",
      "Counter({0: 132944, 1: 11686, 99: 601})\n",
      "Counter({-99999: 131353, 0: 11265, 1: 2560, 2: 53})\n",
      "Counter({0: 143396, 1: 1177, 99: 601, 2: 57})\n",
      "Counter({0: 144449, 99: 601, 1: 175, 2: 6})\n",
      "Counter({0: 144393, 99: 601, 1: 225, 2: 12})\n",
      "Counter({0: 135438, 1: 9163, 2: 587, 3: 43})\n",
      "Counter({0: 127972, 1: 17166, 2: 92, 3: 1})\n",
      "Counter({0: 144252, 99: 601, 1: 359, 2: 19})\n",
      "Counter({998: 143814, 1: 739, 999: 601, 400: 77})\n",
      "Counter({98: 131582, 0: 12683, 99: 601, 1: 352, 2: 13})\n",
      "Counter({98: 131582, 97: 8396, 0: 4583, 99: 601, 1: 69})\n",
      "Counter({98: 131582, 97: 8396, 0: 4607, 99: 601, 1: 45})\n",
      "Counter({-99999: 109735, 0: 33149, 1: 2284, 2: 61, 3: 2})\n",
      "Counter({-99999: 131353, 0: 7440, 1: 6168, 2: 265, 3: 5})\n",
      "Counter({-99999: 131353, 0: 9514, 1: 4238, 2: 125, 3: 1})\n",
      "Counter({0: 142443, 1: 2085, 99: 601, 2: 98, 3: 4})\n",
      "Counter({0: 141946, 1: 2554, 99: 601, 2: 121, 3: 9})\n",
      "Counter({0: 142769, 1: 1774, 99: 601, 2: 84, 3: 3})\n",
      "Counter({0: 108943, 98: 30767, 1: 4834, 99: 601, 2: 86})\n",
      "Counter({98: 133696, 0: 10251, 1: 659, 99: 601, 2: 24})\n",
      "Counter({0: 132240, 98: 11989, 99: 601, 1: 382, 2: 19})\n",
      "Counter({98: 131582, 0: 12632, 99: 601, 1: 413, 2: 3})\n",
      "Counter({98: 131582, 0: 12934, 99: 601, 1: 112, 2: 2})\n",
      "Counter({0: 127786, 1: 15694, 2: 1614, 3: 132, 4: 5})\n",
      "Counter({0: 107787, 1: 30902, 2: 5873, 3: 647, 4: 22})\n",
      "Counter({0: 128720, 1: 14816, 2: 1574, 3: 118, 4: 3})\n",
      "Counter({0: 128767, 1: 14139, 2: 2118, 3: 199, 4: 8})\n",
      "Counter({0: 113646, 1: 31246, 2: 323, 3: 15, 4: 1})\n",
      "Counter({0: 141379, 1: 3069, 99: 601, 2: 176, 3: 6})\n",
      "Counter({98: 127280, 0: 17181, 99: 601, 1: 168, 2: 1})\n",
      "Counter({98: 143814, 0: 739, 99: 601, 1: 76, 2: 1})\n",
      "Counter({998: 143814, 999: 601, 997: 538, 1: 267, 400: 11})\n",
      "Counter({-99999: 109735, 0: 31739, 1: 3577, 2: 173, 3: 6, 4: 1})\n",
      "Counter({-99999: 109735, 0: 32832, 1: 2570, 2: 87, 3: 6, 4: 1})\n",
      "Counter({0: 144034, 99: 601, 1: 576, 2: 18, 9: 1, 3: 1})\n",
      "Counter({0: 128232, 1: 14752, 2: 1899, 3: 296, 4: 42, 5: 10})\n",
      "Counter({98: 82186, 0: 60419, 1: 1949, 99: 601, 2: 73, 3: 3})\n",
      "Counter({98: 84787, 0: 58055, 1: 1759, 99: 601, 2: 28, 3: 1})\n",
      "Counter({98: 84787, 0: 37446, 97: 22140, 99: 601, 1: 256, 2: 1})\n",
      "Counter({98: 84787, 0: 57867, 1: 1950, 99: 601, 2: 25, 4: 1})\n",
      "Counter({98: 84787, 0: 35533, 97: 22140, 1: 2146, 99: 601, 2: 24})\n",
      "Counter({0: 143814, 1: 669, 99: 601, 2: 120, 3: 23, 4: 4})\n",
      "Counter({98: 127823, 0: 16612, 99: 601, 1: 192, 2: 2, 4: 1})\n",
      "Counter({98: 131582, 97: 8396, 0: 4234, 99: 601, 1: 415, 2: 2, 3: 1})\n",
      "Counter({98: 137186, 0: 5489, 1: 1915, 99: 601, 2: 37, 3: 2, 5: 1})\n",
      "Counter({98: 137186, 0: 4793, 1: 2600, 99: 601, 2: 47, 3: 3, 5: 1})\n",
      "Counter({98: 137186, 0: 4204, 97: 1822, 1: 1393, 99: 601, 2: 23, 3: 2})\n",
      "Counter({98: 84787, 0: 39995, 97: 18712, 1: 1132, 99: 601, 2: 3, 3: 1})\n",
      "Counter({-99999: 81544, 0: 61632, 1: 1941, 2: 109, 3: 3, 4: 1, 5: 1})\n",
      "Counter({-99999: 109735, 0: 30771, 1: 4452, 2: 252, 3: 19, 4: 1, 5: 1})\n",
      "Counter({-99999: 133028, 0: 11390, 1: 744, 2: 62, 3: 5, 4: 1, 5: 1})\n",
      "Counter({-99999: 140467, 1: 3401, 0: 1156, 2: 190, 3: 15, 5: 1, 7: 1})\n",
      "Counter({400: 108436, 1: 18211, 30: 8829, 60: 4038, 120: 3347, 90: 2220, 999: 150})\n",
      "Counter({0: 118833, 1: 21801, 2: 3808, 3: 652, 4: 115, 5: 21, 6: 1})\n",
      "Counter({0: 91036, 1: 38117, 2: 12071, 3: 3227, 4: 674, 5: 95, 6: 11})\n",
      "Counter({0: 141217, 1: 3625, 2: 330, 3: 47, 4: 7, 5: 4, 6: 1})\n",
      "Counter({0: 122740, 1: 18509, 2: 3225, 3: 637, 4: 99, 5: 20, 6: 1})\n",
      "Counter({0: 120724, 1: 18557, 2: 4634, 3: 1069, 4: 219, 5: 25, 6: 3})\n",
      "Counter({98: 82186, 0: 42687, 97: 18609, 1: 1113, 99: 601, 2: 34, 5: 1})\n",
      "Counter({98: 84787, 0: 38951, 97: 20513, 99: 601, 1: 376, 2: 2, 3: 1})\n",
      "Counter({98: 84787, 0: 39665, 97: 19688, 99: 601, 1: 486, 2: 3, 3: 1})\n",
      "Counter({98: 84787, 0: 36677, 97: 22140, 1: 1018, 99: 601, 2: 7, 5: 1})\n",
      "Counter({98: 84787, 0: 38091, 97: 20513, 1: 1226, 99: 601, 2: 12, 5: 1})\n",
      "Counter({98: 84787, 0: 38737, 97: 19688, 1: 1402, 99: 601, 2: 15, 5: 1})\n",
      "Counter({98: 84787, 0: 36884, 97: 20513, 1: 2411, 99: 601, 2: 34, 3: 1})\n",
      "Counter({98: 84787, 0: 37522, 97: 19688, 1: 2579, 99: 601, 2: 52, 3: 2})\n",
      "Counter({98: 84787, 0: 38032, 97: 18712, 1: 3031, 99: 601, 2: 65, 3: 3})\n",
      "Counter({98: 127280, 0: 12612, 1: 4579, 99: 601, 2: 151, 3: 5, 4: 3})\n",
      "Counter({98: 124614, 0: 17610, 1: 2247, 99: 601, 2: 148, 3: 10, 5: 1})\n",
      "Counter({1: 128845, 30: 6213, 400: 5262, 60: 1845, 120: 1449, 90: 1015, 999: 601, 994: 1})\n",
      "Counter({998: 127661, 1: 8250, 400: 6912, 30: 841, 999: 601, 120: 435, 60: 338, 90: 193})\n",
      "Counter({998: 127661, 400: 7806, 1: 3468, 30: 2389, 120: 1257, 60: 1225, 90: 824, 999: 601})\n",
      "Counter({998: 109502, 400: 23854, 1: 8787, 120: 930, 30: 900, 999: 601, 60: 380, 90: 277})\n",
      "Counter({998: 109502, 400: 25601, 1: 3474, 30: 2227, 120: 1728, 60: 1267, 90: 831, 999: 601})\n",
      "Counter({98: 133264, 0: 8450, 1: 2858, 99: 601, 2: 45, 3: 7, 4: 3, 7: 3})\n",
      "Counter({-99999: 133028, 0: 7656, 1: 4332, 2: 198, 3: 13, 5: 2, 4: 1, 6: 1})\n",
      "Counter({0: 68341, -99999: 52855, 1: 21245, 2: 2455, 3: 295, 4: 37, 5: 2, 6: 1})\n",
      "Counter({-99999: 129803, 1: 9645, 0: 3825, 2: 1556, 3: 311, 4: 67, 5: 20, 6: 4})\n",
      "Counter({-99999: 71108, 0: 65464, 1: 7408, 2: 1001, 3: 191, 4: 41, 5: 14, 6: 4})\n",
      "Counter({0: 91365, -99999: 32879, 1: 18901, 2: 1853, 3: 203, 4: 26, 5: 3, 7: 1})\n",
      "Counter({-99999: 81544, 0: 58432, 1: 4814, 2: 408, 3: 23, 4: 7, 5: 2, 6: 1})\n",
      "Counter({-99999: 109735, 0: 27677, 1: 7133, 2: 610, 3: 66, 4: 6, 5: 2, 6: 2})\n",
      "Counter({-99999: 103440, 0: 31736, 1: 8355, 2: 1374, 3: 239, 4: 69, 5: 14, 6: 4})\n",
      "Counter({400: 63994, 1: 42750, 30: 16556, 60: 7848, 120: 6622, 90: 4533, 998: 2327, 999: 601})\n",
      "Counter({1: 116820, 997: 12812, 30: 5506, 0: 4935, 60: 1834, 120: 1645, 90: 1078, 999: 601})\n",
      "Counter({400: 73808, 1: 61873, 30: 4502, 120: 1920, 60: 1716, 90: 1036, 997: 226, 999: 150})\n",
      "Counter({1: 119951, 30: 10868, 120: 6300, 60: 4181, 90: 2514, 0: 602, 999: 601, 997: 214})\n",
      "Counter({1: 101601, 994: 28928, 30: 6892, 400: 3113, 60: 1964, 120: 1072, 90: 1060, 999: 601})\n",
      "Counter({1: 100031, 994: 12812, 30: 12721, 400: 10659, 60: 3903, 120: 2441, 90: 2063, 999: 601})\n",
      "Counter({1: 90093, 400: 20111, 30: 15925, 994: 6857, 60: 5150, 120: 3699, 90: 2795, 999: 601})\n",
      "Counter({1: 77091, 400: 34216, 30: 19650, 60: 6705, 120: 3732, 90: 3235, 999: 601, 994: 1})\n",
      "Counter({0: 93410, 98: 30767, 1: 19063, 2: 1314, 99: 601, 3: 69, 4: 6, 5: 1})\n",
      "Counter({1: 63523, 998: 30767, 400: 21465, 30: 19578, 60: 6536, 90: 1890, 120: 871, 999: 601})\n",
      "Counter({0: 93015, 98: 31775, 1: 18535, 2: 1237, 99: 601, 3: 62, 4: 5, 5: 1})\n",
      "Counter({400: 61193, 1: 42181, 30: 16136, 60: 7666, 998: 6594, 120: 6459, 90: 4401, 999: 601})\n",
      "Counter({998: 88382, 1: 39119, 400: 6958, 30: 6469, 60: 1935, 120: 990, 90: 777, 999: 601})\n",
      "Counter({98: 131582, 0: 9308, 1: 3620, 99: 601, 2: 110, 3: 6, 4: 3, 5: 1})\n",
      "Counter({98: 131582, 97: 7190, 0: 4259, 1: 1520, 99: 601, 2: 71, 3: 5, 4: 3})\n",
      "Counter({98: 131582, 97: 7190, 0: 4727, 1: 1071, 99: 601, 2: 53, 3: 5, 4: 2})\n",
      "Counter({98: 131582, 97: 7190, 0: 4868, 1: 932, 99: 601, 2: 51, 3: 5, 4: 2})\n",
      "Counter({1: 63517, 400: 36677, 30: 18134, 998: 7536, 60: 7459, 120: 7384, 90: 3923, 999: 601})\n",
      "Counter({98: 82186, 0: 57447, 1: 4821, 99: 601, 2: 167, 3: 6, 4: 2, 6: 1})\n",
      "Counter({98: 82186, 0: 41125, 97: 18609, 1: 2547, 99: 601, 2: 151, 3: 8, 4: 4})\n",
      "Counter({998: 82186, 1: 30745, 400: 13448, 30: 8115, 120: 4594, 60: 3611, 90: 1931, 999: 601})\n",
      "Counter({98: 84787, 0: 56034, 1: 3699, 99: 601, 2: 100, 3: 8, 4: 1, 5: 1})\n",
      "Counter({98: 84787, 0: 39415, 97: 18712, 1: 1695, 99: 601, 2: 19, 5: 1, 3: 1})\n",
      "Counter({998: 84787, 1: 30012, 400: 12387, 30: 7621, 120: 4511, 60: 3449, 90: 1863, 999: 601})\n",
      "Counter({98: 127280, 0: 13819, 1: 3252, 99: 601, 2: 257, 3: 17, 4: 4, 11: 1})\n",
      "Counter({98: 127280, 97: 10375, 0: 5282, 1: 1605, 99: 601, 2: 83, 3: 4, 4: 1})\n",
      "Counter({98: 127280, 0: 14303, 1: 2786, 99: 601, 2: 239, 3: 17, 4: 4, 11: 1})\n",
      "Counter({98: 127280, 97: 10375, 0: 5563, 1: 1329, 99: 601, 2: 78, 3: 4, 4: 1})\n",
      "Counter({998: 127280, 1: 12104, 400: 2357, 30: 1301, 120: 822, 999: 601, 60: 528, 90: 238})\n",
      "Counter({400: 61585, 1: 41731, 30: 16268, 60: 7785, 120: 6624, 998: 6153, 90: 4484, 999: 601})\n",
      "Counter({0: 112683, 98: 28936, 1: 2744, 99: 601, 2: 222, 3: 36, 4: 6, 5: 3})\n",
      "Counter({998: 97034, 1: 28096, 400: 7574, 120: 7134, 90: 2262, 60: 1791, 30: 739, 999: 601})\n",
      "Counter({998: 127823, 400: 14534, 1: 1619, 999: 601, 90: 385, 60: 135, 120: 106, 30: 28})\n",
      "Counter({0: 140298, 1: 4156, 2: 604, 3: 120, 4: 38, 6: 7, 5: 6, 7: 1, 15: 1})\n",
      "Counter({998: 137612, 0: 5746, 997: 859, 999: 601, 100: 351, 50: 54, 33: 4, 67: 3, 25: 1})\n",
      "Counter({0: 124276, 97: 10518, 98: 6594, 1: 2925, 99: 601, 2: 264, 3: 45, 4: 6, 5: 2})\n",
      "Counter({98: 133264, 0: 7615, 1: 3652, 99: 601, 2: 79, 3: 13, 7: 3, 4: 2, 6: 2})\n",
      "Counter({98: 133264, 0: 6315, 97: 3015, 1: 1988, 99: 601, 2: 38, 3: 5, 7: 3, 4: 2})\n",
      "Counter({0: 74567, -99999: 32879, 1: 31233, 2: 5317, 3: 973, 4: 192, 5: 54, 6: 14, 7: 2})\n",
      "Counter({-99999: 103440, 0: 25724, 1: 12470, 2: 2713, 3: 652, 4: 169, 5: 42, 6: 19, 7: 2})\n",
      "Counter({1: 61173, 998: 30767, 997: 24218, 30: 13279, 400: 9660, 60: 4103, 90: 1021, 999: 601, 120: 409})\n",
      "Counter({1: 68088, 400: 21841, 30: 15496, 997: 12606, 998: 12461, 60: 6070, 120: 4607, 90: 3461, 999: 601})\n",
      "Counter({998: 77267, 997: 32693, 1: 27962, 400: 3698, 30: 1467, 60: 631, 999: 601, 120: 561, 90: 351})\n",
      "Counter({1: 77364, 997: 16018, 400: 15513, 30: 15497, 998: 12170, 60: 5020, 90: 1588, 120: 1460, 999: 601})\n",
      "Counter({998: 85713, 1: 48244, 400: 4640, 30: 3096, 60: 1449, 120: 901, 999: 601, 90: 586, 0: 1})\n",
      "Counter({998: 85713, 997: 29322, 1: 21771, 996: 7126, 999: 601, 30: 389, 60: 136, 120: 118, 90: 55})\n",
      "Counter({1: 66409, 400: 30945, 30: 20815, 60: 8805, 120: 6047, 90: 4808, 997: 4474, 998: 2327, 999: 601})\n",
      "Counter({0: 135866, 1: 7954, 2: 665, 99: 601, 3: 104, 4: 31, 5: 5, 6: 4, 7: 1})\n",
      "Counter({0: 143467, 1: 944, 99: 601, 2: 161, 3: 46, 4: 7, 5: 3, 6: 1, 7: 1})\n",
      "Counter({400: 61155, 1: 58158, 30: 13249, 60: 4872, 120: 4744, 90: 2589, 0: 178, 999: 150, 997: 136})\n",
      "Counter({400: 80647, 1: 40711, 30: 12183, 60: 4627, 120: 4308, 90: 2475, 999: 150, 0: 65, 997: 65})\n",
      "Counter({0: 78672, 1: 31534, 98: 30767, 2: 3379, 99: 601, 3: 249, 4: 25, 5: 3, 6: 1})\n",
      "Counter({400: 53827, 1: 50203, 30: 13780, 998: 11989, 60: 6075, 120: 5211, 90: 3544, 999: 601, 0: 1})\n",
      "Counter({0: 132129, 998: 11989, 999: 601, 1: 253, 30: 65, 90: 54, 60: 53, 400: 46, 120: 41})\n",
      "Counter({997: 75563, 1: 51924, 998: 11989, 30: 2584, 60: 824, 400: 712, 999: 601, 120: 555, 90: 479})\n",
      "Counter({1: 93763, 400: 15584, 997: 15049, 998: 12461, 30: 3554, 120: 1781, 60: 1489, 90: 949, 999: 601})\n",
      "Counter({400: 53047, 1: 50468, 30: 13827, 998: 12461, 60: 6052, 120: 5239, 90: 3535, 999: 601, 0: 1})\n",
      "Counter({1: 95802, 400: 21239, 997: 10518, 998: 6594, 30: 5055, 120: 2102, 60: 2042, 90: 1278, 999: 601})\n",
      "Counter({98: 88382, 0: 43935, 1: 9899, 2: 1965, 99: 601, 3: 367, 4: 57, 5: 23, 6: 2})\n",
      "Counter({98: 77267, 0: 53601, 1: 10962, 2: 2175, 99: 601, 3: 495, 4: 111, 5: 16, 6: 3})\n",
      "Counter({98: 77267, 0: 50445, 1: 13242, 2: 2773, 3: 692, 99: 601, 4: 177, 5: 28, 6: 6})\n",
      "Counter({98: 77267, 0: 37590, 97: 26705, 1: 2541, 99: 601, 2: 401, 3: 96, 4: 23, 5: 7})\n",
      "Counter({998: 77267, 1: 53359, 400: 7455, 30: 3019, 60: 1453, 120: 1300, 90: 775, 999: 601, 0: 2})\n",
      "Counter({998: 131582, 0: 12575, 999: 601, 1: 214, 30: 88, 120: 60, 400: 45, 60: 40, 90: 26})\n",
      "Counter({0: 119209, 1: 15494, 98: 7536, 2: 2034, 99: 601, 3: 286, 4: 60, 5: 8, 6: 3})\n",
      "Counter({0: 138716, 1: 5512, 2: 763, 3: 182, 4: 38, 5: 12, 6: 4, 7: 2, 9: 2})\n",
      "Counter({0: 70806, 1: 49475, 2: 20004, 3: 4482, 4: 419, 5: 35, 6: 8, 7: 1, 9: 1})\n",
      "Counter({98: 82186, 0: 52163, 1: 9804, 99: 601, 2: 450, 3: 22, 4: 3, 6: 1, 8: 1})\n",
      "Counter({98: 82186, 0: 41129, 97: 18609, 1: 2584, 99: 601, 2: 112, 3: 6, 4: 3, 5: 1})\n",
      "Counter({998: 84787, 994: 48191, 1: 8803, 30: 1007, 400: 952, 999: 601, 60: 374, 120: 328, 90: 188})\n",
      "Counter({998: 84787, 994: 48466, 1: 7681, 400: 1393, 30: 1267, 999: 601, 60: 434, 120: 394, 90: 208})\n",
      "Counter({998: 84787, 994: 47595, 1: 6725, 400: 2617, 30: 1464, 120: 625, 999: 601, 60: 567, 90: 250})\n",
      "Counter({998: 84787, 994: 48115, 1: 5336, 400: 3382, 30: 1168, 120: 987, 999: 601, 60: 538, 90: 317})\n",
      "Counter({998: 84787, 994: 50192, 1: 4702, 400: 2220, 120: 985, 30: 982, 999: 601, 60: 493, 90: 269})\n",
      "Counter({1: 73750, 998: 38563, 400: 16480, 30: 8363, 60: 3259, 120: 2610, 90: 1604, 999: 601, 0: 1})\n",
      "Counter({1: 95970, 400: 21640, 997: 10052, 998: 6153, 30: 5208, 120: 2206, 60: 2092, 90: 1309, 999: 601})\n",
      "Counter({1: 60472, 400: 30208, 998: 23269, 30: 15031, 60: 6507, 120: 5619, 90: 3521, 999: 601, 0: 3})\n",
      "Counter({1: 57213, 998: 28936, 400: 28918, 30: 14506, 60: 6343, 120: 5297, 90: 3414, 999: 601, 0: 3})\n",
      "Counter({0: 115919, 97: 14906, 98: 7536, 1: 5978, 99: 601, 2: 264, 3: 19, 4: 6, 5: 1, 6: 1})\n",
      "Counter({998: 133264, 997: 6462, 1: 3141, 999: 601, 400: 561, 30: 529, 120: 292, 60: 186, 90: 111, 0: 84})\n",
      "Counter({998: 137186, 997: 4092, 1: 2292, 999: 601, 30: 341, 400: 315, 120: 162, 60: 137, 90: 60, 0: 45})\n",
      "Counter({-99999: 71108, 0: 57064, 1: 13045, 2: 2894, 3: 836, 4: 216, 5: 44, 6: 18, 7: 4, 8: 2})\n",
      "Counter({0: 97046, 1: 26817, -99999: 12666, 2: 6617, 3: 1581, 4: 359, 5: 110, 6: 28, 7: 6, 10: 1})\n",
      "Counter({0: 90740, -99999: 34838, 1: 17261, 2: 1991, 3: 328, 4: 53, 5: 11, 6: 4, 9: 3, 7: 2})\n",
      "Counter({-99999: 71108, 0: 58695, 1: 12235, 2: 2415, 3: 555, 4: 154, 5: 52, 6: 12, 7: 3, 8: 2})\n",
      "Counter({-99999: 81544, 0: 52829, 1: 9491, 2: 1200, 3: 122, 4: 35, 5: 5, 8: 2, 11: 2, 6: 1})\n",
      "Counter({1: 62144, 998: 31775, 997: 28583, 30: 9481, 996: 8736, 60: 2806, 90: 613, 999: 601, 400: 276, 120: 216})\n",
      "Counter({98: 77267, 97: 36924, 0: 10959, 1: 10210, 96: 8179, 2: 966, 99: 601, 3: 111, 4: 12, 5: 2})\n",
      "Counter({1: 57555, 998: 28936, 997: 21874, 30: 14383, 400: 11044, 60: 5453, 120: 2804, 90: 2580, 999: 601, 0: 1})\n",
      "Counter({1: 60694, 0: 36708, 98: 30767, 2: 14160, 3: 1999, 99: 601, 4: 255, 5: 36, 6: 6, 7: 5})\n",
      "Counter({0: 61709, 1: 44355, 98: 30767, 2: 6968, 3: 742, 99: 601, 4: 76, 5: 10, 6: 2, 7: 1})\n",
      "Counter({0: 83230, 98: 30767, 97: 18177, 1: 11086, 2: 1233, 99: 601, 3: 123, 4: 10, 5: 3, 6: 1})\n",
      "Counter({0: 86930, 98: 30767, 97: 18177, 1: 7906, 2: 760, 99: 601, 3: 79, 4: 8, 5: 2, 6: 1})\n",
      "Counter({1: 73496, 998: 30767, 997: 28093, 400: 7517, 30: 3706, 60: 732, 999: 601, 90: 179, 120: 139, 0: 1})\n",
      "Counter({1: 67274, 998: 30767, 997: 18177, 30: 13337, 400: 7445, 60: 3752, 0: 2438, 90: 943, 999: 601, 120: 497})\n",
      "Counter({1: 64759, 997: 56013, 998: 11989, 30: 5160, 400: 3210, 60: 1547, 120: 1056, 90: 895, 999: 601, 0: 1})\n",
      "Counter({1: 77981, 400: 18358, 30: 12469, 998: 11989, 997: 8614, 60: 4356, 0: 4282, 120: 4143, 90: 2438, 999: 601})\n",
      "Counter({1: 77821, 400: 17978, 998: 12461, 30: 12372, 997: 8834, 0: 4349, 60: 4312, 120: 4116, 90: 2387, 999: 601})\n",
      "Counter({0: 137655, 1: 5836, 2: 876, 99: 601, 3: 190, 4: 55, 5: 13, 7: 3, 6: 1, 10: 1})\n",
      "Counter({1: 73404, 400: 23755, 30: 16581, 998: 6594, 60: 6352, 997: 5921, 120: 5162, 0: 3604, 90: 3257, 999: 601})\n",
      "Counter({998: 88382, 1: 33801, 997: 12238, 30: 4152, 400: 2765, 0: 1311, 60: 1060, 999: 601, 120: 505, 90: 416})\n",
      "Counter({98: 77267, 0: 45103, 1: 17461, 2: 3571, 3: 932, 99: 601, 4: 243, 5: 40, 6: 12, 7: 1})\n",
      "Counter({98: 77267, 0: 48739, 1: 14397, 2: 3133, 3: 832, 99: 601, 4: 212, 5: 42, 6: 6, 7: 2})\n",
      "Counter({98: 77267, 0: 36962, 97: 26705, 1: 3053, 99: 601, 2: 495, 3: 107, 4: 31, 5: 9, 6: 1})\n",
      "Counter({998: 77267, 1: 33736, 997: 26705, 400: 2228, 0: 1593, 30: 1425, 60: 665, 120: 627, 999: 601, 90: 384})\n",
      "Counter({1: 98691, 400: 15045, 997: 14906, 998: 7536, 30: 4287, 120: 1933, 60: 1378, 90: 853, 999: 601, 0: 1})\n",
      "Counter({1: 71420, 994: 48186, 997: 11980, 998: 7536, 30: 2906, 400: 1249, 60: 740, 999: 601, 90: 311, 120: 302})\n",
      "Counter({1: 85016, 994: 30117, 997: 8601, 998: 7536, 30: 6051, 400: 3799, 60: 1711, 120: 1036, 90: 763, 999: 601})\n",
      "Counter({1: 87870, 994: 21868, 30: 8456, 998: 7536, 400: 6886, 997: 6298, 60: 2472, 120: 2003, 90: 1241, 999: 601})\n",
      "Counter({1: 92199, 997: 11980, 30: 11929, 400: 7964, 998: 7536, 120: 4884, 60: 4268, 90: 2327, 0: 1543, 999: 601})\n",
      "Counter({1: 83999, 400: 14702, 30: 14416, 997: 8601, 998: 7536, 120: 5906, 60: 5378, 90: 2948, 0: 1144, 999: 601})\n",
      "Counter({0: 105475, 1: 29240, 2: 7494, 3: 2080, 4: 635, 5: 191, 6: 76, 7: 34, 8: 4, 9: 2})\n",
      "Counter({0: 115051, 1: 21971, 2: 5730, 3: 1640, 4: 565, 5: 180, 6: 68, 7: 19, 9: 4, 8: 3})\n",
      "Counter({0: 114603, 1: 23375, 2: 5268, 3: 1409, 4: 405, 5: 116, 6: 35, 7: 14, 8: 4, 10: 2})\n",
      "Counter({98: 82186, 0: 42314, 97: 18609, 1: 1340, 99: 601, 2: 157, 3: 16, 4: 4, 5: 3, 6: 1})\n",
      "Counter({98: 82186, 0: 37002, 97: 18609, 1: 6069, 2: 675, 99: 601, 3: 69, 4: 10, 5: 8, 6: 2})\n",
      "Counter({98: 82186, 0: 38761, 97: 18609, 1: 4505, 99: 601, 2: 501, 3: 52, 4: 10, 5: 4, 6: 2})\n",
      "Counter({998: 82186, 1: 35162, 997: 18609, 30: 2555, 400: 2522, 120: 1999, 60: 1049, 999: 601, 90: 547, 0: 1})\n",
      "Counter({998: 82186, 994: 40287, 997: 17001, 1: 4875, 999: 601, 30: 208, 60: 44, 90: 13, 120: 10, 400: 6})\n",
      "Counter({998: 82186, 994: 37886, 997: 13834, 1: 9505, 30: 749, 999: 601, 60: 183, 120: 111, 400: 96, 90: 80})\n",
      "Counter({998: 82186, 994: 35101, 1: 13422, 997: 11014, 30: 1437, 999: 601, 60: 462, 400: 411, 120: 379, 90: 218})\n",
      "Counter({998: 82186, 1: 29912, 997: 17001, 30: 4940, 400: 3255, 120: 3045, 60: 2129, 0: 1115, 90: 1047, 999: 601})\n",
      "Counter({998: 82186, 1: 28073, 997: 13834, 400: 6219, 30: 5654, 120: 3915, 60: 2484, 90: 1353, 0: 912, 999: 601})\n",
      "Counter({98: 84787, 0: 50192, 1: 7274, 2: 1978, 99: 601, 3: 323, 4: 53, 5: 17, 6: 4, 7: 2})\n",
      "Counter({998: 84787, 1: 26598, 997: 14028, 400: 5588, 30: 5306, 120: 3726, 60: 2369, 90: 1320, 0: 908, 999: 601})\n",
      "Counter({998: 127280, 997: 10375, 1: 4293, 400: 875, 30: 609, 999: 601, 120: 499, 60: 289, 0: 287, 90: 123})\n",
      "Counter({1: 70915, 994: 51020, 997: 8251, 998: 6153, 30: 4422, 60: 1293, 400: 1130, 120: 751, 90: 695, 999: 601})\n",
      "Counter({1: 80459, 994: 33451, 30: 8591, 998: 6153, 997: 5562, 400: 4825, 60: 2665, 120: 1545, 90: 1379, 999: 601})\n",
      "Counter({1: 80489, 994: 24882, 30: 11320, 400: 10285, 998: 6153, 997: 3799, 60: 3682, 120: 2134, 90: 1886, 999: 601})\n",
      "Counter({1: 85971, 30: 14938, 400: 13238, 997: 8251, 998: 6153, 60: 5499, 120: 4192, 0: 3646, 90: 2742, 999: 601})\n",
      "Counter({1: 73218, 400: 24278, 30: 16850, 60: 6481, 998: 6153, 997: 5562, 120: 5309, 0: 3417, 90: 3362, 999: 601})\n",
      "Counter({1: 69601, 998: 23269, 997: 16760, 400: 12177, 30: 11531, 60: 4250, 120: 2906, 0: 2152, 90: 1984, 999: 601})\n",
      "Counter({1: 65461, 998: 28936, 997: 16984, 400: 11433, 30: 10970, 60: 4094, 120: 2596, 0: 2251, 90: 1905, 999: 601})\n",
      "Counter({98: 97034, 0: 47179, 99: 601, 1: 325, 2: 75, 3: 7, 4: 5, 6: 2, 9: 2, 8: 1})\n",
      "Counter({998: 97034, 1: 29449, 997: 5164, 120: 4969, 400: 3505, 90: 1780, 60: 1439, 0: 758, 999: 601, 30: 532})\n",
      "Counter({98: 127823, 1: 7500, 97: 4644, 0: 3828, 2: 728, 99: 601, 3: 88, 4: 16, 5: 2, 6: 1})\n",
      "Counter({998: 127823, 400: 7898, 997: 4644, 0: 2652, 1: 1034, 999: 601, 90: 373, 60: 117, 120: 64, 30: 25})\n",
      "Counter({0: 137157, 1: 5726, 2: 1379, 99: 601, 3: 293, 4: 52, 5: 16, 6: 4, 7: 1, 9: 1, 10: 1})\n",
      "Counter({-99999: 87370, 1: 35328, 2: 12019, 0: 5065, 3: 3898, 4: 1122, 5: 314, 6: 89, 7: 19, 8: 4, 9: 3})\n",
      "Counter({-99999: 103440, 0: 19493, 1: 16323, 2: 4321, 3: 1157, 4: 345, 5: 107, 6: 35, 7: 7, 8: 2, 9: 1})\n",
      "Counter({1: 66817, 998: 31775, 997: 28583, 996: 8736, 30: 6631, 60: 1477, 999: 601, 90: 278, 120: 121, 0: 115, 400: 97})\n",
      "Counter({2: 47212, 4: 40724, 5: 15951, 3: 15424, 6: 13406, 1: 6881, 9: 3287, 7: 1485, 99: 601, 8: 259, 94: 1})\n",
      "Counter({2: 40615, 6: 35095, 4: 32608, 3: 24388, 5: 6730, 1: 2792, 9: 1506, 7: 829, 99: 601, 8: 66, 94: 1})\n",
      "Counter({0: 70037, 98: 30767, 1: 21652, 97: 18177, 2: 3505, 99: 601, 3: 435, 4: 48, 5: 6, 6: 2, 7: 1})\n",
      "Counter({0: 94024, 98: 30767, 1: 16164, 2: 3054, 99: 601, 3: 518, 4: 86, 5: 13, 6: 2, 8: 1, 9: 1})\n",
      "Counter({0: 97049, 1: 26856, 98: 12672, 2: 6193, 3: 1427, 99: 601, 4: 334, 5: 72, 6: 23, 8: 3, 7: 1})\n",
      "Counter({0: 97034, 1: 27202, 98: 11989, 2: 6424, 3: 1496, 99: 601, 4: 364, 5: 88, 6: 27, 8: 4, 7: 2})\n",
      "Counter({0: 99382, 1: 25734, 98: 11989, 2: 5821, 3: 1302, 99: 601, 4: 303, 5: 74, 6: 19, 7: 4, 8: 2})\n",
      "Counter({0: 97275, 1: 26815, 98: 12461, 2: 6211, 3: 1419, 99: 601, 4: 337, 5: 84, 6: 23, 8: 3, 7: 2})\n",
      "Counter({0: 118381, 98: 12461, 1: 11002, 2: 2121, 99: 601, 3: 483, 4: 134, 5: 30, 6: 10, 7: 7, 8: 1})\n",
      "Counter({0: 123335, 98: 12461, 1: 7570, 2: 971, 99: 601, 3: 214, 4: 53, 5: 15, 6: 8, 7: 2, 8: 1})\n",
      "Counter({0: 99572, 1: 25365, 98: 12461, 2: 5617, 3: 1240, 99: 601, 4: 283, 5: 71, 6: 16, 7: 3, 8: 2})\n",
      "Counter({0: 97249, 1: 26501, 98: 13142, 2: 5981, 3: 1353, 99: 601, 4: 314, 5: 66, 6: 21, 8: 2, 7: 1})\n",
      "Counter({98: 88382, 0: 40358, 97: 12238, 1: 2845, 99: 601, 2: 550, 3: 176, 4: 51, 5: 22, 6: 7, 8: 1})\n",
      "Counter({98: 77267, 0: 35640, 97: 26705, 1: 4131, 2: 665, 99: 601, 3: 156, 4: 47, 5: 15, 6: 3, 7: 1})\n",
      "Counter({98: 77267, 0: 60485, 1: 5509, 2: 1036, 99: 601, 3: 241, 4: 62, 5: 20, 6: 6, 7: 3, 8: 1})\n",
      "Counter({0: 116608, 97: 14906, 98: 7536, 1: 5180, 99: 601, 2: 345, 3: 40, 4: 8, 5: 5, 6: 1, 7: 1})\n",
      "Counter({0: 108794, 1: 23455, 2: 8146, 3: 3120, 4: 1171, 5: 367, 6: 127, 7: 33, 8: 16, 9: 1, 10: 1})\n",
      "Counter({98: 84787, 0: 48191, 1: 8543, 2: 2563, 99: 601, 3: 416, 4: 92, 5: 29, 6: 6, 7: 2, 10: 1})\n",
      "Counter({98: 107884, 0: 17553, 1: 15341, 2: 3369, 99: 601, 3: 399, 4: 58, 5: 20, 6: 3, 7: 2, 9: 1})\n",
      "Counter({98: 107884, 0: 19115, 1: 14559, 2: 2760, 99: 601, 3: 260, 4: 37, 5: 11, 7: 2, 6: 1, 9: 1})\n",
      "Counter({0: 127990, 1: 13775, 2: 2227, 99: 601, 3: 480, 4: 116, 5: 31, 6: 7, 7: 2, 10: 1, 19: 1})\n",
      "Counter({0: 130670, 1: 11564, 2: 1898, 99: 601, 3: 381, 4: 80, 5: 26, 6: 5, 7: 3, 8: 1, 9: 1, 11: 1})\n",
      "Counter({0: 133028, 1: 8665, 2: 2385, 3: 754, 4: 250, 5: 91, 6: 38, 7: 8, 9: 5, 8: 3, 10: 3, 11: 1})\n",
      "Counter({1: 53166, 98: 30767, 97: 28093, 0: 12496, 2: 10164, 96: 8615, 3: 1170, 99: 601, 4: 133, 5: 22, 6: 3, 7: 1})\n",
      "Counter({0: 84901, 98: 30767, 1: 22905, 2: 4938, 3: 936, 99: 601, 4: 150, 5: 27, 6: 2, 7: 2, 9: 1, 10: 1})\n",
      "Counter({0: 77760, 1: 35872, 2: 12623, 98: 12461, 3: 4103, 4: 1285, 99: 601, 5: 381, 6: 107, 7: 26, 8: 8, 9: 4})\n",
      "Counter({98: 77267, 0: 58597, 1: 6901, 2: 1402, 99: 601, 3: 319, 4: 98, 5: 32, 6: 7, 7: 4, 8: 2, 10: 1})\n",
      "Counter({0: 88902, 1: 36259, 2: 9065, 98: 7536, 3: 2140, 99: 601, 4: 548, 5: 135, 6: 35, 7: 6, 9: 3, 8: 1})\n",
      "Counter({0: 69575, 1: 41668, 2: 19937, 3: 8624, 4: 3401, 5: 1364, 6: 468, 7: 125, 8: 43, 9: 18, 10: 7, 12: 1})\n",
      "Counter({0: 134165, 1: 8454, 2: 1808, 3: 506, 4: 173, 5: 68, 6: 31, 7: 11, 8: 9, 9: 3, 10: 2, 11: 1})\n",
      "Counter({0: 49057, 1: 46286, 2: 29139, 3: 13980, 4: 5077, 5: 1352, 6: 285, 7: 40, 8: 7, 9: 5, 11: 2, 15: 1})\n",
      "Counter({98: 82186, 0: 32904, 97: 18609, 1: 9656, 2: 1132, 99: 601, 3: 117, 4: 12, 5: 8, 6: 2, 8: 2, 7: 2})\n",
      "Counter({98: 82186, 0: 38200, 97: 17001, 1: 6268, 2: 855, 99: 601, 3: 80, 4: 21, 5: 9, 6: 5, 7: 4, 9: 1})\n",
      "Counter({98: 84787, 0: 35457, 97: 14028, 1: 9703, 99: 601, 2: 563, 3: 59, 4: 22, 5: 5, 6: 3, 7: 2, 8: 1})\n",
      "Counter({0: 71840, 98: 38563, 97: 24836, 1: 7593, 2: 1286, 99: 601, 3: 371, 4: 94, 5: 35, 6: 9, 7: 2, 10: 1})\n",
      "Counter({0: 73583, 98: 38563, 97: 24836, 1: 6249, 2: 1003, 99: 601, 3: 293, 4: 72, 5: 26, 6: 2, 7: 2, 10: 1})\n",
      "Counter({0: 133180, 1: 7897, 2: 2626, 3: 673, 99: 601, 4: 167, 5: 51, 6: 16, 7: 12, 8: 4, 11: 2, 9: 1, 18: 1})\n",
      "Counter({0: 102892, 98: 28936, 1: 10235, 2: 1895, 99: 601, 3: 431, 4: 149, 5: 61, 6: 21, 7: 6, 8: 2, 9: 1, 11: 1})\n",
      "Counter({-99999: 126445, 0: 11662, 1: 6233, 2: 714, 3: 115, 4: 31, 5: 16, 6: 4, 8: 4, 7: 3, 10: 2, 11: 1, 15: 1})\n",
      "Counter({0: 74704, 1: 36725, 2: 13957, -99999: 12666, 3: 4881, 4: 1586, 5: 479, 6: 170, 7: 47, 8: 8, 10: 5, 9: 2, 12: 1})\n",
      "Counter({-99999: 71108, 0: 49815, 1: 17574, 2: 4659, 3: 1408, 4: 429, 5: 153, 6: 52, 7: 20, 8: 8, 9: 2, 10: 2, 11: 1})\n",
      "Counter({0: 65357, 1: 34351, 98: 30767, 2: 10695, 3: 2685, 99: 601, 4: 589, 5: 147, 6: 28, 7: 7, 9: 2, 8: 1, 10: 1})\n",
      "Counter({0: 65381, 1: 34772, 97: 15049, 98: 12461, 2: 11767, 3: 3651, 4: 1129, 99: 601, 5: 311, 6: 82, 7: 17, 8: 7, 9: 3})\n",
      "Counter({0: 61181, 1: 39759, 2: 18151, 98: 13142, 3: 7676, 4: 3037, 5: 1089, 99: 601, 6: 405, 7: 128, 8: 42, 9: 18, 10: 2})\n",
      "Counter({98: 77267, 0: 57242, 1: 7921, 2: 1615, 99: 601, 3: 394, 4: 127, 5: 41, 6: 14, 7: 6, 8: 1, 9: 1, 13: 1})\n",
      "Counter({0: 135819, 1: 7667, 2: 1138, 3: 354, 4: 138, 5: 55, 6: 29, 7: 20, 8: 5, 9: 2, 11: 2, 10: 1, 12: 1})\n",
      "Counter({98: 82186, 0: 36101, 97: 17001, 1: 8088, 2: 1098, 99: 601, 3: 109, 4: 25, 5: 11, 6: 5, 7: 3, 9: 2, 10: 1})\n",
      "Counter({98: 82186, 0: 37412, 97: 13834, 1: 9174, 2: 1695, 99: 601, 3: 235, 4: 58, 5: 17, 7: 8, 6: 7, 8: 3, 9: 1})\n",
      "Counter({98: 84787, 0: 33141, 97: 14028, 1: 11881, 2: 687, 99: 601, 3: 68, 4: 24, 5: 6, 6: 4, 7: 2, 8: 1, 10: 1})\n",
      "Counter({98: 84787, 0: 54983, 1: 4613, 99: 601, 2: 195, 3: 33, 4: 9, 5: 3, 7: 2, 11: 2, 6: 1, 8: 1, 14: 1})\n",
      "Counter({98: 84787, 0: 55992, 1: 3651, 99: 601, 2: 156, 3: 30, 4: 5, 5: 2, 7: 2, 11: 2, 6: 1, 8: 1, 14: 1})\n",
      "Counter({98: 127280, 1: 9840, 0: 4611, 2: 2153, 99: 601, 3: 553, 4: 127, 5: 33, 6: 18, 7: 7, 8: 4, 9: 3, 10: 1})\n",
      "Counter({0: 66786, 98: 38563, 97: 24836, 1: 11319, 2: 2218, 3: 626, 99: 601, 4: 175, 5: 69, 6: 26, 7: 7, 10: 4, 9: 1})\n",
      "Counter({0: 90690, 98: 38563, 1: 11804, 2: 2440, 3: 763, 99: 601, 4: 233, 5: 90, 6: 34, 7: 7, 8: 4, 9: 1, 10: 1})\n",
      "Counter({98: 101776, 0: 22625, 1: 15117, 2: 3518, 3: 1056, 99: 601, 4: 338, 5: 118, 6: 44, 7: 18, 8: 11, 9: 7, 10: 2})\n",
      "Counter({98: 101776, 0: 26723, 1: 12644, 2: 2491, 3: 707, 99: 601, 4: 190, 5: 54, 6: 26, 7: 9, 8: 6, 9: 3, 10: 1})\n",
      "Counter({0: 124715, 97: 10052, 98: 6153, 1: 3001, 99: 601, 2: 483, 3: 136, 4: 49, 5: 22, 6: 10, 7: 6, 9: 2, 10: 1})\n",
      "Counter({0: 142861, 1: 1870, 2: 354, 3: 89, 4: 36, 5: 8, 6: 4, 11: 2, 15: 2, 7: 1, 8: 1, 10: 1, 12: 1, 25: 1})\n",
      "Counter({0: 122834, 1: 15860, 2: 4380, 3: 1418, 4: 465, 5: 181, 6: 48, 7: 28, 8: 5, 9: 5, 11: 2, 12: 2, 13: 2, 20: 1})\n",
      "Counter({0: 106471, 1: 24314, 2: 8849, 3: 3443, 4: 1293, 5: 515, 6: 218, 7: 72, 8: 29, 9: 13, 10: 5, 11: 3, 12: 3, 13: 3})\n",
      "Counter({0: 124864, 1: 14521, 2: 3911, 3: 1284, 4: 407, 5: 158, 6: 50, 7: 24, 8: 3, 9: 3, 11: 2, 12: 2, 13: 1, 18: 1})\n",
      "Counter({0: 110867, 1: 21964, 2: 7756, 3: 2890, 4: 1052, 5: 437, 6: 154, 7: 62, 8: 28, 9: 11, 10: 4, 12: 4, 11: 1, 13: 1})\n",
      "Counter({0: 118552, -99999: 12666, 1: 9504, 2: 2742, 3: 1066, 4: 413, 5: 153, 6: 77, 7: 31, 8: 13, 9: 5, 10: 5, 11: 3, 13: 1})\n",
      "Counter({-99999: 74801, 0: 57530, 1: 10349, 2: 1877, 3: 461, 4: 111, 5: 44, 6: 33, 7: 13, 8: 5, 9: 4, 11: 1, 27: 1, 16: 1})\n",
      "Counter({0: 75982, -99999: 34838, 1: 27537, 2: 5240, 3: 1189, 4: 310, 5: 93, 6: 23, 7: 12, 8: 2, 12: 2, 9: 1, 10: 1, 17: 1})\n",
      "Counter({0: 53941, 1: 41896, -99999: 32879, 2: 11715, 3: 3261, 4: 990, 5: 348, 6: 117, 7: 51, 8: 21, 9: 6, 10: 3, 11: 2, 12: 1})\n",
      "Counter({0: 109735, 1: 24672, 2: 7248, 3: 2382, 4: 773, 5: 266, 6: 95, 7: 34, 8: 15, 9: 5, 11: 3, 10: 1, 12: 1, 14: 1})\n",
      "Counter({0: 76585, -99999: 27571, 1: 26428, 2: 9029, 3: 3291, 4: 1290, 5: 576, 6: 251, 7: 107, 8: 49, 9: 29, 10: 14, 11: 8, 12: 3})\n",
      "Counter({0: 129351, 1: 12065, 2: 2154, 99: 601, 3: 544, 97: 214, 4: 192, 5: 61, 6: 28, 7: 10, 8: 6, 9: 3, 10: 1, 12: 1})\n",
      "Counter({0: 60882, 1: 39665, 2: 18528, 98: 12461, 3: 7938, 4: 3227, 5: 1219, 99: 601, 6: 459, 7: 170, 8: 58, 9: 18, 10: 4, 11: 1})\n",
      "Counter({0: 101842, 1: 21302, 98: 12461, 2: 6141, 3: 2011, 4: 605, 99: 601, 5: 172, 6: 61, 7: 25, 8: 4, 9: 3, 10: 2, 11: 1})\n",
      "Counter({98: 77267, 0: 54559, 1: 9796, 2: 2137, 99: 601, 3: 573, 4: 176, 5: 72, 6: 33, 7: 10, 8: 4, 10: 1, 11: 1, 14: 1})\n",
      "Counter({0: 131805, 1: 8918, 2: 2553, 3: 880, 99: 601, 4: 288, 5: 110, 6: 36, 7: 17, 8: 14, 9: 4, 10: 2, 12: 2, 11: 1})\n",
      "Counter({0: 96068, 1: 31044, 2: 10783, 3: 4143, 4: 1754, 5: 737, 6: 358, 7: 182, 8: 77, 9: 49, 10: 18, 11: 9, 12: 7, 16: 2})\n",
      "Counter({98: 82186, 0: 31227, 97: 17001, 1: 12309, 2: 1674, 99: 601, 3: 173, 4: 31, 5: 14, 6: 5, 7: 5, 8: 2, 9: 2, 10: 1})\n",
      "Counter({98: 82186, 0: 29431, 1: 15829, 97: 13834, 2: 2850, 99: 601, 3: 369, 4: 79, 5: 25, 6: 11, 7: 7, 8: 4, 9: 4, 10: 1})\n",
      "Counter({98: 82186, 0: 34978, 97: 13834, 1: 11214, 2: 2029, 99: 601, 3: 283, 4: 66, 5: 20, 6: 7, 7: 7, 8: 3, 9: 2, 10: 1})\n",
      "Counter({98: 84787, 0: 48466, 1: 7497, 2: 3032, 3: 647, 99: 601, 4: 139, 5: 31, 6: 12, 8: 6, 10: 6, 7: 5, 18: 1, 19: 1})\n",
      "Counter({0: 128446, 1: 12148, 2: 2907, 3: 830, 99: 601, 4: 197, 5: 57, 6: 26, 8: 6, 7: 4, 9: 4, 10: 3, 12: 1, 17: 1})\n",
      "Counter({0: 120337, 97: 10052, 1: 6476, 98: 6153, 2: 1127, 99: 601, 3: 303, 4: 117, 5: 39, 6: 12, 8: 5, 9: 4, 7: 4, 11: 1})\n",
      "Counter({0: 92921, 98: 28936, 1: 17306, 2: 3928, 3: 981, 99: 601, 4: 349, 5: 130, 6: 44, 7: 20, 8: 11, 9: 2, 10: 1, 12: 1})\n",
      "Counter({0: 138430, 1: 5440, 2: 881, 3: 253, 4: 95, 5: 59, 6: 30, 7: 14, 8: 10, 9: 6, 10: 4, 11: 4, 12: 3, 19: 1, 21: 1})\n",
      "Counter({0: 118996, 1: 12953, -99999: 6655, 2: 3838, 3: 1570, 4: 669, 5: 285, 6: 140, 7: 65, 8: 31, 9: 12, 11: 7, 10: 6, 12: 2, 14: 2})\n",
      "Counter({0: 53111, 1: 40375, 2: 21226, -99999: 12666, 3: 10166, 4: 4562, 5: 1866, 6: 761, 7: 329, 8: 104, 9: 39, 10: 15, 11: 8, 12: 2, 14: 1})\n",
      "Counter({0: 137870, 1: 5359, 2: 791, 99: 601, 3: 225, 97: 214, 4: 91, 5: 34, 6: 22, 7: 8, 10: 5, 9: 4, 11: 4, 8: 2, 16: 1})\n",
      "Counter({0: 130733, 1: 10769, 2: 2173, 3: 613, 99: 601, 4: 199, 5: 74, 6: 38, 7: 11, 8: 11, 10: 3, 12: 3, 9: 1, 14: 1, 16: 1})\n",
      "Counter({98: 88382, 0: 21270, 1: 20667, 2: 8787, 3: 3491, 4: 1367, 99: 601, 5: 460, 6: 122, 7: 61, 8: 10, 9: 6, 10: 5, 11: 1, 24: 1})\n",
      "Counter({0: 55161, 98: 38563, 1: 36253, 2: 10256, 3: 3016, 4: 956, 99: 601, 5: 289, 6: 91, 7: 30, 8: 10, 9: 2, 10: 1, 21: 1, 22: 1})\n",
      "Counter({0: 91343, 98: 23269, 1: 21418, 2: 5801, 3: 1717, 4: 618, 99: 601, 5: 245, 6: 118, 7: 50, 8: 26, 9: 14, 10: 5, 12: 5, 11: 1})\n",
      "Counter({0: 87892, 98: 28936, 1: 19731, 2: 5427, 3: 1599, 99: 601, 4: 599, 5: 240, 6: 109, 7: 47, 8: 26, 9: 14, 12: 5, 10: 4, 11: 1})\n",
      "Counter({0: 123943, 1: 15671, 2: 3296, 3: 986, 99: 601, 4: 360, 5: 180, 6: 95, 7: 41, 8: 23, 9: 22, 10: 7, 11: 2, 13: 2, 15: 1, 20: 1})\n",
      "Counter({-99999: 126445, 1: 10012, 0: 6634, 2: 1619, 3: 345, 4: 99, 5: 32, 6: 13, 8: 8, 9: 8, 7: 7, 10: 4, 11: 2, 12: 1, 13: 1, 21: 1})\n",
      "Counter({0: 126445, 1: 14425, 2: 3004, 3: 852, 4: 286, 5: 112, 6: 40, 7: 18, 9: 14, 8: 12, 10: 11, 11: 7, 17: 2, 12: 1, 14: 1, 23: 1})\n",
      "Counter({0: 129513, 1: 11169, 2: 2911, 3: 948, 4: 361, 5: 164, 6: 81, 7: 37, 8: 20, 9: 10, 11: 6, 12: 4, 10: 2, 13: 2, 16: 2, 14: 1})\n",
      "Counter({0: 74947, 1: 26770, 97: 15614, 98: 13142, 2: 9162, 3: 3176, 4: 1136, 99: 601, 5: 429, 6: 159, 7: 62, 8: 19, 9: 8, 11: 3, 10: 2, 19: 1})\n",
      "Counter({0: 69083, 1: 45749, 2: 15561, 98: 7536, 3: 4753, 4: 1381, 99: 601, 5: 398, 6: 125, 7: 24, 8: 12, 9: 4, 10: 1, 12: 1, 15: 1, 22: 1})\n",
      "Counter({0: 120292, 97: 14906, 98: 7536, 1: 1620, 99: 601, 2: 186, 3: 39, 4: 21, 6: 8, 5: 7, 11: 4, 9: 3, 10: 3, 8: 2, 7: 2, 16: 1})\n",
      "Counter({0: 89295, 1: 34857, 2: 12775, 3: 4773, 4: 1917, 5: 851, 6: 383, 7: 179, 8: 95, 9: 43, 10: 28, 11: 19, 12: 6, 13: 5, 14: 3, 15: 2})\n",
      "Counter({0: 127972, 1: 13121, 2: 2611, 3: 884, 4: 324, 5: 138, 6: 85, 7: 47, 8: 20, 9: 9, 10: 6, 11: 5, 12: 3, 13: 3, 15: 2, 14: 1})\n",
      "Counter({98: 84787, 1: 35892, 0: 21693, 2: 1986, 99: 601, 3: 198, 4: 36, 5: 14, 6: 9, 8: 5, 7: 3, 9: 3, 11: 1, 12: 1, 14: 1, 16: 1})\n",
      "Counter({0: 133082, 1: 10275, 2: 1378, 3: 302, 4: 124, 5: 26, 6: 19, 7: 7, 8: 5, 15: 3, 11: 2, 13: 2, 14: 2, 9: 1, 12: 1, 16: 1, 27: 1})\n",
      "Counter({0: 142132, 1: 2403, 2: 501, 3: 104, 4: 50, 5: 12, 6: 10, 7: 5, 8: 2, 9: 2, 11: 2, 12: 2, 15: 2, 13: 1, 14: 1, 16: 1, 26: 1})\n",
      "Counter({98: 82186, 0: 54273, 1: 4747, 2: 1887, 3: 798, 99: 601, 4: 401, 5: 171, 6: 80, 7: 41, 8: 28, 9: 8, 12: 4, 10: 3, 11: 1, 14: 1, 17: 1})\n",
      "Counter({98: 82186, 1: 28963, 97: 18609, 0: 8505, 2: 5595, 99: 601, 3: 590, 4: 115, 5: 34, 6: 15, 8: 7, 9: 3, 7: 3, 11: 2, 12: 1, 14: 1, 16: 1})\n",
      "Counter({-99999: 43525, 0: 42658, 1: 37372, 2: 12802, 3: 4930, 4: 2093, 5: 980, 6: 451, 7: 237, 8: 92, 9: 57, 10: 14, 11: 10, 12: 6, 13: 2, 14: 1, 18: 1})\n",
      "Counter({0: 113266, 1: 14808, -99999: 12666, 2: 3048, 3: 866, 4: 319, 5: 143, 6: 57, 7: 32, 10: 8, 9: 7, 8: 6, 12: 1, 13: 1, 15: 1, 11: 1, 18: 1})\n",
      "Counter({0: 92049, 1: 30674, 2: 10125, -99999: 6655, 3: 3425, 4: 1266, 5: 502, 6: 259, 7: 130, 8: 64, 9: 46, 10: 17, 12: 8, 13: 4, 14: 3, 11: 3, 17: 1})\n",
      "Counter({0: 114483, 1: 21107, 2: 5768, 3: 1923, 4: 667, 99: 601, 5: 276, 97: 214, 6: 106, 7: 44, 8: 20, 9: 9, 10: 7, 11: 3, 12: 1, 13: 1, 14: 1})\n",
      "Counter({0: 107408, 1: 24799, 2: 7728, 3: 2724, 4: 1047, 99: 601, 5: 451, 6: 190, 97: 131, 7: 77, 8: 37, 9: 15, 10: 13, 11: 5, 12: 3, 13: 1, 14: 1})\n",
      "Counter({0: 98198, 1: 29076, 2: 10324, 3: 3994, 4: 1647, 5: 723, 99: 601, 6: 329, 7: 156, 8: 61, 97: 56, 9: 33, 10: 19, 11: 8, 13: 3, 12: 2, 14: 1})\n",
      "Counter({0: 132399, 1: 9546, 2: 1700, 99: 601, 3: 427, 97: 214, 4: 187, 5: 79, 6: 35, 7: 17, 9: 10, 8: 6, 10: 4, 12: 2, 11: 2, 13: 1, 16: 1})\n",
      "Counter({0: 129076, 1: 12021, 2: 2359, 3: 611, 99: 601, 4: 241, 97: 131, 5: 96, 6: 40, 7: 24, 9: 13, 8: 7, 10: 4, 12: 2, 13: 2, 11: 2, 16: 1})\n",
      "Counter({0: 124179, 1: 15464, 2: 3433, 3: 898, 99: 601, 4: 335, 5: 142, 97: 56, 6: 55, 7: 24, 8: 16, 9: 13, 10: 4, 12: 4, 11: 4, 13: 2, 16: 1})\n",
      "Counter({0: 133738, 1: 7409, 2: 2032, 3: 785, 99: 601, 4: 356, 5: 167, 6: 63, 7: 30, 8: 20, 9: 8, 10: 6, 13: 6, 11: 5, 12: 2, 14: 2, 16: 1})\n",
      "Counter({0: 75344, 1: 27112, 97: 15049, 98: 12461, 2: 9389, 3: 3292, 4: 1228, 99: 601, 5: 456, 6: 186, 7: 73, 8: 19, 9: 11, 10: 4, 11: 4, 16: 1, 19: 1})\n",
      "Counter({98: 64523, 0: 42241, 1: 27482, 2: 7491, 3: 1969, 99: 601, 4: 595, 5: 187, 6: 58, 7: 42, 8: 14, 10: 9, 11: 6, 9: 5, 12: 4, 14: 3, 15: 1})\n",
      "Counter({0: 108096, 1: 23717, 2: 7754, 3: 2976, 4: 1387, 5: 654, 6: 321, 7: 161, 8: 81, 9: 53, 10: 16, 11: 6, 14: 4, 12: 2, 13: 1, 16: 1, 17: 1})\n",
      "Counter({0: 92548, 1: 27788, 2: 12292, 3: 6101, 4: 3131, 5: 1661, 6: 877, 7: 414, 8: 224, 9: 109, 10: 41, 12: 19, 11: 16, 13: 5, 14: 3, 15: 1, 18: 1})\n",
      "Counter({98: 82186, 1: 32950, 0: 21833, 2: 6712, 3: 726, 99: 601, 4: 143, 5: 37, 6: 16, 7: 8, 8: 8, 9: 4, 11: 2, 12: 2, 14: 1, 13: 1, 16: 1})\n",
      "Counter({98: 82186, 1: 26257, 97: 18609, 0: 10888, 2: 5748, 3: 725, 99: 601, 4: 145, 5: 39, 6: 14, 8: 6, 7: 5, 9: 3, 11: 2, 12: 1, 16: 1, 17: 1})\n",
      "Counter({98: 82186, 1: 24477, 97: 17001, 0: 13619, 2: 6112, 3: 942, 99: 601, 4: 208, 5: 49, 6: 17, 7: 7, 9: 4, 8: 3, 11: 2, 12: 1, 16: 1, 20: 1})\n",
      "Counter({98: 82186, 1: 22351, 0: 17569, 97: 13834, 2: 6814, 3: 1433, 99: 601, 4: 310, 5: 86, 6: 24, 7: 8, 11: 5, 9: 4, 8: 3, 12: 1, 20: 1, 16: 1})\n",
      "Counter({98: 84787, 0: 47595, 1: 7868, 2: 3164, 3: 872, 99: 601, 4: 218, 5: 64, 6: 33, 8: 7, 7: 6, 9: 6, 11: 6, 12: 1, 15: 1, 17: 1, 13: 1})\n",
      "Counter({0: 62902, 98: 28936, 97: 24634, 1: 19594, 2: 5534, 3: 1848, 4: 681, 99: 601, 5: 291, 6: 120, 7: 44, 8: 22, 10: 8, 9: 7, 14: 4, 11: 3, 12: 1, 16: 1})\n",
      "Counter({1: 50763, 0: 40976, -99999: 34838, 2: 14196, 3: 3188, 4: 828, 5: 271, 6: 78, 7: 38, 8: 24, 9: 12, 10: 7, 12: 6, 11: 2, 13: 1, 17: 1, 18: 1, 16: 1})\n",
      "Counter({0: 69212, 1: 29659, -99999: 27571, 2: 10948, 3: 4405, 4: 1867, 5: 835, 6: 365, 7: 205, 8: 75, 9: 42, 10: 24, 11: 13, 12: 5, 13: 2, 14: 1, 15: 1, 18: 1})\n",
      "Counter({-99999: 65174, 1: 38103, 2: 18177, 0: 8791, 3: 8210, 4: 3583, 5: 1644, 6: 768, 7: 386, 8: 197, 9: 107, 10: 49, 11: 20, 12: 10, 13: 7, 14: 3, 15: 1, 16: 1})\n",
      "Counter({0: 38470, 1: 37448, -99999: 35581, 2: 18408, 3: 8439, 4: 3929, 5: 1666, 6: 710, 7: 306, 8: 138, 9: 65, 10: 34, 11: 21, 12: 7, 13: 4, 14: 3, 15: 1, 19: 1})\n",
      "Counter({0: 84974, -99999: 42639, 1: 13496, 2: 2922, 3: 744, 4: 267, 5: 92, 6: 41, 7: 27, 8: 13, 9: 7, 11: 3, 10: 1, 12: 1, 13: 1, 14: 1, 17: 1, 16: 1})\n",
      "Counter({0: 66621, 1: 30555, -99999: 27571, 2: 11776, 3: 4862, 4: 2066, 5: 950, 6: 417, 7: 226, 8: 86, 9: 50, 10: 26, 11: 13, 12: 7, 13: 2, 14: 1, 18: 1, 16: 1})\n",
      "Counter({98: 49074, 0: 41729, 1: 31961, 2: 12174, 3: 5308, 4: 2440, 5: 1051, 99: 601, 6: 469, 7: 227, 8: 96, 9: 47, 10: 26, 11: 9, 12: 9, 14: 5, 13: 3, 16: 2})\n",
      "Counter({0: 84008, 1: 38983, 2: 13979, 3: 4804, 4: 1735, 5: 646, 99: 601, 6: 252, 7: 109, 8: 59, 9: 21, 10: 10, 11: 9, 14: 6, 13: 4, 12: 3, 15: 1, 20: 1})\n",
      "Counter({0: 125892, 1: 14354, 2: 2907, 3: 877, 99: 601, 4: 329, 5: 116, 6: 68, 7: 40, 8: 23, 9: 10, 10: 5, 16: 3, 11: 2, 13: 1, 14: 1, 18: 1, 19: 1})\n",
      "Counter({0: 113614, 1: 20334, 2: 6485, 3: 2401, 4: 949, 99: 601, 5: 422, 6: 227, 7: 87, 8: 38, 9: 34, 11: 12, 10: 11, 12: 6, 13: 4, 14: 3, 15: 2, 18: 1})\n",
      "Counter({0: 74699, 1: 35034, 2: 17137, 3: 8464, 4: 4439, 5: 2311, 6: 1218, 7: 628, 99: 601, 8: 339, 9: 169, 10: 89, 11: 52, 12: 28, 13: 12, 14: 7, 15: 3, 19: 1})\n",
      "Counter({0: 108317, 1: 24836, 2: 7509, 3: 2433, 4: 905, 99: 601, 5: 345, 6: 148, 7: 62, 8: 26, 9: 18, 10: 11, 11: 7, 12: 5, 13: 4, 14: 2, 16: 1, 17: 1})\n",
      "Counter({0: 96478, 97: 15049, 1: 13510, 98: 12461, 2: 4197, 3: 1602, 4: 684, 99: 601, 5: 316, 6: 179, 7: 63, 8: 48, 9: 20, 10: 7, 14: 7, 12: 4, 11: 4, 17: 1})\n",
      "Counter({0: 105118, 97: 15049, 98: 12461, 1: 8036, 2: 2262, 3: 904, 99: 601, 4: 406, 5: 194, 6: 101, 7: 44, 8: 28, 9: 9, 10: 5, 14: 4, 11: 4, 13: 3, 12: 2})\n",
      "Counter({0: 108037, 97: 15049, 98: 12461, 1: 6187, 2: 1673, 3: 640, 99: 601, 4: 295, 5: 145, 6: 68, 7: 31, 8: 22, 9: 8, 10: 4, 14: 3, 11: 3, 12: 2, 13: 2})\n",
      "Counter({0: 126093, 1: 12489, 2: 3841, 3: 1482, 4: 654, 5: 311, 6: 156, 7: 92, 8: 51, 9: 23, 10: 14, 11: 10, 12: 6, 14: 4, 13: 2, 15: 1, 17: 1, 18: 1})\n",
      "Counter({1: 34737, 2: 30137, 0: 27932, 3: 22154, 4: 14454, 5: 8245, 6: 4245, 7: 1984, 8: 867, 9: 307, 10: 115, 11: 35, 12: 7, 13: 5, 15: 3, 14: 2, 17: 1, 19: 1})\n",
      "Counter({98: 82186, 0: 49378, 1: 9491, 2: 2712, 99: 601, 3: 522, 4: 189, 5: 75, 6: 31, 7: 15, 9: 12, 8: 6, 10: 4, 13: 3, 15: 2, 27: 2, 11: 1, 24: 1})\n",
      "Counter({98: 84787, 0: 41746, 1: 16183, 2: 1530, 99: 601, 3: 244, 4: 67, 5: 31, 6: 14, 7: 10, 8: 8, 9: 3, 12: 2, 11: 1, 16: 1, 17: 1, 18: 1, 25: 1})\n",
      "Counter({0: 89636, 1: 32564, 2: 10780, 98: 6153, 3: 3443, 4: 1210, 99: 601, 5: 506, 6: 178, 7: 74, 8: 61, 9: 12, 10: 6, 11: 3, 12: 1, 14: 1, 15: 1, 18: 1})\n",
      "Counter({98: 113819, 0: 15650, 1: 10964, 2: 2710, 3: 891, 99: 601, 4: 327, 5: 127, 6: 63, 7: 33, 8: 21, 9: 11, 12: 5, 10: 3, 11: 3, 15: 1, 18: 1, 13: 1})\n",
      "Counter({0: 140393, 1: 3431, 2: 801, 3: 322, 4: 129, 5: 70, 6: 37, 7: 13, 9: 9, 8: 8, 10: 7, 12: 3, 13: 2, 11: 1, 15: 1, 48: 1, 19: 1, 27: 1, 16: 1})\n",
      "Counter({0: 82578, 98: 30767, 1: 21578, 2: 6171, 3: 2099, 4: 751, 99: 601, 5: 362, 6: 160, 7: 67, 8: 45, 9: 25, 10: 15, 12: 5, 14: 2, 13: 2, 11: 1, 16: 1, 29: 1})\n",
      "Counter({0: 84696, 1: 33385, 2: 12557, -99999: 6655, 3: 4594, 4: 1794, 5: 767, 6: 360, 7: 204, 8: 95, 9: 66, 10: 24, 11: 12, 12: 10, 13: 5, 16: 3, 14: 2, 18: 1, 17: 1})\n",
      "Counter({0: 58007, 1: 35943, -99999: 34838, 2: 10836, 3: 3502, 4: 1237, 5: 493, 6: 197, 7: 84, 8: 40, 9: 28, 10: 10, 12: 6, 11: 3, 15: 2, 29: 2, 13: 1, 18: 1, 24: 1})\n",
      "Counter({0: 104552, 1: 26835, 2: 8877, 3: 3037, 4: 1084, 5: 449, 6: 196, 7: 88, 8: 45, 9: 20, 10: 18, 11: 10, 12: 7, 13: 4, 15: 3, 16: 3, 14: 1, 17: 1, 19: 1})\n",
      "Counter({1: 45321, 98: 30767, 2: 20639, 97: 18177, 0: 17433, 3: 7729, 4: 2760, 5: 1070, 99: 601, 6: 441, 7: 168, 8: 65, 9: 31, 10: 15, 11: 7, 12: 2, 14: 2, 13: 2, 16: 1})\n",
      "Counter({13: 49763, 12: 16292, 97: 12606, 98: 12461, 96: 11490, 11: 9849, 94: 9579, 10: 7132, 9: 4574, 8: 3392, 7: 2820, 6: 1857, 0: 1160, 5: 709, 99: 601, 4: 296, 1: 233, 3: 216, 2: 201})\n",
      "Counter({98: 64523, 0: 36242, 1: 29379, 2: 9637, 3: 3060, 4: 1099, 99: 601, 5: 396, 6: 148, 7: 72, 8: 32, 9: 14, 10: 10, 12: 7, 11: 5, 14: 3, 15: 1, 18: 1, 13: 1})\n",
      "Counter({0: 50175, 1: 38452, 2: 24676, 3: 14428, 4: 8073, 5: 4414, 6: 2376, 7: 1269, 8: 628, 9: 344, 10: 189, 11: 100, 12: 48, 13: 32, 14: 13, 15: 7, 16: 3, 18: 3, 17: 1})\n",
      "Counter({98: 84787, 0: 48115, 1: 7588, 2: 3022, 3: 781, 99: 601, 4: 235, 5: 52, 6: 23, 7: 10, 8: 8, 10: 2, 9: 1, 11: 1, 12: 1, 14: 1, 15: 1, 18: 1, 13: 1})\n",
      "Counter({98: 84787, 0: 38463, 1: 18934, 2: 1984, 99: 601, 3: 299, 4: 87, 5: 29, 6: 15, 7: 12, 8: 9, 9: 3, 12: 2, 10: 1, 11: 1, 16: 1, 17: 1, 18: 1, 25: 1})\n",
      "Counter({0: 122983, 97: 10052, 98: 6153, 1: 4064, 2: 834, 99: 601, 3: 265, 4: 138, 5: 48, 6: 34, 7: 28, 8: 8, 9: 5, 12: 5, 10: 4, 11: 4, 13: 2, 15: 2, 14: 1})\n",
      "Counter({0: 80702, -99999: 42639, 1: 16370, 2: 3864, 3: 1019, 4: 372, 5: 134, 6: 53, 7: 33, 8: 17, 9: 10, 11: 4, 16: 3, 10: 2, 12: 2, 14: 2, 15: 2, 13: 1, 17: 1, 18: 1})\n",
      "Counter({0: 79302, -99999: 42639, 1: 17288, 2: 4167, 3: 1125, 4: 427, 5: 145, 6: 59, 7: 32, 8: 18, 9: 10, 11: 4, 10: 3, 16: 3, 12: 2, 14: 2, 15: 2, 13: 1, 17: 1, 18: 1})\n",
      "Counter({98: 49074, 0: 34571, 1: 33072, 2: 14159, 3: 6915, 4: 3444, 5: 1680, 6: 841, 99: 601, 7: 447, 8: 199, 9: 104, 10: 64, 11: 27, 12: 10, 14: 10, 13: 7, 15: 3, 16: 2, 18: 1})\n",
      "Counter({0: 106470, 97: 12606, 98: 12461, 1: 8399, 2: 2556, 3: 1087, 99: 601, 4: 501, 5: 263, 6: 137, 7: 59, 8: 40, 9: 22, 10: 12, 12: 4, 13: 4, 11: 4, 14: 3, 20: 1, 19: 1})\n",
      "Counter({0: 93243, 1: 15251, 97: 15049, 98: 12461, 2: 4920, 3: 1997, 4: 888, 99: 601, 5: 418, 6: 207, 7: 100, 8: 45, 9: 17, 10: 12, 11: 11, 12: 7, 14: 1, 15: 1, 17: 1, 16: 1})\n",
      "Counter({0: 51449, 1: 50769, 2: 22191, 3: 8150, 98: 7536, 4: 2921, 5: 1038, 99: 601, 6: 353, 7: 128, 8: 55, 9: 19, 10: 8, 11: 6, 12: 2, 14: 1, 13: 1, 16: 1, 22: 1, 23: 1})\n",
      "Counter({98: 82186, 0: 43142, 1: 14220, 2: 3905, 3: 737, 99: 601, 4: 245, 5: 87, 6: 47, 7: 22, 8: 12, 9: 11, 10: 6, 13: 3, 12: 2, 15: 1, 17: 1, 25: 1, 27: 1, 28: 1})\n",
      "Counter({0: 73227, 98: 28936, 1: 26081, 2: 9516, 3: 3807, 4: 1603, 5: 745, 99: 601, 6: 363, 7: 156, 8: 94, 9: 49, 10: 21, 11: 11, 12: 9, 14: 5, 13: 4, 25: 1, 15: 1, 19: 1})\n",
      "Counter({1: 40321, 2: 29863, -99999: 27997, 3: 18320, 4: 10647, 0: 6261, 5: 5684, 6: 2973, 7: 1474, 8: 838, 9: 404, 10: 211, 11: 108, 12: 63, 13: 33, 14: 17, 15: 7, 16: 4, 18: 3, 17: 2, 20: 1})\n",
      "Counter({1: 39210, -99999: 35581, 2: 23508, 0: 22186, 3: 12608, 4: 6346, 5: 3139, 6: 1376, 7: 672, 8: 305, 9: 141, 10: 67, 11: 37, 12: 26, 13: 14, 15: 3, 18: 3, 16: 3, 14: 2, 17: 2, 19: 2})\n",
      "Counter({0: 59098, 1: 46603, 2: 22474, 3: 9629, 4: 3887, 5: 1587, 6: 671, 99: 601, 7: 322, 8: 165, 9: 80, 98: 40, 10: 31, 12: 16, 11: 14, 13: 7, 14: 2, 16: 1, 18: 1, 21: 1, 19: 1})\n",
      "Counter({0: 102906, 97: 12606, 98: 12461, 1: 10571, 2: 3299, 3: 1445, 4: 646, 99: 601, 5: 336, 6: 174, 7: 78, 8: 49, 9: 24, 10: 14, 11: 6, 13: 5, 12: 4, 14: 3, 20: 1, 16: 1, 19: 1})\n",
      "Counter({98: 82186, 0: 31886, 1: 21310, 2: 6979, 3: 1574, 99: 601, 4: 409, 5: 141, 6: 63, 7: 29, 8: 18, 9: 13, 10: 7, 13: 5, 11: 4, 12: 1, 16: 1, 18: 1, 25: 1, 27: 1, 28: 1})\n",
      "Counter({98: 82186, 0: 39677, 1: 16680, 2: 4710, 3: 882, 99: 601, 4: 284, 5: 98, 6: 47, 7: 24, 8: 12, 9: 12, 10: 7, 13: 4, 11: 1, 12: 1, 15: 1, 18: 1, 25: 1, 27: 1, 28: 1})\n",
      "Counter({0: 84432, 1: 33965, 2: 12467, 98: 6153, 3: 4537, 4: 1681, 5: 755, 99: 601, 6: 322, 7: 141, 8: 93, 9: 41, 10: 17, 11: 11, 12: 6, 14: 3, 13: 2, 16: 1, 17: 1, 18: 1, 20: 1})\n",
      "Counter({0: 114164, 97: 10052, 1: 9722, 98: 6153, 2: 2528, 3: 1010, 99: 601, 4: 455, 5: 231, 6: 121, 7: 67, 8: 46, 9: 33, 12: 11, 11: 9, 10: 8, 13: 8, 15: 5, 16: 4, 14: 2, 19: 1})\n",
      "Counter({998: 143814, 999: 601, 997: 538, 996: 72, 100: 27, 25: 24, 58: 24, 17: 22, 33: 19, 92: 18, 75: 15, 50: 14, 83: 12, 42: 9, 67: 8, 8: 8, 108: 2, 18: 1, 79: 1, 27: 1, 91: 1})\n",
      "Counter({0: 110184, 1: 19161, 2: 8042, 3: 3612, 4: 1789, 5: 883, 99: 601, 6: 433, 7: 226, 8: 128, 9: 73, 10: 36, 11: 22, 12: 18, 13: 9, 16: 4, 14: 3, 15: 2, 17: 2, 18: 1, 19: 1, 20: 1})\n",
      "Counter({1: 48753, 0: 40658, 2: 28043, 3: 14299, 4: 6764, 5: 3299, 6: 1576, 7: 857, 8: 436, 9: 250, 10: 133, 11: 70, 12: 38, 13: 24, 14: 12, 15: 6, 16: 6, 17: 3, 18: 1, 20: 1, 24: 1, 27: 1})\n",
      "Counter({0: 59966, 1: 31186, -99999: 27571, 2: 13560, 3: 6285, 4: 3161, 5: 1581, 6: 835, 7: 449, 8: 273, 9: 158, 10: 80, 11: 49, 12: 26, 13: 20, 14: 13, 15: 6, 17: 4, 16: 3, 18: 2, 19: 2, 20: 1})\n",
      "Counter({0: 57226, 1: 44624, 2: 22780, 3: 10874, 4: 4867, 5: 2212, 6: 990, 99: 601, 7: 504, 8: 279, 9: 135, 10: 53, 11: 34, 12: 26, 13: 8, 14: 5, 15: 4, 18: 3, 16: 2, 19: 2, 21: 1, 29: 1})\n",
      "Counter({0: 58697, 1: 46582, 2: 22623, 3: 9781, 4: 3953, 5: 1633, 6: 696, 99: 601, 7: 325, 8: 182, 9: 81, 10: 31, 12: 18, 11: 14, 13: 5, 14: 3, 15: 1, 16: 1, 17: 1, 18: 1, 19: 1, 21: 1})\n",
      "Counter({0: 96983, 1: 24508, 2: 11348, 3: 5617, 4: 2877, 5: 1516, 6: 814, 99: 601, 7: 436, 8: 215, 9: 125, 10: 83, 11: 33, 12: 25, 13: 21, 14: 7, 15: 7, 16: 5, 17: 4, 18: 2, 19: 2, 20: 2})\n",
      "Counter({0: 104871, 1: 20872, 2: 9350, 3: 4598, 4: 2289, 5: 1211, 6: 650, 99: 601, 7: 343, 8: 186, 9: 105, 10: 64, 11: 30, 13: 21, 12: 17, 14: 8, 15: 6, 17: 3, 19: 2, 20: 2, 16: 1, 18: 1})\n",
      "Counter({0: 137600, 1: 5401, 2: 884, 99: 601, 3: 262, 97: 214, 4: 123, 6: 47, 5: 39, 7: 16, 8: 14, 11: 10, 9: 8, 10: 2, 17: 2, 20: 2, 12: 1, 13: 1, 15: 1, 19: 1, 21: 1, 22: 1})\n",
      "Counter({0: 139608, 1: 3957, 2: 939, 3: 400, 4: 140, 5: 75, 6: 43, 7: 25, 10: 10, 8: 8, 9: 8, 12: 4, 11: 3, 15: 3, 14: 1, 16: 1, 20: 1, 23: 1, 24: 1, 27: 1, 32: 1, 65: 1})\n",
      "Counter({0: 92266, 1: 16922, 97: 12606, 98: 12461, 2: 5779, 3: 2425, 4: 1095, 99: 601, 5: 517, 6: 285, 7: 111, 8: 79, 9: 43, 10: 14, 11: 9, 14: 7, 12: 5, 13: 2, 16: 1, 18: 1, 19: 1, 20: 1})\n",
      "Counter({998: 82186, 0: 40281, 997: 17001, 1: 2304, 2: 1197, 3: 674, 999: 601, 4: 403, 5: 215, 6: 145, 7: 88, 8: 65, 9: 22, 10: 18, 12: 11, 13: 7, 11: 6, 14: 2, 17: 2, 15: 1, 21: 1, 26: 1})\n",
      "Counter({0: 121046, 97: 10052, 98: 6153, 1: 5052, 2: 1236, 99: 601, 3: 465, 4: 243, 5: 127, 6: 84, 7: 52, 8: 42, 9: 32, 10: 14, 13: 12, 11: 8, 12: 3, 16: 3, 17: 2, 21: 2, 14: 1, 15: 1})\n",
      "Counter({0: 104853, 1: 19410, 2: 7677, 98: 6153, 3: 3290, 4: 1574, 5: 765, 99: 601, 6: 399, 7: 225, 8: 113, 9: 67, 10: 38, 11: 20, 12: 13, 13: 11, 14: 7, 15: 7, 17: 4, 16: 2, 19: 1, 20: 1})\n",
      "Counter({0: 109880, 1: 16759, 2: 6416, 98: 6153, 3: 2698, 4: 1300, 5: 647, 99: 601, 6: 322, 7: 207, 8: 99, 9: 56, 10: 35, 11: 16, 12: 13, 13: 12, 14: 7, 17: 4, 15: 3, 16: 1, 19: 1, 20: 1})\n",
      "Counter({0: 78714, 1: 29818, 2: 11360, 97: 10052, 98: 6153, 3: 4705, 4: 2073, 5: 941, 99: 601, 6: 398, 7: 193, 8: 113, 9: 53, 10: 22, 11: 20, 12: 6, 13: 2, 18: 2, 21: 2, 14: 1, 15: 1, 16: 1})\n",
      "Counter({0: 69559, 98: 28936, 1: 18609, 97: 16984, 2: 5755, 3: 2418, 4: 1118, 99: 601, 5: 565, 6: 291, 7: 161, 8: 91, 9: 54, 10: 38, 11: 28, 12: 9, 13: 3, 21: 3, 14: 2, 15: 2, 16: 2, 17: 2})\n",
      "Counter({0: 80686, 98: 28936, 97: 16984, 1: 12091, 2: 3226, 3: 1334, 99: 601, 4: 599, 5: 309, 6: 198, 7: 108, 8: 63, 9: 33, 10: 30, 11: 16, 12: 7, 21: 3, 16: 2, 17: 2, 13: 1, 14: 1, 15: 1})\n",
      "Counter({0: 51261, 98: 28936, 1: 24860, 97: 24634, 2: 8633, 3: 3492, 4: 1491, 5: 672, 99: 601, 6: 322, 7: 186, 8: 78, 9: 20, 10: 16, 11: 14, 12: 5, 13: 2, 15: 2, 16: 2, 20: 2, 14: 1, 18: 1})\n",
      "Counter({0: 114378, 1: 18649, 2: 6279, 3: 2746, 4: 1254, 5: 606, 99: 601, 6: 316, 7: 158, 8: 89, 9: 58, 10: 39, 11: 20, 12: 16, 13: 5, 14: 4, 15: 3, 16: 3, 17: 2, 18: 2, 19: 2, 24: 1})\n",
      "Counter({0: 72607, 1: 31293, 2: 12798, 97: 10518, 98: 6594, 3: 5710, 4: 2623, 5: 1191, 6: 639, 99: 601, 7: 299, 8: 164, 9: 82, 10: 49, 12: 17, 11: 14, 13: 12, 15: 7, 14: 4, 16: 4, 17: 2, 20: 2, 18: 1})\n",
      "Counter({0: 94393, 1: 29365, 2: 11036, 3: 4891, 4: 2458, 5: 1292, 6: 745, 7: 426, 8: 229, 9: 153, 10: 88, 11: 54, 12: 34, 13: 22, 14: 19, 15: 11, 16: 4, 18: 4, 17: 2, 20: 2, 19: 1, 21: 1, 22: 1})\n",
      "Counter({0: 89347, 1: 28588, 2: 10603, -99999: 6655, 3: 4707, 4: 2376, 5: 1242, 6: 712, 7: 413, 8: 220, 9: 140, 10: 83, 11: 51, 12: 34, 13: 18, 14: 16, 15: 13, 16: 3, 17: 3, 18: 2, 20: 2, 21: 2, 19: 1})\n",
      "Counter({1: 39307, -99999: 35581, 2: 26069, 3: 15304, 0: 12602, 4: 8153, 5: 4215, 6: 2002, 7: 1012, 8: 495, 9: 233, 10: 102, 11: 66, 12: 38, 13: 19, 14: 12, 15: 7, 20: 4, 16: 3, 19: 3, 17: 2, 18: 1, 21: 1})\n",
      "Counter({0: 41865, 1: 36360, -99999: 23864, 2: 19985, 3: 10572, 4: 5815, 5: 3102, 6: 1607, 7: 899, 8: 494, 9: 272, 10: 165, 11: 100, 12: 51, 13: 29, 14: 18, 15: 14, 16: 8, 17: 3, 18: 3, 19: 3, 20: 1, 23: 1})\n",
      "Counter({0: 71108, 1: 31709, 2: 17603, 3: 10160, 4: 6101, 5: 3554, 6: 2095, 7: 1249, 8: 701, 9: 403, 10: 239, 11: 140, 12: 73, 13: 34, 14: 28, 15: 17, 16: 6, 17: 4, 18: 2, 19: 2, 22: 1, 23: 1, 25: 1})\n",
      "Counter({0: 135951, 1: 6760, 2: 1166, 99: 601, 3: 307, 4: 147, 97: 131, 5: 45, 6: 43, 7: 20, 8: 19, 9: 11, 11: 9, 13: 5, 10: 4, 12: 3, 17: 2, 20: 2, 14: 1, 15: 1, 19: 1, 21: 1, 22: 1})\n",
      "Counter({0: 117960, 97: 14906, 98: 7536, 1: 3156, 2: 623, 99: 601, 3: 174, 4: 128, 5: 39, 6: 29, 7: 16, 8: 15, 9: 8, 12: 8, 10: 7, 13: 6, 17: 6, 11: 5, 14: 2, 15: 2, 16: 2, 19: 1, 21: 1})\n",
      "Counter({0: 113646, 1: 21530, 2: 5962, 3: 2112, 4: 921, 5: 458, 6: 222, 7: 161, 8: 79, 9: 47, 11: 27, 10: 25, 12: 8, 13: 8, 15: 7, 14: 4, 18: 4, 19: 3, 17: 2, 25: 2, 16: 1, 24: 1, 26: 1})\n",
      "Counter({0: 89619, 98: 23269, 97: 16760, 1: 10172, 2: 2573, 3: 1082, 99: 601, 4: 503, 5: 259, 6: 171, 7: 81, 8: 53, 9: 32, 10: 25, 11: 16, 12: 4, 13: 2, 15: 2, 17: 2, 18: 2, 14: 1, 16: 1, 21: 1})\n",
      "Counter({0: 59100, 1: 28985, 98: 28936, 2: 13404, 3: 6860, 4: 3449, 5: 1790, 6: 905, 99: 601, 7: 513, 8: 290, 9: 165, 10: 83, 11: 69, 13: 26, 12: 20, 14: 13, 15: 11, 16: 6, 19: 2, 18: 1, 20: 1, 29: 1})\n",
      "Counter({0: 84889, 98: 28936, 97: 16984, 1: 9296, 2: 2381, 3: 1029, 99: 601, 4: 484, 5: 248, 6: 162, 7: 82, 8: 52, 9: 32, 10: 24, 11: 17, 12: 4, 15: 2, 17: 2, 18: 2, 13: 1, 14: 1, 16: 1, 21: 1})\n",
      "Counter({0: 92901, 98: 28936, 1: 13625, 2: 4512, 3: 2047, 4: 1065, 5: 627, 99: 601, 6: 354, 7: 226, 8: 124, 9: 71, 10: 51, 11: 43, 12: 16, 13: 10, 14: 7, 15: 6, 16: 3, 17: 2, 18: 2, 19: 1, 21: 1})\n",
      "Counter({1: 38183, 2: 27888, 0: 26645, 3: 17978, -99999: 12666, 4: 10200, 5: 5609, 6: 2937, 7: 1512, 8: 776, 9: 370, 10: 196, 11: 115, 12: 58, 13: 44, 14: 17, 20: 10, 15: 8, 16: 7, 17: 5, 22: 3, 19: 2, 18: 1, 24: 1})\n",
      "Counter({1: 38122, 2: 27897, 0: 26564, 3: 17979, -99999: 12666, 4: 10258, 5: 5648, 6: 2948, 7: 1527, 8: 774, 9: 378, 10: 197, 11: 117, 12: 57, 13: 45, 14: 17, 20: 10, 15: 8, 16: 7, 17: 5, 22: 3, 19: 2, 18: 1, 24: 1})\n",
      "Counter({0: 55424, 1: 43003, 2: 23456, 3: 11769, 4: 5627, 5: 2660, 6: 1282, 7: 653, 99: 601, 8: 354, 9: 199, 10: 83, 11: 51, 12: 27, 13: 12, 14: 11, 15: 5, 16: 5, 19: 3, 18: 2, 17: 1, 20: 1, 21: 1, 29: 1})\n",
      "Counter({0: 122992, 1: 16188, 2: 3676, 3: 1006, 99: 601, 4: 398, 5: 137, 6: 87, 7: 44, 8: 28, 9: 16, 11: 16, 10: 11, 12: 6, 13: 6, 16: 4, 14: 3, 17: 3, 20: 3, 21: 2, 15: 1, 18: 1, 22: 1, 26: 1})\n",
      "Counter({0: 132952, 1: 9096, 2: 1680, 99: 601, 3: 455, 4: 186, 5: 61, 97: 56, 6: 55, 7: 24, 8: 21, 9: 12, 11: 11, 10: 4, 12: 4, 13: 3, 14: 2, 20: 2, 15: 1, 16: 1, 17: 1, 19: 1, 21: 1, 22: 1})\n",
      "Counter({0: 133743, 1: 7722, 2: 1806, 99: 601, 3: 525, 4: 248, 97: 214, 5: 129, 6: 79, 7: 47, 8: 32, 9: 24, 10: 22, 12: 11, 11: 9, 13: 4, 14: 4, 15: 3, 18: 2, 19: 2, 16: 1, 21: 1, 22: 1, 25: 1})\n",
      "Counter({0: 84003, 1: 21804, 98: 12461, 97: 8834, 2: 8822, 3: 4167, 4: 2081, 5: 1132, 99: 601, 6: 591, 7: 298, 8: 174, 9: 107, 10: 57, 11: 35, 12: 21, 14: 14, 13: 9, 16: 7, 15: 6, 18: 2, 20: 2, 25: 2, 21: 1})\n",
      "Counter({0: 96548, 1: 15231, 98: 12461, 97: 8834, 2: 5741, 3: 2689, 4: 1364, 5: 787, 99: 601, 6: 406, 7: 232, 8: 129, 9: 78, 10: 48, 11: 33, 12: 16, 14: 11, 13: 6, 16: 6, 15: 4, 20: 2, 25: 2, 18: 1, 21: 1})\n",
      "Counter({1: 38674, 0: 29718, 2: 23052, 97: 15614, 98: 13142, 3: 12099, 4: 6346, 5: 3058, 6: 1558, 7: 699, 99: 601, 8: 315, 9: 158, 10: 74, 11: 52, 12: 33, 13: 11, 14: 7, 18: 7, 15: 5, 16: 4, 17: 2, 20: 1, 22: 1})\n",
      "Counter({0: 63041, 98: 28936, 1: 27351, 2: 11930, 3: 5945, 4: 3250, 5: 1803, 6: 956, 99: 601, 7: 590, 8: 327, 9: 194, 10: 108, 11: 77, 12: 64, 13: 24, 14: 12, 15: 9, 16: 4, 17: 2, 18: 2, 19: 2, 26: 2, 21: 1})\n",
      "Counter({0: 85099, 98: 28936, 1: 18043, 2: 6347, 3: 2871, 4: 1449, 5: 798, 99: 601, 6: 443, 7: 265, 8: 137, 9: 85, 10: 56, 11: 48, 12: 18, 13: 10, 14: 8, 15: 6, 16: 3, 17: 2, 18: 2, 20: 2, 19: 1, 21: 1})\n",
      "Counter({0: 41755, 1: 36970, 2: 19666, 97: 15049, 98: 12461, 3: 9756, 4: 4688, 5: 2198, 6: 1078, 99: 601, 7: 515, 8: 224, 9: 113, 10: 67, 12: 35, 11: 30, 13: 11, 14: 6, 15: 2, 16: 1, 18: 1, 19: 1, 20: 1, 21: 1, 25: 1})\n",
      "Counter({-99999: 74801, 0: 50105, 1: 13550, 2: 4312, 3: 1396, 4: 558, 5: 250, 6: 108, 7: 48, 8: 30, 9: 17, 10: 15, 11: 11, 13: 7, 12: 6, 14: 4, 15: 4, 18: 2, 16: 1, 20: 1, 22: 1, 23: 1, 26: 1, 31: 1, 55: 1})\n",
      "Counter({0: 58519, 1: 37955, 2: 20529, 3: 10538, -99999: 6655, 4: 5228, 5: 2659, 6: 1331, 7: 774, 8: 431, 9: 265, 10: 155, 11: 69, 12: 50, 13: 28, 14: 15, 15: 11, 16: 5, 18: 4, 22: 3, 19: 2, 20: 2, 17: 1, 21: 1, 27: 1})\n",
      "Counter({0: 63637, 1: 41241, 2: 20424, 3: 9522, 4: 4651, 5: 2369, 6: 1313, 7: 791, 8: 488, 9: 290, 10: 186, 11: 120, 12: 71, 13: 46, 14: 27, 15: 18, 16: 11, 18: 9, 17: 6, 23: 4, 21: 2, 26: 2, 19: 1, 25: 1, 27: 1})\n",
      "Counter({0: 131407, 1: 9355, 2: 2257, 3: 672, 99: 601, 4: 318, 5: 171, 97: 131, 6: 98, 7: 67, 8: 44, 9: 30, 10: 25, 11: 15, 12: 14, 14: 5, 13: 4, 15: 4, 18: 4, 19: 3, 17: 2, 16: 1, 21: 1, 22: 1, 25: 1})\n",
      "Counter({0: 100943, 1: 12886, 98: 12461, 97: 8834, 2: 4715, 3: 2118, 4: 1148, 5: 670, 99: 601, 6: 358, 7: 205, 8: 112, 9: 64, 10: 44, 11: 26, 12: 16, 14: 10, 16: 6, 13: 5, 15: 3, 25: 2, 18: 1, 19: 1, 20: 1, 21: 1})\n",
      "Counter({0: 59298, 1: 29754, 97: 15049, 2: 13775, 98: 12461, 3: 7052, 4: 3670, 5: 1842, 6: 864, 99: 601, 7: 395, 8: 224, 9: 103, 10: 54, 11: 40, 12: 20, 13: 10, 16: 8, 14: 3, 17: 2, 23: 2, 15: 1, 18: 1, 19: 1, 21: 1})\n",
      "Counter({0: 110496, 1: 11200, 97: 10052, 98: 6153, 2: 3393, 3: 1462, 4: 703, 99: 601, 5: 435, 6: 266, 7: 155, 8: 102, 9: 63, 10: 39, 11: 31, 12: 21, 13: 21, 14: 11, 15: 8, 16: 7, 17: 5, 18: 2, 21: 2, 23: 2, 20: 1})\n",
      "Counter({0: 115066, 97: 10052, 1: 8585, 98: 6153, 2: 2436, 3: 1020, 99: 601, 4: 491, 5: 303, 6: 186, 7: 103, 8: 73, 9: 54, 10: 30, 13: 21, 12: 19, 11: 18, 17: 5, 16: 4, 14: 3, 18: 2, 19: 2, 21: 2, 15: 1, 20: 1})\n",
      "Counter({1: 35583, 0: 24736, -99999: 23864, 2: 23544, 3: 14806, 4: 9166, 5: 5575, 6: 3187, 7: 1843, 8: 1161, 9: 708, 10: 378, 11: 248, 12: 172, 13: 98, 14: 50, 15: 39, 16: 17, 18: 17, 17: 16, 19: 9, 20: 4, 21: 4, 23: 4, 24: 1, 25: 1})\n",
      "Counter({0: 70310, 1: 35512, 2: 18376, 3: 9712, 4: 5184, 5: 2843, 6: 1489, 7: 799, 8: 455, 9: 242, 10: 119, 11: 79, 12: 34, 13: 31, 14: 17, 15: 11, 17: 4, 20: 3, 18: 2, 23: 2, 25: 2, 16: 1, 19: 1, 21: 1, 24: 1, 34: 1})\n",
      "Counter({1: 42743, 0: 33435, 2: 29786, 3: 17839, 4: 9842, 5: 5172, 6: 2778, 7: 1376, 8: 749, 99: 601, 9: 402, 10: 221, 11: 122, 12: 75, 13: 31, 14: 23, 15: 13, 17: 7, 16: 3, 18: 3, 22: 3, 20: 2, 24: 2, 23: 1, 26: 1, 28: 1})\n",
      "Counter({0: 104516, 1: 23455, 2: 8506, 3: 3676, 4: 1821, 5: 1001, 99: 601, 6: 591, 7: 346, 8: 191, 97: 131, 10: 111, 9: 103, 11: 62, 12: 31, 13: 24, 14: 21, 15: 8, 16: 8, 17: 7, 18: 7, 19: 4, 21: 3, 24: 3, 20: 2, 23: 2})\n",
      "Counter({0: 133074, 1: 8067, 2: 1924, 99: 601, 3: 576, 4: 336, 97: 214, 5: 137, 6: 100, 7: 65, 8: 32, 9: 32, 10: 20, 11: 13, 12: 12, 15: 5, 13: 4, 19: 4, 14: 3, 16: 3, 18: 2, 21: 2, 22: 2, 17: 1, 23: 1, 25: 1})\n",
      "Counter({0: 117934, 1: 17193, 2: 5224, 3: 1902, 4: 935, 99: 601, 5: 501, 6: 260, 97: 214, 7: 152, 8: 105, 9: 75, 10: 35, 11: 24, 12: 22, 13: 15, 15: 9, 16: 8, 19: 5, 14: 4, 22: 4, 17: 3, 18: 3, 21: 1, 23: 1, 27: 1})\n",
      "Counter({0: 96736, 1: 15448, 98: 11989, 97: 8614, 2: 5823, 3: 2737, 4: 1393, 5: 809, 99: 601, 6: 444, 7: 248, 8: 141, 9: 93, 10: 51, 11: 40, 12: 23, 15: 10, 13: 9, 14: 6, 16: 6, 17: 3, 18: 2, 20: 2, 21: 1, 25: 1, 31: 1})\n",
      "Counter({0: 86948, 1: 20928, 98: 12461, 2: 10333, 3: 5585, 4: 3364, 5: 2048, 6: 1118, 7: 741, 99: 601, 8: 433, 9: 249, 10: 167, 11: 95, 12: 57, 13: 38, 14: 26, 15: 10, 16: 9, 17: 6, 18: 5, 25: 3, 20: 2, 23: 2, 19: 1, 22: 1})\n",
      "Counter({1: 38366, 0: 29484, 2: 23321, 97: 15049, 3: 12604, 98: 12461, 4: 6709, 5: 3262, 6: 1712, 7: 815, 99: 601, 8: 386, 9: 192, 10: 104, 11: 68, 12: 37, 13: 22, 14: 13, 16: 6, 15: 5, 18: 5, 17: 2, 19: 2, 20: 2, 23: 2, 26: 1})\n",
      "Counter({1: 39405, 2: 25255, 0: 21570, 97: 15614, 3: 14271, 98: 13142, 4: 7636, 5: 3889, 6: 1952, 7: 956, 99: 601, 8: 443, 9: 233, 10: 108, 11: 56, 12: 45, 13: 21, 14: 9, 15: 7, 16: 5, 17: 3, 21: 3, 18: 2, 19: 2, 22: 2, 20: 1})\n",
      "Counter({0: 62034, 1: 37652, 2: 19434, 3: 9501, 98: 6594, 4: 4672, 5: 2266, 6: 1157, 99: 601, 7: 570, 8: 312, 9: 198, 10: 113, 11: 52, 12: 30, 13: 15, 14: 7, 16: 6, 15: 4, 17: 4, 19: 3, 18: 2, 20: 1, 21: 1, 25: 1, 28: 1})\n",
      "Counter({0: 118587, 97: 14906, 98: 7536, 1: 2301, 2: 721, 99: 601, 3: 176, 4: 154, 5: 72, 6: 51, 7: 33, 8: 25, 9: 20, 10: 12, 11: 10, 12: 5, 15: 5, 19: 4, 22: 3, 13: 2, 21: 2, 14: 1, 16: 1, 17: 1, 18: 1, 23: 1})\n",
      "Counter({9999: 89295, 0: 5181, 1: 4626, 2: 4091, 3: 3547, 4: 3253, 5: 3012, 6: 2688, 7: 2580, 8: 2538, 9: 2185, 10: 2119, 11: 2028, 12: 1908, 13: 1810, 14: 1717, 15: 1586, 16: 1500, 17: 1500, 18: 1301, 19: 1279, 20: 1198, 21: 1181, 22: 1064, 23: 1053, 24: 991})\n",
      "Counter({9999: 50175, 0: 12070, 1: 10162, 2: 8488, 3: 6724, 4: 6488, 5: 5677, 6: 4586, 7: 4575, 8: 4183, 10: 3599, 9: 3483, 11: 3056, 12: 2565, 13: 2465, 14: 2055, 15: 1965, 16: 1930, 17: 1539, 19: 1533, 18: 1531, 20: 1481, 21: 1431, 22: 1182, 24: 1161, 23: 1127})\n",
      "Counter({9999: 108096, 0: 6726, 1: 3881, 2: 3243, 3: 2661, 4: 2245, 5: 2001, 6: 1734, 7: 1570, 8: 1460, 9: 1351, 10: 1246, 11: 1056, 12: 1006, 13: 903, 14: 734, 15: 726, 16: 676, 19: 573, 17: 570, 18: 547, 20: 491, 22: 486, 21: 458, 24: 417, 23: 374})\n",
      "Counter({9999: 92548, 0: 5112, 1: 4383, 2: 3736, 3: 3233, 4: 3026, 5: 2649, 7: 2384, 6: 2368, 8: 2147, 9: 2034, 10: 1869, 11: 1799, 12: 1697, 13: 1609, 14: 1564, 15: 1454, 18: 1446, 16: 1444, 19: 1296, 20: 1286, 17: 1284, 24: 1235, 22: 1224, 23: 1211, 21: 1193})\n",
      "Counter({9999: 96068, 1: 2932, 2: 2734, 4: 2659, 7: 2571, 5: 2553, 10: 2528, 8: 2419, 11: 2342, 3: 2086, 0: 2041, 13: 1999, 6: 1994, 14: 1934, 9: 1897, 12: 1872, 16: 1823, 17: 1654, 15: 1623, 19: 1591, 22: 1401, 20: 1398, 18: 1395, 23: 1352, 21: 1232, 24: 1133})\n",
      "Counter({0: 29483, 1: 19919, 2: 14622, 9999: 13377, 3: 10401, 4: 8911, 5: 7197, 6: 5641, 7: 5120, 8: 4369, 9: 3466, 10: 3222, 11: 2743, 12: 2205, 13: 2114, 14: 1751, 15: 1568, 16: 1450, 17: 1283, 18: 1136, 19: 1106, 20: 985, 21: 928, 22: 792, 24: 725, 23: 717})\n",
      "Counter({98: 84787, 1: 23935, 0: 14622, 2: 11213, 3: 5557, 4: 2553, 5: 1097, 99: 601, 6: 462, 7: 198, 8: 88, 9: 49, 10: 21, 11: 17, 12: 8, 14: 5, 17: 4, 13: 3, 15: 3, 35: 2, 16: 1, 18: 1, 22: 1, 23: 1, 24: 1, 28: 1})\n",
      "Counter({0: 61358, 1: 37889, 2: 19854, 3: 9740, 98: 6153, 4: 4730, 5: 2404, 6: 1152, 99: 601, 7: 586, 8: 326, 9: 200, 10: 115, 11: 48, 12: 31, 13: 14, 14: 6, 15: 5, 16: 5, 17: 5, 19: 3, 18: 2, 20: 1, 21: 1, 25: 1, 28: 1})\n",
      "Counter({0: 97968, 1: 17765, 97: 10052, 2: 6366, 98: 6153, 3: 2816, 4: 1398, 5: 827, 99: 601, 6: 478, 7: 284, 8: 184, 9: 106, 10: 69, 11: 46, 13: 37, 12: 26, 15: 14, 14: 10, 16: 10, 17: 8, 19: 3, 21: 3, 23: 3, 18: 2, 20: 2})\n",
      "Counter({0: 89230, 1: 34649, 2: 12669, 3: 4759, 4: 1846, 5: 734, 99: 601, 6: 329, 7: 159, 8: 99, 9: 56, 10: 30, 11: 19, 13: 14, 12: 7, 14: 5, 16: 5, 15: 4, 18: 3, 20: 3, 17: 2, 21: 2, 29: 2, 19: 1, 25: 1, 27: 1, 28: 1})\n",
      "Counter({0: 114339, 997: 15049, 998: 12461, 100: 913, 50: 812, 999: 601, 33: 441, 25: 268, 20: 131, 17: 57, 67: 55, 14: 31, 13: 20, 40: 16, 75: 10, 29: 8, 10: 3, 11: 3, 60: 3, 8: 2, 43: 2, 9: 1, 18: 1, 22: 1, 44: 1, 80: 1, 83: 1})\n",
      "Counter({0: 97957, 1: 24891, 2: 10805, 3: 5315, 4: 2780, 5: 1436, 6: 797, 7: 457, 8: 271, 9: 184, 10: 109, 11: 72, 12: 49, 13: 34, 14: 26, 16: 15, 17: 9, 15: 7, 20: 4, 18: 3, 22: 2, 24: 2, 25: 2, 19: 1, 21: 1, 29: 1, 50: 1})\n",
      "Counter({23: 24609, 24: 18648, 22: 17850, 21: 13198, 20: 10390, 19: 8449, 18: 6862, 17: 5730, 16: 4739, 15: 4011, 14: 3663, -99999: 3278, 13: 3087, 12: 3020, 11: 2786, 10: 2402, 9: 2010, 8: 1658, 7: 1434, 6: 1297, 5: 1146, 4: 1016, 3: 879, 2: 807, 1: 796, 0: 778, 25: 688})\n",
      "Counter({0: 39128, 1: 33184, 2: 18324, 3: 11838, 4: 8295, 5: 6259, 6: 4720, 7: 3700, -99999: 3278, 8: 2867, 9: 2452, 10: 2003, 11: 1570, 12: 1375, 13: 1077, 14: 930, 15: 760, 16: 632, 17: 514, 18: 455, 19: 451, 20: 375, 21: 334, 22: 286, 23: 286, 24: 136, 25: 2})\n",
      "Counter({-99999: 26002, 1: 18836, 0: 15929, 2: 13171, 3: 10275, 4: 8210, 5: 6970, 6: 5874, 7: 4995, 8: 4475, 9: 3883, 10: 3464, 11: 3065, 12: 2686, 13: 2422, 14: 2131, 15: 1884, 16: 1729, 17: 1571, 18: 1380, 19: 1327, 20: 1202, 21: 1142, 22: 1042, 23: 995, 24: 546, 25: 25})\n",
      "Counter({-99999: 126445, 1: 1259, 2: 1149, 3: 1062, 4: 994, 7: 978, 5: 975, 6: 967, 8: 883, 9: 868, 10: 827, 11: 783, 0: 718, 12: 689, 16: 628, 18: 608, 13: 592, 14: 581, 23: 578, 22: 571, 17: 565, 15: 560, 19: 558, 20: 528, 21: 525, 24: 328, 25: 12})\n",
      "Counter({-99999: 48711, 0: 17376, 1: 14043, 2: 9691, 3: 7242, 4: 5898, 5: 5083, 6: 4465, 7: 3780, 8: 3256, 9: 3054, 10: 2784, 11: 2619, 12: 2393, 13: 1954, 14: 1745, 15: 1557, 16: 1424, 17: 1290, 18: 1229, 19: 1119, 20: 1075, 21: 999, 22: 988, 23: 934, 24: 503, 25: 19})\n",
      "Counter({0: 116043, 1: 19179, 2: 5639, 3: 1878, 4: 822, 99: 601, 5: 389, 6: 221, 7: 131, 8: 98, 10: 51, 9: 48, 11: 37, 12: 29, 13: 17, 15: 11, 14: 9, 19: 7, 17: 6, 16: 3, 18: 3, 20: 2, 22: 2, 32: 2, 21: 1, 25: 1, 30: 1})\n",
      "Counter({0: 127389, 1: 12108, 2: 3067, 3: 948, 99: 601, 4: 437, 5: 216, 6: 126, 7: 87, 8: 58, 97: 56, 9: 34, 10: 30, 11: 20, 12: 16, 13: 10, 14: 9, 15: 4, 18: 4, 19: 3, 17: 2, 16: 1, 20: 1, 21: 1, 22: 1, 23: 1, 25: 1})\n",
      "Counter({0: 101181, 1: 13087, 98: 11989, 97: 8614, 2: 4794, 3: 2168, 4: 1164, 5: 678, 99: 601, 6: 397, 7: 223, 8: 118, 9: 80, 10: 45, 11: 31, 12: 23, 15: 9, 13: 8, 14: 6, 16: 5, 17: 3, 18: 2, 19: 1, 20: 1, 21: 1, 25: 1, 31: 1})\n",
      "Counter({1: 37784, 2: 27535, 0: 25331, 3: 17742, 98: 13142, 4: 10407, 5: 5905, 6: 3102, 7: 1719, 8: 865, 99: 601, 9: 483, 10: 256, 11: 122, 12: 93, 13: 46, 14: 30, 15: 19, 16: 18, 17: 10, 21: 8, 18: 4, 19: 3, 22: 2, 23: 2, 20: 1, 24: 1})\n",
      "Counter({0: 99783, 1: 15884, 97: 14906, 98: 7536, 2: 4031, 3: 1127, 99: 601, 4: 559, 5: 259, 6: 175, 8: 86, 7: 82, 9: 47, 10: 40, 12: 24, 11: 22, 15: 13, 13: 11, 17: 11, 14: 9, 16: 5, 19: 5, 21: 4, 22: 4, 18: 3, 23: 3, 27: 1})\n",
      "Counter({0: 109676, 97: 14906, 1: 8426, 98: 7536, 2: 2293, 3: 673, 99: 601, 4: 435, 5: 203, 6: 141, 7: 80, 8: 71, 9: 49, 10: 31, 12: 23, 11: 22, 13: 11, 15: 11, 17: 10, 14: 8, 16: 6, 19: 5, 21: 4, 22: 4, 23: 3, 18: 2, 20: 1})\n",
      "Counter({0: 112799, 97: 14906, 98: 7536, 1: 6121, 2: 1786, 99: 601, 3: 536, 4: 363, 5: 168, 6: 120, 7: 68, 8: 61, 9: 40, 10: 31, 12: 19, 11: 15, 13: 11, 17: 10, 14: 9, 15: 9, 19: 6, 21: 4, 16: 3, 22: 3, 23: 3, 18: 2, 20: 1})\n",
      "Counter({0: 111698, 1: 15278, 2: 5155, 97: 4474, 3: 2382, 98: 2327, 4: 1248, 5: 730, 99: 601, 6: 448, 7: 298, 8: 195, 9: 116, 10: 81, 11: 57, 12: 39, 13: 35, 15: 16, 17: 12, 14: 11, 16: 10, 18: 8, 21: 4, 19: 3, 25: 2, 22: 1, 29: 1, 30: 1})\n",
      "Counter({0: 41118, 96: 37667, 1: 33815, 2: 15685, 3: 7659, 4: 3993, 5: 2194, 6: 1160, 7: 651, 8: 342, 9: 227, 97: 226, 99: 150, 10: 125, 11: 76, 12: 39, 13: 34, 14: 18, 15: 16, 16: 11, 17: 7, 18: 6, 19: 5, 20: 2, 24: 2, 21: 1, 22: 1, 33: 1})\n",
      "Counter({96: 60539, 1: 30288, 0: 25941, 2: 13369, 3: 6457, 4: 3375, 5: 1898, 6: 1080, 7: 633, 99: 601, 8: 347, 9: 246, 10: 143, 11: 80, 12: 60, 97: 56, 13: 34, 14: 28, 15: 25, 16: 10, 17: 6, 18: 5, 21: 4, 19: 2, 20: 1, 22: 1, 24: 1, 30: 1})\n",
      "Counter({1: 36948, 0: 33916, 2: 25206, 3: 15713, 98: 12461, 4: 9088, 5: 5057, 6: 2820, 7: 1503, 8: 820, 99: 601, 9: 487, 10: 226, 11: 137, 12: 87, 13: 51, 14: 40, 15: 18, 16: 18, 17: 7, 21: 6, 19: 5, 23: 5, 18: 4, 20: 3, 26: 2, 22: 1, 24: 1})\n",
      "Counter({0: 56761, 1: 30274, 2: 17856, 98: 12461, 3: 10835, 4: 6585, 5: 4014, 6: 2364, 7: 1375, 8: 843, 99: 601, 9: 499, 10: 281, 11: 176, 12: 117, 13: 72, 14: 50, 15: 16, 16: 16, 17: 13, 18: 7, 20: 5, 25: 3, 22: 2, 24: 2, 19: 1, 23: 1, 28: 1})\n",
      "Counter({0: 71395, 1: 26290, 2: 14151, 98: 12461, 3: 8303, 4: 4922, 5: 2949, 6: 1642, 7: 993, 8: 612, 99: 601, 9: 356, 10: 206, 11: 126, 12: 88, 13: 52, 14: 30, 15: 17, 16: 12, 17: 7, 18: 5, 20: 3, 25: 3, 19: 2, 24: 2, 22: 1, 23: 1, 26: 1})\n",
      "Counter({0: 77836, 1: 24170, 2: 12637, 98: 12461, 3: 7099, 4: 4266, 5: 2530, 6: 1434, 7: 891, 99: 601, 8: 517, 9: 304, 10: 183, 11: 109, 12: 71, 13: 48, 14: 26, 15: 13, 16: 12, 17: 6, 18: 5, 25: 3, 19: 2, 20: 2, 23: 2, 22: 1, 24: 1, 26: 1})\n",
      "Counter({2: 22626, 3: 21193, 1: 20285, 4: 18387, 5: 14591, 0: 13377, 6: 10892, 7: 8194, 8: 5646, 9: 3763, 10: 2461, 11: 1579, 12: 916, 13: 572, 14: 339, 15: 187, 16: 93, 17: 58, 18: 28, 19: 19, 20: 10, 21: 5, 24: 4, 23: 2, 22: 1, 25: 1, 26: 1, 30: 1})\n",
      "Counter({0: 111481, 1: 11208, 97: 8251, 98: 6153, 2: 3549, 3: 1640, 4: 854, 99: 601, 5: 511, 6: 341, 7: 201, 8: 130, 9: 96, 10: 68, 11: 40, 12: 36, 13: 23, 14: 9, 15: 9, 16: 7, 18: 6, 17: 5, 21: 3, 22: 3, 19: 2, 20: 2, 28: 1, 30: 1})\n",
      "Counter({0: 44286, 1: 35512, 2: 20821, 3: 11945, 97: 10052, 4: 6882, 98: 6153, 5: 3809, 6: 2091, 7: 1282, 8: 715, 99: 601, 9: 428, 10: 255, 11: 141, 12: 104, 13: 57, 14: 31, 15: 20, 16: 16, 17: 9, 18: 5, 19: 4, 21: 4, 23: 3, 22: 2, 25: 1, 28: 1, 31: 1})\n",
      "Counter({0: 60917, -99999: 52855, 1: 18020, 2: 5825, 3: 2799, 4: 1634, 5: 1020, 6: 687, 7: 467, 8: 317, 9: 195, 10: 129, 11: 119, 12: 82, 13: 53, 14: 35, 15: 26, 16: 14, 18: 11, 17: 8, 20: 4, 21: 4, 19: 2, 28: 2, 29: 2, 22: 1, 24: 1, 26: 1, 33: 1})\n",
      "Counter({1: 33155, 2: 24498, -99999: 23864, 3: 17224, 0: 14150, 4: 11498, 5: 7571, 6: 4895, 7: 3057, 8: 1964, 9: 1208, 10: 709, 11: 495, 12: 327, 13: 200, 14: 139, 15: 95, 16: 53, 17: 38, 19: 26, 18: 23, 20: 19, 21: 5, 22: 5, 24: 5, 28: 3, 27: 2, 29: 2, 23: 1})\n",
      "Counter({1: 34341, 0: 32879, 2: 28133, 3: 19223, 4: 12400, 5: 7306, 6: 4334, 7: 2555, 8: 1571, 9: 928, 10: 556, 11: 351, 12: 202, 13: 152, 14: 83, 15: 62, 16: 48, 17: 35, 18: 19, 19: 15, 21: 12, 20: 9, 22: 4, 24: 3, 26: 3, 28: 3, 23: 2, 27: 1, 54: 1})\n",
      "Counter({0: 109734, 1: 20969, 2: 7309, 3: 2926, 4: 1464, 5: 802, 99: 601, 6: 466, 7: 257, 97: 214, 8: 179, 9: 88, 10: 74, 11: 51, 12: 26, 14: 19, 13: 14, 17: 9, 15: 7, 16: 4, 18: 3, 19: 3, 21: 3, 20: 2, 22: 2, 23: 2, 24: 1, 25: 1, 27: 1})\n",
      "Counter({0: 104988, 1: 23362, 2: 8900, 3: 3663, 4: 1761, 5: 896, 6: 452, 7: 289, 97: 226, 8: 176, 99: 150, 9: 110, 10: 73, 11: 40, 12: 35, 14: 26, 13: 25, 17: 11, 16: 10, 15: 9, 18: 7, 20: 5, 23: 5, 19: 3, 24: 3, 21: 2, 22: 2, 25: 1, 36: 1})\n",
      "Counter({0: 103638, 1: 24086, 2: 9214, 3: 3823, 4: 1828, 5: 932, 6: 459, 7: 307, 97: 226, 8: 188, 99: 150, 9: 114, 10: 75, 11: 43, 12: 35, 13: 26, 14: 25, 17: 12, 15: 11, 16: 9, 18: 8, 20: 6, 23: 6, 24: 3, 19: 2, 21: 2, 22: 1, 25: 1, 36: 1})\n",
      "Counter({994: 143820, 999: 601, 0: 163, 1: 99, 2: 60, 3: 53, 7: 53, 4: 49, 5: 41, 6: 33, 10: 32, 11: 31, 8: 27, 9: 26, 14: 25, 12: 18, 16: 16, 13: 14, 19: 14, 15: 13, 18: 12, 17: 8, 20: 6, 21: 5, 24: 5, 22: 3, 27: 2, 23: 1, 26: 1})\n",
      "Counter({1: 36716, 2: 27547, 0: 24291, 3: 18276, 98: 12461, 4: 10916, 5: 6451, 6: 3508, 7: 1960, 8: 1066, 9: 616, 99: 601, 10: 324, 11: 183, 12: 113, 13: 66, 14: 45, 15: 24, 16: 22, 17: 16, 21: 6, 23: 5, 18: 4, 19: 4, 20: 3, 22: 3, 24: 2, 26: 1, 27: 1})\n",
      "Counter({1: 34100, 0: 33341, 2: 24238, 3: 16430, 98: 12461, 4: 9995, 5: 5913, 6: 3515, 7: 1951, 8: 1132, 9: 643, 99: 601, 10: 342, 11: 203, 12: 130, 13: 80, 14: 52, 15: 36, 17: 15, 16: 14, 18: 8, 19: 7, 21: 6, 22: 6, 26: 4, 20: 3, 24: 3, 23: 1, 28: 1})\n",
      "Counter({0: 37832, 1: 33401, 2: 23205, 3: 15393, 98: 12461, 4: 9288, 5: 5567, 6: 3163, 7: 1842, 8: 1045, 99: 601, 9: 592, 10: 323, 11: 187, 12: 108, 13: 75, 14: 48, 15: 31, 16: 18, 17: 12, 18: 8, 21: 8, 19: 7, 20: 5, 23: 3, 26: 3, 22: 2, 25: 2, 29: 1})\n",
      "Counter({1: 38879, 2: 25497, 0: 21282, 97: 15049, 3: 14763, 98: 12461, 4: 8087, 5: 4199, 6: 2135, 7: 1087, 99: 601, 8: 544, 9: 284, 10: 148, 11: 84, 12: 54, 13: 27, 14: 18, 15: 7, 16: 6, 19: 4, 17: 3, 18: 3, 21: 3, 22: 2, 20: 1, 23: 1, 25: 1, 26: 1})\n",
      "Counter({1: 37120, 2: 27064, 3: 17831, 97: 15614, 98: 13142, 4: 10629, 0: 9846, 5: 5981, 6: 3334, 7: 1893, 8: 960, 99: 601, 9: 520, 10: 272, 11: 154, 12: 91, 13: 67, 14: 43, 15: 17, 16: 15, 17: 11, 20: 7, 19: 5, 21: 5, 18: 3, 22: 2, 26: 2, 23: 1, 27: 1})\n",
      "Counter({0: 43837, 1: 35643, 2: 23095, 3: 14484, 4: 8662, 98: 6153, 5: 5274, 6: 3020, 7: 1774, 8: 1048, 9: 619, 99: 601, 10: 382, 11: 217, 12: 170, 13: 79, 14: 56, 15: 46, 16: 24, 17: 12, 18: 12, 19: 10, 20: 5, 21: 2, 23: 2, 22: 1, 24: 1, 28: 1, 35: 1})\n",
      "Counter({0: 105861, 1: 14221, 97: 8251, 98: 6153, 2: 4802, 3: 2224, 4: 1135, 5: 704, 99: 601, 6: 442, 7: 277, 8: 178, 9: 111, 10: 80, 11: 59, 12: 41, 13: 26, 15: 16, 14: 12, 16: 12, 18: 8, 17: 5, 21: 3, 19: 2, 20: 2, 25: 2, 22: 1, 28: 1, 30: 1})\n",
      "Counter({1: 37226, 2: 27543, 3: 17866, 97: 15049, 98: 12461, 0: 11054, 4: 10444, 5: 5993, 6: 3171, 7: 1722, 8: 942, 99: 601, 9: 497, 10: 258, 11: 155, 12: 100, 13: 49, 14: 36, 15: 23, 16: 11, 17: 8, 21: 6, 20: 3, 23: 3, 18: 2, 19: 2, 22: 2, 24: 2, 26: 1, 27: 1})\n",
      "Counter({1: 37192, 2: 27446, 3: 17814, 97: 15049, 98: 12461, 0: 11298, 4: 10407, 5: 5978, 6: 3166, 7: 1718, 8: 945, 99: 601, 9: 496, 10: 256, 11: 156, 12: 99, 13: 49, 14: 36, 15: 23, 16: 11, 17: 8, 21: 6, 20: 3, 23: 3, 18: 2, 19: 2, 22: 2, 24: 2, 26: 1, 27: 1})\n",
      "Counter({0: 54641, 1: 41050, 2: 23054, 3: 11838, 4: 6235, 5: 3297, 6: 1855, 7: 1124, 8: 705, 9: 493, 10: 302, 11: 196, 12: 136, 13: 110, 14: 58, 15: 39, 16: 28, 17: 21, 18: 16, 19: 9, 20: 7, 21: 5, 29: 3, 22: 2, 24: 2, 25: 1, 26: 1, 28: 1, 32: 1, 33: 1})\n",
      "Counter({0: 36641, 1: 34825, 2: 24227, 3: 16060, 4: 10216, -99999: 6655, 5: 6336, 6: 3897, 7: 2406, 8: 1399, 9: 893, 10: 607, 11: 379, 12: 240, 13: 135, 14: 94, 15: 79, 16: 40, 17: 26, 18: 16, 19: 16, 20: 12, 21: 12, 22: 7, 27: 4, 23: 3, 25: 2, 26: 2, 31: 1, 35: 1})\n",
      "Counter({0: 65132, -99999: 50324, 1: 18943, 2: 6004, 3: 2278, 4: 1086, 5: 503, 6: 340, 7: 196, 8: 127, 9: 86, 10: 56, 13: 32, 11: 31, 12: 30, 14: 16, 17: 9, 15: 7, 16: 7, 18: 5, 23: 4, 22: 3, 19: 2, 20: 2, 25: 2, 26: 2, 21: 1, 24: 1, 29: 1, 50: 1})\n",
      "Counter({0: 47744, -99999: 44470, 1: 27821, 2: 12528, 3: 6037, 4: 3009, 5: 1554, 6: 853, 7: 475, 8: 273, 9: 155, 10: 104, 11: 62, 12: 43, 13: 28, 14: 18, 15: 13, 16: 10, 18: 7, 19: 6, 20: 6, 17: 4, 23: 2, 26: 2, 35: 2, 21: 1, 24: 1, 25: 1, 29: 1, 36: 1})\n",
      "Counter({1: 36948, 2: 25206, 3: 15713, 97: 15049, 98: 12461, 0: 9625, 96: 9242, 4: 9088, 5: 5057, 6: 2820, 7: 1503, 8: 820, 99: 601, 9: 487, 10: 226, 11: 137, 12: 87, 13: 51, 14: 40, 15: 18, 16: 18, 17: 7, 21: 6, 19: 5, 23: 5, 18: 4, 20: 3, 26: 2, 22: 1, 24: 1})\n",
      "Counter({0: 90794, 1: 27207, 2: 12379, 3: 6157, 4: 3282, 5: 1914, 6: 1050, 7: 690, 8: 434, 9: 280, 97: 226, 10: 184, 99: 150, 11: 121, 12: 89, 13: 67, 14: 50, 15: 37, 16: 26, 17: 24, 18: 15, 23: 11, 19: 10, 20: 10, 22: 8, 21: 5, 24: 5, 26: 3, 27: 2, 39: 1})\n",
      "Counter({0: 95828, 1: 25903, 2: 11154, 3: 5284, 4: 2699, 5: 1513, 6: 817, 7: 561, 8: 338, 97: 226, 9: 215, 99: 150, 10: 149, 11: 93, 12: 74, 13: 58, 14: 40, 15: 30, 17: 19, 16: 16, 18: 13, 19: 11, 20: 10, 23: 10, 21: 6, 22: 5, 24: 5, 26: 2, 25: 1, 36: 1})\n",
      "Counter({994: 135866, 0: 8115, 999: 601, 1: 87, 2: 57, 7: 52, 3: 38, 5: 38, 4: 34, 10: 32, 14: 32, 6: 31, 11: 31, 9: 30, 8: 29, 13: 22, 19: 20, 12: 18, 16: 17, 15: 16, 18: 16, 17: 12, 21: 10, 20: 8, 24: 7, 22: 4, 23: 3, 25: 2, 27: 2, 26: 1})\n",
      "Counter({0: 101165, 1: 32988, 2: 6443, 3: 2452, 4: 1012, 5: 490, 6: 292, 7: 156, 8: 84, 10: 30, 9: 28, 12: 20, 11: 17, 13: 13, 14: 8, 16: 8, 20: 4, 17: 3, 23: 3, 15: 2, 19: 2, 25: 2, 90: 2, 18: 1, 22: 1, 27: 1, 28: 1, 35: 1, 62: 1, 66: 1})\n",
      "Counter({0: 136397, 1: 5644, 2: 1737, 3: 721, 4: 307, 5: 154, 6: 97, 7: 55, 8: 27, 9: 20, 10: 20, 13: 9, 11: 7, 12: 7, 14: 4, 16: 4, 20: 3, 15: 2, 19: 2, 21: 2, 27: 2, 90: 2, 18: 1, 22: 1, 23: 1, 24: 1, 25: 1, 33: 1, 62: 1, 65: 1})\n",
      "Counter({998: 133696, 997: 6504, 0: 3780, 999: 601, 1: 229, 2: 128, 3: 86, 4: 52, 5: 28, 6: 26, 7: 21, 9: 16, 8: 14, 10: 10, 11: 6, 13: 5, 15: 5, 16: 5, 14: 4, 12: 3, 17: 2, 20: 2, 18: 1, 19: 1, 22: 1, 23: 1, 24: 1, 27: 1, 38: 1, 40: 1})\n",
      "Counter({1: 36823, 2: 26967, 3: 17922, 97: 15395, 98: 12672, 4: 10882, 0: 9804, 5: 6175, 6: 3504, 7: 2024, 8: 1064, 99: 601, 9: 571, 10: 316, 11: 186, 12: 106, 13: 73, 14: 50, 15: 31, 16: 20, 17: 15, 22: 7, 19: 5, 21: 5, 18: 4, 24: 3, 20: 2, 31: 2, 28: 1, 30: 1})\n",
      "Counter({0: 77525, 1: 24308, 2: 12739, 98: 11989, 3: 7216, 4: 4298, 5: 2594, 6: 1542, 7: 942, 99: 601, 8: 552, 9: 346, 10: 201, 11: 135, 12: 84, 13: 60, 14: 29, 15: 23, 16: 12, 17: 12, 19: 6, 18: 4, 25: 3, 20: 2, 22: 2, 23: 2, 21: 1, 28: 1, 31: 1, 32: 1})\n",
      "Counter({1: 36100, 2: 27638, 0: 22864, 3: 18589, 98: 12461, 4: 11494, 5: 6774, 6: 3820, 7: 2093, 8: 1204, 9: 673, 99: 601, 10: 366, 11: 202, 12: 130, 13: 76, 14: 46, 16: 25, 15: 24, 17: 16, 18: 8, 21: 6, 19: 5, 23: 5, 20: 3, 22: 3, 24: 2, 25: 1, 26: 1, 27: 1})\n",
      "Counter({0: 46708, 1: 31009, 2: 20606, 3: 13704, 98: 12461, 4: 8326, 5: 4961, 6: 2853, 7: 1690, 8: 969, 99: 601, 9: 527, 10: 320, 11: 192, 12: 107, 13: 60, 14: 43, 15: 32, 16: 14, 17: 13, 18: 7, 20: 7, 22: 7, 19: 3, 27: 3, 21: 2, 23: 2, 25: 2, 24: 1, 28: 1})\n",
      "Counter({0: 107455, 97: 11980, 1: 11640, 98: 7536, 2: 3261, 3: 1098, 4: 616, 99: 601, 5: 321, 6: 205, 7: 123, 8: 108, 9: 67, 10: 47, 12: 39, 11: 33, 13: 16, 15: 16, 14: 15, 16: 12, 17: 11, 18: 6, 19: 6, 22: 5, 21: 4, 23: 4, 20: 3, 24: 1, 29: 1, 33: 1})\n",
      "Counter({0: 111472, 97: 11980, 1: 8813, 98: 7536, 2: 2554, 3: 865, 99: 601, 4: 512, 5: 262, 6: 185, 8: 100, 7: 99, 9: 49, 10: 48, 12: 34, 11: 26, 14: 18, 15: 15, 13: 13, 16: 9, 17: 9, 19: 8, 18: 6, 21: 4, 22: 4, 23: 4, 20: 2, 24: 1, 29: 1, 33: 1})\n",
      "Counter({0: 90756, 1: 21342, 2: 8415, 97: 8251, 98: 6153, 3: 4044, 4: 2206, 5: 1316, 6: 784, 99: 601, 7: 448, 8: 305, 9: 198, 10: 129, 11: 87, 12: 56, 13: 42, 15: 24, 16: 19, 14: 18, 17: 10, 21: 7, 18: 6, 19: 5, 20: 3, 25: 2, 22: 1, 23: 1, 28: 1, 30: 1})\n",
      "Counter({1: 30779, 98: 28936, 97: 24634, 0: 18218, 2: 16972, 3: 10026, 4: 6054, 5: 3651, 6: 2145, 7: 1282, 8: 748, 99: 601, 9: 443, 10: 294, 11: 169, 12: 100, 13: 58, 14: 39, 15: 33, 16: 18, 17: 7, 20: 6, 18: 5, 19: 3, 23: 3, 24: 3, 21: 1, 22: 1, 27: 1, 30: 1})\n",
      "Counter({998: 127823, 0: 11506, 997: 4644, 999: 601, 1: 156, 2: 75, 4: 59, 3: 55, 5: 45, 8: 37, 6: 34, 7: 31, 11: 24, 10: 20, 12: 19, 9: 18, 13: 15, 14: 13, 15: 13, 16: 8, 17: 7, 21: 7, 18: 6, 22: 4, 19: 3, 23: 3, 20: 2, 25: 1, 26: 1, 30: 1})\n",
      "Counter({0: 123395, 1: 15758, 2: 3867, 3: 1211, 4: 492, 5: 189, 6: 106, 7: 84, 8: 34, 9: 18, 10: 15, 11: 10, 12: 10, 13: 6, 17: 6, 14: 5, 16: 4, 15: 3, 20: 3, 18: 2, 26: 2, 34: 2, 19: 1, 21: 1, 23: 1, 25: 1, 32: 1, 33: 1, 37: 1, 44: 1, 72: 1})\n",
      "Counter({-99999: 48711, 1: 34458, 0: 32722, 2: 14808, 3: 6797, 4: 3362, 5: 1750, 6: 995, 7: 544, 8: 354, 9: 217, 10: 166, 11: 103, 12: 72, 13: 55, 15: 23, 14: 22, 17: 19, 18: 13, 16: 12, 19: 6, 20: 4, 21: 3, 22: 3, 23: 3, 26: 3, 24: 2, 25: 1, 27: 1, 32: 1, 34: 1})\n",
      "Counter({0: 58763, 1: 33959, 2: 20329, 3: 12374, 4: 7568, 5: 4636, 6: 2906, 7: 1757, 8: 1155, 9: 658, 10: 405, 11: 251, 12: 158, 13: 107, 14: 70, 15: 48, 16: 28, 17: 16, 18: 15, 20: 7, 22: 4, 21: 3, 26: 3, 19: 2, 24: 2, 25: 2, 23: 1, 27: 1, 28: 1, 30: 1, 36: 1})\n",
      "Counter({0: 94264, 1: 27822, 2: 11880, 3: 5246, 4: 2629, 5: 1310, 6: 755, 7: 435, 8: 284, 9: 179, 10: 101, 11: 84, 12: 67, 13: 57, 14: 30, 15: 17, 16: 15, 18: 15, 17: 14, 19: 5, 22: 5, 20: 4, 21: 2, 23: 2, 24: 2, 28: 2, 26: 1, 27: 1, 29: 1, 33: 1, 36: 1})\n",
      "Counter({97: 95068, 0: 21352, 1: 11001, 2: 6023, 3: 3677, 4: 2476, 5: 1616, 6: 1080, 7: 710, 99: 601, 8: 517, 9: 298, 10: 214, 11: 158, 12: 100, 96: 93, 13: 58, 98: 58, 14: 48, 15: 36, 17: 10, 16: 9, 18: 7, 19: 5, 22: 4, 23: 3, 20: 2, 21: 2, 24: 2, 25: 2, 31: 1})\n",
      "Counter({1: 33638, 2: 29402, 3: 21716, 0: 17747, 4: 15162, 5: 10091, 6: 6544, 7: 3944, 8: 2493, 9: 1539, 10: 904, 99: 601, 11: 511, 12: 342, 13: 216, 14: 127, 15: 94, 16: 49, 17: 41, 18: 23, 19: 19, 20: 9, 22: 5, 24: 5, 23: 3, 21: 1, 25: 1, 26: 1, 28: 1, 31: 1, 35: 1})\n",
      "Counter({1: 37453, 2: 27417, 0: 25088, 3: 17800, 98: 12672, 4: 10649, 5: 6103, 6: 3331, 7: 1858, 8: 957, 99: 601, 9: 544, 10: 309, 11: 159, 12: 114, 13: 46, 14: 46, 16: 21, 15: 19, 17: 11, 18: 9, 20: 6, 22: 5, 21: 4, 19: 3, 23: 1, 24: 1, 25: 1, 26: 1, 27: 1, 28: 1})\n",
      "Counter({1: 36334, 2: 27399, 0: 23993, 3: 18341, 98: 11989, 4: 11179, 5: 6640, 6: 3756, 7: 2145, 8: 1161, 9: 688, 99: 601, 10: 394, 11: 211, 12: 152, 13: 74, 14: 57, 15: 30, 16: 26, 17: 20, 18: 9, 19: 5, 20: 5, 23: 5, 22: 4, 28: 4, 21: 3, 24: 2, 25: 2, 27: 1, 29: 1})\n",
      "Counter({0: 71055, 1: 26398, 2: 14271, 98: 11989, 3: 8377, 4: 4988, 5: 3040, 6: 1749, 7: 1050, 8: 649, 99: 601, 9: 402, 10: 233, 11: 150, 12: 104, 13: 64, 14: 32, 15: 25, 16: 16, 17: 14, 19: 6, 18: 4, 22: 3, 25: 3, 20: 2, 21: 1, 23: 1, 24: 1, 28: 1, 31: 1, 32: 1})\n",
      "Counter({1: 34484, 0: 28608, 2: 25716, 3: 17405, 98: 12461, 4: 10755, 5: 6358, 6: 3827, 7: 2103, 8: 1235, 9: 697, 99: 601, 10: 356, 11: 234, 12: 132, 13: 94, 14: 52, 15: 36, 17: 21, 16: 17, 18: 8, 20: 7, 21: 6, 19: 4, 22: 4, 26: 3, 23: 2, 24: 2, 27: 1, 29: 1, 31: 1})\n",
      "Counter({0: 40849, 1: 32439, 2: 22231, 3: 14870, 98: 12461, 4: 8901, 5: 5459, 6: 3091, 7: 1829, 8: 1052, 99: 601, 9: 577, 10: 336, 11: 203, 12: 113, 13: 66, 14: 49, 15: 30, 16: 21, 17: 13, 21: 10, 19: 9, 18: 8, 23: 3, 20: 2, 22: 2, 27: 2, 24: 1, 25: 1, 26: 1, 29: 1})\n",
      "Counter({1: 36096, 2: 27194, 3: 18215, 97: 15049, 98: 12461, 4: 11159, 0: 9494, 5: 6466, 6: 3707, 7: 2098, 8: 1143, 9: 639, 99: 601, 10: 359, 11: 194, 12: 122, 13: 79, 14: 54, 15: 30, 17: 19, 16: 15, 20: 7, 18: 6, 19: 5, 21: 5, 23: 4, 22: 3, 26: 3, 27: 2, 29: 1, 31: 1})\n",
      "Counter({25: 28256, 96: 15030, 98: 12461, 94: 9496, 97: 8834, 24: 7825, 20: 4669, 21: 4658, 19: 4648, 22: 4595, 23: 4303, 18: 4247, 17: 4047, 16: 3911, 15: 3285, 14: 3036, 13: 2883, 12: 2594, 11: 2581, 8: 2371, 9: 2354, 10: 2336, 7: 2128, 6: 1621, 0: 933, 5: 603, 99: 601, 4: 257, 3: 224, 1: 223, 2: 221})\n",
      "Counter({1: 35058, 0: 32742, 2: 22974, 3: 14140, 97: 10518, 4: 8971, 98: 6594, 5: 5340, 6: 3232, 7: 1940, 8: 1191, 9: 711, 99: 601, 10: 440, 11: 292, 12: 163, 13: 105, 14: 75, 15: 45, 16: 29, 17: 27, 18: 11, 19: 8, 21: 7, 20: 4, 23: 3, 26: 3, 27: 3, 24: 2, 25: 1, 34: 1})\n",
      "Counter({0: 95435, 1: 20046, 97: 11980, 98: 7536, 2: 5730, 3: 1836, 4: 815, 99: 601, 5: 411, 6: 261, 7: 144, 8: 128, 9: 67, 10: 53, 12: 45, 11: 32, 15: 22, 13: 19, 14: 15, 17: 13, 16: 11, 18: 6, 19: 6, 22: 5, 21: 4, 23: 4, 20: 2, 24: 1, 27: 1, 30: 1, 33: 1})\n",
      "Counter({0: 116504, 997: 11980, 998: 7536, 1: 4458, 2: 2044, 3: 832, 999: 601, 4: 565, 5: 259, 6: 154, 7: 90, 8: 74, 9: 40, 10: 30, 12: 13, 11: 12, 13: 7, 15: 5, 17: 5, 14: 4, 16: 4, 18: 3, 24: 2, 26: 2, 20: 1, 21: 1, 22: 1, 23: 1, 27: 1, 48: 1, 86: 1})\n",
      "Counter({0: 136780, 1: 954, 2: 607, 3: 533, 7: 489, 4: 477, 6: 441, 5: 406, 8: 377, 14: 354, 9: 338, 11: 316, 13: 314, 12: 295, 10: 284, 15: 247, 18: 228, 16: 225, 17: 203, 21: 198, 19: 192, 22: 177, 20: 167, 24: 128, 23: 119, 25: 111, 26: 85, 28: 71, 27: 68, 29: 43, 30: 4})\n",
      "Counter({0: 136935, 1: 1308, 2: 913, 3: 810, 4: 748, 5: 592, 7: 553, 6: 536, 8: 391, 9: 337, 10: 244, 12: 234, 11: 232, 14: 211, 13: 210, 15: 134, 16: 110, 18: 100, 17: 97, 19: 86, 21: 85, 22: 74, 20: 69, 23: 49, 25: 48, 24: 41, 26: 30, 27: 19, 28: 19, 29: 15, 30: 1})\n",
      "Counter({998: 82186, 0: 35526, 997: 17001, 1: 3458, 2: 1967, 3: 1298, 4: 915, 5: 704, 999: 601, 6: 488, 7: 353, 8: 230, 9: 159, 10: 127, 11: 85, 12: 59, 13: 28, 14: 13, 15: 7, 16: 6, 17: 3, 18: 3, 19: 3, 22: 3, 25: 2, 21: 1, 23: 1, 24: 1, 37: 1, 42: 1, 44: 1})\n",
      "Counter({0: 86079, 1: 28326, 2: 14675, 3: 7822, 4: 4129, 5: 1938, 6: 848, 99: 601, 7: 366, 8: 190, 9: 87, 10: 56, 11: 42, 12: 17, 14: 15, 13: 10, 15: 6, 16: 5, 17: 4, 18: 3, 21: 2, 20: 1, 22: 1, 26: 1, 27: 1, 28: 1, 31: 1, 40: 1, 41: 1, 43: 1, 44: 1})\n",
      "Counter({0: 79724, 1: 29028, 2: 15340, 3: 8368, 4: 4925, 5: 2775, 6: 1697, 7: 973, 8: 631, 99: 601, 9: 399, 10: 214, 11: 161, 12: 99, 13: 78, 14: 69, 15: 49, 16: 32, 17: 17, 18: 14, 19: 11, 20: 6, 24: 5, 21: 3, 23: 3, 25: 2, 28: 2, 22: 1, 26: 1, 27: 1, 30: 1, 34: 1})\n",
      "Counter({0: 121014, 1: 17321, 2: 4387, 3: 1358, 4: 539, 5: 231, 6: 126, 7: 90, 8: 47, 9: 22, 11: 16, 12: 16, 10: 15, 13: 8, 15: 6, 16: 5, 17: 5, 14: 4, 18: 4, 20: 2, 23: 2, 26: 2, 34: 2, 19: 1, 21: 1, 25: 1, 27: 1, 32: 1, 33: 1, 37: 1, 44: 1, 72: 1})\n",
      "Counter({0: 81544, 1: 24537, 2: 15460, 3: 9451, 4: 5930, 5: 3438, 6: 2061, 7: 1132, 8: 694, 9: 370, 10: 210, 11: 134, 12: 71, 13: 50, 15: 42, 14: 37, 16: 20, 19: 11, 17: 10, 18: 9, 21: 3, 24: 3, 20: 2, 23: 2, 27: 2, 29: 2, 22: 1, 31: 1, 32: 1, 33: 1, 52: 1, 73: 1})\n",
      "Counter({0: 76941, 1: 30421, 2: 16022, 3: 8668, 4: 5009, 5: 2914, 6: 1675, 7: 1134, 8: 662, 9: 425, 10: 292, 97: 226, 11: 180, 99: 150, 12: 139, 13: 109, 14: 65, 16: 41, 15: 37, 17: 33, 18: 22, 20: 13, 19: 12, 23: 10, 22: 8, 21: 7, 24: 4, 27: 4, 25: 3, 26: 3, 28: 1, 44: 1})\n",
      "Counter({1: 34672, 2: 27051, 0: 22651, 3: 18918, 98: 12461, 4: 11862, 5: 7193, 6: 4154, 7: 2370, 8: 1425, 9: 766, 99: 601, 10: 416, 11: 264, 12: 141, 13: 98, 14: 66, 15: 39, 17: 22, 16: 18, 18: 9, 20: 8, 21: 6, 19: 5, 22: 4, 23: 3, 26: 3, 24: 1, 27: 1, 28: 1, 29: 1, 31: 1})\n",
      "Counter({0: 98933, 997: 12606, 998: 12461, 1: 9863, 2: 4634, 3: 2449, 4: 1414, 5: 743, 999: 601, 6: 483, 7: 316, 8: 197, 9: 134, 10: 104, 11: 75, 12: 72, 13: 35, 14: 33, 15: 25, 17: 12, 16: 9, 19: 9, 22: 5, 18: 4, 20: 3, 21: 2, 23: 2, 24: 2, 28: 2, 25: 1, 27: 1, 43: 1})\n",
      "Counter({0: 104820, 997: 11980, 1: 7896, 998: 7536, 2: 4171, 3: 2519, 4: 1729, 5: 1223, 6: 924, 999: 601, 7: 581, 8: 359, 9: 308, 10: 192, 11: 101, 12: 89, 13: 55, 14: 38, 15: 25, 16: 24, 17: 13, 18: 12, 19: 11, 22: 6, 21: 5, 20: 3, 24: 3, 25: 2, 28: 2, 30: 1, 32: 1, 34: 1})\n",
      "Counter({98: 82186, 1: 21181, 0: 13433, 2: 11289, 3: 6726, 4: 4129, 5: 2432, 6: 1405, 7: 803, 99: 601, 8: 432, 9: 246, 10: 146, 11: 78, 12: 56, 13: 22, 14: 22, 16: 8, 17: 8, 15: 6, 19: 4, 20: 3, 26: 3, 18: 2, 21: 2, 23: 2, 22: 1, 27: 1, 28: 1, 30: 1, 41: 1, 43: 1})\n",
      "Counter({998: 82186, 0: 41169, 997: 13834, 1: 2807, 2: 1541, 3: 955, 4: 679, 999: 601, 5: 468, 6: 296, 7: 209, 8: 154, 9: 94, 10: 71, 11: 48, 12: 24, 13: 23, 14: 16, 15: 16, 17: 10, 16: 5, 19: 5, 18: 4, 26: 3, 20: 2, 21: 2, 22: 2, 25: 2, 27: 2, 23: 1, 32: 1, 33: 1})\n",
      "Counter({0: 57461, -99999: 50324, 1: 22329, 2: 8063, 3: 3302, 4: 1546, 5: 816, 6: 479, 7: 276, 8: 192, 9: 130, 10: 77, 11: 58, 12: 46, 13: 36, 14: 20, 16: 16, 15: 11, 17: 10, 18: 8, 19: 4, 21: 4, 23: 4, 20: 3, 24: 3, 25: 3, 26: 3, 22: 2, 29: 1, 30: 1, 37: 1, 39: 1, 50: 1})\n",
      "Counter({0: 56944, -99999: 50324, 1: 22569, 2: 8208, 3: 3375, 4: 1580, 5: 823, 6: 486, 7: 283, 8: 193, 9: 130, 10: 78, 11: 59, 12: 46, 13: 37, 14: 20, 16: 15, 15: 11, 17: 10, 18: 9, 19: 4, 21: 4, 23: 4, 20: 3, 24: 3, 25: 3, 26: 3, 22: 2, 29: 1, 30: 1, 37: 1, 39: 1, 51: 1})\n",
      "Counter({0: 88478, 1: 25182, 2: 12239, 3: 6772, 4: 3917, 5: 2298, 98: 1895, 6: 1451, 7: 881, 8: 577, 9: 364, 10: 225, 97: 207, 11: 164, 99: 150, 12: 121, 13: 73, 14: 69, 15: 50, 16: 29, 18: 18, 19: 14, 17: 13, 23: 10, 21: 8, 20: 7, 22: 7, 25: 4, 24: 2, 26: 2, 30: 2, 27: 1, 29: 1})\n",
      "Counter({98: 28936, 1: 28857, 97: 24634, 2: 16413, 3: 10259, 96: 9495, 0: 7547, 4: 6804, 5: 4387, 6: 2705, 7: 1677, 8: 1105, 9: 703, 99: 601, 10: 393, 11: 251, 12: 157, 13: 105, 14: 60, 15: 51, 16: 38, 17: 14, 20: 11, 19: 10, 18: 7, 22: 3, 24: 2, 21: 1, 25: 1, 27: 1, 29: 1, 32: 1, 40: 1})\n",
      "Counter({1: 35770, 2: 27022, 3: 18333, 97: 14803, 98: 11989, 4: 11428, 0: 9429, 5: 6670, 6: 3908, 7: 2242, 8: 1259, 9: 710, 99: 601, 10: 403, 11: 240, 12: 145, 13: 82, 14: 62, 15: 38, 17: 26, 16: 23, 18: 12, 19: 8, 21: 6, 22: 6, 24: 5, 28: 3, 20: 2, 34: 2, 23: 1, 27: 1, 31: 1, 33: 1})\n",
      "Counter({1: 33830, 2: 25436, 3: 17808, 97: 15049, 98: 12461, 4: 11422, 0: 10894, 5: 7139, 6: 4365, 7: 2455, 8: 1512, 9: 911, 99: 601, 10: 498, 11: 315, 12: 196, 13: 115, 14: 71, 15: 47, 16: 30, 17: 19, 18: 15, 20: 9, 21: 9, 19: 7, 22: 5, 26: 3, 23: 2, 24: 2, 27: 2, 28: 1, 29: 1, 31: 1})\n",
      "Counter({1: 34577, 0: 30934, 2: 23457, 3: 14766, 97: 10052, 4: 9555, 98: 6153, 5: 5883, 6: 3498, 7: 2143, 8: 1377, 9: 811, 99: 601, 10: 526, 11: 315, 12: 192, 13: 133, 14: 86, 15: 53, 16: 31, 17: 30, 19: 14, 18: 12, 20: 10, 21: 5, 24: 4, 27: 4, 22: 2, 23: 2, 26: 2, 25: 1, 30: 1, 34: 1})\n",
      "Counter({0: 115294, 997: 8251, 1: 7547, 998: 6153, 2: 3168, 3: 1682, 4: 888, 999: 601, 5: 506, 6: 323, 7: 241, 8: 137, 9: 101, 10: 77, 11: 65, 12: 57, 13: 40, 15: 23, 14: 20, 16: 18, 19: 9, 17: 8, 18: 6, 20: 4, 28: 3, 23: 2, 21: 1, 22: 1, 24: 1, 25: 1, 26: 1, 27: 1, 31: 1})\n",
      "Counter({0: 36486, 1: 31383, 98: 23269, 2: 18297, 3: 11917, 4: 8014, 5: 5314, 6: 3517, 7: 2236, 8: 1464, 9: 979, 10: 620, 99: 601, 11: 402, 12: 243, 13: 159, 14: 108, 15: 72, 16: 42, 17: 38, 18: 20, 19: 15, 21: 10, 20: 9, 24: 4, 22: 3, 26: 2, 29: 2, 23: 1, 25: 1, 27: 1, 34: 1, 46: 1})\n",
      "Counter({0: 34129, 1: 29646, 98: 28936, 2: 17647, 3: 11531, 4: 7796, 5: 5233, 6: 3433, 7: 2204, 8: 1423, 9: 968, 99: 601, 10: 583, 11: 393, 12: 238, 13: 150, 14: 105, 15: 72, 16: 38, 17: 36, 18: 20, 19: 14, 21: 11, 20: 9, 24: 4, 22: 2, 26: 2, 27: 2, 23: 1, 25: 1, 29: 1, 32: 1, 45: 1})\n",
      "Counter({1: 36512, 2: 29227, 0: 26694, 3: 19403, 4: 12184, 5: 7476, 6: 4347, 7: 2688, -99999: 2095, 8: 1554, 9: 969, 10: 676, 11: 417, 12: 259, 13: 199, 14: 155, 15: 94, 16: 64, 17: 54, 18: 41, 19: 26, 20: 26, 21: 19, 25: 14, 22: 10, 23: 8, 24: 5, 27: 5, 26: 3, 28: 2, 29: 2, 33: 1, 37: 1, 39: 1})\n",
      "Counter({0: 34838, 1: 29839, 2: 23370, 3: 17281, 4: 12245, 5: 8437, 6: 5825, 7: 4100, 8: 2707, 9: 2069, 10: 1318, 11: 967, 12: 686, 13: 475, 14: 308, 15: 204, 16: 172, 17: 110, 18: 70, 19: 64, 20: 40, 22: 23, 21: 21, 23: 15, 25: 14, 28: 8, 24: 7, 27: 6, 26: 4, 29: 3, 48: 2, 30: 1, 34: 1, 55: 1})\n",
      "Counter({1: 32494, 0: 31865, 2: 27666, 3: 18943, 4: 12746, 5: 7904, 6: 5049, 7: 2837, 8: 1847, 9: 1195, 10: 686, 99: 601, 11: 461, 12: 298, 13: 193, 14: 122, 15: 103, 16: 51, 17: 48, 18: 27, 19: 23, 20: 15, 21: 13, 22: 11, 24: 9, 23: 4, 25: 4, 26: 4, 28: 4, 27: 3, 32: 2, 29: 1, 34: 1, 55: 1})\n",
      "Counter({1: 33812, 0: 32903, 2: 28299, 3: 18870, 4: 12107, 5: 7399, 6: 4433, 7: 2520, 8: 1581, 9: 996, 99: 601, 10: 571, 11: 367, 12: 242, 13: 174, 14: 97, 15: 78, 16: 48, 17: 33, 18: 27, 19: 18, 22: 10, 20: 9, 21: 8, 23: 8, 25: 4, 26: 4, 24: 3, 27: 2, 28: 2, 29: 2, 31: 1, 34: 1, 49: 1})\n",
      "Counter({1: 33194, 2: 24888, 3: 17532, 0: 13629, 97: 12606, 98: 12461, 4: 11438, 5: 7367, 6: 4607, 7: 2706, 8: 1599, 9: 1030, 99: 601, 10: 589, 11: 352, 12: 235, 13: 133, 14: 79, 15: 76, 16: 30, 18: 17, 17: 12, 19: 12, 21: 11, 20: 8, 23: 4, 22: 3, 24: 3, 26: 2, 27: 2, 28: 2, 25: 1, 30: 1, 31: 1})\n",
      "Counter({0: 107045, 1: 13498, 97: 8601, 98: 7536, 2: 4162, 3: 1520, 4: 827, 99: 601, 5: 451, 6: 285, 7: 168, 8: 144, 10: 79, 9: 72, 12: 47, 11: 37, 13: 34, 14: 23, 15: 20, 17: 17, 19: 12, 16: 11, 18: 7, 21: 7, 22: 7, 20: 4, 24: 4, 23: 3, 26: 2, 27: 2, 29: 2, 25: 1, 31: 1, 33: 1})\n",
      "Counter({0: 124828, 1: 9642, 2: 4138, 3: 2242, 4: 1282, 5: 859, 99: 601, 6: 508, 7: 313, 8: 247, 9: 148, 10: 114, 11: 76, 12: 56, 13: 39, 14: 28, 15: 22, 16: 20, 18: 17, 17: 11, 22: 7, 19: 6, 20: 5, 21: 5, 27: 5, 23: 2, 24: 2, 30: 2, 29: 1, 31: 1, 33: 1, 36: 1, 39: 1, 43: 1})\n",
      "Counter({0: 39964, 1: 36541, -99999: 26002, 2: 18721, 3: 9922, 4: 5616, 5: 3150, 6: 1910, 7: 1180, 8: 670, 9: 491, 10: 324, 11: 231, 12: 150, 13: 89, 15: 62, 14: 57, 16: 31, 17: 29, 18: 20, 20: 18, 19: 12, 21: 8, 22: 6, 23: 5, 24: 4, 27: 4, 30: 4, 25: 3, 29: 2, 26: 1, 34: 1, 35: 1, 37: 1, 49: 1})\n",
      "Counter({-99999: 63571, 0: 31448, 1: 22161, 2: 10806, 3: 6101, 4: 3691, 5: 2298, 6: 1588, 7: 1018, 8: 707, 9: 511, 10: 321, 11: 252, 12: 216, 13: 158, 14: 103, 15: 82, 16: 56, 17: 34, 18: 27, 20: 19, 19: 16, 21: 10, 23: 10, 22: 7, 24: 4, 25: 3, 34: 3, 27: 2, 28: 2, 30: 2, 31: 1, 32: 1, 33: 1, 40: 1})\n",
      "Counter({-99999: 63571, 0: 31403, 1: 22178, 2: 10814, 3: 6109, 4: 3696, 5: 2297, 6: 1593, 7: 1019, 8: 708, 9: 510, 10: 323, 11: 252, 12: 216, 13: 158, 14: 102, 15: 83, 16: 56, 17: 34, 18: 27, 20: 19, 19: 16, 21: 10, 23: 10, 22: 7, 24: 4, 25: 3, 34: 3, 27: 2, 28: 2, 30: 2, 31: 1, 32: 1, 33: 1, 40: 1})\n",
      "Counter({1: 29278, 2: 27621, 3: 21906, 4: 16768, 5: 11949, 0: 11674, 6: 8429, 7: 5763, 8: 3896, 9: 2576, 10: 1727, 11: 1030, 12: 696, 99: 601, 13: 439, 14: 273, 15: 206, 16: 133, 17: 94, 18: 54, 19: 40, 20: 25, 21: 14, 22: 12, 25: 7, 23: 4, 24: 4, 26: 3, 28: 2, 29: 2, 27: 1, 31: 1, 33: 1, 35: 1, 37: 1})\n",
      "Counter({0: 119215, 1: 11239, 2: 5535, 3: 2986, 4: 1874, 5: 1099, 6: 779, 999: 601, 7: 496, 8: 362, 9: 231, 10: 177, 997: 131, 11: 122, 12: 107, 13: 88, 14: 44, 15: 37, 17: 20, 19: 18, 16: 17, 18: 12, 20: 9, 23: 6, 24: 5, 26: 5, 28: 4, 22: 3, 21: 2, 27: 2, 30: 1, 31: 1, 33: 1, 48: 1, 86: 1})\n",
      "Counter({1: 36469, 98: 30767, 2: 25108, 3: 15357, 0: 12726, 4: 9566, 5: 5713, 6: 3365, 7: 2022, 8: 1275, 9: 809, 99: 601, 10: 460, 11: 336, 12: 204, 13: 139, 14: 98, 15: 63, 16: 38, 17: 33, 18: 17, 19: 13, 20: 12, 23: 9, 22: 7, 21: 6, 24: 6, 25: 3, 26: 2, 30: 2, 27: 1, 28: 1, 29: 1, 32: 1, 55: 1})\n",
      "Counter({1: 32364, 2: 24273, 3: 17344, 0: 16950, 98: 12461, 4: 11548, 97: 8834, 5: 7688, 6: 5033, 7: 3020, 8: 1884, 9: 1180, 10: 742, 99: 601, 11: 472, 12: 296, 13: 198, 14: 97, 15: 87, 16: 50, 18: 27, 17: 22, 20: 10, 19: 9, 22: 9, 23: 8, 21: 7, 25: 6, 26: 3, 30: 2, 31: 2, 24: 1, 27: 1, 28: 1, 29: 1})\n",
      "Counter({0: 102775, 1: 15643, 98: 6594, 97: 5921, 2: 5739, 3: 2921, 4: 1678, 5: 1089, 6: 705, 99: 601, 7: 468, 8: 327, 9: 204, 10: 145, 11: 100, 12: 85, 13: 73, 14: 36, 15: 28, 16: 22, 17: 20, 18: 14, 21: 12, 19: 9, 22: 5, 20: 4, 24: 3, 23: 2, 26: 2, 28: 1, 30: 1, 31: 1, 32: 1, 35: 1, 37: 1})\n",
      "Counter({0: 101975, 1: 16653, 97: 8601, 98: 7536, 2: 5300, 3: 1919, 4: 989, 99: 601, 5: 528, 6: 329, 7: 194, 8: 165, 9: 87, 10: 86, 12: 51, 13: 45, 11: 43, 14: 21, 15: 21, 17: 19, 16: 15, 19: 8, 21: 8, 22: 8, 18: 7, 20: 6, 24: 4, 23: 3, 26: 2, 29: 2, 25: 1, 27: 1, 28: 1, 31: 1, 33: 1})\n",
      "Counter({0: 70806, 1: 34986, 2: 17493, 3: 8927, 4: 4879, 5: 2993, 6: 1745, 7: 1086, 8: 680, 9: 466, 10: 320, 11: 216, 12: 152, 13: 121, 14: 81, 15: 60, 17: 49, 16: 43, 18: 29, 20: 17, 19: 12, 22: 12, 23: 11, 21: 10, 24: 7, 25: 7, 26: 7, 27: 5, 28: 3, 29: 2, 31: 2, 30: 1, 33: 1, 43: 1, 46: 1})\n",
      "Counter({0: 73618, 1: 24849, 2: 13562, 3: 8253, 98: 6153, 4: 5538, 5: 3683, 6: 2572, 7: 1846, 8: 1279, 9: 907, 10: 661, 99: 601, 11: 475, 12: 317, 13: 250, 14: 173, 15: 121, 16: 96, 17: 85, 18: 53, 19: 34, 20: 25, 21: 22, 22: 14, 24: 11, 26: 8, 23: 7, 25: 6, 31: 5, 35: 2, 36: 2, 29: 1, 30: 1, 32: 1})\n",
      "Counter({0: 102789, 1: 15959, 98: 6153, 2: 5897, 97: 5562, 3: 2972, 4: 1727, 5: 1140, 6: 736, 99: 601, 7: 489, 8: 352, 9: 235, 10: 158, 11: 121, 12: 86, 13: 85, 14: 39, 15: 29, 16: 21, 17: 17, 18: 16, 19: 10, 21: 9, 22: 6, 23: 5, 20: 4, 24: 4, 26: 3, 28: 1, 30: 1, 31: 1, 32: 1, 35: 1, 36: 1})\n",
      "Counter({998: 124614, 0: 11762, 997: 6669, 999: 601, 1: 442, 2: 241, 3: 174, 4: 139, 5: 92, 6: 84, 7: 70, 8: 63, 9: 39, 10: 35, 12: 33, 11: 24, 14: 23, 16: 21, 13: 18, 19: 17, 15: 15, 18: 12, 24: 11, 21: 7, 17: 6, 22: 6, 20: 3, 23: 2, 26: 2, 27: 1, 29: 1, 30: 1, 32: 1, 33: 1, 56: 1})\n",
      "Counter({0: 124276, 997: 10518, 998: 6594, 50: 663, 100: 607, 999: 601, 33: 576, 25: 416, 20: 300, 17: 181, 14: 98, 13: 84, 67: 67, 11: 51, 10: 42, 40: 37, 9: 24, 29: 16, 60: 13, 8: 12, 22: 12, 43: 7, 75: 6, 6: 5, 7: 5, 18: 4, 38: 3, 80: 3, 15: 2, 27: 2, 19: 1, 21: 1, 23: 1, 30: 1, 44: 1, 83: 1})\n",
      "Counter({2: 27430, 1: 26682, 3: 22905, 4: 17302, 5: 12250, 0: 11933, 6: 8334, 7: 5554, 8: 3577, 9: 2394, -99999: 2095, 10: 1552, 11: 1016, 12: 637, 13: 475, 14: 324, 15: 221, 16: 133, 17: 103, 18: 81, 20: 55, 21: 40, 19: 37, 22: 20, 23: 19, 25: 17, 24: 14, 26: 13, 27: 7, 28: 3, 29: 2, 30: 2, 31: 1, 34: 1, 37: 1, 45: 1})\n",
      "Counter({0: 79247, 1: 25157, 2: 11541, 98: 6594, 3: 6143, 97: 5921, 4: 3576, 5: 2236, 6: 1444, 7: 897, 99: 601, 8: 598, 9: 380, 10: 257, 11: 175, 12: 115, 13: 103, 14: 63, 15: 43, 16: 36, 17: 29, 18: 17, 19: 16, 21: 14, 20: 8, 23: 4, 22: 3, 24: 3, 25: 2, 31: 2, 26: 1, 28: 1, 30: 1, 32: 1, 35: 1, 37: 1})\n",
      "Counter({0: 85117, 1: 22143, 2: 10975, 98: 6594, 3: 6307, 4: 4112, 5: 2729, 6: 1845, 7: 1335, 8: 963, 9: 644, 99: 601, 10: 506, 11: 379, 12: 271, 13: 173, 14: 143, 15: 105, 16: 72, 17: 57, 19: 41, 18: 35, 20: 21, 21: 17, 22: 15, 24: 8, 23: 6, 25: 4, 31: 3, 26: 2, 30: 2, 35: 2, 27: 1, 29: 1, 32: 1, 37: 1})\n",
      "Counter({98: 77267, 97: 26705, 1: 18723, 0: 7375, 2: 5443, 3: 2478, 4: 1673, 5: 1171, 6: 937, 7: 727, 8: 610, 99: 601, 9: 425, 10: 287, 11: 233, 12: 164, 13: 117, 14: 73, 15: 70, 16: 36, 17: 28, 19: 20, 18: 18, 21: 12, 20: 11, 22: 7, 23: 4, 25: 4, 24: 3, 27: 3, 26: 1, 29: 1, 32: 1, 33: 1, 43: 1, 45: 1})\n",
      "Counter({0: 87462, 1: 25594, 2: 8754, 97: 8601, 98: 7536, 3: 3205, 4: 1419, 5: 701, 99: 601, 6: 439, 7: 240, 8: 179, 9: 113, 10: 89, 12: 54, 11: 50, 13: 50, 15: 28, 14: 24, 17: 20, 16: 14, 18: 11, 21: 9, 22: 9, 19: 6, 20: 6, 24: 4, 23: 3, 27: 2, 28: 2, 25: 1, 26: 1, 29: 1, 30: 1, 31: 1, 33: 1})\n",
      "Counter({0: 102390, 1: 20886, 98: 7536, 2: 7437, 3: 2996, 4: 1485, 5: 697, 99: 601, 6: 411, 7: 217, 8: 160, 9: 84, 10: 68, 12: 55, 11: 51, 15: 22, 13: 20, 14: 19, 17: 19, 16: 16, 18: 13, 19: 9, 21: 7, 22: 7, 24: 5, 20: 4, 23: 3, 26: 3, 25: 2, 28: 2, 27: 1, 29: 1, 31: 1, 33: 1, 41: 1, 42: 1})\n",
      "Counter({0: 78859, 1: 25444, 2: 11741, 3: 6313, 98: 6153, 97: 5562, 4: 3710, 5: 2329, 6: 1534, 7: 938, 8: 644, 99: 601, 9: 410, 10: 284, 11: 195, 12: 140, 13: 107, 14: 66, 15: 53, 16: 40, 17: 28, 19: 17, 18: 15, 21: 14, 23: 8, 20: 7, 22: 4, 24: 4, 25: 2, 26: 2, 31: 2, 28: 1, 30: 1, 32: 1, 35: 1, 36: 1})\n",
      "Counter({98: 97034, 0: 26324, 1: 9509, 2: 5250, 3: 1887, 4: 1427, 5: 797, 6: 629, 99: 601, 7: 407, 8: 334, 9: 217, 10: 182, 11: 140, 12: 133, 13: 79, 14: 60, 15: 41, 16: 36, 17: 27, 18: 21, 19: 21, 20: 18, 23: 12, 22: 9, 24: 8, 25: 8, 21: 7, 28: 3, 29: 2, 30: 2, 31: 2, 26: 1, 27: 1, 32: 1, 36: 1})\n",
      "Counter({1: 50025, 2: 30120, 97: 14906, 0: 14347, 3: 14316, 98: 7536, 4: 6424, 5: 2902, 6: 1455, 7: 772, 99: 601, 8: 522, 9: 359, 10: 222, 11: 166, 12: 123, 13: 104, 14: 76, 15: 61, 16: 42, 17: 32, 19: 25, 18: 20, 20: 16, 23: 10, 24: 10, 21: 9, 22: 7, 25: 6, 26: 4, 28: 4, 27: 3, 33: 2, 30: 1, 31: 1, 32: 1, 37: 1})\n",
      "Counter({0: 46244, 1: 31333, 2: 21499, 3: 14630, 4: 9804, 5: 6785, 6: 4724, 7: 3189, 8: 2106, 9: 1535, 10: 1050, 11: 690, 12: 454, 13: 304, 14: 220, 99: 150, 15: 144, 16: 103, 17: 68, 19: 37, 20: 37, 18: 35, 21: 24, 23: 18, 22: 16, 26: 5, 27: 5, 24: 4, 25: 4, 28: 4, 32: 3, 30: 2, 31: 1, 34: 1, 40: 1, 41: 1, 47: 1})\n",
      "Counter({0: 84041, 1: 27373, 2: 13894, 3: 7659, 4: 4360, 5: 2677, 6: 1646, 7: 1063, 8: 671, 9: 466, 10: 288, 11: 224, 99: 150, 12: 145, 97: 136, 13: 106, 14: 72, 15: 56, 16: 47, 17: 36, 19: 23, 18: 20, 23: 14, 20: 11, 21: 11, 22: 11, 24: 8, 25: 4, 28: 3, 29: 3, 30: 3, 26: 2, 27: 2, 32: 2, 33: 2, 37: 1, 51: 1})\n",
      "Counter({0: 110236, 998: 12461, 997: 8834, 1: 6545, 2: 2913, 3: 1472, 4: 769, 999: 601, 5: 471, 6: 320, 7: 168, 8: 122, 9: 64, 10: 49, 11: 38, 12: 32, 13: 18, 15: 18, 14: 16, 16: 14, 24: 13, 17: 11, 19: 8, 18: 6, 20: 5, 21: 4, 25: 4, 27: 4, 22: 3, 29: 3, 23: 2, 30: 2, 26: 1, 28: 1, 36: 1, 48: 1, 49: 1})\n",
      "Counter({0: 96220, 1: 18591, 2: 7386, 98: 6594, 97: 5921, 3: 3665, 4: 2165, 5: 1365, 6: 882, 99: 601, 7: 546, 8: 399, 9: 236, 10: 175, 11: 128, 12: 91, 13: 79, 14: 43, 15: 34, 16: 28, 17: 21, 18: 17, 21: 12, 19: 9, 20: 4, 22: 3, 23: 3, 24: 3, 25: 2, 26: 1, 27: 1, 28: 1, 30: 1, 31: 1, 32: 1, 35: 1, 37: 1})\n",
      "Counter({1: 48995, 2: 31150, 0: 26340, 3: 15402, 98: 7536, 4: 7113, 5: 3364, 6: 1671, 7: 916, 99: 601, 8: 597, 9: 417, 10: 253, 11: 205, 12: 162, 13: 121, 14: 83, 15: 68, 16: 56, 17: 34, 19: 27, 20: 22, 18: 21, 21: 16, 22: 10, 24: 10, 25: 10, 23: 9, 26: 5, 27: 4, 28: 3, 29: 3, 32: 2, 33: 2, 30: 1, 31: 1, 37: 1})\n",
      "Counter({0: 83329, 1: 24047, 2: 13944, 3: 8589, 4: 5666, 5: 3591, 6: 2168, 7: 1286, 8: 799, 99: 601, 9: 410, 10: 301, 11: 171, 12: 115, 13: 60, 14: 44, 15: 25, 16: 19, 17: 15, 19: 12, 21: 9, 20: 7, 18: 4, 22: 3, 25: 2, 28: 2, 32: 2, 23: 1, 24: 1, 27: 1, 34: 1, 39: 1, 44: 1, 49: 1, 52: 1, 53: 1, 55: 1})\n",
      "Counter({0: 65097, 1: 26551, 2: 15246, 3: 9724, 4: 6582, 98: 6153, 5: 4497, 6: 3155, 7: 2187, 8: 1529, 9: 1107, 10: 806, 99: 601, 11: 575, 12: 355, 13: 289, 14: 209, 15: 146, 16: 111, 17: 95, 18: 59, 19: 44, 20: 27, 21: 23, 22: 18, 24: 9, 26: 9, 23: 7, 25: 4, 31: 4, 27: 3, 32: 2, 35: 2, 36: 2, 28: 1, 29: 1, 30: 1})\n",
      "Counter({0: 96106, 1: 18928, 2: 7546, 98: 6153, 97: 5562, 3: 3759, 4: 2223, 5: 1422, 6: 934, 99: 601, 7: 580, 8: 427, 9: 265, 10: 192, 11: 146, 12: 100, 13: 89, 14: 52, 15: 34, 16: 29, 17: 16, 18: 16, 19: 13, 21: 9, 23: 6, 20: 4, 22: 4, 24: 4, 25: 2, 26: 2, 27: 1, 28: 1, 30: 1, 31: 1, 32: 1, 35: 1, 36: 1})\n",
      "Counter({0: 85127, 1: 22079, 2: 10920, 3: 6370, 98: 6153, 4: 4148, 5: 2748, 6: 1914, 7: 1400, 8: 1023, 9: 730, 99: 601, 10: 548, 11: 400, 12: 277, 13: 220, 14: 147, 15: 105, 16: 79, 17: 71, 18: 45, 19: 35, 20: 23, 21: 16, 22: 15, 24: 9, 23: 7, 26: 7, 31: 3, 25: 2, 30: 2, 35: 2, 27: 1, 28: 1, 29: 1, 32: 1, 36: 1})\n",
      "Counter({1: 32468, 2: 24068, 0: 21667, 3: 16953, 4: 11500, 97: 10052, 5: 7680, 98: 6153, 6: 5033, 7: 3176, 8: 2020, 9: 1351, 10: 848, 99: 601, 11: 543, 12: 349, 13: 250, 14: 177, 15: 109, 16: 70, 17: 39, 18: 34, 19: 28, 20: 16, 21: 11, 22: 8, 23: 8, 24: 5, 26: 3, 27: 2, 29: 2, 32: 2, 25: 1, 28: 1, 30: 1, 31: 1, 40: 1})\n",
      "Counter({98: 28936, 1: 28287, 2: 17344, 97: 16984, 0: 13705, 3: 11735, 4: 8226, 5: 5922, 6: 4155, 7: 2828, 8: 1964, 9: 1346, 10: 1001, 11: 663, 99: 601, 12: 464, 13: 315, 14: 208, 15: 173, 16: 122, 17: 59, 18: 54, 19: 37, 20: 22, 21: 19, 22: 16, 23: 14, 24: 6, 25: 6, 26: 4, 27: 4, 31: 3, 33: 3, 28: 2, 34: 1, 37: 1, 51: 1})\n",
      "Counter({98: 97034, 0: 30739, 97: 5164, 1: 4838, 2: 2840, 3: 1166, 4: 963, 99: 601, 5: 448, 6: 342, 7: 224, 8: 211, 9: 131, 10: 105, 12: 84, 11: 66, 13: 54, 14: 42, 15: 33, 16: 30, 17: 19, 19: 16, 22: 16, 20: 14, 18: 12, 21: 9, 24: 5, 27: 5, 26: 4, 23: 3, 25: 3, 28: 3, 29: 2, 34: 2, 31: 1, 32: 1, 38: 1})\n",
      "Counter({98: 97034, 0: 32178, 97: 5164, 1: 4238, 2: 2472, 3: 1012, 4: 854, 99: 601, 5: 398, 6: 317, 8: 195, 7: 193, 9: 118, 10: 87, 12: 70, 11: 56, 13: 42, 14: 42, 15: 32, 16: 26, 17: 18, 19: 12, 20: 12, 22: 12, 18: 10, 21: 9, 27: 7, 24: 5, 25: 4, 23: 3, 26: 2, 29: 2, 34: 2, 28: 1, 31: 1, 32: 1, 38: 1})\n",
      "Counter({0: 118662, 1: 14818, 2: 5510, 3: 2480, 4: 1398, 5: 776, 6: 510, 7: 312, 8: 186, 9: 141, 10: 109, 11: 85, 12: 51, 13: 31, 14: 31, 16: 26, 15: 21, 18: 15, 17: 14, 19: 9, 20: 9, 21: 6, 22: 6, 23: 3, 24: 3, 28: 3, 25: 2, 26: 2, 30: 2, 32: 2, 27: 1, 31: 1, 33: 1, 35: 1, 39: 1, 47: 1, 59: 1, 90: 1})\n",
      "Counter({1: 27892, 2: 23116, 0: 21726, 3: 18235, 4: 13574, 5: 10050, 6: 7183, -99999: 6655, 7: 5160, 8: 3643, 9: 2547, 10: 1689, 11: 1166, 12: 824, 13: 528, 14: 376, 15: 270, 16: 169, 17: 118, 18: 91, 19: 53, 20: 44, 21: 35, 22: 23, 23: 17, 24: 11, 25: 8, 26: 5, 29: 4, 27: 3, 28: 3, 35: 3, 36: 3, 30: 2, 32: 2, 31: 1, 34: 1, 42: 1})\n",
      "Counter({1: 27834, 2: 23091, 0: 21603, 3: 18250, 4: 13586, 5: 10063, 6: 7232, -99999: 6655, 7: 5185, 8: 3642, 9: 2594, 10: 1685, 11: 1186, 12: 833, 13: 535, 14: 375, 15: 275, 16: 173, 17: 120, 18: 94, 19: 53, 20: 44, 21: 34, 22: 25, 23: 17, 24: 11, 25: 8, 26: 5, 28: 4, 29: 4, 35: 3, 36: 3, 27: 2, 30: 2, 32: 2, 31: 1, 34: 1, 42: 1})\n",
      "Counter({-99999: 74801, 0: 41163, 1: 15973, 2: 6594, 3: 3134, 4: 1556, 5: 792, 6: 451, 7: 257, 8: 164, 9: 99, 10: 68, 11: 37, 12: 27, 13: 17, 14: 16, 15: 15, 16: 14, 17: 6, 18: 6, 23: 6, 19: 5, 25: 5, 20: 4, 24: 4, 21: 2, 22: 2, 27: 2, 30: 2, 28: 1, 33: 1, 38: 1, 39: 1, 41: 1, 42: 1, 52: 1, 56: 1, 69: 1})\n",
      "Counter({-99999: 44470, 1: 33491, 0: 32761, 2: 15334, 3: 7988, 4: 4491, 5: 2535, 6: 1582, 7: 906, 8: 559, 9: 363, 10: 221, 11: 149, 12: 114, 13: 68, 14: 58, 15: 35, 16: 22, 20: 14, 18: 13, 17: 12, 19: 9, 22: 6, 21: 5, 30: 5, 23: 4, 25: 2, 27: 2, 31: 2, 32: 2, 24: 1, 26: 1, 28: 1, 33: 1, 34: 1, 35: 1, 66: 1, 75: 1})\n",
      "Counter({2: 23618, 3: 22539, 1: 19655, 4: 19129, 5: 14951, 6: 11175, 7: 8232, 8: 5688, 0: 5267, 9: 3955, 10: 2767, -99999: 2095, 11: 1818, 12: 1267, 13: 903, 14: 620, 15: 452, 16: 300, 17: 200, 18: 154, 19: 120, 20: 74, 21: 68, 22: 52, 24: 31, 23: 24, 25: 18, 26: 17, 27: 15, 29: 7, 28: 5, 30: 5, 31: 3, 33: 3, 32: 1, 34: 1, 37: 1, 46: 1})\n",
      "Counter({1: 49476, 2: 24159, 0: 17208, 97: 14906, 96: 11434, 3: 10195, 98: 7536, 4: 4229, 5: 1948, 6: 1077, 7: 663, 99: 601, 8: 469, 9: 336, 10: 195, 11: 183, 12: 165, 13: 102, 14: 75, 15: 57, 16: 46, 17: 31, 18: 25, 20: 25, 19: 22, 24: 14, 22: 13, 21: 10, 25: 7, 23: 6, 27: 4, 26: 3, 32: 3, 28: 2, 29: 2, 31: 2, 30: 1, 37: 1})\n",
      "Counter({0: 72385, 1: 28478, 2: 15978, 3: 9819, 4: 6125, 5: 3972, 6: 2589, 7: 1737, 8: 1109, 9: 783, 10: 538, 11: 370, 12: 283, 13: 191, 99: 150, 97: 136, 14: 135, 15: 112, 16: 74, 17: 56, 18: 38, 19: 30, 21: 28, 20: 27, 22: 19, 23: 18, 24: 14, 25: 7, 27: 6, 29: 6, 26: 5, 28: 4, 30: 3, 32: 2, 33: 1, 34: 1, 40: 1, 51: 1})\n",
      "Counter({0: 77234, 1: 27864, 2: 15110, 3: 8974, 4: 5327, 5: 3463, 6: 2207, 7: 1483, 8: 937, 9: 657, 10: 457, 11: 319, 12: 224, 13: 162, 99: 150, 97: 136, 14: 130, 15: 98, 16: 57, 17: 52, 19: 32, 18: 30, 20: 23, 21: 21, 22: 20, 23: 19, 24: 12, 27: 6, 25: 5, 26: 5, 28: 4, 29: 4, 30: 3, 32: 2, 33: 1, 34: 1, 37: 1, 51: 1})\n",
      "Counter({0: 85733, 1: 27034, 2: 11799, 98: 7536, 3: 5445, 4: 2757, 5: 1479, 6: 876, 99: 601, 7: 555, 8: 394, 9: 233, 10: 161, 11: 135, 12: 111, 13: 78, 14: 61, 15: 39, 17: 38, 16: 36, 18: 22, 19: 22, 22: 20, 21: 16, 20: 12, 23: 7, 24: 7, 26: 5, 25: 4, 28: 3, 29: 2, 30: 2, 31: 2, 37: 2, 27: 1, 34: 1, 41: 1, 42: 1})\n",
      "Counter({0: 93052, 1: 23925, 2: 9772, 98: 7536, 3: 4424, 4: 2235, 5: 1263, 6: 728, 99: 601, 7: 459, 8: 330, 9: 198, 10: 141, 11: 114, 12: 102, 13: 68, 14: 57, 15: 40, 16: 30, 17: 30, 18: 25, 19: 19, 22: 17, 21: 14, 20: 13, 23: 8, 24: 7, 26: 5, 25: 3, 28: 3, 29: 3, 30: 2, 37: 2, 27: 1, 31: 1, 34: 1, 41: 1, 42: 1})\n",
      "Counter({998: 82186, 0: 40649, 997: 17001, 1: 897, 2: 668, 999: 601, 3: 503, 4: 485, 12: 445, 5: 333, 6: 290, 7: 233, 8: 193, 9: 193, 10: 159, 11: 137, 13: 131, 14: 24, 15: 16, 16: 15, 24: 15, 17: 8, 23: 8, 18: 7, 21: 7, 19: 6, 20: 5, 22: 4, 29: 2, 34: 2, 25: 1, 28: 1, 31: 1, 32: 1, 37: 1, 38: 1, 39: 1, 45: 1})\n",
      "Counter({1: 42760, 2: 28659, 3: 16609, 97: 14906, 0: 12422, 4: 9040, 98: 7536, 5: 5135, 6: 2950, 7: 1613, 8: 957, 9: 653, 99: 601, 10: 382, 11: 276, 12: 173, 13: 155, 14: 103, 15: 66, 16: 46, 17: 40, 18: 28, 19: 25, 20: 25, 21: 14, 22: 9, 24: 9, 23: 8, 25: 8, 28: 5, 26: 4, 27: 3, 29: 2, 31: 2, 32: 2, 33: 2, 30: 1, 34: 1, 37: 1})\n",
      "Counter({0: 66959, 1: 33431, 2: 17287, 3: 8741, 98: 7536, 4: 4456, 5: 2340, 6: 1277, 7: 816, 99: 601, 8: 513, 9: 323, 10: 221, 11: 159, 12: 134, 13: 88, 14: 76, 15: 52, 17: 39, 16: 33, 18: 30, 19: 25, 22: 22, 21: 16, 20: 14, 23: 8, 25: 8, 24: 5, 27: 4, 26: 3, 28: 3, 30: 2, 32: 2, 37: 2, 29: 1, 31: 1, 34: 1, 41: 1, 42: 1})\n",
      "Counter({998: 127280, 997: 10375, 0: 5513, 999: 601, 1: 274, 2: 167, 3: 140, 4: 109, 6: 98, 5: 75, 7: 64, 8: 54, 24: 53, 9: 47, 10: 44, 11: 37, 12: 37, 14: 31, 13: 28, 15: 26, 16: 26, 21: 25, 25: 21, 17: 20, 23: 17, 18: 16, 19: 16, 22: 16, 20: 10, 48: 2, 27: 1, 30: 1, 31: 1, 33: 1, 35: 1, 41: 1, 42: 1, 46: 1, 47: 1})\n",
      "Counter({0: 47575, 1: 28128, 2: 18240, 3: 12736, 4: 8970, 5: 6436, 98: 6153, 6: 4650, 7: 3306, 8: 2478, 9: 1690, 10: 1256, 11: 836, 99: 601, 12: 572, 13: 448, 14: 302, 15: 230, 16: 159, 17: 147, 18: 92, 19: 71, 20: 35, 22: 29, 21: 27, 24: 18, 23: 16, 26: 8, 31: 4, 25: 3, 32: 3, 27: 2, 30: 2, 33: 2, 36: 2, 28: 1, 29: 1, 35: 1, 39: 1})\n",
      "Counter({0: 63571, 1: 24002, 2: 14368, 3: 10072, 4: 7614, 5: 5959, 6: 4537, 7: 3429, 8: 2676, 9: 2103, 10: 1611, 11: 1307, 12: 964, 13: 721, 14: 558, 15: 433, 16: 343, 17: 255, 18: 170, 19: 126, 20: 91, 21: 76, 22: 62, 23: 41, 24: 41, 25: 23, 26: 18, 29: 15, 27: 11, 28: 10, 33: 5, 35: 4, 31: 3, 34: 3, 32: 2, 38: 2, 40: 2, 30: 1, 45: 1, 53: 1})\n",
      "Counter({0: 59290, -99999: 44470, 1: 23512, 2: 8954, 3: 3936, 4: 2005, 5: 1137, 6: 653, 7: 385, 8: 256, 9: 175, 10: 110, 11: 70, 12: 59, 13: 43, 14: 37, 15: 26, 17: 19, 16: 17, 19: 13, 18: 8, 22: 8, 21: 6, 24: 6, 27: 6, 20: 5, 23: 3, 25: 3, 26: 3, 31: 3, 32: 3, 29: 2, 28: 1, 30: 1, 33: 1, 35: 1, 36: 1, 40: 1, 43: 1, 49: 1})\n",
      "Counter({0: 59004, 1: 29683, 2: 18762, 3: 12419, 4: 8145, 5: 5418, 6: 3620, 7: 2513, 8: 1588, 9: 1087, 10: 757, 11: 539, 12: 373, 13: 261, 14: 192, 99: 150, 15: 148, 97: 136, 16: 94, 17: 80, 18: 62, 19: 36, 20: 35, 21: 28, 23: 22, 22: 19, 24: 12, 27: 11, 25: 10, 26: 7, 29: 5, 28: 4, 30: 3, 31: 2, 32: 1, 33: 1, 34: 1, 35: 1, 46: 1, 51: 1})\n",
      "Counter({0: 128958, 1: 2017, 2: 1574, 4: 1509, 3: 1501, 5: 1490, 6: 1356, 7: 1265, 8: 1058, 9: 849, 10: 712, 99: 601, 11: 575, 12: 399, 13: 319, 14: 248, 15: 188, 16: 151, 17: 103, 18: 82, 19: 69, 20: 59, 21: 43, 22: 26, 24: 17, 23: 15, 25: 12, 26: 8, 28: 6, 27: 5, 32: 3, 29: 2, 30: 2, 33: 2, 38: 2, 31: 1, 34: 1, 35: 1, 40: 1, 44: 1})\n",
      "Counter({0: 116233, 997: 8601, 998: 7536, 1: 5639, 2: 2832, 3: 1318, 4: 854, 999: 601, 5: 465, 6: 377, 7: 186, 8: 181, 9: 92, 10: 88, 12: 48, 11: 46, 13: 25, 14: 23, 15: 19, 16: 12, 18: 9, 23: 6, 24: 6, 17: 5, 19: 5, 21: 4, 20: 3, 22: 3, 27: 2, 33: 2, 25: 1, 28: 1, 29: 1, 30: 1, 35: 1, 40: 1, 45: 1, 48: 1, 60: 1, 93: 1})\n",
      "Counter({0: 31503, 1: 29261, 2: 21499, 3: 15892, 4: 11755, 5: 8496, 98: 6153, 6: 5983, 7: 4205, 8: 3008, 9: 2093, 10: 1464, 11: 1033, 12: 663, 99: 601, 13: 510, 14: 321, 15: 236, 16: 150, 17: 115, 18: 75, 19: 48, 20: 35, 21: 32, 22: 28, 24: 18, 23: 10, 27: 8, 28: 7, 26: 6, 25: 5, 30: 3, 31: 3, 32: 3, 33: 2, 41: 2, 29: 1, 34: 1, 35: 1, 37: 1, 38: 1})\n",
      "Counter({-99999: 48711, 1: 34782, 2: 18913, 0: 14836, 3: 10683, 4: 6188, 5: 3772, 6: 2308, 7: 1540, 8: 1015, 9: 670, 10: 473, 11: 353, 12: 236, 13: 200, 14: 117, 15: 113, 16: 67, 17: 53, 18: 36, 19: 34, 20: 29, 22: 22, 21: 15, 24: 14, 23: 13, 27: 8, 25: 4, 28: 4, 29: 4, 30: 3, 31: 3, 26: 2, 32: 2, 34: 2, 33: 1, 36: 1, 37: 1, 39: 1, 43: 1, 47: 1})\n",
      "Counter({0: 88009, 1: 23344, 2: 12221, 3: 7439, 4: 4785, 5: 3089, 6: 2064, 7: 1313, 8: 853, 9: 596, 10: 429, 11: 280, 12: 191, 13: 153, 14: 102, 15: 90, 16: 60, 17: 45, 18: 26, 19: 25, 21: 23, 20: 19, 22: 17, 24: 11, 23: 8, 25: 6, 27: 6, 28: 5, 31: 3, 32: 3, 34: 3, 29: 2, 33: 2, 35: 2, 26: 1, 39: 1, 40: 1, 43: 1, 54: 1, 61: 1, 90: 1})\n",
      "Counter({998: 82186, 0: 35492, 997: 13834, 1: 3730, 2: 2208, 3: 1500, 4: 1126, 5: 898, 6: 743, 999: 601, 7: 588, 8: 463, 9: 349, 10: 320, 11: 251, 12: 199, 13: 148, 14: 140, 15: 105, 16: 71, 17: 52, 18: 47, 19: 45, 20: 31, 21: 25, 24: 17, 25: 13, 22: 12, 23: 10, 27: 6, 26: 5, 34: 3, 28: 2, 30: 2, 38: 2, 47: 2, 35: 1, 46: 1, 62: 1, 68: 1, 80: 1})\n",
      "Counter({98: 97034, 0: 28835, 1: 6635, 2: 4428, 3: 2146, 4: 1782, 5: 873, 6: 692, 99: 601, 7: 446, 8: 402, 9: 258, 10: 205, 12: 171, 11: 167, 13: 102, 14: 83, 15: 71, 16: 62, 17: 39, 20: 31, 18: 27, 19: 26, 22: 21, 21: 15, 24: 15, 23: 14, 25: 9, 26: 9, 28: 7, 27: 6, 29: 6, 32: 3, 33: 2, 38: 2, 30: 1, 34: 1, 37: 1, 39: 1, 43: 1, 49: 1})\n",
      "Counter({98: 97034, 0: 30626, 1: 6060, 2: 4024, 3: 1894, 4: 1619, 5: 792, 6: 646, 99: 601, 7: 387, 8: 359, 9: 226, 10: 173, 12: 160, 11: 130, 13: 88, 14: 85, 15: 63, 16: 52, 17: 36, 20: 30, 18: 24, 19: 21, 22: 19, 23: 14, 21: 13, 24: 12, 25: 7, 26: 7, 27: 7, 28: 6, 29: 5, 32: 2, 33: 2, 30: 1, 34: 1, 37: 1, 38: 1, 39: 1, 43: 1, 47: 1})\n",
      "Counter({3: 19832, 2: 18716, 4: 18544, 5: 16060, 1: 13453, 6: 13163, 7: 10472, 8: 8142, 9: 6230, 10: 4842, 11: 3482, 0: 2961, 12: 2508, 13: 1820, 14: 1370, 15: 988, 16: 695, 17: 540, 18: 388, 19: 260, 20: 179, 21: 164, 22: 92, 23: 84, 24: 57, 26: 41, 25: 40, 27: 31, 28: 22, 29: 12, 31: 8, 32: 7, 30: 6, 34: 4, 35: 4, 37: 4, 33: 3, 38: 2, 39: 2, 41: 1, 46: 1, 47: 1})\n",
      "Counter({3: 19761, 2: 18567, 4: 18523, 5: 16082, 1: 13294, 6: 13231, 7: 10546, 8: 8198, 9: 6304, 10: 4869, 11: 3534, 0: 2840, 12: 2541, 13: 1851, 14: 1399, 15: 995, 16: 710, 17: 546, 18: 389, 19: 274, 20: 182, 21: 167, 22: 92, 23: 82, 24: 62, 25: 42, 26: 40, 27: 32, 28: 21, 29: 13, 31: 8, 30: 7, 32: 5, 33: 5, 34: 4, 35: 4, 37: 4, 38: 2, 39: 2, 41: 1, 46: 1, 47: 1})\n",
      "Counter({0: 33495, 1: 27502, 2: 20568, 3: 15615, 4: 11817, 5: 9044, 6: 6974, 7: 5068, 8: 3863, 9: 2813, 10: 2058, 11: 1502, 12: 1188, 13: 838, 14: 605, 99: 601, 15: 451, 16: 298, 17: 237, 18: 182, 19: 110, 20: 87, 21: 78, 22: 53, 23: 40, 24: 40, 26: 24, 25: 18, 27: 14, 28: 10, 29: 8, 30: 7, 32: 6, 31: 5, 34: 2, 35: 2, 38: 2, 45: 2, 36: 1, 39: 1, 41: 1, 43: 1})\n",
      "Counter({0: 69220, 1: 25623, 2: 14885, 3: 9527, 4: 6540, 5: 4799, 6: 3342, 7: 2586, 8: 1911, 9: 1413, 10: 1154, 11: 917, 12: 634, 99: 601, 13: 481, 14: 376, 15: 269, 16: 231, 17: 168, 18: 105, 19: 99, 20: 88, 21: 57, 22: 47, 23: 34, 24: 34, 26: 16, 25: 12, 27: 12, 29: 11, 28: 8, 30: 5, 32: 5, 31: 4, 33: 4, 34: 4, 38: 2, 40: 2, 43: 2, 35: 1, 36: 1, 44: 1})\n",
      "Counter({1: 24775, 2: 23537, 3: 19653, 4: 15899, 5: 12442, 6: 9653, 0: 8296, 7: 7681, 8: 5797, 9: 4394, 10: 3296, 11: 2420, 12: 1846, 13: 1319, 14: 958, 15: 667, 99: 601, 16: 543, 17: 394, 18: 271, 19: 189, 20: 146, 21: 114, 22: 85, 23: 69, 25: 35, 24: 31, 26: 24, 27: 20, 30: 16, 29: 14, 28: 10, 33: 8, 32: 7, 31: 5, 34: 4, 36: 3, 38: 3, 35: 2, 40: 1, 42: 1, 45: 1, 57: 1})\n",
      "Counter({0: 54702, -99999: 44470, 1: 23139, 2: 9817, 3: 5134, 4: 2826, 5: 1667, 6: 1004, 7: 695, 8: 514, 9: 344, 10: 230, 11: 146, 12: 104, 13: 86, 14: 67, 15: 64, 16: 46, 17: 38, 19: 30, 18: 24, 20: 19, 21: 14, 22: 9, 23: 6, 24: 6, 25: 3, 26: 3, 31: 3, 27: 2, 28: 2, 29: 2, 32: 2, 37: 2, 40: 2, 51: 2, 30: 1, 35: 1, 38: 1, 39: 1, 41: 1, 42: 1, 57: 1})\n",
      "Counter({1: 39056, 2: 27629, 3: 17059, 0: 13498, 97: 11980, 4: 10097, 98: 7536, 5: 6259, 6: 3905, 7: 2496, 8: 1635, 9: 1115, 10: 643, 99: 601, 11: 502, 12: 312, 13: 261, 14: 170, 15: 123, 16: 87, 17: 55, 18: 46, 20: 41, 19: 34, 21: 17, 22: 16, 23: 10, 24: 10, 25: 6, 27: 5, 29: 5, 30: 5, 28: 3, 32: 3, 26: 2, 31: 2, 33: 1, 34: 1, 35: 1, 36: 1, 37: 1, 47: 1, 59: 1})\n",
      "Counter({0: 111665, 1: 16816, 2: 7073, 3: 3597, 4: 2004, 5: 1251, 6: 799, 7: 537, 8: 410, 9: 259, 10: 175, 11: 149, 12: 99, 13: 68, 14: 62, 15: 48, 16: 43, 17: 27, 21: 18, 19: 16, 18: 15, 23: 15, 20: 14, 22: 14, 24: 14, 25: 6, 26: 5, 28: 4, 27: 3, 30: 3, 34: 3, 35: 3, 31: 2, 32: 2, 37: 2, 42: 2, 33: 1, 38: 1, 40: 1, 43: 1, 45: 1, 47: 1, 51: 1, 58: 1})\n",
      "Counter({98: 119133, 0: 5448, 1: 5413, 2: 3935, 4: 1792, 3: 1661, 6: 1109, 5: 1015, 7: 742, 8: 741, 99: 601, 9: 578, 10: 549, 11: 456, 12: 400, 13: 307, 14: 262, 15: 199, 16: 184, 17: 146, 18: 117, 19: 83, 20: 70, 21: 60, 23: 42, 22: 38, 24: 26, 25: 23, 26: 17, 27: 17, 28: 15, 29: 11, 31: 9, 32: 9, 30: 7, 36: 4, 34: 3, 35: 2, 38: 2, 33: 1, 40: 1, 41: 1, 47: 1, 80: 1})\n",
      "Counter({-99999: 52855, 0: 49571, 1: 21182, 2: 7914, 3: 4056, 4: 2438, 5: 1648, 6: 1204, 7: 892, 8: 694, 9: 508, 10: 437, 11: 338, 12: 267, 13: 219, 14: 158, 15: 141, 16: 131, 18: 82, 17: 79, 20: 64, 19: 62, 21: 46, 22: 41, 23: 35, 24: 34, 25: 32, 26: 28, 27: 15, 29: 11, 28: 9, 32: 8, 31: 6, 34: 5, 30: 4, 38: 4, 37: 3, 42: 3, 57: 2, 35: 1, 43: 1, 44: 1, 50: 1, 55: 1})\n",
      "Counter({1: 26437, 2: 22211, 3: 17603, 4: 13596, 97: 10518, 0: 10292, 5: 10209, 6: 7674, 98: 6594, 7: 5538, 8: 4031, 9: 2857, 10: 2063, 11: 1392, 12: 1037, 13: 741, 99: 601, 14: 529, 15: 380, 16: 244, 17: 187, 18: 130, 19: 81, 20: 68, 21: 50, 22: 35, 23: 26, 25: 22, 24: 18, 26: 16, 28: 12, 27: 7, 31: 7, 29: 5, 32: 5, 30: 4, 34: 2, 37: 2, 39: 2, 33: 1, 38: 1, 45: 1, 47: 1, 48: 1})\n",
      "Counter({98: 119133, 1: 5697, 0: 4575, 2: 4060, 4: 1847, 3: 1729, 6: 1149, 5: 1073, 7: 782, 8: 778, 99: 601, 9: 572, 10: 566, 11: 476, 12: 424, 13: 335, 14: 272, 15: 220, 16: 173, 17: 148, 18: 125, 19: 87, 20: 85, 21: 69, 23: 45, 22: 43, 24: 29, 26: 26, 25: 21, 27: 18, 28: 14, 31: 12, 30: 11, 29: 9, 32: 9, 34: 3, 40: 3, 33: 2, 35: 2, 36: 2, 37: 2, 39: 1, 41: 1, 47: 1, 80: 1})\n",
      "Counter({1: 33153, 0: 27997, 2: 26935, 3: 18822, 4: 12826, 5: 8233, 6: 5289, 7: 3407, 8: 2291, 9: 1587, 10: 1146, 11: 774, 12: 599, 13: 436, 14: 335, 15: 274, 16: 197, 17: 167, 18: 122, 19: 107, 20: 86, 23: 73, 22: 69, 21: 66, 25: 38, 28: 32, 24: 30, 26: 29, 27: 28, 29: 19, 30: 13, 32: 9, 33: 6, 34: 6, 37: 5, 35: 4, 31: 3, 38: 3, 39: 3, 42: 3, 57: 3, 36: 2, 46: 2, 54: 1, 55: 1})\n",
      "Counter({1: 25939, 2: 21982, 3: 17580, 4: 13809, 5: 10564, 97: 10052, 0: 9970, 6: 7871, 98: 6153, 7: 5806, 8: 4230, 9: 3046, 10: 2175, 11: 1543, 12: 1101, 13: 775, 99: 601, 14: 574, 15: 420, 16: 308, 17: 205, 18: 134, 19: 83, 20: 74, 21: 56, 22: 38, 24: 27, 23: 21, 25: 20, 28: 15, 26: 14, 27: 8, 30: 7, 29: 6, 31: 5, 32: 4, 33: 3, 39: 3, 34: 2, 36: 2, 35: 1, 41: 1, 45: 1, 47: 1, 48: 1})\n",
      "Counter({0: 99266, 1: 13112, 997: 8251, 2: 6494, 998: 6153, 3: 3781, 4: 2380, 5: 1490, 6: 1021, 7: 661, 999: 601, 8: 487, 9: 361, 10: 249, 11: 210, 12: 161, 13: 134, 14: 89, 15: 64, 16: 45, 17: 42, 18: 34, 19: 33, 20: 16, 21: 16, 22: 13, 25: 9, 23: 7, 24: 7, 29: 7, 26: 6, 27: 6, 31: 6, 28: 5, 30: 2, 32: 2, 52: 2, 34: 1, 35: 1, 36: 1, 37: 1, 42: 1, 44: 1, 50: 1, 79: 1})\n",
      "Counter({0: 112805, 1: 9217, 998: 6153, 997: 5562, 2: 4145, 3: 2330, 4: 1392, 5: 925, 999: 601, 6: 562, 7: 393, 8: 270, 9: 193, 10: 127, 11: 107, 12: 79, 13: 63, 15: 49, 16: 45, 14: 39, 17: 25, 18: 21, 19: 19, 20: 17, 22: 14, 21: 13, 24: 12, 25: 11, 29: 9, 27: 7, 23: 6, 26: 5, 33: 2, 42: 2, 28: 1, 30: 1, 31: 1, 32: 1, 34: 1, 35: 1, 37: 1, 38: 1, 44: 1, 48: 1, 49: 1})\n",
      "Counter({0: 121002, 997: 8251, 998: 6153, 1: 2684, 2: 1654, 3: 1493, 4: 902, 5: 619, 999: 601, 6: 438, 7: 247, 8: 232, 9: 177, 12: 137, 10: 134, 13: 122, 11: 101, 14: 50, 15: 45, 16: 24, 17: 21, 18: 20, 19: 18, 21: 14, 26: 14, 24: 13, 20: 9, 23: 8, 27: 7, 25: 6, 22: 5, 32: 4, 38: 4, 31: 3, 33: 3, 35: 3, 36: 3, 28: 2, 37: 2, 29: 1, 40: 1, 42: 1, 43: 1, 46: 1, 73: 1})\n",
      "Counter({0: 109112, 1: 11359, 2: 7409, 3: 4229, 4: 3161, 5: 2032, 6: 1643, 7: 1094, 8: 922, 9: 688, 99: 601, 10: 578, 11: 466, 12: 424, 13: 296, 14: 252, 15: 177, 16: 145, 17: 108, 18: 90, 20: 82, 19: 74, 23: 44, 21: 38, 22: 37, 24: 36, 26: 25, 25: 22, 27: 16, 28: 14, 29: 13, 33: 9, 32: 7, 35: 6, 30: 5, 31: 4, 34: 3, 37: 2, 42: 2, 36: 1, 38: 1, 39: 1, 40: 1, 41: 1, 45: 1})\n",
      "Counter({1: 24765, 2: 20703, 0: 17766, 3: 16947, 4: 13500, 5: 10866, 6: 8395, 7: 6334, 98: 6153, 8: 4996, 9: 3720, 10: 2726, 11: 2040, 12: 1507, 13: 1121, 14: 826, 99: 601, 15: 574, 16: 446, 17: 332, 18: 242, 19: 173, 20: 117, 21: 82, 22: 67, 24: 51, 23: 43, 25: 29, 26: 25, 27: 14, 30: 13, 28: 11, 29: 9, 32: 7, 38: 7, 31: 4, 34: 4, 35: 4, 39: 3, 45: 2, 33: 1, 37: 1, 40: 1, 41: 1, 43: 1, 52: 1})\n",
      "Counter({1: 21267, 2: 19784, 3: 17879, 4: 15206, 5: 12507, 6: 10362, 0: 9665, 7: 8486, 8: 6679, 9: 5318, 10: 4074, 11: 3132, 12: 2488, 13: 1938, 14: 1496, 15: 1064, 16: 805, 17: 638, 99: 601, 18: 460, 19: 329, 20: 263, 21: 182, 22: 131, 23: 98, 24: 82, 25: 64, 27: 49, 26: 47, 29: 29, 28: 26, 30: 13, 32: 11, 33: 10, 31: 9, 34: 7, 36: 6, 35: 5, 37: 4, 41: 4, 38: 3, 39: 3, 44: 2, 47: 2, 40: 1, 48: 1, 49: 1})\n",
      "Counter({1: 25807, 2: 20381, 3: 16760, 0: 13664, 4: 13272, 5: 10396, 97: 8581, 6: 8403, 7: 6582, 8: 5022, 9: 3818, 10: 2994, 11: 2194, 12: 1698, 13: 1335, 14: 932, 15: 748, 99: 601, 16: 516, 17: 385, 18: 283, 19: 208, 20: 151, 21: 112, 22: 95, 23: 54, 24: 44, 25: 44, 26: 40, 27: 26, 29: 16, 28: 12, 31: 11, 30: 10, 32: 9, 33: 5, 35: 4, 37: 3, 39: 3, 34: 2, 36: 2, 43: 2, 46: 2, 38: 1, 40: 1, 41: 1, 47: 1})\n",
      "Counter({0: 56171, 1: 25335, 2: 16600, 3: 11737, 4: 8702, 5: 6365, 6: 4780, 7: 3605, 8: 2736, 9: 2046, 10: 1608, 11: 1170, 12: 898, 13: 667, 99: 601, 14: 534, 15: 379, 16: 308, 17: 225, 18: 150, 19: 123, 20: 121, 21: 86, 22: 61, 24: 53, 23: 39, 25: 22, 27: 21, 26: 19, 29: 12, 30: 9, 28: 8, 31: 8, 33: 7, 34: 4, 32: 3, 39: 3, 35: 2, 37: 2, 38: 2, 41: 2, 45: 2, 36: 1, 40: 1, 42: 1, 43: 1, 44: 1})\n",
      "Counter({1: 25234, 2: 20862, 0: 18756, 3: 16839, 4: 13431, 5: 10619, 6: 8185, 98: 6594, 7: 6044, 8: 4722, 9: 3523, 10: 2640, 11: 1858, 12: 1434, 13: 1034, 14: 748, 99: 601, 15: 545, 16: 425, 17: 286, 18: 225, 19: 153, 20: 115, 21: 86, 22: 63, 23: 47, 24: 37, 26: 27, 25: 21, 28: 13, 29: 10, 27: 9, 30: 9, 32: 7, 36: 5, 31: 4, 35: 4, 38: 3, 39: 3, 34: 2, 37: 2, 33: 1, 41: 1, 43: 1, 45: 1, 46: 1, 52: 1})\n",
      "Counter({1: 25597, 2: 20523, 3: 16435, 4: 13174, 97: 10518, 0: 10313, 5: 10266, 6: 7862, 98: 6594, 7: 5855, 8: 4566, 9: 3440, 10: 2524, 11: 1817, 12: 1383, 13: 996, 14: 730, 99: 601, 15: 518, 16: 423, 17: 267, 18: 220, 19: 145, 20: 115, 21: 86, 22: 61, 23: 43, 24: 37, 26: 26, 25: 20, 28: 11, 27: 10, 29: 10, 30: 9, 32: 7, 35: 5, 31: 4, 36: 4, 38: 3, 39: 3, 34: 2, 37: 2, 33: 1, 41: 1, 43: 1, 45: 1, 46: 1, 52: 1})\n",
      "Counter({2: 19586, 3: 18942, 4: 17121, 1: 16504, 5: 14597, 6: 12156, 7: 10172, 8: 7852, 9: 6162, 10: 4705, 11: 3680, 12: 2856, 13: 2053, 0: 1739, 14: 1591, 15: 1150, 16: 858, 17: 683, 99: 601, 18: 521, 19: 369, 20: 280, 97: 214, 21: 200, 22: 156, 23: 105, 24: 86, 26: 58, 25: 52, 27: 36, 28: 31, 29: 21, 30: 20, 31: 19, 33: 13, 35: 10, 34: 8, 32: 5, 36: 3, 39: 3, 40: 3, 37: 2, 38: 2, 49: 2, 42: 1, 44: 1, 48: 1, 59: 1})\n",
      "Counter({0: 96588, 998: 12461, 1: 11312, 997: 8834, 2: 5564, 3: 3232, 4: 2028, 5: 1294, 6: 871, 999: 601, 7: 599, 8: 439, 9: 311, 10: 226, 11: 195, 12: 141, 13: 103, 14: 78, 15: 58, 17: 46, 16: 38, 18: 31, 19: 30, 24: 23, 20: 22, 21: 19, 25: 14, 23: 13, 26: 11, 22: 10, 27: 5, 32: 5, 28: 4, 29: 3, 35: 3, 38: 3, 40: 3, 30: 2, 34: 2, 33: 1, 36: 1, 37: 1, 39: 1, 41: 1, 44: 1, 47: 1, 48: 1, 55: 1})\n",
      "Counter({0: 78881, 1: 27054, 2: 14900, 3: 8775, 4: 5423, 5: 3313, 6: 2053, 7: 1380, 8: 979, 9: 604, 10: 470, 11: 353, 12: 234, 13: 186, 14: 117, 15: 94, 16: 71, 17: 62, 18: 46, 19: 36, 20: 33, 22: 25, 21: 23, 24: 17, 23: 16, 28: 14, 25: 12, 27: 8, 26: 7, 32: 6, 29: 4, 30: 4, 33: 4, 36: 4, 34: 3, 35: 3, 44: 3, 31: 2, 38: 2, 47: 2, 37: 1, 42: 1, 43: 1, 46: 1, 48: 1, 50: 1, 51: 1, 66: 1})\n",
      "Counter({1: 34836, 2: 26536, 3: 17300, 0: 13807, 4: 11188, 97: 8601, 98: 7536, 5: 7289, 6: 4892, 7: 3313, 8: 2542, 9: 1783, 10: 1233, 11: 955, 12: 666, 99: 601, 13: 527, 14: 398, 15: 277, 16: 205, 17: 181, 18: 112, 19: 92, 20: 89, 21: 59, 22: 49, 23: 32, 24: 30, 25: 28, 26: 15, 29: 11, 28: 9, 27: 8, 31: 6, 34: 6, 30: 3, 33: 3, 35: 3, 37: 1, 38: 1, 39: 1, 43: 1, 45: 1, 52: 1, 57: 1, 58: 1, 68: 1, 74: 1})\n",
      "Counter({0: 49057, 1: 34231, 2: 22044, 3: 13562, 4: 8518, 5: 5411, 6: 3655, 7: 2499, 8: 1619, 9: 1188, 10: 896, 11: 627, 12: 434, 13: 323, 14: 244, 15: 197, 16: 132, 17: 119, 18: 99, 19: 66, 20: 54, 21: 35, 22: 35, 23: 35, 24: 24, 25: 21, 26: 19, 28: 15, 27: 13, 31: 9, 29: 7, 30: 7, 32: 6, 34: 5, 33: 4, 35: 3, 39: 3, 37: 2, 38: 2, 40: 2, 46: 2, 36: 1, 44: 1, 48: 1, 53: 1, 55: 1, 58: 1, 67: 1})\n",
      "Counter({1: 33614, -99999: 26002, 2: 22730, 0: 17396, 3: 14871, 4: 9898, 5: 6515, 6: 4281, 7: 2943, 8: 2006, 9: 1340, 10: 974, 11: 736, 12: 477, 13: 347, 14: 237, 15: 187, 16: 158, 17: 108, 18: 79, 19: 66, 21: 54, 20: 53, 22: 30, 23: 30, 24: 20, 26: 15, 25: 13, 33: 7, 27: 5, 30: 4, 34: 4, 28: 3, 29: 3, 31: 3, 32: 3, 36: 2, 41: 2, 43: 2, 46: 2, 69: 2, 80: 2, 35: 1, 38: 1, 47: 1, 52: 1, 53: 1, 57: 1, 60: 1})\n",
      "Counter({1: 26902, 2: 22499, 3: 18425, 4: 14773, 5: 11726, 6: 9209, 96: 9179, 7: 7120, 8: 5429, 9: 4202, 10: 3252, 11: 2386, 98: 2327, 12: 1859, 13: 1319, 14: 1002, 15: 732, 99: 601, 16: 589, 17: 441, 18: 311, 19: 223, 20: 159, 21: 127, 22: 105, 23: 87, 24: 56, 25: 43, 26: 31, 27: 23, 28: 16, 30: 14, 29: 11, 32: 8, 33: 8, 31: 7, 35: 5, 48: 5, 36: 4, 34: 3, 39: 3, 41: 3, 38: 1, 42: 1, 43: 1, 45: 1, 46: 1, 49: 1, 66: 1})\n",
      "Counter({0: 95987, 1: 16446, 2: 9138, 3: 5823, 4: 4199, 5: 3056, 6: 2290, 7: 1733, 8: 1243, 9: 1007, 10: 767, 999: 601, 11: 589, 12: 484, 13: 374, 14: 285, 15: 211, 16: 163, 17: 141, 997: 131, 19: 102, 18: 96, 20: 68, 21: 50, 22: 41, 23: 35, 24: 30, 25: 25, 26: 22, 27: 19, 28: 12, 30: 10, 29: 9, 31: 6, 38: 6, 35: 5, 32: 3, 33: 3, 34: 3, 37: 3, 52: 3, 36: 2, 39: 2, 44: 2, 50: 2, 40: 1, 42: 1, 49: 1, 79: 1})\n",
      "Counter({2: 19989, 3: 19311, 4: 17205, 1: 17047, 5: 14639, 6: 12134, 7: 10003, 8: 7605, 9: 6046, 10: 4502, 11: 3501, 12: 2721, 13: 1951, 0: 1949, 14: 1483, 15: 1049, 16: 772, 17: 631, 99: 601, 18: 441, 19: 331, 97: 317, 20: 244, 21: 182, 22: 129, 23: 96, 24: 76, 25: 48, 26: 47, 98: 40, 27: 28, 28: 24, 30: 13, 31: 13, 32: 13, 29: 12, 33: 10, 34: 7, 35: 7, 37: 2, 38: 2, 39: 2, 40: 2, 36: 1, 42: 1, 43: 1, 48: 1, 49: 1, 56: 1})\n",
      "Counter({0: 75134, 998: 31775, 997: 18550, 1: 5636, 2: 3227, 3: 2069, 4: 1525, 5: 1198, 6: 958, 7: 782, 8: 667, 999: 601, 9: 517, 10: 398, 11: 361, 12: 308, 13: 268, 14: 235, 15: 187, 16: 152, 17: 130, 18: 122, 19: 83, 20: 62, 21: 55, 22: 44, 23: 40, 24: 40, 25: 24, 27: 14, 32: 9, 26: 8, 28: 7, 30: 7, 31: 7, 33: 5, 34: 5, 29: 3, 37: 3, 38: 3, 35: 2, 39: 2, 40: 2, 36: 1, 41: 1, 44: 1, 46: 1, 47: 1, 61: 1})\n"
     ]
    }
   ],
   "source": [
    "#for cols in ints_categories_55:\n",
    "#    print Counter(sl_train[cols])"
   ]
  },
  {
   "cell_type": "code",
   "execution_count": 73,
   "metadata": {
    "collapsed": false
   },
   "outputs": [
    {
     "data": {
      "text/plain": [
       "4"
      ]
     },
     "execution_count": 73,
     "metadata": {},
     "output_type": "execute_result"
    }
   ],
   "source": [
    "len(remove_vars)"
   ]
  },
  {
   "cell_type": "code",
   "execution_count": 74,
   "metadata": {
    "collapsed": false
   },
   "outputs": [
    {
     "data": {
      "text/plain": [
       "4"
      ]
     },
     "execution_count": 74,
     "metadata": {},
     "output_type": "execute_result"
    }
   ],
   "source": [
    "len(remove_vars)"
   ]
  },
  {
   "cell_type": "code",
   "execution_count": 75,
   "metadata": {
    "collapsed": false
   },
   "outputs": [],
   "source": [
    "#Crashes Notebook\n",
    "object_categories_50 = []\n",
    "object_other = []\n",
    "\n",
    "for cols in objects:\n",
    "    if len(set(sl_train.loc[r,cols].values)) == 1:\n",
    "        remove_vars.append(cols)        \n",
    "    elif len(set(sl_train.loc[r,cols].values)) <= 55:\n",
    "        object_categories_50.append(cols)\n",
    "    else:\n",
    "        object_other.append(cols)\n",
    "        "
   ]
  },
  {
   "cell_type": "markdown",
   "metadata": {
    "collapsed": false
   },
   "source": [
    "Floats #OK\n",
    "Ints Binary #OK\n",
    "Ints Categorical\n",
    "Ints Real #OK\n",
    "Objects Categorical\n",
    "Objects Other "
   ]
  },
  {
   "cell_type": "code",
   "execution_count": 79,
   "metadata": {
    "collapsed": false
   },
   "outputs": [
    {
     "name": "stdout",
     "output_type": "stream",
     "text": [
      "1930\n"
     ]
    }
   ],
   "source": [
    "print len(floats) + len(ints_categories_binary) + len(ints_categories_55) \\\n",
    "    + len(ints_real) + len(object_categories_50) + len(object_other)"
   ]
  },
  {
   "cell_type": "code",
   "execution_count": 72,
   "metadata": {
    "collapsed": false
   },
   "outputs": [
    {
     "name": "stdout",
     "output_type": "stream",
     "text": [
      "VAR_0563 Counter({0: 140501, 1: 4730})\n",
      "VAR_0566 Counter({0: 121232, 1: 23999})\n",
      "VAR_0567 Counter({0: 143064, 1: 2167})\n",
      "VAR_0732 Counter({-99999: 74801, 0: 70430})\n",
      "VAR_0733 Counter({0: 110393, -99999: 34838})\n",
      "VAR_0736 Counter({0: 92376, -99999: 52855})\n",
      "VAR_0737 Counter({-99999: 81544, 0: 63687})\n",
      "VAR_0739 Counter({0: 112352, -99999: 32879})\n",
      "VAR_0740 Counter({0: 118217, 1: 27014})\n",
      "VAR_0741 Counter({0: 141328, 1: 3903})\n",
      "VAR_0924 Counter({0: 144760, 1: 471})\n",
      "VAR_1162 Counter({0: 119058, 1: 26173})\n",
      "VAR_1163 Counter({0: 120946, 1: 24285})\n",
      "VAR_1164 Counter({0: 144409, 1: 822})\n",
      "VAR_1165 Counter({0: 144165, 1: 1066})\n",
      "VAR_1427 Counter({0: 145145, 1: 86})\n"
     ]
    }
   ],
   "source": [
    "for cols in ints_categories_binary:\n",
    "    print cols, Counter(sl_train[cols])"
   ]
  },
  {
   "cell_type": "code",
   "execution_count": 89,
   "metadata": {
    "collapsed": false
   },
   "outputs": [
    {
     "name": "stdout",
     "output_type": "stream",
     "text": [
      "VAR_0732\n",
      "VAR_0733\n",
      "VAR_0736\n",
      "VAR_0737\n",
      "VAR_0739\n"
     ]
    }
   ],
   "source": [
    "for cols in ints_categories_binary:\n",
    "    if set(sl_train[cols]) != set([0,1]):\n",
    "        print cols\n",
    "        sl_train[cols] = sl_train[cols].apply(lambda x: 0 if x == 0 else 1)"
   ]
  },
  {
   "cell_type": "code",
   "execution_count": 90,
   "metadata": {
    "collapsed": false
   },
   "outputs": [
    {
     "name": "stdout",
     "output_type": "stream",
     "text": [
      "VAR_0563 Counter({0: 140501, 1: 4730})\n",
      "VAR_0566 Counter({0: 121232, 1: 23999})\n",
      "VAR_0567 Counter({0: 143064, 1: 2167})\n",
      "VAR_0732 Counter({1: 74801, 0: 70430})\n",
      "VAR_0733 Counter({0: 110393, 1: 34838})\n",
      "VAR_0736 Counter({0: 92376, 1: 52855})\n",
      "VAR_0737 Counter({1: 81544, 0: 63687})\n",
      "VAR_0739 Counter({0: 112352, 1: 32879})\n",
      "VAR_0740 Counter({0: 118217, 1: 27014})\n",
      "VAR_0741 Counter({0: 141328, 1: 3903})\n",
      "VAR_0924 Counter({0: 144760, 1: 471})\n",
      "VAR_1162 Counter({0: 119058, 1: 26173})\n",
      "VAR_1163 Counter({0: 120946, 1: 24285})\n",
      "VAR_1164 Counter({0: 144409, 1: 822})\n",
      "VAR_1165 Counter({0: 144165, 1: 1066})\n",
      "VAR_1427 Counter({0: 145145, 1: 86})\n"
     ]
    }
   ],
   "source": [
    "for cols in ints_categories_binary:\n",
    "    print cols, Counter(sl_train[cols])"
   ]
  },
  {
   "cell_type": "code",
   "execution_count": 96,
   "metadata": {
    "collapsed": false
   },
   "outputs": [
    {
     "name": "stdout",
     "output_type": "stream",
     "text": [
      "VAR_0008 Counter({False: 145175, nan: 56})\n",
      "VAR_0009 Counter({False: 145175, nan: 56})\n",
      "VAR_0010 Counter({False: 145175, nan: 56})\n",
      "VAR_0011 Counter({False: 145175, nan: 56})\n",
      "VAR_0012 Counter({False: 145175, nan: 56})\n",
      "VAR_0043 Counter({False: 145175, nan: 56})\n",
      "VAR_0196 Counter({False: 145175, nan: 56})\n",
      "VAR_0226 Counter({False: 144703, True: 472, nan: 56})\n",
      "VAR_0229 Counter({False: 145175, nan: 56})\n",
      "VAR_0230 Counter({False: 145004, True: 171, nan: 56})\n",
      "VAR_0232 Counter({True: 82118, False: 63057, nan: 56})\n",
      "VAR_0236 Counter({True: 144849, False: 326, nan: 56})\n",
      "VAR_0239 Counter({False: 145175, nan: 56})\n",
      "VAR_0001 Counter({'R': 84893, 'H': 59829, 'Q': 509})\n",
      "VAR_0005 Counter({'B': 71449, 'C': 54299, 'N': 16605, 'S': 2878})\n",
      "VAR_0044 Counter({'[]': 145175, nan: 56})\n",
      "VAR_0202 Counter({'BatchInquiry': 145175, nan: 56})\n",
      "VAR_0216 Counter({'DS': 145175, nan: 56})\n",
      "VAR_0222 Counter({'C6': 145175, nan: 56})\n",
      "VAR_0237 Counter({'CA': 15770, 'TX': 14186, 'NC': 11691, 'GA': 8730, 'IL': 8479, 'VA': 8081, 'OH': 7307, 'FL': 7004, 'PA': 6937, 'SC': 6083, 'IN': 5506, 'TN': 5226, 'AL': 4985, 'WA': 3722, 'KY': 3404, 'LA': 3284, 'MO': 3257, 'CO': 2808, 'MS': 2386, 'OK': 2338, 'WI': 2234, 'OR': 1523, 'WV': 1459, 'NY': 1372, 'NM': 1322, 'AZ': 1099, 'MI': 1027, 'ID': 695, 'MD': 592, 'KS': 548, 'NJ': 536, 'UT': 293, 'HI': 264, 'IA': 241, 'DE': 161, 'NE': 151, 'NV': 146, 'WY': 109, 'MT': 105, 'SD': 66, nan: 56, 'DC': 28, 'AR': 9, 'MN': 9, 'AK': 1, 'CT': 1})\n",
      "VAR_0283 Counter({'S': 113607, 'H': 24513, '-1': 4960, nan: 918, 'P': 637, 'R': 303, 'F': 267, 'U': 26})\n",
      "VAR_0305 Counter({'S': 108830, 'H': 25366, 'P': 6708, '-1': 2907, nan: 918, 'R': 413, 'U': 54, 'M': 33, 'F': 2})\n",
      "VAR_0325 Counter({'S': 89842, 'H': 26745, '-1': 13574, 'P': 10988, 'R': 2056, nan: 918, 'F': 825, 'M': 127, 'U': 115, 'G': 41})\n",
      "VAR_0342 Counter({'-1': 30969, 'FF': 21262, 'EE': 11209, 'FE': 11171, 'DD': 10030, 'EF': 9365, 'ED': 7675, 'FD': 6674, 'DE': 6600, 'DF': 5330, 'UU': 4183, 'CD': 2140, 'DC': 2020, 'CE': 1757, 'CC': 1710, 'EC': 1629, 'UF': 1535, 'UE': 1013, nan: 918, 'FU': 880, 'CF': 807, 'FC': 768, 'UD': 714, 'EU': 603, 'DU': 430, 'BD': 355, 'BC': 332, 'BE': 330, 'CB': 295, 'DB': 255, 'AD': 249, 'EB': 220, 'BB': 194, 'AE': 186, 'AC': 151, 'AF': 148, 'EA': 138, 'BF': 127, 'UC': 123, 'CA': 114, 'DA': 111, 'AA': 104, 'FB': 87, 'CU': 87, 'AB': 80, 'FA': 69, 'BA': 47, 'BU': 14, 'UB': 9, 'AU': 7, 'UA': 7})\n",
      "VAR_0352 Counter({'U': 59807, 'O': 51734, 'R': 30251, '-1': 2521, nan: 918})\n",
      "VAR_0353 Counter({'U': 70031, 'R': 38568, 'O': 29770, '-1': 5944, nan: 918})\n",
      "VAR_0354 Counter({'U': 68242, 'R': 35527, '-1': 23643, 'O': 16901, nan: 918})\n",
      "VAR_0466 Counter({'-1': 121461, 'I': 22852, nan: 918})\n",
      "VAR_0467 Counter({'-1': 121675, 'Discharged': 20955, 'Dismissed': 1577, nan: 918, 'Discharge NA': 106})\n",
      "VAR_1934 Counter({'IAPS': 68484, 'BRANCH': 66770, 'MOBILE': 4066, 'CSC': 3094, 'RCC': 2817})\n"
     ]
    }
   ],
   "source": [
    "objects_binary = []\n",
    "objects_category = []\n",
    "for cols in object_categories_50:\n",
    "    print cols, Counter(sl_train[cols])\n",
    "    if len(set(sl_train[cols])) == 2:\n",
    "        objects_binary.append(cols)\n",
    "    else:\n",
    "        objects_category.append(cols)"
   ]
  },
  {
   "cell_type": "code",
   "execution_count": 98,
   "metadata": {
    "collapsed": false
   },
   "outputs": [
    {
     "name": "stdout",
     "output_type": "stream",
     "text": [
      "0\n"
     ]
    }
   ],
   "source": [
    "x = False\n",
    "print 0 if x is False else 1"
   ]
  },
  {
   "cell_type": "code",
   "execution_count": 99,
   "metadata": {
    "collapsed": false
   },
   "outputs": [],
   "source": [
    "for cols in objects_binary:\n",
    "    sl_train[cols] = sl_train[cols].apply(lambda x: 0 if x is False else 1)"
   ]
  },
  {
   "cell_type": "code",
   "execution_count": 101,
   "metadata": {
    "collapsed": false
   },
   "outputs": [
    {
     "name": "stdout",
     "output_type": "stream",
     "text": [
      " VAR_0008 Counter({0: 145175, 1: 56})\n",
      "VAR_0009 Counter({0: 145175, 1: 56})\n",
      "VAR_0010 Counter({0: 145175, 1: 56})\n",
      "VAR_0011 Counter({0: 145175, 1: 56})\n",
      "VAR_0012 Counter({0: 145175, 1: 56})\n",
      "VAR_0043 Counter({0: 145175, 1: 56})\n",
      "VAR_0196 Counter({0: 145175, 1: 56})\n",
      "VAR_0229 Counter({0: 145175, 1: 56})\n",
      "VAR_0239 Counter({0: 145175, 1: 56})\n",
      "VAR_0044 Counter({1: 145231})\n",
      "VAR_0202 Counter({1: 145231})\n",
      "VAR_0216 Counter({1: 145231})\n",
      "VAR_0222 Counter({1: 145231})\n"
     ]
    }
   ],
   "source": [
    "for cols in objects_binary:\n",
    "    print cols, Counter(sl_train[cols])"
   ]
  },
  {
   "cell_type": "code",
   "execution_count": 102,
   "metadata": {
    "collapsed": false
   },
   "outputs": [
    {
     "name": "stdout",
     "output_type": "stream",
     "text": [
      "VAR_0008 VAR_0009 1.0\n",
      "VAR_0008 VAR_0010 1.0\n",
      "VAR_0008 VAR_0011 1.0\n",
      "VAR_0008 VAR_0012 1.0\n",
      "VAR_0008 VAR_0043 1.0\n",
      "VAR_0008 VAR_0196 1.0\n",
      "VAR_0008 VAR_0229 1.0\n",
      "VAR_0008 VAR_0239 1.0\n",
      "VAR_0008 VAR_0044 0.000385592607639\n",
      "VAR_0008 VAR_0202 0.000385592607639\n",
      "VAR_0008 VAR_0216 0.000385592607639\n",
      "VAR_0008 VAR_0222 0.000385592607639\n",
      "VAR_0009 VAR_0010 1.0\n",
      "VAR_0009 VAR_0011 1.0\n",
      "VAR_0009 VAR_0012 1.0\n",
      "VAR_0009 VAR_0043 1.0\n",
      "VAR_0009 VAR_0196 1.0\n",
      "VAR_0009 VAR_0229 1.0\n",
      "VAR_0009 VAR_0239 1.0\n",
      "VAR_0009 VAR_0044 0.000385592607639\n",
      "VAR_0009 VAR_0202 0.000385592607639\n",
      "VAR_0009 VAR_0216 0.000385592607639\n",
      "VAR_0009 VAR_0222 0.000385592607639\n",
      "VAR_0010 VAR_0011 1.0\n",
      "VAR_0010 VAR_0012 1.0\n",
      "VAR_0010 VAR_0043 1.0\n",
      "VAR_0010 VAR_0196 1.0\n",
      "VAR_0010 VAR_0229 1.0\n",
      "VAR_0010 VAR_0239 1.0\n",
      "VAR_0010 VAR_0044 0.000385592607639\n",
      "VAR_0010 VAR_0202 0.000385592607639\n",
      "VAR_0010 VAR_0216 0.000385592607639\n",
      "VAR_0010 VAR_0222 0.000385592607639\n",
      "VAR_0011 VAR_0012 1.0\n",
      "VAR_0011 VAR_0043 1.0\n",
      "VAR_0011 VAR_0196 1.0\n",
      "VAR_0011 VAR_0229 1.0\n",
      "VAR_0011 VAR_0239 1.0\n",
      "VAR_0011 VAR_0044 0.000385592607639\n",
      "VAR_0011 VAR_0202 0.000385592607639\n",
      "VAR_0011 VAR_0216 0.000385592607639\n",
      "VAR_0011 VAR_0222 0.000385592607639\n",
      "VAR_0012 VAR_0043 1.0\n",
      "VAR_0012 VAR_0196 1.0\n",
      "VAR_0012 VAR_0229 1.0\n",
      "VAR_0012 VAR_0239 1.0\n",
      "VAR_0012 VAR_0044 0.000385592607639\n",
      "VAR_0012 VAR_0202 0.000385592607639\n",
      "VAR_0012 VAR_0216 0.000385592607639\n",
      "VAR_0012 VAR_0222 0.000385592607639\n",
      "VAR_0043 VAR_0196 1.0\n",
      "VAR_0043 VAR_0229 1.0\n",
      "VAR_0043 VAR_0239 1.0\n",
      "VAR_0043 VAR_0044 0.000385592607639\n",
      "VAR_0043 VAR_0202 0.000385592607639\n",
      "VAR_0043 VAR_0216 0.000385592607639\n",
      "VAR_0043 VAR_0222 0.000385592607639\n",
      "VAR_0196 VAR_0229 1.0\n",
      "VAR_0196 VAR_0239 1.0\n",
      "VAR_0196 VAR_0044 0.000385592607639\n",
      "VAR_0196 VAR_0202 0.000385592607639\n",
      "VAR_0196 VAR_0216 0.000385592607639\n",
      "VAR_0196 VAR_0222 0.000385592607639\n",
      "VAR_0229 VAR_0239 1.0\n",
      "VAR_0229 VAR_0044 0.000385592607639\n",
      "VAR_0229 VAR_0202 0.000385592607639\n",
      "VAR_0229 VAR_0216 0.000385592607639\n",
      "VAR_0229 VAR_0222 0.000385592607639\n",
      "VAR_0239 VAR_0044 0.000385592607639\n",
      "VAR_0239 VAR_0202 0.000385592607639\n",
      "VAR_0239 VAR_0216 0.000385592607639\n",
      "VAR_0239 VAR_0222 0.000385592607639\n",
      "VAR_0044 VAR_0202 1.0\n",
      "VAR_0044 VAR_0216 1.0\n",
      "VAR_0044 VAR_0222 1.0\n",
      "VAR_0202 VAR_0216 1.0\n",
      "VAR_0202 VAR_0222 1.0\n",
      "VAR_0216 VAR_0222 1.0\n"
     ]
    }
   ],
   "source": [
    "# Use jaccard similarity score and itertools combination to see which columns are similar\n",
    "for col1, col2 in itertools.combinations(objects_binary, 2):\n",
    "    print col1, col2, sklearn.metrics.jaccard_similarity_score(sl_train[col1], sl_train[col2])"
   ]
  },
  {
   "cell_type": "code",
   "execution_count": 73,
   "metadata": {
    "collapsed": false
   },
   "outputs": [],
   "source": [
    "#Generate Dummies for categorical variables"
   ]
  },
  {
   "cell_type": "code",
   "execution_count": 104,
   "metadata": {
    "collapsed": false
   },
   "outputs": [],
   "source": [
    "to_dummies = objects_category + ints_categories_55"
   ]
  },
  {
   "cell_type": "code",
   "execution_count": 106,
   "metadata": {
    "collapsed": false
   },
   "outputs": [
    {
     "data": {
      "text/plain": [
       "725"
      ]
     },
     "execution_count": 106,
     "metadata": {},
     "output_type": "execute_result"
    }
   ],
   "source": [
    "len(to_dummies)"
   ]
  },
  {
   "cell_type": "code",
   "execution_count": 107,
   "metadata": {
    "collapsed": true
   },
   "outputs": [],
   "source": [
    "list_of_dummy_dfs = [pd.get_dummies(sl_train[cols], prefix=cols) for cols in to_dummies]"
   ]
  },
  {
   "cell_type": "code",
   "execution_count": 108,
   "metadata": {
    "collapsed": true
   },
   "outputs": [],
   "source": [
    "test = pd.concat(list_of_dummy_dfs, axis = 1)"
   ]
  },
  {
   "cell_type": "code",
   "execution_count": 109,
   "metadata": {
    "collapsed": false
   },
   "outputs": [
    {
     "data": {
      "text/plain": [
       "(145231, 15166)"
      ]
     },
     "execution_count": 109,
     "metadata": {},
     "output_type": "execute_result"
    }
   ],
   "source": [
    "test.shape"
   ]
  },
  {
   "cell_type": "code",
   "execution_count": null,
   "metadata": {
    "collapsed": true
   },
   "outputs": [],
   "source": []
  },
  {
   "cell_type": "code",
   "execution_count": null,
   "metadata": {
    "collapsed": true
   },
   "outputs": [],
   "source": [
    "sl_train.drop(axis = 1, inplace = True)"
   ]
  },
  {
   "cell_type": "code",
   "execution_count": 74,
   "metadata": {
    "collapsed": false
   },
   "outputs": [
    {
     "ename": "TypeError",
     "evalue": "__init__() takes at least 3 arguments (1 given)",
     "output_type": "error",
     "traceback": [
      "\u001b[0;31m---------------------------------------------------------------------------\u001b[0m",
      "\u001b[0;31mTypeError\u001b[0m                                 Traceback (most recent call last)",
      "\u001b[0;32m<ipython-input-74-a3d8d6ad36c9>\u001b[0m in \u001b[0;36m<module>\u001b[0;34m()\u001b[0m\n\u001b[1;32m      2\u001b[0m \u001b[0mpca\u001b[0m \u001b[0;34m=\u001b[0m \u001b[0msklearn\u001b[0m\u001b[0;34m.\u001b[0m\u001b[0mdecomposition\u001b[0m\u001b[0;34m.\u001b[0m\u001b[0mPCA\u001b[0m\u001b[0;34m(\u001b[0m\u001b[0;34m)\u001b[0m\u001b[0;34m\u001b[0m\u001b[0m\n\u001b[1;32m      3\u001b[0m \u001b[0mclf\u001b[0m \u001b[0;34m=\u001b[0m \u001b[0msklearn\u001b[0m\u001b[0;34m.\u001b[0m\u001b[0mtree\u001b[0m\u001b[0;34m.\u001b[0m\u001b[0mDecisionTreeClassifier\u001b[0m\u001b[0;34m(\u001b[0m\u001b[0;34m)\u001b[0m\u001b[0;34m\u001b[0m\u001b[0m\n\u001b[0;32m----> 4\u001b[0;31m \u001b[0mgrid\u001b[0m \u001b[0;34m=\u001b[0m \u001b[0msklearn\u001b[0m\u001b[0;34m.\u001b[0m\u001b[0mgrid_search\u001b[0m\u001b[0;34m.\u001b[0m\u001b[0mGridSearchCV\u001b[0m\u001b[0;34m(\u001b[0m\u001b[0;34m)\u001b[0m\u001b[0;34m\u001b[0m\u001b[0m\n\u001b[0m",
      "\u001b[0;31mTypeError\u001b[0m: __init__() takes at least 3 arguments (1 given)"
     ]
    }
   ],
   "source": [
    "scaler = sklearn.preprocessing.StandardScaler()\n",
    "pca = sklearn.decomposition.PCA()\n",
    "clf = sklearn.tree.DecisionTreeClassifier()\n",
    "grid = sklearn.grid_search.GridSearchCV()"
   ]
  },
  {
   "cell_type": "code",
   "execution_count": 75,
   "metadata": {
    "collapsed": true
   },
   "outputs": [],
   "source": [
    "# params = {}"
   ]
  },
  {
   "cell_type": "code",
   "execution_count": 76,
   "metadata": {
    "collapsed": false
   },
   "outputs": [
    {
     "data": {
      "text/plain": [
       "51"
      ]
     },
     "execution_count": 76,
     "metadata": {},
     "output_type": "execute_result"
    }
   ],
   "source": [
    "len(objects)"
   ]
  },
  {
   "cell_type": "code",
   "execution_count": 77,
   "metadata": {
    "collapsed": false
   },
   "outputs": [
    {
     "data": {
      "text/plain": [
       "39"
      ]
     },
     "execution_count": 77,
     "metadata": {},
     "output_type": "execute_result"
    }
   ],
   "source": [
    "len(object_categories_50)"
   ]
  },
  {
   "cell_type": "code",
   "execution_count": 78,
   "metadata": {
    "collapsed": false
   },
   "outputs": [
    {
     "name": "stdout",
     "output_type": "stream",
     "text": [
      "['04SEP12:00:00:00' nan nan nan nan nan nan '26JAN12:00:00:00' nan\n",
      " '18SEP12:00:00:00' nan '14APR12:00:00:00' nan nan nan nan nan\n",
      " '25OCT11:00:00:00' nan nan nan nan nan nan nan nan '22NOV11:00:00:00'\n",
      " '19JAN12:00:00:00' nan nan nan nan nan '19JAN12:00:00:00' nan nan nan\n",
      " '30NOV11:00:00:00' '17FEB12:00:00:00' nan '30OCT11:00:00:00' nan nan\n",
      " '16APR08:00:00:00' '31MAR12:00:00:00' '16APR12:00:00:00' nan nan\n",
      " '05MAY11:00:00:00' nan]\n",
      "['10NOV11:00:00:00' '13DEC11:00:00:00' '23SEP10:00:00:00'\n",
      " '15OCT11:00:00:00' '06JUN12:00:00:00' '26NOV10:00:00:00'\n",
      " '18JAN12:00:00:00' '26JAN12:00:00:00' '28JUL12:00:00:00'\n",
      " '03AUG10:00:00:00' '18NOV11:00:00:00' '06FEB08:00:00:00'\n",
      " '15DEC11:00:00:00' '03MAY12:00:00:00' '24JAN12:00:00:00'\n",
      " '20SEP12:00:00:00' '19SEP12:00:00:00' '07APR10:00:00:00'\n",
      " '06SEP12:00:00:00' '05JUN12:00:00:00' '26JUL12:00:00:00'\n",
      " '12SEP12:00:00:00' '25FEB12:00:00:00' '28APR12:00:00:00'\n",
      " '15AUG12:00:00:00' '13DEC11:00:00:00' '17SEP10:00:00:00'\n",
      " '26JUL07:00:00:00' '18MAY12:00:00:00' '23OCT12:00:00:00'\n",
      " '22SEP10:00:00:00' '25JAN12:00:00:00' '06JUL12:00:00:00'\n",
      " '12DEC11:00:00:00' '08JUN12:00:00:00' '28OCT11:00:00:00'\n",
      " '08NOV11:00:00:00' '05DEC09:00:00:00' '14NOV11:00:00:00'\n",
      " '24APR12:00:00:00' '30OCT11:00:00:00' '17APR12:00:00:00'\n",
      " '19APR12:00:00:00' '11JAN08:00:00:00' '23FEB06:00:00:00'\n",
      " '14DEC11:00:00:00' '16JUN12:00:00:00' '10JAN12:00:00:00'\n",
      " '15OCT07:00:00:00' '02JUN12:00:00:00']\n",
      "[nan nan nan nan nan nan nan '12MAR12:00:00:00' nan nan nan\n",
      " '25FEB12:00:00:00' nan nan nan nan nan nan nan nan nan nan nan nan nan nan\n",
      " nan nan nan nan nan nan nan '22DEC11:00:00:00' nan nan nan\n",
      " '08DEC09:00:00:00' nan nan nan nan nan nan '23FEB06:00:00:00'\n",
      " '16APR12:00:00:00' nan nan '15OCT07:00:00:00' nan]\n",
      "[nan nan nan nan nan nan nan '22MAR12:00:00:00' nan nan nan nan nan nan nan\n",
      " nan nan nan nan nan nan nan nan nan nan nan nan nan nan nan nan nan nan\n",
      " '26JAN12:00:00:00' nan nan nan '22AUG11:00:00:00' nan nan nan nan nan nan\n",
      " '28APR06:00:00:00' '25MAY12:00:00:00' nan nan '23JUL09:00:00:00' nan]\n",
      "[nan nan nan nan nan nan nan '12MAR12:00:00:00' nan nan nan\n",
      " '25FEB12:00:00:00' nan nan nan nan nan nan nan nan nan nan nan nan nan nan\n",
      " nan nan nan nan nan nan nan '13JAN12:00:00:00' nan nan nan\n",
      " '07SEP11:00:00:00' nan nan nan nan nan nan '23FEB06:00:00:00'\n",
      " '25MAY12:00:00:00' nan nan '21JAN09:00:00:00' nan]\n",
      "[nan nan nan nan nan nan nan '12MAR12:00:00:00' nan nan nan\n",
      " '25FEB12:00:00:00' nan nan nan nan nan nan nan nan nan nan nan nan nan nan\n",
      " '14JUL11:00:00:00' nan nan nan nan nan nan '22DEC11:00:00:00' nan nan nan\n",
      " '08DEC09:00:00:00' nan nan nan nan nan nan '23FEB06:00:00:00'\n",
      " '16APR12:00:00:00' nan nan '15OCT07:00:00:00' nan]\n",
      "[nan nan nan nan nan nan nan '22MAR12:00:00:00' nan nan nan nan nan nan nan\n",
      " nan nan nan nan nan nan nan nan nan nan nan nan nan nan nan nan nan nan\n",
      " '26JAN12:00:00:00' nan nan nan '22AUG11:00:00:00' nan nan nan nan nan nan\n",
      " '28APR06:00:00:00' '25MAY12:00:00:00' nan nan '23JUL09:00:00:00' nan]\n",
      "[nan nan nan nan nan nan nan '12MAR12:00:00:00' nan nan nan\n",
      " '25FEB12:00:00:00' nan nan nan nan nan nan nan nan nan nan nan nan nan nan\n",
      " '14JUL11:00:00:00' nan nan nan nan nan nan '13JAN12:00:00:00' nan nan nan\n",
      " '21NOV11:00:00:00' nan nan nan nan nan nan '23FEB06:00:00:00'\n",
      " '25MAY12:00:00:00' nan nan '21JAN09:00:00:00' nan]\n",
      "['SANTEE' 'REEDSVILLE' 'LIBERTY' 'FRANKFORT' 'SPRING' 'GRESHAM'\n",
      " 'WARNER ROBINS' 'SAN ANTONIO' 'NORRISTOWN' 'MURFREESBORO' 'CARTERSVILLE'\n",
      " 'BETHLEHEM' 'GIG HARBOR' 'BAKERSFIELD' 'HERNDON' 'SHELBY GAP' 'ONTARIO'\n",
      " 'MEMPHIS' 'BAKERSFIED' 'ALTAMONTE SPRINGS' 'BARNESVILLE' 'HOUSTON' 'PERU'\n",
      " 'TACOMA' 'OZARK' 'RIVERSIDE' 'AUGUSTA' 'CHICAGO' 'SEVIERVILLE'\n",
      " 'WOODBRIDGE' 'CAMP HILL' 'WOODSTOCK' 'HARTSELLE' 'SAN ANTONIO'\n",
      " 'WESLEY CHAPEL' 'MURRIETA' 'HOUSTON' 'SANDUSKY' 'MIDDLEBURG' 'HARDEEVILLE'\n",
      " 'MURRIETA' 'CHICAGO' 'WINTER HAVEN' 'DEVILLE' 'LAS VEGAS' 'MONCKS CORNER'\n",
      " 'KNIGHTDALE' 'COLUMBIA STATION' 'QUINCY' 'CHICAGO']\n",
      "['01FEB14:00:11:00' '30JAN14:15:11:00' '01FEB14:00:07:00'\n",
      " '29JAN14:19:31:00' '30JAN14:23:52:00' '29JAN14:19:18:00'\n",
      " '30JAN14:16:46:00' '30JAN14:21:39:00' '31JAN14:17:40:00'\n",
      " '01FEB14:00:16:00' '29JAN14:22:27:00' '30JAN14:22:14:00'\n",
      " '30JAN14:15:24:00' '30JAN14:22:12:00' '30JAN14:16:59:00'\n",
      " '31JAN14:23:15:00' '31JAN14:23:08:00' '29JAN14:22:53:00'\n",
      " '31JAN14:22:03:00' '30JAN14:23:45:00' '31JAN14:22:16:00'\n",
      " '31JAN14:22:22:00' '30JAN14:18:11:00' '30JAN14:21:59:00'\n",
      " '31JAN14:18:33:00' '30JAN14:15:16:00' '29JAN14:22:58:00'\n",
      " '31JAN14:16:06:00' '30JAN14:23:03:00' '01FEB14:00:59:00'\n",
      " '30JAN14:18:11:00' '30JAN14:17:00:00' '31JAN14:16:32:00'\n",
      " '30JAN14:19:10:00' '31JAN14:00:02:00' '29JAN14:20:43:00'\n",
      " '30JAN14:15:08:00' '29JAN14:23:21:00' '30JAN14:23:51:00'\n",
      " '30JAN14:21:43:00' '29JAN14:20:48:00' '30JAN14:21:03:00'\n",
      " '31JAN14:16:30:00' '29JAN14:22:25:00' '31JAN14:22:57:00'\n",
      " '31JAN14:18:09:00' '31JAN14:15:30:00' '30JAN14:16:30:00'\n",
      " '30JAN14:19:17:00' '30JAN14:23:42:00']\n",
      "[nan nan nan nan nan nan nan nan nan nan nan nan nan nan nan nan nan nan\n",
      " nan nan nan nan nan nan nan nan nan nan nan nan nan nan nan nan nan nan\n",
      " nan nan nan nan nan nan nan nan nan nan nan nan nan nan]\n",
      "['02OCT12:02:00:00' '13DEC11:02:00:00' '01NOV12:02:00:00'\n",
      " '15OCT11:02:00:00' '06JUN12:02:00:00' '11OCT11:02:00:00'\n",
      " '18JAN12:02:00:00' '23APR12:02:00:00' '28JUL12:02:00:00'\n",
      " '03OCT12:02:00:00' '18NOV11:02:00:00' '03MAY12:02:00:00'\n",
      " '15DEC11:02:00:00' '03MAY12:02:00:00' '24JAN12:02:00:00'\n",
      " '20SEP12:02:00:00' '19SEP12:02:00:00' '23NOV11:02:00:00'\n",
      " '06SEP12:02:00:00' '05JUN12:02:00:00' '11SEP12:02:00:00'\n",
      " '12SEP12:02:00:00' '25FEB12:02:00:00' '28APR12:02:00:00'\n",
      " '15AUG12:02:00:00' '13DEC11:02:00:00' '25NOV11:02:00:00'\n",
      " '27JUN12:02:00:00' '18MAY12:02:00:00' '23OCT12:02:00:00'\n",
      " '25FEB12:02:00:00' '25JAN12:02:00:00' '06JUL12:02:00:00'\n",
      " '24MAR12:02:00:00' '08JUN12:02:00:00' '28OCT11:02:00:00'\n",
      " '11DEC11:02:00:00' '01DEC11:02:00:00' '06JUN12:02:00:00'\n",
      " '24APR12:02:00:00' '31OCT11:02:00:00' '17APR12:02:00:00'\n",
      " '06JUL12:02:00:00' '17NOV11:02:00:00' '15SEP12:02:00:00'\n",
      " '07AUG12:02:00:00' '16JUN12:02:00:00' '10JAN12:02:00:00'\n",
      " '27MAR12:02:00:00' '02JUN12:02:00:00']\n"
     ]
    }
   ],
   "source": [
    "for cols in object_other:\n",
    "    print sl_train.loc[1:50,cols].values"
   ]
  },
  {
   "cell_type": "code",
   "execution_count": 112,
   "metadata": {
    "collapsed": false
   },
   "outputs": [],
   "source": [
    "cat_dummies = pd.DataFrame()\n",
    "for cols in object_categories_50[:5]:\n",
    "    cat_dummies = pd.concat([cat_dummies, pd.get_dummies(sl_train[cols], prefix=cols)], axis = 1)"
   ]
  },
  {
   "cell_type": "code",
   "execution_count": 94,
   "metadata": {
    "collapsed": true
   },
   "outputs": [],
   "source": [
    "#For generating train/test, concatonate the two tables and remove the identifier before training.\n",
    "#Remove unneccessary or difficult to work with variables."
   ]
  },
  {
   "cell_type": "code",
   "execution_count": 115,
   "metadata": {
    "collapsed": false
   },
   "outputs": [],
   "source": [
    "#test = pd.get_dummies(sl_train[cols], prefix=cols)"
   ]
  },
  {
   "cell_type": "code",
   "execution_count": 104,
   "metadata": {
    "collapsed": false
   },
   "outputs": [],
   "source": [
    "#cols = object_categories_50[1]"
   ]
  },
  {
   "cell_type": "code",
   "execution_count": 105,
   "metadata": {
    "collapsed": true
   },
   "outputs": [],
   "source": [
    "#test = pd.get_dummies(sl_train[cols], prefix=cols)"
   ]
  },
  {
   "cell_type": "code",
   "execution_count": 114,
   "metadata": {
    "collapsed": false
   },
   "outputs": [],
   "source": [
    "#pd.concat([cat_dummies, test])"
   ]
  },
  {
   "cell_type": "code",
   "execution_count": null,
   "metadata": {
    "collapsed": false
   },
   "outputs": [],
   "source": []
  },
  {
   "cell_type": "code",
   "execution_count": null,
   "metadata": {
    "collapsed": false
   },
   "outputs": [],
   "source": [
    "\n",
    "        "
   ]
  },
  {
   "cell_type": "code",
   "execution_count": null,
   "metadata": {
    "collapsed": true
   },
   "outputs": [],
   "source": []
  }
 ],
 "metadata": {
  "kernelspec": {
   "display_name": "Python 2",
   "language": "python",
   "name": "python2"
  },
  "language_info": {
   "codemirror_mode": {
    "name": "ipython",
    "version": 2
   },
   "file_extension": ".py",
   "mimetype": "text/x-python",
   "name": "python",
   "nbconvert_exporter": "python",
   "pygments_lexer": "ipython2",
   "version": "2.7.10"
  }
 },
 "nbformat": 4,
 "nbformat_minor": 0
}
