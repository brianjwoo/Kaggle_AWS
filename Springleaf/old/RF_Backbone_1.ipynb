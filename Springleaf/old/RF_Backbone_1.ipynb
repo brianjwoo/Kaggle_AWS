{
 "cells": [
  {
   "cell_type": "code",
   "execution_count": 37,
   "metadata": {
    "collapsed": true
   },
   "outputs": [],
   "source": [
    "import pandas as pd\n",
    "import numpy as np\n",
    "import matplotlib.pyplot as plt\n",
    "\n",
    "import sklearn.metrics\n",
    "import sklearn.tree\n",
    "import sklearn.cross_validation\n",
    "import sklearn.decomposition\n",
    "import sklearn.preprocessing\n",
    "import sklearn.ensemble\n",
    "import sklearn.externals\n",
    "\n",
    "%matplotlib inline"
   ]
  },
  {
   "cell_type": "code",
   "execution_count": 3,
   "metadata": {
    "collapsed": false
   },
   "outputs": [
    {
     "name": "stderr",
     "output_type": "stream",
     "text": [
      "//anaconda/lib/python2.7/site-packages/pandas/io/parsers.py:1170: DtypeWarning: Columns (8,9,10,11,12,43,157,196,214,225,228,229,231,235,238) have mixed types. Specify dtype option on import or set low_memory=False.\n",
      "  data = self._reader.read(nrows)\n",
      "//anaconda/lib/python2.7/site-packages/pandas/io/parsers.py:1170: DtypeWarning: Columns (8,9,10,11,12,43,157,167,177,196,214,225,228,229,231,235,238) have mixed types. Specify dtype option on import or set low_memory=False.\n",
      "  data = self._reader.read(nrows)\n"
     ]
    }
   ],
   "source": [
    "#shoudl set index as ID [.set_index(\"ID\")]\n",
    "train = pd.read_csv('train.csv')\n",
    "test = pd.read_csv('test.csv')"
   ]
  },
  {
   "cell_type": "code",
   "execution_count": 8,
   "metadata": {
    "collapsed": false
   },
   "outputs": [
    {
     "name": "stdout",
     "output_type": "stream",
     "text": [
      "VAR_0008Removed\n",
      "VAR_0009Removed\n",
      "VAR_0010Removed\n",
      "VAR_0011Removed\n",
      "VAR_0012Removed\n",
      "VAR_0018Removed\n",
      "VAR_0019Removed\n",
      "VAR_0020Removed\n",
      "VAR_0021Removed\n",
      "VAR_0022Removed\n",
      "VAR_0023Removed\n",
      "VAR_0024Removed\n",
      "VAR_0025Removed\n",
      "VAR_0026Removed\n",
      "VAR_0027Removed\n",
      "VAR_0028Removed\n",
      "VAR_0029Removed\n",
      "VAR_0030Removed\n",
      "VAR_0031Removed\n",
      "VAR_0032Removed\n",
      "VAR_0038Removed\n",
      "VAR_0039Removed\n",
      "VAR_0040Removed\n",
      "VAR_0041Removed\n",
      "VAR_0042Removed\n",
      "VAR_0043Removed\n",
      "VAR_0044Removed\n",
      "VAR_0188Removed\n",
      "VAR_0189Removed\n",
      "VAR_0190Removed\n",
      "VAR_0196Removed\n",
      "VAR_0197Removed\n",
      "VAR_0199Removed\n",
      "VAR_0202Removed\n",
      "VAR_0203Removed\n",
      "VAR_0207Removed\n",
      "VAR_0213Removed\n",
      "VAR_0215Removed\n",
      "VAR_0216Removed\n",
      "VAR_0221Removed\n",
      "VAR_0222Removed\n",
      "VAR_0223Removed\n",
      "VAR_0229Removed\n",
      "VAR_0239Removed\n",
      "VAR_0246Removed\n",
      "VAR_0394Removed\n",
      "VAR_0438Removed\n",
      "VAR_0446Removed\n",
      "VAR_0527Removed\n",
      "VAR_0528Removed\n",
      "VAR_0530Removed\n",
      "VAR_0840Removed\n",
      "VAR_0847Removed\n",
      "VAR_1428Removed\n"
     ]
    }
   ],
   "source": [
    "#Remove cols that are constant\n",
    "for cols in train.columns:\n",
    "    if train[cols].nunique() < 2:\n",
    "        print cols + 'Removed'\n",
    "        train.drop(cols, axis = 1, inplace = True)\n",
    "        test.drop(cols, axis = 1, inplace = True)\n",
    "        "
   ]
  },
  {
   "cell_type": "code",
   "execution_count": 10,
   "metadata": {
    "collapsed": false
   },
   "outputs": [],
   "source": [
    "objects = train.columns[train.dtypes == 'object']\n",
    "objects = objects.tolist()"
   ]
  },
  {
   "cell_type": "code",
   "execution_count": 11,
   "metadata": {
    "collapsed": false
   },
   "outputs": [
    {
     "name": "stderr",
     "output_type": "stream",
     "text": [
      "//anaconda/lib/python2.7/site-packages/numpy/lib/arraysetops.py:198: FutureWarning: numpy not_equal will not check object identity in the future. The comparison did not return the same result as suggested by the identity (`is`)) and will change.\n",
      "  flag = np.concatenate(([True], aux[1:] != aux[:-1]))\n"
     ]
    }
   ],
   "source": [
    "label_encoders = {}\n",
    "\n",
    "for cols in objects:\n",
    "    label_encoders[cols] = sklearn.preprocessing.LabelEncoder()\n",
    "    train[cols] = label_encoders[cols].fit_transform(train[cols])\n",
    "    try:\n",
    "        test[cols] = label_encoders.transform(test[cols])\n",
    "    except:\n",
    "        del train[cols]\n",
    "        del test[cols]\n",
    "    "
   ]
  },
  {
   "cell_type": "code",
   "execution_count": 17,
   "metadata": {
    "collapsed": false
   },
   "outputs": [],
   "source": [
    "train.set_index(\"ID\", inplace = True)\n",
    "test.set_index(\"ID\", inplace = True)\n"
   ]
  },
  {
   "cell_type": "code",
   "execution_count": 28,
   "metadata": {
    "collapsed": false
   },
   "outputs": [],
   "source": [
    "train = train.fillna(0)"
   ]
  },
  {
   "cell_type": "code",
   "execution_count": 29,
   "metadata": {
    "collapsed": false
   },
   "outputs": [],
   "source": [
    "X_train = train.drop('target', axis = 1).values\n",
    "y_train = train['target']\n"
   ]
  },
  {
   "cell_type": "code",
   "execution_count": null,
   "metadata": {
    "collapsed": true
   },
   "outputs": [],
   "source": []
  },
  {
   "cell_type": "code",
   "execution_count": 32,
   "metadata": {
    "collapsed": true
   },
   "outputs": [],
   "source": [
    "test = test.fillna(0)"
   ]
  },
  {
   "cell_type": "code",
   "execution_count": 30,
   "metadata": {
    "collapsed": false
   },
   "outputs": [],
   "source": [
    "rf = sklearn.ensemble.RandomForestClassifier(n_estimators=30)"
   ]
  },
  {
   "cell_type": "code",
   "execution_count": 34,
   "metadata": {
    "collapsed": false
   },
   "outputs": [],
   "source": [
    "predict_model = sklearn.cross_validation.cross_val_score(rf, X_train, y_train, scoring = 'roc_auc')"
   ]
  },
  {
   "cell_type": "code",
   "execution_count": 38,
   "metadata": {
    "collapsed": false
   },
   "outputs": [
    {
     "data": {
      "text/plain": [
       "RandomForestClassifier(bootstrap=True, class_weight=None, criterion='gini',\n",
       "            max_depth=None, max_features='auto', max_leaf_nodes=None,\n",
       "            min_samples_leaf=1, min_samples_split=2,\n",
       "            min_weight_fraction_leaf=0.0, n_estimators=30, n_jobs=1,\n",
       "            oob_score=False, random_state=None, verbose=0,\n",
       "            warm_start=False)"
      ]
     },
     "execution_count": 38,
     "metadata": {},
     "output_type": "execute_result"
    }
   ],
   "source": [
    "rf.fit(X_train, y_train)"
   ]
  },
  {
   "cell_type": "code",
   "execution_count": 39,
   "metadata": {
    "collapsed": false
   },
   "outputs": [],
   "source": [
    "y_pred = rf.predict(test.values)"
   ]
  },
  {
   "cell_type": "code",
   "execution_count": null,
   "metadata": {
    "collapsed": false
   },
   "outputs": [],
   "source": []
  },
  {
   "cell_type": "code",
   "execution_count": 42,
   "metadata": {
    "collapsed": false
   },
   "outputs": [
    {
     "data": {
      "text/plain": [
       "Counter({0: 133618, 1: 11614})"
      ]
     },
     "execution_count": 42,
     "metadata": {},
     "output_type": "execute_result"
    }
   ],
   "source": [
    "Counter(y_pred)"
   ]
  },
  {
   "cell_type": "code",
   "execution_count": 44,
   "metadata": {
    "collapsed": false
   },
   "outputs": [
    {
     "data": {
      "text/plain": [
       "Counter({0: 111458, 1: 33773})"
      ]
     },
     "execution_count": 44,
     "metadata": {},
     "output_type": "execute_result"
    }
   ],
   "source": [
    "Counter(y_train)"
   ]
  },
  {
   "cell_type": "code",
   "execution_count": 46,
   "metadata": {
    "collapsed": false
   },
   "outputs": [
    {
     "data": {
      "text/plain": [
       "['./models/rf.pkl',\n",
       " './models/rf.pkl_01.npy',\n",
       " './models/rf.pkl_02.npy',\n",
       " './models/rf.pkl_03.npy',\n",
       " './models/rf.pkl_04.npy',\n",
       " './models/rf.pkl_05.npy',\n",
       " './models/rf.pkl_06.npy',\n",
       " './models/rf.pkl_07.npy',\n",
       " './models/rf.pkl_08.npy',\n",
       " './models/rf.pkl_09.npy',\n",
       " './models/rf.pkl_10.npy',\n",
       " './models/rf.pkl_11.npy',\n",
       " './models/rf.pkl_12.npy',\n",
       " './models/rf.pkl_13.npy',\n",
       " './models/rf.pkl_14.npy',\n",
       " './models/rf.pkl_15.npy',\n",
       " './models/rf.pkl_16.npy',\n",
       " './models/rf.pkl_17.npy',\n",
       " './models/rf.pkl_18.npy',\n",
       " './models/rf.pkl_19.npy',\n",
       " './models/rf.pkl_20.npy',\n",
       " './models/rf.pkl_21.npy',\n",
       " './models/rf.pkl_22.npy',\n",
       " './models/rf.pkl_23.npy',\n",
       " './models/rf.pkl_24.npy',\n",
       " './models/rf.pkl_25.npy',\n",
       " './models/rf.pkl_26.npy',\n",
       " './models/rf.pkl_27.npy',\n",
       " './models/rf.pkl_28.npy',\n",
       " './models/rf.pkl_29.npy',\n",
       " './models/rf.pkl_30.npy',\n",
       " './models/rf.pkl_31.npy',\n",
       " './models/rf.pkl_32.npy',\n",
       " './models/rf.pkl_33.npy',\n",
       " './models/rf.pkl_34.npy',\n",
       " './models/rf.pkl_35.npy',\n",
       " './models/rf.pkl_36.npy',\n",
       " './models/rf.pkl_37.npy',\n",
       " './models/rf.pkl_38.npy',\n",
       " './models/rf.pkl_39.npy',\n",
       " './models/rf.pkl_40.npy',\n",
       " './models/rf.pkl_41.npy',\n",
       " './models/rf.pkl_42.npy',\n",
       " './models/rf.pkl_43.npy',\n",
       " './models/rf.pkl_44.npy',\n",
       " './models/rf.pkl_45.npy',\n",
       " './models/rf.pkl_46.npy',\n",
       " './models/rf.pkl_47.npy',\n",
       " './models/rf.pkl_48.npy',\n",
       " './models/rf.pkl_49.npy',\n",
       " './models/rf.pkl_50.npy',\n",
       " './models/rf.pkl_51.npy',\n",
       " './models/rf.pkl_52.npy',\n",
       " './models/rf.pkl_53.npy',\n",
       " './models/rf.pkl_54.npy',\n",
       " './models/rf.pkl_55.npy',\n",
       " './models/rf.pkl_56.npy',\n",
       " './models/rf.pkl_57.npy',\n",
       " './models/rf.pkl_58.npy',\n",
       " './models/rf.pkl_59.npy',\n",
       " './models/rf.pkl_60.npy',\n",
       " './models/rf.pkl_61.npy',\n",
       " './models/rf.pkl_62.npy',\n",
       " './models/rf.pkl_63.npy',\n",
       " './models/rf.pkl_64.npy',\n",
       " './models/rf.pkl_65.npy',\n",
       " './models/rf.pkl_66.npy',\n",
       " './models/rf.pkl_67.npy',\n",
       " './models/rf.pkl_68.npy',\n",
       " './models/rf.pkl_69.npy',\n",
       " './models/rf.pkl_70.npy',\n",
       " './models/rf.pkl_71.npy',\n",
       " './models/rf.pkl_72.npy',\n",
       " './models/rf.pkl_73.npy',\n",
       " './models/rf.pkl_74.npy',\n",
       " './models/rf.pkl_75.npy',\n",
       " './models/rf.pkl_76.npy',\n",
       " './models/rf.pkl_77.npy',\n",
       " './models/rf.pkl_78.npy',\n",
       " './models/rf.pkl_79.npy',\n",
       " './models/rf.pkl_80.npy',\n",
       " './models/rf.pkl_81.npy',\n",
       " './models/rf.pkl_82.npy',\n",
       " './models/rf.pkl_83.npy',\n",
       " './models/rf.pkl_84.npy',\n",
       " './models/rf.pkl_85.npy',\n",
       " './models/rf.pkl_86.npy',\n",
       " './models/rf.pkl_87.npy',\n",
       " './models/rf.pkl_88.npy',\n",
       " './models/rf.pkl_89.npy',\n",
       " './models/rf.pkl_90.npy',\n",
       " './models/rf.pkl_91.npy',\n",
       " './models/rf.pkl_92.npy',\n",
       " './models/rf.pkl_93.npy',\n",
       " './models/rf.pkl_94.npy',\n",
       " './models/rf.pkl_95.npy',\n",
       " './models/rf.pkl_96.npy',\n",
       " './models/rf.pkl_97.npy',\n",
       " './models/rf.pkl_98.npy',\n",
       " './models/rf.pkl_99.npy',\n",
       " './models/rf.pkl_100.npy',\n",
       " './models/rf.pkl_101.npy',\n",
       " './models/rf.pkl_102.npy',\n",
       " './models/rf.pkl_103.npy',\n",
       " './models/rf.pkl_104.npy',\n",
       " './models/rf.pkl_105.npy',\n",
       " './models/rf.pkl_106.npy',\n",
       " './models/rf.pkl_107.npy',\n",
       " './models/rf.pkl_108.npy',\n",
       " './models/rf.pkl_109.npy',\n",
       " './models/rf.pkl_110.npy',\n",
       " './models/rf.pkl_111.npy',\n",
       " './models/rf.pkl_112.npy',\n",
       " './models/rf.pkl_113.npy',\n",
       " './models/rf.pkl_114.npy',\n",
       " './models/rf.pkl_115.npy',\n",
       " './models/rf.pkl_116.npy',\n",
       " './models/rf.pkl_117.npy',\n",
       " './models/rf.pkl_118.npy',\n",
       " './models/rf.pkl_119.npy',\n",
       " './models/rf.pkl_120.npy',\n",
       " './models/rf.pkl_121.npy',\n",
       " './models/rf.pkl_122.npy',\n",
       " './models/rf.pkl_123.npy',\n",
       " './models/rf.pkl_124.npy',\n",
       " './models/rf.pkl_125.npy',\n",
       " './models/rf.pkl_126.npy',\n",
       " './models/rf.pkl_127.npy',\n",
       " './models/rf.pkl_128.npy',\n",
       " './models/rf.pkl_129.npy',\n",
       " './models/rf.pkl_130.npy',\n",
       " './models/rf.pkl_131.npy',\n",
       " './models/rf.pkl_132.npy',\n",
       " './models/rf.pkl_133.npy',\n",
       " './models/rf.pkl_134.npy',\n",
       " './models/rf.pkl_135.npy',\n",
       " './models/rf.pkl_136.npy',\n",
       " './models/rf.pkl_137.npy',\n",
       " './models/rf.pkl_138.npy',\n",
       " './models/rf.pkl_139.npy',\n",
       " './models/rf.pkl_140.npy',\n",
       " './models/rf.pkl_141.npy',\n",
       " './models/rf.pkl_142.npy',\n",
       " './models/rf.pkl_143.npy',\n",
       " './models/rf.pkl_144.npy',\n",
       " './models/rf.pkl_145.npy',\n",
       " './models/rf.pkl_146.npy',\n",
       " './models/rf.pkl_147.npy',\n",
       " './models/rf.pkl_148.npy',\n",
       " './models/rf.pkl_149.npy',\n",
       " './models/rf.pkl_150.npy',\n",
       " './models/rf.pkl_151.npy']"
      ]
     },
     "execution_count": 46,
     "metadata": {},
     "output_type": "execute_result"
    }
   ],
   "source": [
    "sklearn.externals.joblib.dump(rf, './models/rf.pkl')"
   ]
  },
  {
   "cell_type": "code",
   "execution_count": 47,
   "metadata": {
    "collapsed": true
   },
   "outputs": [],
   "source": [
    "rf3 = sklearn.externals.joblib.load('./models/rf.pkl')"
   ]
  },
  {
   "cell_type": "code",
   "execution_count": 48,
   "metadata": {
    "collapsed": false
   },
   "outputs": [
    {
     "data": {
      "text/plain": [
       "RandomForestClassifier(bootstrap=True, class_weight=None, criterion='gini',\n",
       "            max_depth=None, max_features='auto', max_leaf_nodes=None,\n",
       "            min_samples_leaf=1, min_samples_split=2,\n",
       "            min_weight_fraction_leaf=0.0, n_estimators=30, n_jobs=1,\n",
       "            oob_score=False, random_state=None, verbose=0,\n",
       "            warm_start=False)"
      ]
     },
     "execution_count": 48,
     "metadata": {},
     "output_type": "execute_result"
    }
   ],
   "source": [
    "rf3"
   ]
  },
  {
   "cell_type": "code",
   "execution_count": 49,
   "metadata": {
    "collapsed": false
   },
   "outputs": [
    {
     "data": {
      "text/plain": [
       "['./models/encoders.pkl',\n",
       " './models/encoders.pkl_01.npy',\n",
       " './models/encoders.pkl_02.npy',\n",
       " './models/encoders.pkl_03.npy',\n",
       " './models/encoders.pkl_04.npy',\n",
       " './models/encoders.pkl_05.npy',\n",
       " './models/encoders.pkl_06.npy',\n",
       " './models/encoders.pkl_07.npy',\n",
       " './models/encoders.pkl_08.npy',\n",
       " './models/encoders.pkl_09.npy',\n",
       " './models/encoders.pkl_10.npy',\n",
       " './models/encoders.pkl_11.npy',\n",
       " './models/encoders.pkl_12.npy',\n",
       " './models/encoders.pkl_13.npy',\n",
       " './models/encoders.pkl_14.npy',\n",
       " './models/encoders.pkl_15.npy',\n",
       " './models/encoders.pkl_16.npy',\n",
       " './models/encoders.pkl_17.npy',\n",
       " './models/encoders.pkl_18.npy',\n",
       " './models/encoders.pkl_19.npy',\n",
       " './models/encoders.pkl_20.npy',\n",
       " './models/encoders.pkl_21.npy',\n",
       " './models/encoders.pkl_22.npy',\n",
       " './models/encoders.pkl_23.npy',\n",
       " './models/encoders.pkl_24.npy',\n",
       " './models/encoders.pkl_25.npy',\n",
       " './models/encoders.pkl_26.npy',\n",
       " './models/encoders.pkl_27.npy',\n",
       " './models/encoders.pkl_28.npy',\n",
       " './models/encoders.pkl_29.npy',\n",
       " './models/encoders.pkl_30.npy',\n",
       " './models/encoders.pkl_31.npy',\n",
       " './models/encoders.pkl_32.npy',\n",
       " './models/encoders.pkl_33.npy',\n",
       " './models/encoders.pkl_34.npy',\n",
       " './models/encoders.pkl_35.npy',\n",
       " './models/encoders.pkl_36.npy']"
      ]
     },
     "execution_count": 49,
     "metadata": {},
     "output_type": "execute_result"
    }
   ],
   "source": [
    "sklearn.externals.joblib.dump(label_encoders, './models/encoders.pkl')"
   ]
  },
  {
   "cell_type": "code",
   "execution_count": null,
   "metadata": {
    "collapsed": true
   },
   "outputs": [],
   "source": []
  }
 ],
 "metadata": {
  "kernelspec": {
   "display_name": "Python 2",
   "language": "python",
   "name": "python2"
  },
  "language_info": {
   "codemirror_mode": {
    "name": "ipython",
    "version": 2
   },
   "file_extension": ".py",
   "mimetype": "text/x-python",
   "name": "python",
   "nbconvert_exporter": "python",
   "pygments_lexer": "ipython2",
   "version": "2.7.10"
  }
 },
 "nbformat": 4,
 "nbformat_minor": 0
}
