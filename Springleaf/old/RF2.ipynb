{
 "cells": [
  {
   "cell_type": "code",
   "execution_count": 1,
   "metadata": {
    "collapsed": false
   },
   "outputs": [],
   "source": [
    "import pandas as pd\n",
    "import numpy as np\n",
    "import random\n",
    "from collections import Counter\n",
    "import matplotlib.pyplot as plt\n",
    "import time\n",
    "import datetime\n",
    "\n",
    "from sklearn.preprocessing import LabelEncoder\n",
    "from sklearn.ensemble import RandomForestClassifier, AdaBoostClassifier\n",
    "from sklearn.grid_search import GridSearchCV\n",
    "import sklearn.preprocessing\n",
    "import sklearn.cross_validation\n",
    "\n",
    "\n",
    "\n",
    "%matplotlib inline"
   ]
  },
  {
   "cell_type": "code",
   "execution_count": 2,
   "metadata": {
    "collapsed": false
   },
   "outputs": [
    {
     "name": "stderr",
     "output_type": "stream",
     "text": [
      "/home/ubuntu/anaconda/lib/python2.7/site-packages/IPython/core/interactiveshell.py:2871: DtypeWarning: Columns (8,9,10,11,12,43,157,196,214,225,228,229,231,235,238) have mixed types. Specify dtype option on import or set low_memory=False.\n",
      "  interactivity=interactivity, compiler=compiler, result=result)\n",
      "/home/ubuntu/anaconda/lib/python2.7/site-packages/IPython/core/interactiveshell.py:2871: DtypeWarning: Columns (8,9,10,11,12,43,157,167,177,196,214,225,228,229,231,235,238) have mixed types. Specify dtype option on import or set low_memory=False.\n",
      "  interactivity=interactivity, compiler=compiler, result=result)\n"
     ]
    },
    {
     "name": "stdout",
     "output_type": "stream",
     "text": [
      "(145231, 1933)\n",
      "(145232, 1932)\n"
     ]
    }
   ],
   "source": [
    "train = pd.read_csv('./train.csv').set_index(\"ID\")\n",
    "test = pd.read_csv('./test.csv').set_index(\"ID\")\n",
    "print train.shape\n",
    "print test.shape"
   ]
  },
  {
   "cell_type": "code",
   "execution_count": 3,
   "metadata": {
    "collapsed": false
   },
   "outputs": [],
   "source": [
    "m,n = train.shape #draw samples from data to determine the type of data\n",
    "\n",
    "random.seed(1)\n",
    "r = np.random.choice(m, size = 20000, replace=False)"
   ]
  },
  {
   "cell_type": "code",
   "execution_count": 4,
   "metadata": {
    "collapsed": false
   },
   "outputs": [
    {
     "name": "stdout",
     "output_type": "stream",
     "text": [
      "['VAR_0847', 'VAR_1428']\n"
     ]
    },
    {
     "name": "stderr",
     "output_type": "stream",
     "text": [
      "/home/ubuntu/anaconda/lib/python2.7/site-packages/numpy/lib/arraysetops.py:200: FutureWarning: numpy not_equal will not check object identity in the future. The comparison did not return the same result as suggested by the identity (`is`)) and will change.\n",
      "  flag = np.concatenate(([True], aux[1:] != aux[:-1]))\n"
     ]
    }
   ],
   "source": [
    "drop_cols = [c for c in train.columns if len(np.unique(train[c])) == 1]#Should later drop columns from train and test\n",
    "print drop_cols\n",
    "train.drop(drop_cols, axis = 1, inplace = True)\n",
    "test.drop(drop_cols, axis = 1, inplace = True)"
   ]
  },
  {
   "cell_type": "code",
   "execution_count": 5,
   "metadata": {
    "collapsed": false
   },
   "outputs": [],
   "source": [
    "object_cols = train.columns[train.dtypes == 'object']"
   ]
  },
  {
   "cell_type": "code",
   "execution_count": 6,
   "metadata": {
    "collapsed": false
   },
   "outputs": [
    {
     "name": "stdout",
     "output_type": "stream",
     "text": [
      "VAR_0001 [(nan, 9940), ('R', 5906), ('H', 4120), ('Q', 34)]\n",
      "VAR_0005 [(nan, 9940), ('B', 4992), ('C', 3734), ('N', 1133), ('S', 201)]\n",
      "VAR_0008 [(False, 10057), (nan, 9943)]\n",
      "VAR_0009 [(False, 10057), (nan, 9943)]\n",
      "VAR_0010 [(False, 10057), (nan, 9943)]\n",
      "VAR_0011 [(False, 10057), (nan, 9943)]\n",
      "VAR_0012 [(False, 10057), (nan, 9943)]\n",
      "VAR_0043 [(False, 10057), (nan, 9943)]\n",
      "VAR_0044 [('[]', 10057), (nan, 9943)]\n",
      "VAR_0073 [(nan, 16914), ('13MAR09:00:00:00', 17), ('18MAY12:00:00:00', 15), ('13JUL12:00:00:00', 14), ('07SEP12:00:00:00', 14), ('23APR12:00:00:00', 14), ('25OCT11:00:00:00', 13), ('21DEC11:00:00:00', 13), ('06DEC11:00:00:00', 13), ('16AUG12:00:00:00', 13), ('07NOV11:00:00:00', 13), ('10JUL12:00:00:00', 12), ('02APR12:00:00:00', 12), ('19OCT11:00:00:00', 12), ('05OCT11:00:00:00', 12), ('01JUN12:00:00:00', 12), ('05SEP12:00:00:00', 11), ('10JUN11:00:00:00', 11), ('23JUL12:00:00:00', 11), ('21MAY12:00:00:00', 11)]\n",
      "VAR_0075 [(nan, 9943), ('22SEP10:00:00:00', 76), ('23SEP10:00:00:00', 69), ('06DEC11:00:00:00', 59), ('23NOV11:00:00:00', 56), ('22NOV11:00:00:00', 51), ('10NOV11:00:00:00', 47), ('07DEC11:00:00:00', 47), ('13DEC11:00:00:00', 47), ('07OCT11:00:00:00', 46), ('08DEC11:00:00:00', 44), ('04OCT11:00:00:00', 44), ('15NOV11:00:00:00', 43), ('05OCT11:00:00:00', 43), ('20APR12:00:00:00', 43), ('04NOV11:00:00:00', 43), ('19APR12:00:00:00', 43), ('25OCT11:00:00:00', 40), ('20OCT11:00:00:00', 40), ('19JUN12:00:00:00', 40)]\n",
      "VAR_0156 [(nan, 19559), ('20SEP11:00:00:00', 4), ('02APR12:00:00:00', 4), ('10APR12:00:00:00', 4), ('19DEC11:00:00:00', 4), ('04JUN12:00:00:00', 4), ('09MAY12:00:00:00', 4), ('16JAN12:00:00:00', 4), ('06DEC11:00:00:00', 4), ('05DEC11:00:00:00', 3), ('20AUG12:00:00:00', 3), ('03JAN12:00:00:00', 3), ('07JUN11:00:00:00', 3), ('22APR11:00:00:00', 3), ('08NOV11:00:00:00', 3), ('05JUN12:00:00:00', 3), ('15JUN11:00:00:00', 3), ('05APR11:00:00:00', 3), ('23MAY12:00:00:00', 3), ('19APR12:00:00:00', 3)]\n",
      "VAR_0157 [(nan, 19632), ('27JUL12:00:00:00', 3), ('12AUG12:00:00:00', 2), ('02AUG12:00:00:00', 2), ('07SEP12:00:00:00', 2), ('30MAR12:00:00:00', 2), ('24AUG12:00:00:00', 2), ('20JUL12:00:00:00', 2), (nan, 1), (nan, 1), (nan, 1), (nan, 1), (nan, 1), (nan, 1), (nan, 1), ('18DEC11:00:00:00', 1), (nan, 1), (nan, 1), (nan, 1), (nan, 1)]\n",
      "VAR_0158 [(nan, 19862), ('08MAR12:00:00:00', 3), ('02APR12:00:00:00', 3), ('13APR12:00:00:00', 3), ('17FEB12:00:00:00', 2), ('01MAR12:00:00:00', 2), ('23MAR12:00:00:00', 2), ('31MAY12:00:00:00', 2), ('04MAY12:00:00:00', 2), ('20MAR12:00:00:00', 2), ('17APR12:00:00:00', 2), ('28JAN12:00:00:00', 2), ('23JUL12:00:00:00', 2), ('08MAY12:00:00:00', 2), ('31AUG12:00:00:00', 2), ('02MAR12:00:00:00', 2), ('06JUN12:00:00:00', 2), ('01JUN12:00:00:00', 2), ('07MAY12:00:00:00', 2), ('15JUL12:00:00:00', 1)]\n",
      "VAR_0159 [(nan, 19559), ('02APR12:00:00:00', 5), ('04JUN12:00:00:00', 5), ('31MAY12:00:00:00', 4), ('19APR12:00:00:00', 4), ('03APR12:00:00:00', 4), ('17MAY12:00:00:00', 4), ('19JAN12:00:00:00', 4), ('23MAY12:00:00:00', 4), ('10APR12:00:00:00', 4), ('01NOV11:00:00:00', 4), ('20DEC11:00:00:00', 4), ('03JUL12:00:00:00', 4), ('09MAY12:00:00:00', 4), ('16JAN12:00:00:00', 4), ('06DEC11:00:00:00', 4), ('21JUN12:00:00:00', 3), ('02JUL12:00:00:00', 3), ('05DEC11:00:00:00', 3), ('20AUG12:00:00:00', 3)]\n",
      "VAR_0166 [(nan, 18994), ('26SEP11:00:00:00', 5), ('03JAN12:00:00:00', 5), ('14MAY07:00:00:00', 4), ('29JUL11:00:00:00', 4), ('20DEC11:00:00:00', 4), ('29MAY12:00:00:00', 4), ('30APR12:00:00:00', 4), ('11JUL11:00:00:00', 4), ('26MAY11:00:00:00', 4), ('14SEP11:00:00:00', 4), ('21NOV11:00:00:00', 4), ('14JUL11:00:00:00', 4), ('25JAN12:00:00:00', 4), ('20AUG10:00:00:00', 3), ('15AUG11:00:00:00', 3), ('02SEP11:00:00:00', 3), ('13JUL12:00:00:00', 3), ('17OCT11:00:00:00', 3), ('29AUG11:00:00:00', 3)]\n",
      "VAR_0167 [(nan, 19820), ('06JAN12:00:00:00', 4), ('01JUN12:00:00:00', 4), ('15OCT11:00:00:00', 3), ('03NOV11:00:00:00', 3), ('25MAY12:00:00:00', 3), ('06OCT11:00:00:00', 2), ('23AUG11:00:00:00', 2), ('03DEC10:00:00:00', 2), ('30AUG11:00:00:00', 2), ('04SEP10:00:00:00', 2), ('16SEP11:00:00:00', 2), ('11NOV11:00:00:00', 2), ('27AUG11:00:00:00', 2), ('01NOV11:00:00:00', 2), ('21OCT11:00:00:00', 2), ('04JAN12:00:00:00', 2), ('25NOV11:00:00:00', 2), ('16AUG12:00:00:00', 2), ('27SEP11:00:00:00', 2)]\n",
      "VAR_0168 [(nan, 19236), ('03NOV11:00:00:00', 15), ('06DEC11:00:00:00', 9), ('20JAN12:00:00:00', 8), ('30SEP11:00:00:00', 8), ('29JUN12:00:00:00', 7), ('03FEB12:00:00:00', 7), ('15SEP11:00:00:00', 7), ('17FEB12:00:00:00', 6), ('31MAY12:00:00:00', 6), ('14OCT11:00:00:00', 5), ('31AUG12:00:00:00', 5), ('30MAR12:00:00:00', 5), ('23NOV11:00:00:00', 5), ('04NOV11:00:00:00', 5), ('01JUL11:00:00:00', 4), ('29JUL10:00:00:00', 4), ('04MAY12:00:00:00', 4), ('01SEP11:00:00:00', 4), ('29OCT10:00:00:00', 4)]\n",
      "VAR_0169 [(nan, 18994), ('21NOV11:00:00:00', 6), ('30APR12:00:00:00', 6), ('17OCT11:00:00:00', 5), ('09FEB12:00:00:00', 5), ('31OCT11:00:00:00', 5), ('04JUN12:00:00:00', 5), ('08JUN12:00:00:00', 5), ('18MAY12:00:00:00', 5), ('15AUG12:00:00:00', 5), ('19MAR12:00:00:00', 5), ('29NOV11:00:00:00', 4), ('06JUN11:00:00:00', 4), ('13JUL12:00:00:00', 4), ('07DEC09:00:00:00', 4), ('28OCT11:00:00:00', 4), ('02FEB12:00:00:00', 4), ('10JUL12:00:00:00', 4), ('30SEP11:00:00:00', 4), ('11JUN12:00:00:00', 4)]\n",
      "VAR_0176 [(nan, 18765), ('20DEC11:00:00:00', 6), ('03JAN12:00:00:00', 6), ('19DEC11:00:00:00', 6), ('26SEP11:00:00:00', 5), ('04JUN12:00:00:00', 5), ('13OCT11:00:00:00', 5), ('09JUL12:00:00:00', 5), ('20JAN12:00:00:00', 5), ('25JUL11:00:00:00', 5), ('21NOV11:00:00:00', 5), ('25JAN12:00:00:00', 5), ('15AUG11:00:00:00', 4), ('13JUL12:00:00:00', 4), ('17OCT11:00:00:00', 4), ('10AUG11:00:00:00', 4), ('14MAY07:00:00:00', 4), ('06DEC11:00:00:00', 4), ('29JUL11:00:00:00', 4), ('05DEC11:00:00:00', 4)]\n",
      "VAR_0177 [(nan, 19754), ('03NOV11:00:00:00', 4), ('06JAN12:00:00:00', 4), ('01JUN12:00:00:00', 4), ('30MAR12:00:00:00', 3), ('27JUL12:00:00:00', 3), ('15OCT11:00:00:00', 3), ('25MAY12:00:00:00', 3), ('06OCT11:00:00:00', 2), ('12AUG12:00:00:00', 2), ('03DEC10:00:00:00', 2), ('16FEB12:00:00:00', 2), ('02AUG12:00:00:00', 2), ('01SEP11:00:00:00', 2), ('03JAN11:00:00:00', 2), ('05SEP12:00:00:00', 2), ('30AUG11:00:00:00', 2), ('04SEP10:00:00:00', 2), ('16SEP11:00:00:00', 2), ('16AUG12:00:00:00', 2)]\n",
      "VAR_0178 [(nan, 19154), ('03NOV11:00:00:00', 15), ('23MAR12:00:00:00', 10), ('03FEB12:00:00:00', 8), ('06DEC11:00:00:00', 8), ('30SEP11:00:00:00', 8), ('21FEB12:00:00:00', 8), ('20JAN12:00:00:00', 8), ('29JUN12:00:00:00', 7), ('17FEB12:00:00:00', 7), ('31MAY12:00:00:00', 7), ('31AUG12:00:00:00', 6), ('04MAY12:00:00:00', 6), ('13APR12:00:00:00', 6), ('01JUN12:00:00:00', 6), ('04NOV11:00:00:00', 6), ('14OCT11:00:00:00', 5), ('08DEC11:00:00:00', 5), ('02MAR12:00:00:00', 5), ('01JUL11:00:00:00', 4)]\n",
      "VAR_0179 [(nan, 18765), ('04JUN12:00:00:00', 9), ('31MAY12:00:00:00', 8), ('26JUL12:00:00:00', 7), ('18MAY12:00:00:00', 7), ('30APR12:00:00:00', 7), ('10JUL12:00:00:00', 6), ('02APR12:00:00:00', 6), ('20DEC11:00:00:00', 6), ('22MAY12:00:00:00', 6), ('03APR12:00:00:00', 6), ('01NOV11:00:00:00', 6), ('04JAN12:00:00:00', 6), ('03OCT11:00:00:00', 6), ('09MAY12:00:00:00', 6), ('29NOV11:00:00:00', 5), ('15MAR12:00:00:00', 5), ('13JUL12:00:00:00', 5), ('09FEB12:00:00:00', 5), ('28OCT11:00:00:00', 5)]\n",
      "VAR_0196 [(False, 10057), (nan, 9943)]\n",
      "VAR_0200 [(nan, 9943), ('CHICAGO', 138), ('JACKSONVILLE', 83), ('HOUSTON', 82), ('PHILADELPHIA', 72), ('SAN ANTONIO', 66), ('LOS ANGELES', 59), ('INDIANAPOLIS', 51), ('LOUISVILLE', 44), ('COLUMBIA', 44), ('RICHMOND', 43), ('SACRAMENTO', 42), ('LEXINGTON', 40), ('COLUMBUS', 39), ('EL PASO', 39), ('MILWAUKEE', 37), ('DALLAS', 36), ('ATLANTA', 35), ('GREENVILLE', 35), ('FAYETTEVILLE', 34)]\n",
      "VAR_0202 [('BatchInquiry', 10057), (nan, 9943)]\n",
      "VAR_0204 [(nan, 9943), ('30JAN14:23:10:00', 21), ('31JAN14:23:44:00', 21), ('30JAN14:23:28:00', 20), ('31JAN14:17:06:00', 20), ('30JAN14:23:41:00', 20), ('29JAN14:21:07:00', 19), ('31JAN14:23:29:00', 19), ('31JAN14:23:41:00', 19), ('31JAN14:23:42:00', 18), ('31JAN14:18:14:00', 18), ('30JAN14:22:25:00', 18), ('31JAN14:17:21:00', 18), ('30JAN14:22:33:00', 18), ('31JAN14:16:47:00', 18), ('31JAN14:17:14:00', 18), ('01FEB14:00:07:00', 17), ('01FEB14:00:01:00', 17), ('29JAN14:23:42:00', 17), ('30JAN14:23:05:00', 17)]\n",
      "VAR_0214 [(nan, 10472), (nan, 1), (nan, 1), (nan, 1), (nan, 1), (nan, 1), (nan, 1), (nan, 1), (nan, 1), (nan, 1), (nan, 1), (nan, 1), (nan, 1), (nan, 1), (nan, 1), (nan, 1), (nan, 1), (nan, 1), (nan, 1), (nan, 1)]\n",
      "VAR_0216 [('DS', 10057), (nan, 9943)]\n",
      "VAR_0217 [(nan, 9943), ('06DEC11:02:00:00', 70), ('19JUN12:02:00:00', 63), ('18JUL12:02:00:00', 60), ('06SEP12:02:00:00', 58), ('12JUN12:02:00:00', 56), ('23OCT12:02:00:00', 55), ('24APR12:02:00:00', 55), ('19JUL12:02:00:00', 54), ('18SEP12:02:00:00', 54), ('19APR12:02:00:00', 54), ('07DEC11:02:00:00', 53), ('25SEP12:02:00:00', 52), ('04OCT11:02:00:00', 51), ('16OCT12:02:00:00', 51), ('20APR12:02:00:00', 51), ('27SEP12:02:00:00', 50), ('13DEC11:02:00:00', 50), ('09NOV11:02:00:00', 50), ('06JUL12:02:00:00', 50)]\n",
      "VAR_0222 [('C6', 10057), (nan, 9943)]\n",
      "VAR_0226 [(False, 10027), (nan, 9943), (True, 30)]\n",
      "VAR_0229 [(False, 10057), (nan, 9943)]\n",
      "VAR_0230 [(False, 10046), (nan, 9943), (True, 11)]\n",
      "VAR_0232 [(nan, 9943), (True, 5738), (False, 4319)]\n",
      "VAR_0236 [(True, 10023), (nan, 9943), (False, 34)]\n",
      "VAR_0237 [(nan, 9943), ('CA', 1094), ('TX', 954), ('NC', 789), ('IL', 585), ('GA', 571), ('VA', 541), ('PA', 517), ('FL', 498), ('OH', 463), ('SC', 414), ('AL', 391), ('IN', 387), ('TN', 359), ('WA', 276), ('LA', 230), ('KY', 219), ('MO', 217), ('MS', 191), ('CO', 190)]\n",
      "VAR_0239 [(False, 10057), (nan, 9943)]\n",
      "VAR_0274 [(nan, 10019), ('CA', 1098), ('TX', 840), ('IL', 607), ('NC', 574), ('PA', 526), ('OH', 496), ('VA', 432), ('GA', 410), ('FL', 389), ('AL', 367), ('NY', 366), ('IN', 362), ('SC', 356), ('TN', 295), ('LA', 269), ('KY', 223), ('MO', 211), ('MS', 204), ('MI', 180)]\n",
      "VAR_0283 [(nan, 10019), ('S', 7871), ('H', 1682), ('-1', 335), ('P', 49), ('R', 27), ('F', 15), ('U', 2)]\n",
      "VAR_0305 [(nan, 10019), ('S', 7517), ('H', 1750), ('P', 468), ('-1', 207), ('R', 35), ('U', 3), ('M', 1)]\n",
      "VAR_0325 [(nan, 10019), ('S', 6250), ('H', 1819), ('-1', 937), ('P', 749), ('R', 146), ('F', 57), ('M', 12), ('U', 9), ('G', 2)]\n",
      "VAR_0342 [(nan, 10019), ('-1', 2164), ('FF', 1405), ('EE', 764), ('FE', 763), ('DD', 722), ('EF', 618), ('ED', 544), ('FD', 483), ('DE', 431), ('DF', 427), ('UU', 289), ('CD', 135), ('DC', 133), ('CC', 128), ('CE', 123), ('UF', 112), ('EC', 86), ('UE', 72), ('FC', 67)]\n",
      "VAR_0352 [(nan, 10019), ('U', 4211), ('O', 3503), ('R', 2084), ('-1', 183)]\n",
      "VAR_0353 [(nan, 10019), ('U', 4925), ('R', 2617), ('O', 2023), ('-1', 416)]\n",
      "VAR_0354 [(nan, 10019), ('U', 4761), ('R', 2414), ('-1', 1618), ('O', 1188)]\n",
      "VAR_0404 [(nan, 10019), ('-1', 9014), ('CONTACT', 140), ('PRESIDENT', 84), ('AGENT', 71), ('DIRECTOR', 61), ('OWNER', 46), ('INDIVIDUAL - SOLE OWNER', 41), ('MEMBER', 41), ('SECRETARY', 34), ('MANAGER', 32), ('INCORPORATOR', 24), ('VICE PRESIDENT', 22), ('CONTA', 14), ('TREASURER', 14), ('CEO', 12), ('MEMBER MANAGER', 12), ('BOARD MEMBER', 11), ('REGISTRANT', 9), ('OFFICE MANAGER', 8)]\n",
      "VAR_0466 [(nan, 10019), ('-1', 8379), ('I', 1602)]\n",
      "VAR_0467 [(nan, 10019), ('-1', 8393), ('Discharged', 1459), ('Dismissed', 122), ('Discharge NA', 7)]\n",
      "VAR_0493 [(nan, 10019), ('-1', 9368), ('REGISTERED NURSE', 69), ('LICENSED PRACTICAL NURSE', 53), ('PHARMACY TECHNICIAN', 34), ('COSMETOLOGIST', 33), ('GUARD', 24), ('PERMANENT EMPLOYEE REGISTRATION CARD', 21), ('CERTIFIED NURSING ASSISTANT', 18), ('REAL ESTATE', 18), ('LICENSED VOCATIONAL NURSE', 16), ('PROFESSIONAL NURSE', 14), ('NURSE AIDE', 11), ('PRACTICAL NURSE', 11), ('CERTIFIED NURSE AIDE', 10), ('EMERGENCY MEDICAL TECHNICIAN', 7), ('INSURANCE AGENTS', 7), ('LICENSED REAL ESTATE SALESPERSON', 7), ('REAL ESTATE SALESPERSON', 6), ('FIREARM PERMIT', 6)]\n",
      "VAR_1934 [(nan, 9940), ('IAPS', 4732), ('BRANCH', 4611), ('MOBILE', 266), ('CSC', 235), ('RCC', 216)]\n"
     ]
    }
   ],
   "source": [
    "for c in object_cols:\n",
    "    print c, Counter(train.loc[r,c]).most_common(20)"
   ]
  },
  {
   "cell_type": "code",
   "execution_count": 7,
   "metadata": {
    "collapsed": false
   },
   "outputs": [],
   "source": [
    "dates_cols =['VAR_0073', 'VAR_0075', 'VAR_0156', 'VAR_0157', 'VAR_0158', 'VAR_0159', 'VAR_0166', 'VAR_0167', 'VAR_0168', 'VAR_0169', 'VAR_0176', 'VAR_0177', 'VAR_0178','VAR_0179', 'VAR_0204', 'VAR_0217']"
   ]
  },
  {
   "cell_type": "code",
   "execution_count": 8,
   "metadata": {
    "collapsed": false
   },
   "outputs": [
    {
     "name": "stdout",
     "output_type": "stream",
     "text": [
      "VAR_0001 [(nan, 9940), ('R', 5906), ('H', 4120), ('Q', 34)]\n",
      "VAR_0005 [(nan, 9940), ('B', 4992), ('C', 3734), ('N', 1133), ('S', 201)]\n",
      "VAR_0008 [(False, 10057), (nan, 9943)]\n",
      "VAR_0009 [(False, 10057), (nan, 9943)]\n",
      "VAR_0010 [(False, 10057), (nan, 9943)]\n",
      "VAR_0011 [(False, 10057), (nan, 9943)]\n",
      "VAR_0012 [(False, 10057), (nan, 9943)]\n",
      "VAR_0043 [(False, 10057), (nan, 9943)]\n",
      "VAR_0044 [('[]', 10057), (nan, 9943)]\n",
      "VAR_0196 [(False, 10057), (nan, 9943)]\n",
      "VAR_0200 [(nan, 9943), ('CHICAGO', 138), ('JACKSONVILLE', 83), ('HOUSTON', 82), ('PHILADELPHIA', 72), ('SAN ANTONIO', 66), ('LOS ANGELES', 59), ('INDIANAPOLIS', 51), ('LOUISVILLE', 44), ('COLUMBIA', 44), ('RICHMOND', 43), ('SACRAMENTO', 42), ('LEXINGTON', 40), ('COLUMBUS', 39), ('EL PASO', 39), ('MILWAUKEE', 37), ('DALLAS', 36), ('ATLANTA', 35), ('GREENVILLE', 35), ('FAYETTEVILLE', 34)]\n",
      "VAR_0202 [('BatchInquiry', 10057), (nan, 9943)]\n",
      "VAR_0214 [(nan, 10472), (nan, 1), (nan, 1), (nan, 1), (nan, 1), (nan, 1), (nan, 1), (nan, 1), (nan, 1), (nan, 1), (nan, 1), (nan, 1), (nan, 1), (nan, 1), (nan, 1), (nan, 1), (nan, 1), (nan, 1), (nan, 1), (nan, 1)]\n",
      "VAR_0216 [('DS', 10057), (nan, 9943)]\n",
      "VAR_0222 [('C6', 10057), (nan, 9943)]\n",
      "VAR_0226 [(False, 10027), (nan, 9943), (True, 30)]\n",
      "VAR_0229 [(False, 10057), (nan, 9943)]\n",
      "VAR_0230 [(False, 10046), (nan, 9943), (True, 11)]\n",
      "VAR_0232 [(nan, 9943), (True, 5738), (False, 4319)]\n",
      "VAR_0236 [(True, 10023), (nan, 9943), (False, 34)]\n",
      "VAR_0237 [(nan, 9943), ('CA', 1094), ('TX', 954), ('NC', 789), ('IL', 585), ('GA', 571), ('VA', 541), ('PA', 517), ('FL', 498), ('OH', 463), ('SC', 414), ('AL', 391), ('IN', 387), ('TN', 359), ('WA', 276), ('LA', 230), ('KY', 219), ('MO', 217), ('MS', 191), ('CO', 190)]\n",
      "VAR_0239 [(False, 10057), (nan, 9943)]\n",
      "VAR_0274 [(nan, 10019), ('CA', 1098), ('TX', 840), ('IL', 607), ('NC', 574), ('PA', 526), ('OH', 496), ('VA', 432), ('GA', 410), ('FL', 389), ('AL', 367), ('NY', 366), ('IN', 362), ('SC', 356), ('TN', 295), ('LA', 269), ('KY', 223), ('MO', 211), ('MS', 204), ('MI', 180)]\n",
      "VAR_0283 [(nan, 10019), ('S', 7871), ('H', 1682), ('-1', 335), ('P', 49), ('R', 27), ('F', 15), ('U', 2)]\n",
      "VAR_0305 [(nan, 10019), ('S', 7517), ('H', 1750), ('P', 468), ('-1', 207), ('R', 35), ('U', 3), ('M', 1)]\n",
      "VAR_0325 [(nan, 10019), ('S', 6250), ('H', 1819), ('-1', 937), ('P', 749), ('R', 146), ('F', 57), ('M', 12), ('U', 9), ('G', 2)]\n",
      "VAR_0342 [(nan, 10019), ('-1', 2164), ('FF', 1405), ('EE', 764), ('FE', 763), ('DD', 722), ('EF', 618), ('ED', 544), ('FD', 483), ('DE', 431), ('DF', 427), ('UU', 289), ('CD', 135), ('DC', 133), ('CC', 128), ('CE', 123), ('UF', 112), ('EC', 86), ('UE', 72), ('FC', 67)]\n",
      "VAR_0352 [(nan, 10019), ('U', 4211), ('O', 3503), ('R', 2084), ('-1', 183)]\n",
      "VAR_0353 [(nan, 10019), ('U', 4925), ('R', 2617), ('O', 2023), ('-1', 416)]\n",
      "VAR_0354 [(nan, 10019), ('U', 4761), ('R', 2414), ('-1', 1618), ('O', 1188)]\n",
      "VAR_0404 [(nan, 10019), ('-1', 9014), ('CONTACT', 140), ('PRESIDENT', 84), ('AGENT', 71), ('DIRECTOR', 61), ('OWNER', 46), ('INDIVIDUAL - SOLE OWNER', 41), ('MEMBER', 41), ('SECRETARY', 34), ('MANAGER', 32), ('INCORPORATOR', 24), ('VICE PRESIDENT', 22), ('CONTA', 14), ('TREASURER', 14), ('CEO', 12), ('MEMBER MANAGER', 12), ('BOARD MEMBER', 11), ('REGISTRANT', 9), ('OFFICE MANAGER', 8)]\n",
      "VAR_0466 [(nan, 10019), ('-1', 8379), ('I', 1602)]\n",
      "VAR_0467 [(nan, 10019), ('-1', 8393), ('Discharged', 1459), ('Dismissed', 122), ('Discharge NA', 7)]\n",
      "VAR_0493 [(nan, 10019), ('-1', 9368), ('REGISTERED NURSE', 69), ('LICENSED PRACTICAL NURSE', 53), ('PHARMACY TECHNICIAN', 34), ('COSMETOLOGIST', 33), ('GUARD', 24), ('PERMANENT EMPLOYEE REGISTRATION CARD', 21), ('CERTIFIED NURSING ASSISTANT', 18), ('REAL ESTATE', 18), ('LICENSED VOCATIONAL NURSE', 16), ('PROFESSIONAL NURSE', 14), ('NURSE AIDE', 11), ('PRACTICAL NURSE', 11), ('CERTIFIED NURSE AIDE', 10), ('EMERGENCY MEDICAL TECHNICIAN', 7), ('INSURANCE AGENTS', 7), ('LICENSED REAL ESTATE SALESPERSON', 7), ('REAL ESTATE SALESPERSON', 6), ('FIREARM PERMIT', 6)]\n",
      "VAR_1934 [(nan, 9940), ('IAPS', 4732), ('BRANCH', 4611), ('MOBILE', 266), ('CSC', 235), ('RCC', 216)]\n"
     ]
    }
   ],
   "source": [
    "for c in object_cols:\n",
    "    if c not in dates_cols:\n",
    "        print c, Counter(train.loc[r,c]).most_common(20)"
   ]
  },
  {
   "cell_type": "code",
   "execution_count": 9,
   "metadata": {
    "collapsed": false
   },
   "outputs": [],
   "source": [
    "redundant_0008 = ['VAR_0008', 'VAR_0009', 'VAR_0010','VAR_0011','VAR_0012', 'VAR_0043','VAR_0044','VAR_0196', 'VAR_0229', ] #Contains redundant information\n",
    "train.drop(redundant_0008, axis = 1, inplace = True)\n",
    "test.drop(redundant_0008, axis = 1, inplace = True)"
   ]
  },
  {
   "cell_type": "code",
   "execution_count": 10,
   "metadata": {
    "collapsed": false
   },
   "outputs": [],
   "source": [
    "#Does not work on ubuntu machine\n",
    "#train['NaNs'] = train.apply(lambda x: np.sum(pd.isnull(x)), axis = 1) #Count the number of NaNs in each row will allow us to separate the types of data\n",
    "#test['NaNs'] = test.apply(lambda x: np.sum(pd.isnull(x)), axis = 1)"
   ]
  },
  {
   "cell_type": "code",
   "execution_count": null,
   "metadata": {
    "collapsed": true
   },
   "outputs": [],
   "source": [
    "def to_date(date_str):\n",
    "    if pd.notnull(date_str):\n",
    "        return datetime.datetime.strptime(date_str, '%d%b%y:%H:%M:%S')\n",
    "    else:\n",
    "        return date_str"
   ]
  },
  {
   "cell_type": "code",
   "execution_count": null,
   "metadata": {
    "collapsed": false
   },
   "outputs": [],
   "source": [
    "for c in dates_cols:\n",
    "    train[c] = train[c].apply(to_date)\n",
    "    test[c] = test[c].apply(to_date)"
   ]
  },
  {
   "cell_type": "code",
   "execution_count": null,
   "metadata": {
    "collapsed": false
   },
   "outputs": [],
   "source": [
    "diff = list(set(test.columns[test.dtypes == 'datetime64[ns]']) - set(train.columns[train.dtypes == 'datetime64[ns]'])) ##test got converted into date time format while train is still object format"
   ]
  },
  {
   "cell_type": "code",
   "execution_count": null,
   "metadata": {
    "collapsed": false
   },
   "outputs": [],
   "source": [
    "train.drop(diff, axis = 1, inplace = True)\n",
    "test.drop(diff, axis = 1, inplace = True)"
   ]
  },
  {
   "cell_type": "code",
   "execution_count": null,
   "metadata": {
    "collapsed": false
   },
   "outputs": [],
   "source": [
    "dates_cols_fixed = train.columns[train.dtypes == 'datetime64[ns]']"
   ]
  },
  {
   "cell_type": "code",
   "execution_count": null,
   "metadata": {
    "collapsed": false
   },
   "outputs": [],
   "source": [
    "errors_dates = [] #Does not matter because will convert to float\n",
    "for c in dates_cols_fixed: \n",
    "    try:\n",
    "        train[c] = train[c].apply(lambda x: x.year)\n",
    "        test[c] = test[c].apply(lambda x: x.year)\n",
    "    except:\n",
    "        errors.append(c)"
   ]
  },
  {
   "cell_type": "code",
   "execution_count": null,
   "metadata": {
    "collapsed": true
   },
   "outputs": [],
   "source": [
    "object_cols = train.columns[train.dtypes == 'object']"
   ]
  },
  {
   "cell_type": "code",
   "execution_count": null,
   "metadata": {
    "collapsed": false
   },
   "outputs": [],
   "source": [
    "enc= {}\n",
    "errors = []\n",
    "for c in object_cols:\n",
    "    try:\n",
    "        enc[c] = LabelEncoder()\n",
    "        train[c] = enc[c].fit_transform(train[c])\n",
    "        test[c] = enc[c].transform(test[c])\n",
    "    except:\n",
    "        errors.append(c)"
   ]
  },
  {
   "cell_type": "code",
   "execution_count": null,
   "metadata": {
    "collapsed": false
   },
   "outputs": [],
   "source": [
    "#Will need to adjust errors.. can fit transform on test and train data\n",
    "print errors # ['VAR_0157', 'VAR_0158', 'VAR_0167', 'VAR_0177', 'VAR_0200', 'VAR_0214', 'VAR_0237', 'VAR_0283', 'VAR_0404', 'VAR_0493']"
   ]
  },
  {
   "cell_type": "code",
   "execution_count": null,
   "metadata": {
    "collapsed": false
   },
   "outputs": [],
   "source": [
    "train.drop(errors, axis = 1, inplace = True)\n",
    "test.drop(errors, axis = 1, inplace = True)"
   ]
  },
  {
   "cell_type": "code",
   "execution_count": null,
   "metadata": {
    "collapsed": false
   },
   "outputs": [],
   "source": [
    "print train.info()\n",
    "print test.info()"
   ]
  },
  {
   "cell_type": "code",
   "execution_count": null,
   "metadata": {
    "collapsed": false
   },
   "outputs": [],
   "source": [
    "X = train.drop('target', axis = 1).values\n",
    "y = train.target.values"
   ]
  },
  {
   "cell_type": "code",
   "execution_count": null,
   "metadata": {
    "collapsed": false
   },
   "outputs": [],
   "source": [
    "imputer = sklearn.preprocessing.Imputer(strategy='median')\n",
    "X = imputer.fit_transform(X)"
   ]
  },
  {
   "cell_type": "code",
   "execution_count": null,
   "metadata": {
    "collapsed": true
   },
   "outputs": [],
   "source": [
    "rf = RandomForestClassifier(n_estimators = 45)"
   ]
  },
  {
   "cell_type": "code",
   "execution_count": null,
   "metadata": {
    "collapsed": false
   },
   "outputs": [],
   "source": [
    "sklearn.cross_validation.cross_val_score(rf, X, y, scoring = 'roc_auc')"
   ]
  },
  {
   "cell_type": "code",
   "execution_count": null,
   "metadata": {
    "collapsed": false
   },
   "outputs": [],
   "source": [
    "#ada = AdaBoostClassifier()"
   ]
  },
  {
   "cell_type": "code",
   "execution_count": null,
   "metadata": {
    "collapsed": false
   },
   "outputs": [],
   "source": [
    "#sklearn.cross_validation.cross_val_score(ada, X, y, scoring = 'roc_auc')"
   ]
  },
  {
   "cell_type": "code",
   "execution_count": null,
   "metadata": {
    "collapsed": false
   },
   "outputs": [],
   "source": [
    "rf.fit(X,y)"
   ]
  },
  {
   "cell_type": "code",
   "execution_count": null,
   "metadata": {
    "collapsed": false
   },
   "outputs": [],
   "source": [
    "X_test = test.values\n",
    "X_test = imputer.transform(X_test)\n"
   ]
  },
  {
   "cell_type": "code",
   "execution_count": null,
   "metadata": {
    "collapsed": false
   },
   "outputs": [],
   "source": [
    "y_pred = rf.predict(X_test)"
   ]
  },
  {
   "cell_type": "code",
   "execution_count": null,
   "metadata": {
    "collapsed": true
   },
   "outputs": [],
   "source": [
    "# MAKING SUBMISSION\n",
    "submission = pd.DataFrame(y_pred, index=test.index, columns=['target'])\n",
    "submission.index.name = 'ID'\n",
    "submission.to_csv('beat_withrf_B.csv')"
   ]
  },
  {
   "cell_type": "code",
   "execution_count": null,
   "metadata": {
    "collapsed": false
   },
   "outputs": [],
   "source": []
  }
 ],
 "metadata": {
  "kernelspec": {
   "display_name": "Python 2",
   "language": "python",
   "name": "python2"
  },
  "language_info": {
   "codemirror_mode": {
    "name": "ipython",
    "version": 2
   },
   "file_extension": ".py",
   "mimetype": "text/x-python",
   "name": "python",
   "nbconvert_exporter": "python",
   "pygments_lexer": "ipython2",
   "version": "2.7.10"
  }
 },
 "nbformat": 4,
 "nbformat_minor": 0
}
