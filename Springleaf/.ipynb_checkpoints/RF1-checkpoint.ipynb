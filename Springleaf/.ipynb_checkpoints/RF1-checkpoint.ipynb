{
 "cells": [
  {
   "cell_type": "code",
   "execution_count": 54,
   "metadata": {
    "collapsed": false
   },
   "outputs": [],
   "source": [
    "import pandas as pd\n",
    "import numpy as np\n",
    "import random\n",
    "from collections import Counter\n",
    "import matplotlib.pyplot as plt\n",
    "import time\n",
    "import datetime\n",
    "\n",
    "from sklearn.preprocessing import LabelEncoder\n",
    "\n",
    "%matplotlib inline"
   ]
  },
  {
   "cell_type": "code",
   "execution_count": 2,
   "metadata": {
    "collapsed": false
   },
   "outputs": [
    {
     "name": "stderr",
     "output_type": "stream",
     "text": [
      "//anaconda/lib/python2.7/site-packages/pandas/io/parsers.py:1170: DtypeWarning: Columns (8,9,10,11,12,43,157,196,214,225,228,229,231,235,238) have mixed types. Specify dtype option on import or set low_memory=False.\n",
      "  data = self._reader.read(nrows)\n",
      "//anaconda/lib/python2.7/site-packages/pandas/io/parsers.py:1170: DtypeWarning: Columns (8,9,10,11,12,43,157,167,177,196,214,225,228,229,231,235,238) have mixed types. Specify dtype option on import or set low_memory=False.\n",
      "  data = self._reader.read(nrows)\n"
     ]
    },
    {
     "name": "stdout",
     "output_type": "stream",
     "text": [
      "(145231, 1933)\n",
      "(145232, 1932)\n"
     ]
    }
   ],
   "source": [
    "train = pd.read_csv('./train.csv').set_index(\"ID\")\n",
    "test = pd.read_csv('./test.csv').set_index(\"ID\")\n",
    "print train.shape\n",
    "print test.shape"
   ]
  },
  {
   "cell_type": "code",
   "execution_count": 3,
   "metadata": {
    "collapsed": false
   },
   "outputs": [],
   "source": [
    "m,n = train.shape #draw samples from data to determine the type of data\n",
    "\n",
    "random.seed(1)\n",
    "r = np.random.choice(m, size = 20000, replace=False)"
   ]
  },
  {
   "cell_type": "code",
   "execution_count": 4,
   "metadata": {
    "collapsed": false
   },
   "outputs": [
    {
     "name": "stdout",
     "output_type": "stream",
     "text": [
      "['VAR_0847', 'VAR_1428']\n"
     ]
    },
    {
     "name": "stderr",
     "output_type": "stream",
     "text": [
      "//anaconda/lib/python2.7/site-packages/numpy/lib/arraysetops.py:198: FutureWarning: numpy not_equal will not check object identity in the future. The comparison did not return the same result as suggested by the identity (`is`)) and will change.\n",
      "  flag = np.concatenate(([True], aux[1:] != aux[:-1]))\n"
     ]
    }
   ],
   "source": [
    "drop_cols = [c for c in train.columns if len(np.unique(train[c])) == 1]#Should later drop columns from train and test\n",
    "print drop_cols\n",
    "train.drop(drop_cols, axis = 1, inplace = True)\n",
    "test.drop(drop_cols, axis = 1, inplace = True)"
   ]
  },
  {
   "cell_type": "code",
   "execution_count": 5,
   "metadata": {
    "collapsed": false
   },
   "outputs": [],
   "source": [
    "object_cols = train.columns[train.dtypes == 'object']"
   ]
  },
  {
   "cell_type": "code",
   "execution_count": 6,
   "metadata": {
    "collapsed": false
   },
   "outputs": [
    {
     "name": "stdout",
     "output_type": "stream",
     "text": [
      "VAR_0001 [(nan, 9938), ('R', 5912), ('H', 4119), ('Q', 31)]\n",
      "VAR_0005 [(nan, 9938), ('B', 4990), ('C', 3678), ('N', 1186), ('S', 208)]\n",
      "VAR_0008 [(False, 10058), (nan, 9942)]\n",
      "VAR_0009 [(False, 10058), (nan, 9942)]\n",
      "VAR_0010 [(False, 10058), (nan, 9942)]\n",
      "VAR_0011 [(False, 10058), (nan, 9942)]\n",
      "VAR_0012 [(False, 10058), (nan, 9942)]\n",
      "VAR_0043 [(False, 10058), (nan, 9942)]\n",
      "VAR_0044 [('[]', 10058), (nan, 9942)]\n",
      "VAR_0073 [(nan, 16978), ('12MAR09:00:00:00', 22), ('13MAR09:00:00:00', 17), ('10JUN11:00:00:00', 16), ('08MAY12:00:00:00', 15), ('04JAN12:00:00:00', 13), ('19JUL12:00:00:00', 13), ('29NOV11:00:00:00', 12), ('28OCT11:00:00:00', 12), ('11APR12:00:00:00', 12), ('27JUL12:00:00:00', 12), ('23APR12:00:00:00', 12), ('10MAY12:00:00:00', 12), ('06JUL12:00:00:00', 12), ('16DEC11:00:00:00', 11), ('11AUG12:00:00:00', 11), ('24SEP12:00:00:00', 11), ('09APR12:00:00:00', 11), ('08NOV11:00:00:00', 11), ('23JAN12:00:00:00', 11)]\n",
      "VAR_0075 [(nan, 9942), ('22SEP10:00:00:00', 73), ('23SEP10:00:00:00', 60), ('06OCT11:00:00:00', 53), ('06DEC11:00:00:00', 52), ('15NOV11:00:00:00', 48), ('14DEC11:00:00:00', 47), ('04OCT11:00:00:00', 47), ('10NOV11:00:00:00', 45), ('17SEP10:00:00:00', 44), ('04NOV11:00:00:00', 44), ('13DEC11:00:00:00', 43), ('22NOV11:00:00:00', 43), ('09NOV11:00:00:00', 42), ('11OCT11:00:00:00', 42), ('07OCT11:00:00:00', 42), ('19OCT11:00:00:00', 42), ('17MAY12:00:00:00', 42), ('23NOV11:00:00:00', 42), ('26SEP12:00:00:00', 41)]\n",
      "VAR_0156 [(nan, 19588), ('14NOV11:00:00:00', 5), ('20DEC11:00:00:00', 5), ('05MAY11:00:00:00', 4), ('01DEC11:00:00:00', 4), ('17MAY12:00:00:00', 4), ('22JUN12:00:00:00', 4), ('29JUN12:00:00:00', 3), ('21MAY12:00:00:00', 3), ('10JAN12:00:00:00', 3), ('26JUN12:00:00:00', 3), ('26OCT11:00:00:00', 3), ('03MAY12:00:00:00', 3), ('12DEC11:00:00:00', 3), ('10OCT11:00:00:00', 3), ('17DEC11:00:00:00', 3), ('15JAN12:00:00:00', 3), ('16DEC11:00:00:00', 3), ('08DEC11:00:00:00', 3), ('16NOV11:00:00:00', 3)]\n",
      "VAR_0157 [(nan, 19630), ('18JAN12:00:00:00', 2), ('06SEP12:00:00:00', 2), ('02JAN12:00:00:00', 2), (nan, 1), (nan, 1), (nan, 1), (nan, 1), ('01JUL11:00:00:00', 1), (nan, 1), (nan, 1), ('09MAR12:00:00:00', 1), (nan, 1), ('18DEC11:00:00:00', 1), ('03JUN12:00:00:00', 1), (nan, 1), (nan, 1), (nan, 1), (nan, 1), (nan, 1)]\n",
      "VAR_0158 [(nan, 19849), ('01MAR12:00:00:00', 3), ('19APR12:00:00:00', 3), ('14OCT11:00:00:00', 3), ('11MAY12:00:00:00', 3), ('06JAN12:00:00:00', 3), ('03FEB12:00:00:00', 3), ('23DEC11:00:00:00', 3), ('25JAN12:00:00:00', 3), ('01FEB12:00:00:00', 3), ('09MAR12:00:00:00', 2), ('02JUL12:00:00:00', 2), ('01JUN12:00:00:00', 2), ('16APR12:00:00:00', 2), ('07MAR12:00:00:00', 2), ('29FEB12:00:00:00', 2), ('20JAN12:00:00:00', 2), ('20OCT11:00:00:00', 2), ('28JUN12:00:00:00', 2), ('09FEB12:00:00:00', 2)]\n",
      "VAR_0159 [(nan, 19588), ('17MAY12:00:00:00', 6), ('08DEC11:00:00:00', 5), ('20DEC11:00:00:00', 5), ('07MAY12:00:00:00', 5), ('03MAY12:00:00:00', 4), ('21MAY12:00:00:00', 4), ('01DEC11:00:00:00', 4), ('14NOV11:00:00:00', 4), ('28MAR12:00:00:00', 4), ('28JUN12:00:00:00', 4), ('22JUN12:00:00:00', 4), ('01MAY12:00:00:00', 4), ('10JAN12:00:00:00', 4), ('04JUN12:00:00:00', 4), ('31OCT11:00:00:00', 4), ('09JUL12:00:00:00', 3), ('26JUN12:00:00:00', 3), ('27NOV11:00:00:00', 3), ('27AUG12:00:00:00', 3)]\n",
      "VAR_0166 [(nan, 19016), ('29JUL11:00:00:00', 6), ('06JUN11:00:00:00', 5), ('05JUL11:00:00:00', 5), ('12DEC11:00:00:00', 5), ('26APR12:00:00:00', 4), ('23JAN12:00:00:00', 4), ('30JUL12:00:00:00', 4), ('03MAY12:00:00:00', 4), ('21JUN10:00:00:00', 4), ('14SEP11:00:00:00', 4), ('13AUG12:00:00:00', 4), ('14JUL11:00:00:00', 4), ('10NOV09:00:00:00', 3), ('15AUG11:00:00:00', 3), ('26SEP11:00:00:00', 3), ('13JUL12:00:00:00', 3), ('24NOV10:00:00:00', 3), ('29NOV07:00:00:00', 3), ('07JUL10:00:00:00', 3)]\n",
      "VAR_0167 [(nan, 19826), ('31DEC11:00:00:00', 3), ('29APR11:00:00:00', 2), ('26AUG11:00:00:00', 2), ('01FEB11:00:00:00', 2), ('30JUL11:00:00:00', 2), ('01JAN11:00:00:00', 2), ('03JAN12:00:00:00', 2), ('19JAN12:00:00:00', 2), ('23MAY12:00:00:00', 2), ('23JUL11:00:00:00', 2), ('03NOV11:00:00:00', 2), ('05APR12:00:00:00', 2), ('21OCT11:00:00:00', 2), ('18JAN12:00:00:00', 2), ('25JAN12:00:00:00', 2), ('09JUL10:00:00:00', 2), ('27SEP11:00:00:00', 2), ('13OCT11:00:00:00', 1), ('02NOV11:00:00:00', 1)]\n",
      "VAR_0168 [(nan, 19270), ('30SEP11:00:00:00', 11), ('03NOV11:00:00:00', 11), ('06DEC11:00:00:00', 10), ('17FEB12:00:00:00', 10), ('03FEB12:00:00:00', 8), ('30DEC10:00:00:00', 6), ('20JAN12:00:00:00', 6), ('03JAN12:00:00:00', 6), ('04NOV11:00:00:00', 6), ('21MAR12:00:00:00', 5), ('23DEC11:00:00:00', 5), ('01DEC11:00:00:00', 5), ('06JAN12:00:00:00', 5), ('30DEC11:00:00:00', 5), ('29JUN12:00:00:00', 4), ('31AUG12:00:00:00', 4), ('09DEC11:00:00:00', 4), ('29JUL11:00:00:00', 4), ('24FEB12:00:00:00', 4)]\n",
      "VAR_0169 [(nan, 19016), ('15NOV11:00:00:00', 6), ('23JAN12:00:00:00', 6), ('12DEC11:00:00:00', 6), ('15AUG11:00:00:00', 5), ('31OCT11:00:00:00', 5), ('06DEC11:00:00:00', 5), ('02APR12:00:00:00', 5), ('10FEB12:00:00:00', 5), ('19MAR12:00:00:00', 5), ('23SEP11:00:00:00', 5), ('05SEP12:00:00:00', 4), ('13JUL12:00:00:00', 4), ('09NOV11:00:00:00', 4), ('02FEB12:00:00:00', 4), ('06MAR12:00:00:00', 4), ('13JAN12:00:00:00', 4), ('22FEB12:00:00:00', 4), ('04JUN12:00:00:00', 4), ('05DEC11:00:00:00', 4)]\n",
      "VAR_0176 [(nan, 18800), ('12DEC11:00:00:00', 8), ('03MAY12:00:00:00', 7), ('06JUN11:00:00:00', 6), ('14NOV11:00:00:00', 6), ('05JUL11:00:00:00', 6), ('23DEC11:00:00:00', 6), ('29JUN12:00:00:00', 5), ('20JUL11:00:00:00', 5), ('15NOV11:00:00:00', 5), ('29JUL11:00:00:00', 5), ('11JUL12:00:00:00', 5), ('19JAN12:00:00:00', 5), ('23JAN12:00:00:00', 5), ('30JUL12:00:00:00', 5), ('07MAY12:00:00:00', 5), ('17MAY12:00:00:00', 5), ('13AUG12:00:00:00', 5), ('26AUG11:00:00:00', 4), ('15AUG11:00:00:00', 4)]\n",
      "VAR_0177 [(nan, 19775), ('05APR12:00:00:00', 3), ('18JAN12:00:00:00', 3), ('26AUG11:00:00:00', 2), ('29APR11:00:00:00', 2), ('01FEB11:00:00:00', 2), ('31DEC11:00:00:00', 2), ('01JAN11:00:00:00', 2), ('06SEP12:00:00:00', 2), ('02JAN12:00:00:00', 2), ('19JAN12:00:00:00', 2), ('23MAY12:00:00:00', 2), ('11FEB12:00:00:00', 2), ('23JUL11:00:00:00', 2), ('03NOV11:00:00:00', 2), ('18MAY12:00:00:00', 2), ('02MAR12:00:00:00', 2), ('21OCT11:00:00:00', 2), ('23FEB12:00:00:00', 2), ('25JAN12:00:00:00', 2)]\n",
      "VAR_0178 [(nan, 19169), ('10JAN12:00:00:00', 10), ('17FEB12:00:00:00', 10), ('03NOV11:00:00:00', 10), ('03FEB12:00:00:00', 9), ('06DEC11:00:00:00', 9), ('30SEP11:00:00:00', 9), ('20JAN12:00:00:00', 8), ('23MAR12:00:00:00', 8), ('04NOV11:00:00:00', 8), ('11MAY12:00:00:00', 7), ('30DEC10:00:00:00', 6), ('21MAR12:00:00:00', 6), ('24FEB12:00:00:00', 6), ('01DEC11:00:00:00', 6), ('06JAN12:00:00:00', 6), ('23DEC11:00:00:00', 6), ('03JAN12:00:00:00', 6), ('29JUN12:00:00:00', 5), ('14OCT11:00:00:00', 5)]\n",
      "VAR_0179 [(nan, 18800), ('07MAY12:00:00:00', 10), ('15NOV11:00:00:00', 9), ('31OCT11:00:00:00', 9), ('20DEC11:00:00:00', 8), ('14NOV11:00:00:00', 7), ('23JAN12:00:00:00', 7), ('04JUN12:00:00:00', 7), ('17MAY12:00:00:00', 7), ('29JUN12:00:00:00', 6), ('02APR12:00:00:00', 6), ('03MAY12:00:00:00', 6), ('22FEB12:00:00:00', 6), ('29MAY12:00:00:00', 6), ('12DEC11:00:00:00', 6), ('13JUL12:00:00:00', 5), ('06DEC11:00:00:00', 5), ('07FEB12:00:00:00', 5), ('26JAN12:00:00:00', 5), ('19JAN12:00:00:00', 5)]\n",
      "VAR_0196 [(False, 10058), (nan, 9942)]\n",
      "VAR_0200 [(nan, 9942), ('CHICAGO', 146), ('HOUSTON', 75), ('JACKSONVILLE', 75), ('SAN ANTONIO', 65), ('INDIANAPOLIS', 61), ('LOS ANGELES', 58), ('PHILADELPHIA', 54), ('COLUMBUS', 51), ('SAN DIEGO', 51), ('COLUMBIA', 48), ('RICHMOND', 44), ('CHARLOTTE', 43), ('DALLAS', 43), ('FAYETTEVILLE', 43), ('LOUISVILLE', 41), ('MEMPHIS', 40), ('ORLANDO', 40), ('EL PASO', 40), ('MONTGOMERY', 38)]\n",
      "VAR_0202 [('BatchInquiry', 10058), (nan, 9942)]\n",
      "VAR_0204 [(nan, 9942), ('30JAN14:22:58:00', 23), ('31JAN14:22:11:00', 21), ('31JAN14:18:30:00', 20), ('30JAN14:22:54:00', 20), ('29JAN14:19:18:00', 20), ('31JAN14:23:59:00', 19), ('30JAN14:22:53:00', 19), ('31JAN14:23:25:00', 18), ('31JAN14:15:12:00', 18), ('30JAN14:15:20:00', 18), ('30JAN14:18:18:00', 18), ('31JAN14:18:06:00', 18), ('30JAN14:15:16:00', 18), ('30JAN14:23:30:00', 18), ('31JAN14:23:19:00', 18), ('30JAN14:23:16:00', 17), ('31JAN14:23:52:00', 17), ('31JAN14:15:11:00', 17), ('01FEB14:00:01:00', 17)]\n",
      "VAR_0214 [(nan, 10440), (nan, 1), (nan, 1), (nan, 1), (nan, 1), (nan, 1), (nan, 1), (nan, 1), (nan, 1), (nan, 1), (nan, 1), (nan, 1), (nan, 1), (nan, 1), (nan, 1), (nan, 1), (nan, 1), (nan, 1), (nan, 1), (nan, 1)]\n",
      "VAR_0216 [('DS', 10058), (nan, 9942)]\n",
      "VAR_0217 [(nan, 9942), ('06OCT11:02:00:00', 61), ('17MAY12:02:00:00', 60), ('26SEP12:02:00:00', 58), ('06DEC11:02:00:00', 57), ('05SEP12:02:00:00', 55), ('19JUN12:02:00:00', 55), ('16OCT12:02:00:00', 55), ('07DEC11:02:00:00', 54), ('14DEC11:02:00:00', 54), ('16MAY12:02:00:00', 53), ('03JUL12:02:00:00', 53), ('03OCT12:02:00:00', 53), ('21AUG12:02:00:00', 51), ('12SEP12:02:00:00', 51), ('22AUG12:02:00:00', 50), ('04OCT11:02:00:00', 50), ('13DEC11:02:00:00', 50), ('08MAY12:02:00:00', 50), ('30AUG12:02:00:00', 50)]\n",
      "VAR_0222 [('C6', 10058), (nan, 9942)]\n",
      "VAR_0226 [(False, 10025), (nan, 9942), (True, 33)]\n",
      "VAR_0229 [(False, 10058), (nan, 9942)]\n",
      "VAR_0230 [(False, 10050), (nan, 9942), (True, 8)]\n",
      "VAR_0232 [(nan, 9942), (True, 5719), (False, 4339)]\n",
      "VAR_0236 [(True, 10033), (nan, 9942), (False, 25)]\n",
      "VAR_0237 [(nan, 9942), ('CA', 1079), ('TX', 968), ('NC', 793), ('IL', 579), ('GA', 579), ('VA', 530), ('FL', 515), ('PA', 508), ('OH', 469), ('IN', 429), ('SC', 417), ('TN', 355), ('AL', 346), ('WA', 262), ('KY', 259), ('LA', 241), ('MO', 223), ('CO', 199), ('MS', 179)]\n",
      "VAR_0239 [(False, 10058), (nan, 9942)]\n",
      "VAR_0274 [(nan, 9997), ('CA', 1093), ('TX', 824), ('IL', 633), ('NC', 567), ('OH', 511), ('PA', 499), ('VA', 422), ('GA', 408), ('IN', 395), ('FL', 391), ('NY', 370), ('SC', 349), ('AL', 338), ('TN', 310), ('LA', 297), ('KY', 227), ('MS', 205), ('MO', 204), ('MI', 197)]\n",
      "VAR_0283 [(nan, 9997), ('S', 7927), ('H', 1647), ('-1', 357), ('P', 38), ('F', 21), ('R', 11), ('U', 2)]\n",
      "VAR_0305 [(nan, 9997), ('S', 7643), ('H', 1670), ('P', 455), ('-1', 198), ('R', 34), ('U', 2), ('M', 1)]\n",
      "VAR_0325 [(nan, 9997), ('S', 6259), ('H', 1845), ('-1', 931), ('P', 744), ('R', 153), ('F', 55), ('U', 9), ('M', 6), ('G', 1)]\n",
      "VAR_0342 [(nan, 9997), ('-1', 2136), ('FF', 1477), ('FE', 792), ('EE', 769), ('DD', 707), ('EF', 656), ('ED', 537), ('FD', 459), ('DE', 451), ('DF', 348), ('UU', 277), ('CD', 165), ('DC', 139), ('CC', 119), ('CE', 117), ('EC', 111), ('UF', 107), ('UE', 77), ('FU', 69)]\n",
      "VAR_0352 [(nan, 9997), ('U', 4257), ('O', 3560), ('R', 2017), ('-1', 169)]\n",
      "VAR_0353 [(nan, 9997), ('U', 4904), ('R', 2659), ('O', 2043), ('-1', 397)]\n",
      "VAR_0354 [(nan, 9997), ('U', 4675), ('R', 2432), ('-1', 1680), ('O', 1216)]\n",
      "VAR_0404 [(nan, 9997), ('-1', 9071), ('CONTACT', 153), ('PRESIDENT', 83), ('AGENT', 70), ('DIRECTOR', 55), ('OWNER', 52), ('MEMBER', 47), ('INDIVIDUAL - SOLE OWNER', 33), ('MANAGER', 26), ('SECRETARY', 26), ('TREASURER', 21), ('CONTA', 20), ('VICE PRESIDENT', 18), ('INCORPORATOR', 15), ('MEMBER MANAGER', 13), ('CFO', 12), ('CHIEF EXECUTIVE OFFICER', 11), ('BOARD MEMBER', 9), ('TAX RESPONSIBLE PARTY', 9)]\n",
      "VAR_0466 [(nan, 9997), ('-1', 8359), ('I', 1644)]\n",
      "VAR_0467 [(nan, 9997), ('-1', 8368), ('Discharged', 1524), ('Dismissed', 104), ('Discharge NA', 7)]\n",
      "VAR_0493 [(nan, 9997), ('-1', 9392), ('REGISTERED NURSE', 61), ('LICENSED PRACTICAL NURSE', 56), ('PHARMACY TECHNICIAN', 40), ('COSMETOLOGIST', 28), ('CERTIFIED NURSING ASSISTANT', 22), ('PERMANENT EMPLOYEE REGISTRATION CARD', 22), ('LICENSED VOCATIONAL NURSE', 20), ('PROFESSIONAL NURSE', 17), ('GUARD', 15), ('REAL ESTATE', 15), ('PRACTICAL NURSE', 12), ('NURSE AIDE', 9), ('CERTIFIED NURSE AIDE', 9), ('REAL ESTATE SALESPERSON', 7), ('FIREARM PERMIT', 7), ('RN', 7), ('REAL ESTATE SALES PERSON', 7), ('RESPIRATORY CARE PRACTITIONER', 6)]\n",
      "VAR_1934 [(nan, 9938), ('IAPS', 4799), ('BRANCH', 4545), ('MOBILE', 267), ('CSC', 244), ('RCC', 207)]\n"
     ]
    }
   ],
   "source": [
    "for c in object_cols:\n",
    "    print c, Counter(train.loc[r,c]).most_common(20)"
   ]
  },
  {
   "cell_type": "code",
   "execution_count": 8,
   "metadata": {
    "collapsed": false
   },
   "outputs": [],
   "source": [
    "dates_cols =['VAR_0073', 'VAR_0075', 'VAR_0156', 'VAR_0157', 'VAR_0158', 'VAR_0159', 'VAR_0166', 'VAR_0167', 'VAR_0168', 'VAR_0169', 'VAR_0176', 'VAR_0177', 'VAR_0178','VAR_0179', 'VAR_0204', 'VAR_0217']"
   ]
  },
  {
   "cell_type": "code",
   "execution_count": 10,
   "metadata": {
    "collapsed": false
   },
   "outputs": [
    {
     "name": "stdout",
     "output_type": "stream",
     "text": [
      "VAR_0001 [(nan, 9938), ('R', 5912), ('H', 4119), ('Q', 31)]\n",
      "VAR_0005 [(nan, 9938), ('B', 4990), ('C', 3678), ('N', 1186), ('S', 208)]\n",
      "VAR_0008 [(False, 10058), (nan, 9942)]\n",
      "VAR_0009 [(False, 10058), (nan, 9942)]\n",
      "VAR_0010 [(False, 10058), (nan, 9942)]\n",
      "VAR_0011 [(False, 10058), (nan, 9942)]\n",
      "VAR_0012 [(False, 10058), (nan, 9942)]\n",
      "VAR_0043 [(False, 10058), (nan, 9942)]\n",
      "VAR_0044 [('[]', 10058), (nan, 9942)]\n",
      "VAR_0196 [(False, 10058), (nan, 9942)]\n",
      "VAR_0200 [(nan, 9942), ('CHICAGO', 146), ('HOUSTON', 75), ('JACKSONVILLE', 75), ('SAN ANTONIO', 65), ('INDIANAPOLIS', 61), ('LOS ANGELES', 58), ('PHILADELPHIA', 54), ('COLUMBUS', 51), ('SAN DIEGO', 51), ('COLUMBIA', 48), ('RICHMOND', 44), ('CHARLOTTE', 43), ('DALLAS', 43), ('FAYETTEVILLE', 43), ('LOUISVILLE', 41), ('MEMPHIS', 40), ('ORLANDO', 40), ('EL PASO', 40), ('MONTGOMERY', 38)]\n",
      "VAR_0202 [('BatchInquiry', 10058), (nan, 9942)]\n",
      "VAR_0214 [(nan, 10440), (nan, 1), (nan, 1), (nan, 1), (nan, 1), (nan, 1), (nan, 1), (nan, 1), (nan, 1), (nan, 1), (nan, 1), (nan, 1), (nan, 1), (nan, 1), (nan, 1), (nan, 1), (nan, 1), (nan, 1), (nan, 1), (nan, 1)]\n",
      "VAR_0216 [('DS', 10058), (nan, 9942)]\n",
      "VAR_0222 [('C6', 10058), (nan, 9942)]\n",
      "VAR_0226 [(False, 10025), (nan, 9942), (True, 33)]\n",
      "VAR_0229 [(False, 10058), (nan, 9942)]\n",
      "VAR_0230 [(False, 10050), (nan, 9942), (True, 8)]\n",
      "VAR_0232 [(nan, 9942), (True, 5719), (False, 4339)]\n",
      "VAR_0236 [(True, 10033), (nan, 9942), (False, 25)]\n",
      "VAR_0237 [(nan, 9942), ('CA', 1079), ('TX', 968), ('NC', 793), ('IL', 579), ('GA', 579), ('VA', 530), ('FL', 515), ('PA', 508), ('OH', 469), ('IN', 429), ('SC', 417), ('TN', 355), ('AL', 346), ('WA', 262), ('KY', 259), ('LA', 241), ('MO', 223), ('CO', 199), ('MS', 179)]\n",
      "VAR_0239 [(False, 10058), (nan, 9942)]\n",
      "VAR_0274 [(nan, 9997), ('CA', 1093), ('TX', 824), ('IL', 633), ('NC', 567), ('OH', 511), ('PA', 499), ('VA', 422), ('GA', 408), ('IN', 395), ('FL', 391), ('NY', 370), ('SC', 349), ('AL', 338), ('TN', 310), ('LA', 297), ('KY', 227), ('MS', 205), ('MO', 204), ('MI', 197)]\n",
      "VAR_0283 [(nan, 9997), ('S', 7927), ('H', 1647), ('-1', 357), ('P', 38), ('F', 21), ('R', 11), ('U', 2)]\n",
      "VAR_0305 [(nan, 9997), ('S', 7643), ('H', 1670), ('P', 455), ('-1', 198), ('R', 34), ('U', 2), ('M', 1)]\n",
      "VAR_0325 [(nan, 9997), ('S', 6259), ('H', 1845), ('-1', 931), ('P', 744), ('R', 153), ('F', 55), ('U', 9), ('M', 6), ('G', 1)]\n",
      "VAR_0342 [(nan, 9997), ('-1', 2136), ('FF', 1477), ('FE', 792), ('EE', 769), ('DD', 707), ('EF', 656), ('ED', 537), ('FD', 459), ('DE', 451), ('DF', 348), ('UU', 277), ('CD', 165), ('DC', 139), ('CC', 119), ('CE', 117), ('EC', 111), ('UF', 107), ('UE', 77), ('FU', 69)]\n",
      "VAR_0352 [(nan, 9997), ('U', 4257), ('O', 3560), ('R', 2017), ('-1', 169)]\n",
      "VAR_0353 [(nan, 9997), ('U', 4904), ('R', 2659), ('O', 2043), ('-1', 397)]\n",
      "VAR_0354 [(nan, 9997), ('U', 4675), ('R', 2432), ('-1', 1680), ('O', 1216)]\n",
      "VAR_0404 [(nan, 9997), ('-1', 9071), ('CONTACT', 153), ('PRESIDENT', 83), ('AGENT', 70), ('DIRECTOR', 55), ('OWNER', 52), ('MEMBER', 47), ('INDIVIDUAL - SOLE OWNER', 33), ('MANAGER', 26), ('SECRETARY', 26), ('TREASURER', 21), ('CONTA', 20), ('VICE PRESIDENT', 18), ('INCORPORATOR', 15), ('MEMBER MANAGER', 13), ('CFO', 12), ('CHIEF EXECUTIVE OFFICER', 11), ('BOARD MEMBER', 9), ('TAX RESPONSIBLE PARTY', 9)]\n",
      "VAR_0466 [(nan, 9997), ('-1', 8359), ('I', 1644)]\n",
      "VAR_0467 [(nan, 9997), ('-1', 8368), ('Discharged', 1524), ('Dismissed', 104), ('Discharge NA', 7)]\n",
      "VAR_0493 [(nan, 9997), ('-1', 9392), ('REGISTERED NURSE', 61), ('LICENSED PRACTICAL NURSE', 56), ('PHARMACY TECHNICIAN', 40), ('COSMETOLOGIST', 28), ('CERTIFIED NURSING ASSISTANT', 22), ('PERMANENT EMPLOYEE REGISTRATION CARD', 22), ('LICENSED VOCATIONAL NURSE', 20), ('PROFESSIONAL NURSE', 17), ('GUARD', 15), ('REAL ESTATE', 15), ('PRACTICAL NURSE', 12), ('NURSE AIDE', 9), ('CERTIFIED NURSE AIDE', 9), ('REAL ESTATE SALESPERSON', 7), ('FIREARM PERMIT', 7), ('RN', 7), ('REAL ESTATE SALES PERSON', 7), ('RESPIRATORY CARE PRACTITIONER', 6)]\n",
      "VAR_1934 [(nan, 9938), ('IAPS', 4799), ('BRANCH', 4545), ('MOBILE', 267), ('CSC', 244), ('RCC', 207)]\n"
     ]
    }
   ],
   "source": [
    "for c in object_cols:\n",
    "    if c not in dates_cols:\n",
    "        print c, Counter(train.loc[r,c]).most_common(20)"
   ]
  },
  {
   "cell_type": "code",
   "execution_count": 18,
   "metadata": {
    "collapsed": false
   },
   "outputs": [],
   "source": [
    "redundant_0008 = ['VAR_0008', 'VAR_0009', 'VAR_0010','VAR_0011','VAR_0012', 'VAR_0043','VAR_0044','VAR_0196', 'VAR_0229', ] #Contains redundant information\n",
    "train.drop(redundant_0008, axis = 1, inplace = True)\n",
    "test.drop(redundant_0008, axis = 1, inplace = True)"
   ]
  },
  {
   "cell_type": "code",
   "execution_count": 28,
   "metadata": {
    "collapsed": true
   },
   "outputs": [],
   "source": [
    "train['NaNs'] = train.apply(lambda x: np.sum(pd.isnull(x)), axis = 1) #Count the number of NaNs in each row will allow us to separate the types of data\n",
    "test['NaNs'] = test.apply(lambda x: np.sum(pd.isnull(x)), axis = 1)"
   ]
  },
  {
   "cell_type": "code",
   "execution_count": 85,
   "metadata": {
    "collapsed": true
   },
   "outputs": [],
   "source": [
    "def to_date(date_str):\n",
    "    if pd.notnull(date_str):\n",
    "        return datetime.datetime.strptime(date_str, '%d%b%y:%H:%M:%S')\n",
    "    else:\n",
    "        return date_str"
   ]
  },
  {
   "cell_type": "code",
   "execution_count": 100,
   "metadata": {
    "collapsed": false
   },
   "outputs": [],
   "source": [
    "for c in dates_cols:\n",
    "    train[c] = train[c].apply(to_date)\n",
    "    test[c] = test[c].apply(to_date)"
   ]
  },
  {
   "cell_type": "code",
   "execution_count": 103,
   "metadata": {
    "collapsed": false
   },
   "outputs": [
    {
     "data": {
      "text/html": [
       "<div>\n",
       "<table border=\"1\" class=\"dataframe\">\n",
       "  <thead>\n",
       "    <tr style=\"text-align: right;\">\n",
       "      <th></th>\n",
       "      <th>VAR_0073</th>\n",
       "      <th>VAR_0075</th>\n",
       "      <th>VAR_0156</th>\n",
       "      <th>VAR_0157</th>\n",
       "      <th>VAR_0158</th>\n",
       "      <th>VAR_0159</th>\n",
       "      <th>VAR_0166</th>\n",
       "      <th>VAR_0167</th>\n",
       "      <th>VAR_0168</th>\n",
       "      <th>VAR_0169</th>\n",
       "      <th>VAR_0176</th>\n",
       "      <th>VAR_0177</th>\n",
       "      <th>VAR_0178</th>\n",
       "      <th>VAR_0179</th>\n",
       "      <th>VAR_0204</th>\n",
       "      <th>VAR_0217</th>\n",
       "    </tr>\n",
       "    <tr>\n",
       "      <th>ID</th>\n",
       "      <th></th>\n",
       "      <th></th>\n",
       "      <th></th>\n",
       "      <th></th>\n",
       "      <th></th>\n",
       "      <th></th>\n",
       "      <th></th>\n",
       "      <th></th>\n",
       "      <th></th>\n",
       "      <th></th>\n",
       "      <th></th>\n",
       "      <th></th>\n",
       "      <th></th>\n",
       "      <th></th>\n",
       "      <th></th>\n",
       "      <th></th>\n",
       "    </tr>\n",
       "  </thead>\n",
       "  <tbody>\n",
       "    <tr>\n",
       "      <th>2</th>\n",
       "      <td>NaT</td>\n",
       "      <td>2011-11-08</td>\n",
       "      <td>NaN</td>\n",
       "      <td>NaN</td>\n",
       "      <td>NaN</td>\n",
       "      <td>NaN</td>\n",
       "      <td>NaN</td>\n",
       "      <td>NaN</td>\n",
       "      <td>NaN</td>\n",
       "      <td>NaN</td>\n",
       "      <td>NaN</td>\n",
       "      <td>NaN</td>\n",
       "      <td>NaN</td>\n",
       "      <td>NaN</td>\n",
       "      <td>2014-01-29 21:16:00</td>\n",
       "      <td>2011-11-08 02:00:00</td>\n",
       "    </tr>\n",
       "    <tr>\n",
       "      <th>4</th>\n",
       "      <td>2012-09-04</td>\n",
       "      <td>2011-11-10</td>\n",
       "      <td>NaN</td>\n",
       "      <td>NaN</td>\n",
       "      <td>NaN</td>\n",
       "      <td>NaN</td>\n",
       "      <td>NaN</td>\n",
       "      <td>NaN</td>\n",
       "      <td>NaN</td>\n",
       "      <td>NaN</td>\n",
       "      <td>NaN</td>\n",
       "      <td>NaN</td>\n",
       "      <td>NaN</td>\n",
       "      <td>NaN</td>\n",
       "      <td>2014-02-01 00:11:00</td>\n",
       "      <td>2012-10-02 02:00:00</td>\n",
       "    </tr>\n",
       "    <tr>\n",
       "      <th>5</th>\n",
       "      <td>NaT</td>\n",
       "      <td>2011-12-13</td>\n",
       "      <td>NaN</td>\n",
       "      <td>NaN</td>\n",
       "      <td>NaN</td>\n",
       "      <td>NaN</td>\n",
       "      <td>NaN</td>\n",
       "      <td>NaN</td>\n",
       "      <td>NaN</td>\n",
       "      <td>NaN</td>\n",
       "      <td>NaN</td>\n",
       "      <td>NaN</td>\n",
       "      <td>NaN</td>\n",
       "      <td>NaN</td>\n",
       "      <td>2014-01-30 15:11:00</td>\n",
       "      <td>2011-12-13 02:00:00</td>\n",
       "    </tr>\n",
       "    <tr>\n",
       "      <th>7</th>\n",
       "      <td>NaT</td>\n",
       "      <td>2010-09-23</td>\n",
       "      <td>NaN</td>\n",
       "      <td>NaN</td>\n",
       "      <td>NaN</td>\n",
       "      <td>NaN</td>\n",
       "      <td>NaN</td>\n",
       "      <td>NaN</td>\n",
       "      <td>NaN</td>\n",
       "      <td>NaN</td>\n",
       "      <td>NaN</td>\n",
       "      <td>NaN</td>\n",
       "      <td>NaN</td>\n",
       "      <td>NaN</td>\n",
       "      <td>2014-02-01 00:07:00</td>\n",
       "      <td>2012-11-01 02:00:00</td>\n",
       "    </tr>\n",
       "    <tr>\n",
       "      <th>8</th>\n",
       "      <td>NaT</td>\n",
       "      <td>2011-10-15</td>\n",
       "      <td>NaN</td>\n",
       "      <td>NaN</td>\n",
       "      <td>NaN</td>\n",
       "      <td>NaN</td>\n",
       "      <td>NaN</td>\n",
       "      <td>NaN</td>\n",
       "      <td>NaN</td>\n",
       "      <td>NaN</td>\n",
       "      <td>NaN</td>\n",
       "      <td>NaN</td>\n",
       "      <td>NaN</td>\n",
       "      <td>NaN</td>\n",
       "      <td>2014-01-29 19:31:00</td>\n",
       "      <td>2011-10-15 02:00:00</td>\n",
       "    </tr>\n",
       "    <tr>\n",
       "      <th>14</th>\n",
       "      <td>NaT</td>\n",
       "      <td>2012-06-06</td>\n",
       "      <td>NaN</td>\n",
       "      <td>NaN</td>\n",
       "      <td>NaN</td>\n",
       "      <td>NaN</td>\n",
       "      <td>NaN</td>\n",
       "      <td>NaN</td>\n",
       "      <td>NaN</td>\n",
       "      <td>NaN</td>\n",
       "      <td>NaN</td>\n",
       "      <td>NaN</td>\n",
       "      <td>NaN</td>\n",
       "      <td>NaN</td>\n",
       "      <td>2014-01-30 23:52:00</td>\n",
       "      <td>2012-06-06 02:00:00</td>\n",
       "    </tr>\n",
       "    <tr>\n",
       "      <th>16</th>\n",
       "      <td>NaT</td>\n",
       "      <td>2010-11-26</td>\n",
       "      <td>NaN</td>\n",
       "      <td>NaN</td>\n",
       "      <td>NaN</td>\n",
       "      <td>NaN</td>\n",
       "      <td>NaN</td>\n",
       "      <td>NaN</td>\n",
       "      <td>NaN</td>\n",
       "      <td>NaN</td>\n",
       "      <td>NaN</td>\n",
       "      <td>NaN</td>\n",
       "      <td>NaN</td>\n",
       "      <td>NaN</td>\n",
       "      <td>2014-01-29 19:18:00</td>\n",
       "      <td>2011-10-11 02:00:00</td>\n",
       "    </tr>\n",
       "    <tr>\n",
       "      <th>20</th>\n",
       "      <td>NaT</td>\n",
       "      <td>2012-01-18</td>\n",
       "      <td>NaN</td>\n",
       "      <td>NaN</td>\n",
       "      <td>NaN</td>\n",
       "      <td>NaN</td>\n",
       "      <td>NaN</td>\n",
       "      <td>NaN</td>\n",
       "      <td>NaN</td>\n",
       "      <td>NaN</td>\n",
       "      <td>NaN</td>\n",
       "      <td>NaN</td>\n",
       "      <td>NaN</td>\n",
       "      <td>NaN</td>\n",
       "      <td>2014-01-30 16:46:00</td>\n",
       "      <td>2012-01-18 02:00:00</td>\n",
       "    </tr>\n",
       "  </tbody>\n",
       "</table>\n",
       "</div>"
      ],
      "text/plain": [
       "     VAR_0073   VAR_0075 VAR_0156 VAR_0157 VAR_0158 VAR_0159 VAR_0166  \\\n",
       "ID                                                                      \n",
       "2         NaT 2011-11-08      NaN      NaN      NaN      NaN      NaN   \n",
       "4  2012-09-04 2011-11-10      NaN      NaN      NaN      NaN      NaN   \n",
       "5         NaT 2011-12-13      NaN      NaN      NaN      NaN      NaN   \n",
       "7         NaT 2010-09-23      NaN      NaN      NaN      NaN      NaN   \n",
       "8         NaT 2011-10-15      NaN      NaN      NaN      NaN      NaN   \n",
       "14        NaT 2012-06-06      NaN      NaN      NaN      NaN      NaN   \n",
       "16        NaT 2010-11-26      NaN      NaN      NaN      NaN      NaN   \n",
       "20        NaT 2012-01-18      NaN      NaN      NaN      NaN      NaN   \n",
       "\n",
       "   VAR_0167 VAR_0168 VAR_0169 VAR_0176 VAR_0177 VAR_0178 VAR_0179  \\\n",
       "ID                                                                  \n",
       "2       NaN      NaN      NaN      NaN      NaN      NaN      NaN   \n",
       "4       NaN      NaN      NaN      NaN      NaN      NaN      NaN   \n",
       "5       NaN      NaN      NaN      NaN      NaN      NaN      NaN   \n",
       "7       NaN      NaN      NaN      NaN      NaN      NaN      NaN   \n",
       "8       NaN      NaN      NaN      NaN      NaN      NaN      NaN   \n",
       "14      NaN      NaN      NaN      NaN      NaN      NaN      NaN   \n",
       "16      NaN      NaN      NaN      NaN      NaN      NaN      NaN   \n",
       "20      NaN      NaN      NaN      NaN      NaN      NaN      NaN   \n",
       "\n",
       "              VAR_0204            VAR_0217  \n",
       "ID                                          \n",
       "2  2014-01-29 21:16:00 2011-11-08 02:00:00  \n",
       "4  2014-02-01 00:11:00 2012-10-02 02:00:00  \n",
       "5  2014-01-30 15:11:00 2011-12-13 02:00:00  \n",
       "7  2014-02-01 00:07:00 2012-11-01 02:00:00  \n",
       "8  2014-01-29 19:31:00 2011-10-15 02:00:00  \n",
       "14 2014-01-30 23:52:00 2012-06-06 02:00:00  \n",
       "16 2014-01-29 19:18:00 2011-10-11 02:00:00  \n",
       "20 2014-01-30 16:46:00 2012-01-18 02:00:00  "
      ]
     },
     "execution_count": 103,
     "metadata": {},
     "output_type": "execute_result"
    }
   ],
   "source": [
    "train.loc[:20, dates_cols] #Lazy method to generate some preliminary model is to use only year for now"
   ]
  },
  {
   "cell_type": "code",
   "execution_count": 106,
   "metadata": {
    "collapsed": false
   },
   "outputs": [
    {
     "name": "stdout",
     "output_type": "stream",
     "text": [
      "<class 'pandas.core.frame.DataFrame'>\n",
      "Int64Index: 145231 entries, 2 to 290463\n",
      "Data columns (total 16 columns):\n",
      "VAR_0073    44104 non-null datetime64[ns]\n",
      "VAR_0075    145175 non-null datetime64[ns]\n",
      "VAR_0156    5870 non-null object\n",
      "VAR_0157    920 non-null object\n",
      "VAR_0158    2089 non-null object\n",
      "VAR_0159    5870 non-null object\n",
      "VAR_0166    14230 non-null object\n",
      "VAR_0167    2567 non-null object\n",
      "VAR_0168    10725 non-null object\n",
      "VAR_0169    14230 non-null object\n",
      "VAR_0176    17532 non-null object\n",
      "VAR_0177    3358 non-null object\n",
      "VAR_0178    12073 non-null object\n",
      "VAR_0179    17532 non-null object\n",
      "VAR_0204    145175 non-null datetime64[ns]\n",
      "VAR_0217    145175 non-null datetime64[ns]\n",
      "dtypes: datetime64[ns](4), object(12)\n",
      "memory usage: 18.8+ MB\n"
     ]
    }
   ],
   "source": [
    "train[dates_cols].info()"
   ]
  },
  {
   "cell_type": "code",
   "execution_count": 111,
   "metadata": {
    "collapsed": false
   },
   "outputs": [],
   "source": [
    "complete_date_cols = ['VAR_0075', 'VAR_0204', 'VAR_0217'] #only year for preliminary model"
   ]
  },
  {
   "cell_type": "code",
   "execution_count": 153,
   "metadata": {
    "collapsed": false
   },
   "outputs": [],
   "source": [
    "for c in complete_date_cols:\n",
    "    train[c] = train[c].apply(lambda x: x.year)\n",
    "    test [c] = test[c].apply(lambda x: x.year)"
   ]
  },
  {
   "cell_type": "code",
   "execution_count": 123,
   "metadata": {
    "collapsed": false
   },
   "outputs": [
    {
     "name": "stdout",
     "output_type": "stream",
     "text": [
      "<class 'pandas.core.frame.DataFrame'>\n",
      "Int64Index: 145231 entries, 2 to 290463\n",
      "Columns: 1923 entries, VAR_0001 to NaNs\n",
      "dtypes: datetime64[ns](1), float64(480), int64(1404), object(38)\n",
      "memory usage: 2.1+ GB\n",
      "\n"
     ]
    }
   ],
   "source": [
    "train.info()"
   ]
  },
  {
   "cell_type": "code",
   "execution_count": 124,
   "metadata": {
    "collapsed": false
   },
   "outputs": [],
   "source": [
    "object_cols = train.columns[train.dtypes == 'object']"
   ]
  },
  {
   "cell_type": "code",
   "execution_count": 126,
   "metadata": {
    "collapsed": false
   },
   "outputs": [],
   "source": [
    "#for c in object_cols:\n",
    "#    print c, Counter(train.loc[r,c]).most_common(20)"
   ]
  },
  {
   "cell_type": "code",
   "execution_count": 127,
   "metadata": {
    "collapsed": false
   },
   "outputs": [],
   "source": [
    "train.drop('VAR_0156', axis = 1, inplace = True)\n",
    "test.drop('VAR_0156', axis = 1, inplace = True)"
   ]
  },
  {
   "cell_type": "code",
   "execution_count": 131,
   "metadata": {
    "collapsed": false
   },
   "outputs": [],
   "source": [
    "object_cols = train.columns[train.dtypes == 'object']"
   ]
  },
  {
   "cell_type": "code",
   "execution_count": 140,
   "metadata": {
    "collapsed": false
   },
   "outputs": [
    {
     "name": "stderr",
     "output_type": "stream",
     "text": [
      "//anaconda/lib/python2.7/site-packages/numpy/lib/arraysetops.py:251: FutureWarning: numpy equal will not check object identity in the future. The comparison did not return the same result as suggested by the identity (`is`)) and will change.\n",
      "  return aux[:-1][aux[1:] == aux[:-1]]\n",
      "//anaconda/lib/python2.7/site-packages/numpy/lib/arraysetops.py:384: FutureWarning: numpy equal will not check object identity in the future. The comparison did not return the same result as suggested by the identity (`is`)) and will change.\n",
      "  bool_ar = (sar[1:] == sar[:-1])\n"
     ]
    }
   ],
   "source": [
    "enc= {}\n",
    "errors = []\n",
    "for c in object_cols:\n",
    "    try:\n",
    "        enc[c] = LabelEncoder()\n",
    "        train[c] = enc[c].fit_transform(train[c])\n",
    "        test[c] = enc[c].transform(test[c])\n",
    "    except:\n",
    "        errors.append(c)"
   ]
  },
  {
   "cell_type": "code",
   "execution_count": 142,
   "metadata": {
    "collapsed": false
   },
   "outputs": [
    {
     "data": {
      "text/plain": [
       "['VAR_0157',\n",
       " 'VAR_0158',\n",
       " 'VAR_0159',\n",
       " 'VAR_0166',\n",
       " 'VAR_0167',\n",
       " 'VAR_0168',\n",
       " 'VAR_0169',\n",
       " 'VAR_0176',\n",
       " 'VAR_0177',\n",
       " 'VAR_0178',\n",
       " 'VAR_0179',\n",
       " 'VAR_0200',\n",
       " 'VAR_0214',\n",
       " 'VAR_0237',\n",
       " 'VAR_0283',\n",
       " 'VAR_0404',\n",
       " 'VAR_0493']"
      ]
     },
     "execution_count": 142,
     "metadata": {},
     "output_type": "execute_result"
    }
   ],
   "source": [
    "errors"
   ]
  },
  {
   "cell_type": "code",
   "execution_count": 145,
   "metadata": {
    "collapsed": false
   },
   "outputs": [
    {
     "name": "stdout",
     "output_type": "stream",
     "text": [
      "<class 'pandas.core.frame.DataFrame'>\n",
      "Int64Index: 145231 entries, 2 to 290463\n",
      "Columns: 1922 entries, VAR_0001 to NaNs\n",
      "dtypes: datetime64[ns](1), float64(480), int64(1430), object(11)\n",
      "memory usage: 2.1+ GB\n"
     ]
    }
   ],
   "source": [
    "train.info()"
   ]
  },
  {
   "cell_type": "code",
   "execution_count": 146,
   "metadata": {
    "collapsed": false
   },
   "outputs": [
    {
     "name": "stdout",
     "output_type": "stream",
     "text": [
      "<class 'pandas.core.frame.DataFrame'>\n",
      "Int64Index: 145232 entries, 1 to 290462\n",
      "Columns: 1921 entries, VAR_0001 to NaNs\n",
      "dtypes: datetime64[ns](8), float64(480), int64(1423), object(10)\n",
      "memory usage: 2.1+ GB\n"
     ]
    }
   ],
   "source": [
    "test.info()"
   ]
  },
  {
   "cell_type": "code",
   "execution_count": 152,
   "metadata": {
    "collapsed": false
   },
   "outputs": [],
   "source": [
    "#train[errors].iloc[1:30]"
   ]
  },
  {
   "cell_type": "code",
   "execution_count": null,
   "metadata": {
    "collapsed": false
   },
   "outputs": [],
   "source": []
  },
  {
   "cell_type": "code",
   "execution_count": null,
   "metadata": {
    "collapsed": true
   },
   "outputs": [],
   "source": []
  },
  {
   "cell_type": "code",
   "execution_count": null,
   "metadata": {
    "collapsed": false
   },
   "outputs": [],
   "source": []
  },
  {
   "cell_type": "code",
   "execution_count": null,
   "metadata": {
    "collapsed": false
   },
   "outputs": [],
   "source": []
  },
  {
   "cell_type": "code",
   "execution_count": null,
   "metadata": {
    "collapsed": false
   },
   "outputs": [],
   "source": []
  },
  {
   "cell_type": "code",
   "execution_count": null,
   "metadata": {
    "collapsed": true
   },
   "outputs": [],
   "source": []
  }
 ],
 "metadata": {
  "kernelspec": {
   "display_name": "Python 2",
   "language": "python",
   "name": "python2"
  },
  "language_info": {
   "codemirror_mode": {
    "name": "ipython",
    "version": 2
   },
   "file_extension": ".py",
   "mimetype": "text/x-python",
   "name": "python",
   "nbconvert_exporter": "python",
   "pygments_lexer": "ipython2",
   "version": "2.7.10"
  }
 },
 "nbformat": 4,
 "nbformat_minor": 0
}
