{
 "cells": [
  {
   "cell_type": "code",
   "execution_count": 1,
   "metadata": {
    "collapsed": false
   },
   "outputs": [],
   "source": [
    "import pandas as pd\n",
    "import numpy as np\n",
    "import random\n",
    "from collections import Counter\n",
    "import matplotlib.pyplot as plt\n",
    "import time\n",
    "import datetime\n",
    "\n",
    "from sklearn.preprocessing import LabelEncoder\n",
    "from sklearn.ensemble import RandomForestClassifier, AdaBoostClassifier\n",
    "from sklearn.grid_search import GridSearchCV\n",
    "import sklearn.preprocessing\n",
    "import sklearn.cross_validation\n",
    "\n",
    "\n",
    "\n",
    "%matplotlib inline"
   ]
  },
  {
   "cell_type": "code",
   "execution_count": 2,
   "metadata": {
    "collapsed": false
   },
   "outputs": [
    {
     "name": "stderr",
     "output_type": "stream",
     "text": [
      "/home/ubuntu/anaconda/lib/python2.7/site-packages/IPython/core/interactiveshell.py:2871: DtypeWarning: Columns (8,9,10,11,12,43,157,196,214,225,228,229,231,235,238) have mixed types. Specify dtype option on import or set low_memory=False.\n",
      "  interactivity=interactivity, compiler=compiler, result=result)\n",
      "/home/ubuntu/anaconda/lib/python2.7/site-packages/IPython/core/interactiveshell.py:2871: DtypeWarning: Columns (8,9,10,11,12,43,157,167,177,196,214,225,228,229,231,235,238) have mixed types. Specify dtype option on import or set low_memory=False.\n",
      "  interactivity=interactivity, compiler=compiler, result=result)\n"
     ]
    },
    {
     "name": "stdout",
     "output_type": "stream",
     "text": [
      "(145231, 1933)\n",
      "(145232, 1932)\n"
     ]
    }
   ],
   "source": [
    "train = pd.read_csv('./train.csv').set_index(\"ID\")\n",
    "test = pd.read_csv('./test.csv').set_index(\"ID\")\n",
    "print train.shape\n",
    "print test.shape"
   ]
  },
  {
   "cell_type": "code",
   "execution_count": 3,
   "metadata": {
    "collapsed": false
   },
   "outputs": [],
   "source": [
    "m,n = train.shape #draw samples from data to determine the type of data\n",
    "\n",
    "random.seed(1)\n",
    "r = np.random.choice(m, size = 20000, replace=False)"
   ]
  },
  {
   "cell_type": "code",
   "execution_count": 4,
   "metadata": {
    "collapsed": false
   },
   "outputs": [
    {
     "name": "stdout",
     "output_type": "stream",
     "text": [
      "['VAR_0847', 'VAR_1428']\n"
     ]
    },
    {
     "name": "stderr",
     "output_type": "stream",
     "text": [
      "/home/ubuntu/anaconda/lib/python2.7/site-packages/numpy/lib/arraysetops.py:200: FutureWarning: numpy not_equal will not check object identity in the future. The comparison did not return the same result as suggested by the identity (`is`)) and will change.\n",
      "  flag = np.concatenate(([True], aux[1:] != aux[:-1]))\n"
     ]
    }
   ],
   "source": [
    "drop_cols = [c for c in train.columns if len(np.unique(train[c])) == 1]#Should later drop columns from train and test\n",
    "print drop_cols\n",
    "train.drop(drop_cols, axis = 1, inplace = True)\n",
    "test.drop(drop_cols, axis = 1, inplace = True)"
   ]
  },
  {
   "cell_type": "code",
   "execution_count": 5,
   "metadata": {
    "collapsed": false
   },
   "outputs": [],
   "source": [
    "object_cols = train.columns[train.dtypes == 'object']"
   ]
  },
  {
   "cell_type": "code",
   "execution_count": 6,
   "metadata": {
    "collapsed": false
   },
   "outputs": [
    {
     "name": "stdout",
     "output_type": "stream",
     "text": [
      "VAR_0001 [(nan, 10055), ('R', 5835), ('H', 4071), ('Q', 39)]\n",
      "VAR_0005 [(nan, 10055), ('B', 4934), ('C', 3618), ('N', 1179), ('S', 214)]\n",
      "VAR_0008 [(nan, 10059), (False, 9941)]\n",
      "VAR_0009 [(nan, 10059), (False, 9941)]\n",
      "VAR_0010 [(nan, 10059), (False, 9941)]\n",
      "VAR_0011 [(nan, 10059), (False, 9941)]\n",
      "VAR_0012 [(nan, 10059), (False, 9941)]\n",
      "VAR_0043 [(nan, 10059), (False, 9941)]\n",
      "VAR_0044 [(nan, 10059), ('[]', 9941)]\n",
      "VAR_0073 [(nan, 17029), ('13MAR09:00:00:00', 16), ('12MAR09:00:00:00', 13), ('10JUN11:00:00:00', 13), ('02NOV11:00:00:00', 13), ('20SEP12:00:00:00', 12), ('15NOV11:00:00:00', 12), ('25OCT11:00:00:00', 12), ('13DEC11:00:00:00', 12), ('14MAY12:00:00:00', 12), ('02DEC11:00:00:00', 12), ('01MAY12:00:00:00', 12), ('30MAR12:00:00:00', 11), ('03AUG12:00:00:00', 11), ('13JUN12:00:00:00', 11), ('27JUL12:00:00:00', 11), ('11MAR09:00:00:00', 11), ('10MAY12:00:00:00', 11), ('08DEC11:00:00:00', 11), ('25JUN12:00:00:00', 10)]\n",
      "VAR_0075 [(nan, 10059), ('22SEP10:00:00:00', 87), ('23SEP10:00:00:00', 75), ('07DEC11:00:00:00', 56), ('23NOV11:00:00:00', 54), ('15NOV11:00:00:00', 50), ('04OCT11:00:00:00', 50), ('07OCT11:00:00:00', 49), ('22NOV11:00:00:00', 48), ('06OCT11:00:00:00', 46), ('06DEC11:00:00:00', 45), ('21OCT11:00:00:00', 45), ('01NOV11:00:00:00', 45), ('09SEP11:00:00:00', 43), ('08OCT11:00:00:00', 41), ('08NOV11:00:00:00', 41), ('01DEC11:00:00:00', 41), ('05JUN12:00:00:00', 41), ('20OCT11:00:00:00', 40), ('07JUN12:00:00:00', 40)]\n",
      "VAR_0156 [(nan, 19626), ('01DEC11:00:00:00', 5), ('19JUL11:00:00:00', 5), ('20SEP11:00:00:00', 4), ('04AUG11:00:00:00', 4), ('07JUN11:00:00:00', 4), ('14MAY12:00:00:00', 4), ('09JUL12:00:00:00', 3), ('26JUN12:00:00:00', 3), ('26OCT11:00:00:00', 3), ('23APR12:00:00:00', 3), ('12DEC11:00:00:00', 3), ('21MAY12:00:00:00', 3), ('16DEC11:00:00:00', 3), ('29OCT11:00:00:00', 3), ('17JUL12:00:00:00', 3), ('03NOV11:00:00:00', 3), ('12APR12:00:00:00', 3), ('21DEC11:00:00:00', 3), ('18APR11:00:00:00', 3)]\n",
      "VAR_0157 [(nan, 19642), ('02AUG12:00:00:00', 2), ('02MAY12:00:00:00', 2), ('06OCT11:00:00:00', 2), ('05FEB12:00:00:00', 2), ('19APR12:00:00:00', 2), ('22OCT11:00:00:00', 2), (nan, 1), (nan, 1), (nan, 1), (nan, 1), (nan, 1), (nan, 1), ('09MAR12:00:00:00', 1), (nan, 1), (nan, 1), (nan, 1), (nan, 1), (nan, 1), (nan, 1)]\n",
      "VAR_0158 [(nan, 19866), ('13JAN12:00:00:00', 4), ('02MAR12:00:00:00', 4), ('18MAY12:00:00:00', 3), ('30MAR12:00:00:00', 2), ('09MAR12:00:00:00', 2), ('19APR12:00:00:00', 2), ('26JAN12:00:00:00', 2), ('02APR12:00:00:00', 2), ('19JAN12:00:00:00', 2), ('30DEC11:00:00:00', 2), ('01MAY12:00:00:00', 2), ('25APR12:00:00:00', 2), ('31AUG12:00:00:00', 2), ('24MAY12:00:00:00', 2), ('03FEB12:00:00:00', 2), ('22FEB12:00:00:00', 2), ('21FEB12:00:00:00', 2), ('13APR12:00:00:00', 2), ('01JUN12:00:00:00', 2)]\n",
      "VAR_0159 [(nan, 19626), ('09JUL12:00:00:00', 5), ('12APR12:00:00:00', 4), ('14MAY12:00:00:00', 4), ('19JAN12:00:00:00', 4), ('20DEC11:00:00:00', 4), ('06JUL12:00:00:00', 4), ('01DEC11:00:00:00', 3), ('26JUN12:00:00:00', 3), ('28MAR12:00:00:00', 3), ('27DEC11:00:00:00', 3), ('23APR12:00:00:00', 3), ('04OCT11:00:00:00', 3), ('21MAY12:00:00:00', 3), ('20JUN12:00:00:00', 3), ('30NOV11:00:00:00', 3), ('29OCT11:00:00:00', 3), ('07JUN11:00:00:00', 3), ('20MAR12:00:00:00', 3), ('19JUL11:00:00:00', 3)]\n",
      "VAR_0166 [(nan, 19072), ('29DEC11:00:00:00', 5), ('16MAY12:00:00:00', 5), ('03JAN12:00:00:00', 5), ('22SEP11:00:00:00', 4), ('30AUG11:00:00:00', 4), ('20SEP10:00:00:00', 4), ('30SEP11:00:00:00', 4), ('14NOV11:00:00:00', 4), ('04JUN12:00:00:00', 4), ('04JAN12:00:00:00', 4), ('25NOV11:00:00:00', 4), ('06JUN11:00:00:00', 3), ('08JUL10:00:00:00', 3), ('10OCT11:00:00:00', 3), ('12AUG11:00:00:00', 3), ('27JUN12:00:00:00', 3), ('03FEB12:00:00:00', 3), ('09JAN12:00:00:00', 3), ('17MAY11:00:00:00', 3)]\n",
      "VAR_0167 [(nan, 19838), ('27MAY11:00:00:00', 3), ('02FEB11:00:00:00', 3), ('03NOV11:00:00:00', 3), ('06JAN12:00:00:00', 3), ('01JUL11:00:00:00', 2), ('13MAY11:00:00:00', 2), ('10JAN12:00:00:00', 2), ('31DEC11:00:00:00', 2), ('17MAY12:00:00:00', 2), ('10DEC10:00:00:00', 2), ('10MAR12:00:00:00', 2), ('28JAN12:00:00:00', 2), ('04DEC10:00:00:00', 2), ('24JAN11:00:00:00', 2), ('23MAY12:00:00:00', 2), ('04APR12:00:00:00', 2), ('17NOV11:00:00:00', 2), ('15DEC11:00:00:00', 2), ('15FEB11:00:00:00', 2)]\n",
      "VAR_0168 [(nan, 19297), ('03NOV11:00:00:00', 14), ('06DEC11:00:00:00', 12), ('23NOV11:00:00:00', 10), ('20JAN12:00:00:00', 7), ('03FEB12:00:00:00', 7), ('17FEB12:00:00:00', 6), ('30DEC11:00:00:00', 6), ('30SEP11:00:00:00', 5), ('04MAY12:00:00:00', 5), ('31MAY12:00:00:00', 5), ('03JAN12:00:00:00', 5), ('16MAR12:00:00:00', 5), ('21MAR12:00:00:00', 4), ('29FEB12:00:00:00', 4), ('18MAY12:00:00:00', 4), ('22JUN12:00:00:00', 4), ('13APR12:00:00:00', 4), ('08DEC11:00:00:00', 4), ('13JAN12:00:00:00', 4)]\n",
      "VAR_0169 [(nan, 19072), ('04JUN12:00:00:00', 8), ('16MAY12:00:00:00', 7), ('10MAY12:00:00:00', 5), ('09JAN12:00:00:00', 5), ('13JAN12:00:00:00', 5), ('20APR12:00:00:00', 5), ('06FEB12:00:00:00', 5), ('03AUG11:00:00:00', 4), ('27AUG12:00:00:00', 4), ('31JAN12:00:00:00', 4), ('22SEP11:00:00:00', 4), ('30AUG11:00:00:00', 4), ('25OCT11:00:00:00', 4), ('31OCT11:00:00:00', 4), ('10JUL12:00:00:00', 4), ('05MAR12:00:00:00', 4), ('07SEP12:00:00:00', 4), ('30MAR12:00:00:00', 4), ('20OCT11:00:00:00', 4)]\n",
      "VAR_0176 [(nan, 18869), ('25NOV11:00:00:00', 6), ('22SEP11:00:00:00', 5), ('15DEC11:00:00:00', 5), ('29DEC11:00:00:00', 5), ('16MAY12:00:00:00', 5), ('01DEC11:00:00:00', 5), ('04JAN12:00:00:00', 5), ('30AUG11:00:00:00', 4), ('27JUN12:00:00:00', 4), ('20SEP10:00:00:00', 4), ('09JAN12:00:00:00', 4), ('30SEP11:00:00:00', 4), ('14NOV11:00:00:00', 4), ('12JUL11:00:00:00', 4), ('11JUL12:00:00:00', 4), ('08JUL11:00:00:00', 4), ('07JUN11:00:00:00', 4), ('03NOV11:00:00:00', 4), ('01NOV11:00:00:00', 4)]\n",
      "VAR_0177 [(nan, 19777), ('10MAR12:00:00:00', 3), ('27MAY11:00:00:00', 3), ('02FEB11:00:00:00', 3), ('03NOV11:00:00:00', 3), ('06JAN12:00:00:00', 3), ('06OCT11:00:00:00', 2), ('05FEB12:00:00:00', 2), ('01JUL11:00:00:00', 2), ('13MAY11:00:00:00', 2), ('10JAN12:00:00:00', 2), ('19APR12:00:00:00', 2), ('31DEC11:00:00:00', 2), ('17MAY12:00:00:00', 2), ('10DEC10:00:00:00', 2), ('02AUG12:00:00:00', 2), ('28JAN12:00:00:00', 2), ('24JAN11:00:00:00', 2), ('23MAY12:00:00:00', 2), ('10SEP11:00:00:00', 2)]\n",
      "VAR_0178 [(nan, 19197), ('03NOV11:00:00:00', 14), ('21FEB12:00:00:00', 13), ('06DEC11:00:00:00', 12), ('23NOV11:00:00:00', 11), ('10JAN12:00:00:00', 10), ('20JAN12:00:00:00', 8), ('03FEB12:00:00:00', 8), ('23MAR12:00:00:00', 7), ('13JAN12:00:00:00', 7), ('30SEP11:00:00:00', 6), ('04MAY12:00:00:00', 6), ('17FEB12:00:00:00', 6), ('18MAY12:00:00:00', 6), ('13APR12:00:00:00', 6), ('16MAR12:00:00:00', 6), ('02MAR12:00:00:00', 6), ('30DEC11:00:00:00', 6), ('01JUN12:00:00:00', 6), ('29FEB12:00:00:00', 5)]\n",
      "VAR_0179 [(nan, 18869), ('04JUN12:00:00:00', 8), ('30AUG11:00:00:00', 7), ('09JAN12:00:00:00', 7), ('16MAY12:00:00:00', 6), ('13JAN12:00:00:00', 6), ('04OCT11:00:00:00', 6), ('06JAN12:00:00:00', 6), ('04JAN12:00:00:00', 6), ('09JUL12:00:00:00', 6), ('03JAN12:00:00:00', 6), ('22DEC11:00:00:00', 6), ('30NOV11:00:00:00', 6), ('20JUL12:00:00:00', 6), ('19DEC11:00:00:00', 6), ('27AUG12:00:00:00', 5), ('22SEP11:00:00:00', 5), ('25OCT11:00:00:00', 5), ('27JUN12:00:00:00', 5), ('01OCT12:00:00:00', 5)]\n",
      "VAR_0196 [(nan, 10059), (False, 9941)]\n",
      "VAR_0200 [(nan, 10059), ('CHICAGO', 149), ('HOUSTON', 88), ('JACKSONVILLE', 68), ('SAN ANTONIO', 66), ('INDIANAPOLIS', 65), ('PHILADELPHIA', 61), ('COLUMBUS', 57), ('LOS ANGELES', 55), ('DALLAS', 51), ('COLUMBIA', 50), ('LOUISVILLE', 46), ('CHARLOTTE', 44), ('MEMPHIS', 40), ('EL PASO', 39), ('MILWAUKEE', 38), ('CINCINNATI', 38), ('RICHMOND', 38), ('CLEVELAND', 38), ('SAINT LOUIS', 36)]\n",
      "VAR_0202 [(nan, 10059), ('BatchInquiry', 9941)]\n",
      "VAR_0204 [(nan, 10059), ('31JAN14:17:22:00', 22), ('31JAN14:22:58:00', 20), ('29JAN14:19:50:00', 20), ('31JAN14:23:41:00', 19), ('31JAN14:15:53:00', 18), ('31JAN14:18:17:00', 18), ('29JAN14:19:13:00', 18), ('31JAN14:00:02:00', 18), ('31JAN14:23:50:00', 18), ('31JAN14:23:47:00', 18), ('29JAN14:19:18:00', 18), ('30JAN14:22:24:00', 17), ('29JAN14:19:48:00', 17), ('31JAN14:16:29:00', 17), ('31JAN14:15:33:00', 17), ('31JAN14:18:32:00', 17), ('31JAN14:17:17:00', 17), ('30JAN14:17:41:00', 16), ('31JAN14:18:33:00', 16)]\n",
      "VAR_0214 [(nan, 10562), (nan, 1), (nan, 1), (nan, 1), (nan, 1), (nan, 1), (nan, 1), (nan, 1), (nan, 1), (nan, 1), (nan, 1), (nan, 1), (nan, 1), (nan, 1), (nan, 1), (nan, 1), (nan, 1), (nan, 1), (nan, 1), (nan, 1)]\n",
      "VAR_0216 [(nan, 10059), ('DS', 9941)]\n",
      "VAR_0217 [(nan, 10059), ('07DEC11:02:00:00', 70), ('06DEC11:02:00:00', 61), ('06SEP12:02:00:00', 57), ('04OCT11:02:00:00', 57), ('08MAY12:02:00:00', 57), ('19JUN12:02:00:00', 56), ('07JUN12:02:00:00', 55), ('21OCT11:02:00:00', 53), ('23OCT12:02:00:00', 52), ('06JUN12:02:00:00', 51), ('03JUL12:02:00:00', 51), ('21SEP12:02:00:00', 51), ('03NOV11:02:00:00', 50), ('09MAY12:02:00:00', 50), ('08OCT11:02:00:00', 49), ('02OCT12:02:00:00', 49), ('17MAY12:02:00:00', 49), ('12SEP12:02:00:00', 49), ('07OCT11:02:00:00', 49)]\n",
      "VAR_0222 [(nan, 10059), ('C6', 9941)]\n",
      "VAR_0226 [(nan, 10059), (False, 9906), (True, 35)]\n",
      "VAR_0229 [(nan, 10059), (False, 9941)]\n",
      "VAR_0230 [(nan, 10059), (False, 9929), (True, 12)]\n",
      "VAR_0232 [(nan, 10059), (True, 5654), (False, 4287)]\n",
      "VAR_0236 [(nan, 10059), (True, 9920), (False, 21)]\n",
      "VAR_0237 [(nan, 10059), ('CA', 1067), ('TX', 939), ('NC', 756), ('GA', 596), ('IL', 567), ('VA', 560), ('PA', 509), ('OH', 499), ('FL', 486), ('SC', 437), ('IN', 379), ('TN', 375), ('AL', 360), ('KY', 251), ('WA', 247), ('MO', 245), ('LA', 241), ('CO', 181), ('MS', 177)]\n",
      "VAR_0239 [(nan, 10059), (False, 9941)]\n",
      "VAR_0274 [(nan, 10115), ('CA', 1094), ('TX', 783), ('IL', 624), ('PA', 531), ('OH', 531), ('NC', 529), ('FL', 429), ('VA', 429), ('GA', 395), ('NY', 383), ('IN', 362), ('SC', 357), ('AL', 353), ('TN', 307), ('LA', 256), ('KY', 239), ('MO', 216), ('MS', 200), ('MI', 190)]\n",
      "VAR_0283 [(nan, 10115), ('S', 7837), ('H', 1627), ('-1', 335), ('P', 48), ('R', 21), ('F', 16), ('U', 1)]\n",
      "VAR_0305 [(nan, 10115), ('S', 7537), ('H', 1668), ('P', 463), ('-1', 184), ('R', 28), ('M', 4), ('U', 1)]\n",
      "VAR_0325 [(nan, 10115), ('S', 6223), ('H', 1841), ('-1', 846), ('P', 752), ('R', 149), ('F', 57), ('M', 6), ('U', 6), ('G', 5)]\n",
      "VAR_0342 [(nan, 10115), ('-1', 2090), ('FF', 1472), ('EE', 804), ('FE', 759), ('DD', 691), ('EF', 659), ('ED', 503), ('FD', 469), ('DE', 423), ('DF', 360), ('UU', 304), ('CD', 157), ('DC', 145), ('CE', 122), ('EC', 113), ('CC', 109), ('UF', 97), ('UE', 69), ('FU', 66)]\n",
      "VAR_0352 [(nan, 10115), ('U', 4172), ('O', 3529), ('R', 2019), ('-1', 165)]\n",
      "VAR_0353 [(nan, 10115), ('U', 4699), ('R', 2671), ('O', 2137), ('-1', 378)]\n",
      "VAR_0354 [(nan, 10115), ('U', 4636), ('R', 2472), ('-1', 1621), ('O', 1156)]\n",
      "VAR_0404 [(nan, 10115), ('-1', 8923), ('CONTACT', 149), ('PRESIDENT', 91), ('AGENT', 84), ('DIRECTOR', 69), ('OWNER', 63), ('INDIVIDUAL - SOLE OWNER', 39), ('MEMBER', 38), ('SECRETARY', 29), ('INCORPORATOR', 26), ('MANAGER', 19), ('TREASURER', 19), ('VICE PRESIDENT', 16), ('BOARD MEMBER', 15), ('MEMBER MANAGER', 15), ('CEO', 13), ('CONTA', 12), ('TAX RESPONSIBLE PARTY', 10), ('OFFICE MANAGER', 9)]\n",
      "VAR_0466 [(nan, 10115), ('-1', 8333), ('I', 1552)]\n",
      "VAR_0467 [(nan, 10115), ('-1', 8348), ('Discharged', 1437), ('Dismissed', 94), ('Discharge NA', 6)]\n",
      "VAR_0493 [(nan, 10115), ('-1', 9306), ('REGISTERED NURSE', 63), ('LICENSED PRACTICAL NURSE', 44), ('COSMETOLOGIST', 36), ('PHARMACY TECHNICIAN', 31), ('GUARD', 29), ('REAL ESTATE', 21), ('PERMANENT EMPLOYEE REGISTRATION CARD', 19), ('NURSE AIDE', 17), ('PROFESSIONAL NURSE', 14), ('LICENSED VOCATIONAL NURSE', 14), ('CERTIFIED NURSING ASSISTANT', 12), ('INSURANCE AGENTS', 10), ('PRACTICAL NURSE', 9), ('REAL ESTATE SALESPERSON', 8), ('FIREARM PERMIT', 8), ('RN', 7), ('TECH', 6), ('REAL ESTATE BROKER OR SALES', 5)]\n",
      "VAR_1934 [(nan, 10055), ('IAPS', 4633), ('BRANCH', 4630), ('MOBILE', 260), ('RCC', 216), ('CSC', 206)]\n"
     ]
    }
   ],
   "source": [
    "for c in object_cols:\n",
    "    print c, Counter(train.loc[r,c]).most_common(20)"
   ]
  },
  {
   "cell_type": "code",
   "execution_count": 7,
   "metadata": {
    "collapsed": false
   },
   "outputs": [],
   "source": [
    "dates_cols =['VAR_0073', 'VAR_0075', 'VAR_0156', 'VAR_0157', 'VAR_0158', 'VAR_0159', 'VAR_0166', 'VAR_0167', 'VAR_0168', 'VAR_0169', 'VAR_0176', 'VAR_0177', 'VAR_0178','VAR_0179', 'VAR_0204', 'VAR_0217']"
   ]
  },
  {
   "cell_type": "code",
   "execution_count": 8,
   "metadata": {
    "collapsed": false
   },
   "outputs": [
    {
     "name": "stdout",
     "output_type": "stream",
     "text": [
      "VAR_0001 [(nan, 10055), ('R', 5835), ('H', 4071), ('Q', 39)]\n",
      "VAR_0005 [(nan, 10055), ('B', 4934), ('C', 3618), ('N', 1179), ('S', 214)]\n",
      "VAR_0008 [(nan, 10059), (False, 9941)]\n",
      "VAR_0009 [(nan, 10059), (False, 9941)]\n",
      "VAR_0010 [(nan, 10059), (False, 9941)]\n",
      "VAR_0011 [(nan, 10059), (False, 9941)]\n",
      "VAR_0012 [(nan, 10059), (False, 9941)]\n",
      "VAR_0043 [(nan, 10059), (False, 9941)]\n",
      "VAR_0044 [(nan, 10059), ('[]', 9941)]\n",
      "VAR_0196 [(nan, 10059), (False, 9941)]\n",
      "VAR_0200 [(nan, 10059), ('CHICAGO', 149), ('HOUSTON', 88), ('JACKSONVILLE', 68), ('SAN ANTONIO', 66), ('INDIANAPOLIS', 65), ('PHILADELPHIA', 61), ('COLUMBUS', 57), ('LOS ANGELES', 55), ('DALLAS', 51), ('COLUMBIA', 50), ('LOUISVILLE', 46), ('CHARLOTTE', 44), ('MEMPHIS', 40), ('EL PASO', 39), ('MILWAUKEE', 38), ('CINCINNATI', 38), ('RICHMOND', 38), ('CLEVELAND', 38), ('SAINT LOUIS', 36)]\n",
      "VAR_0202 [(nan, 10059), ('BatchInquiry', 9941)]\n",
      "VAR_0214 [(nan, 10562), (nan, 1), (nan, 1), (nan, 1), (nan, 1), (nan, 1), (nan, 1), (nan, 1), (nan, 1), (nan, 1), (nan, 1), (nan, 1), (nan, 1), (nan, 1), (nan, 1), (nan, 1), (nan, 1), (nan, 1), (nan, 1), (nan, 1)]\n",
      "VAR_0216 [(nan, 10059), ('DS', 9941)]\n",
      "VAR_0222 [(nan, 10059), ('C6', 9941)]\n",
      "VAR_0226 [(nan, 10059), (False, 9906), (True, 35)]\n",
      "VAR_0229 [(nan, 10059), (False, 9941)]\n",
      "VAR_0230 [(nan, 10059), (False, 9929), (True, 12)]\n",
      "VAR_0232 [(nan, 10059), (True, 5654), (False, 4287)]\n",
      "VAR_0236 [(nan, 10059), (True, 9920), (False, 21)]\n",
      "VAR_0237 [(nan, 10059), ('CA', 1067), ('TX', 939), ('NC', 756), ('GA', 596), ('IL', 567), ('VA', 560), ('PA', 509), ('OH', 499), ('FL', 486), ('SC', 437), ('IN', 379), ('TN', 375), ('AL', 360), ('KY', 251), ('WA', 247), ('MO', 245), ('LA', 241), ('CO', 181), ('MS', 177)]\n",
      "VAR_0239 [(nan, 10059), (False, 9941)]\n",
      "VAR_0274 [(nan, 10115), ('CA', 1094), ('TX', 783), ('IL', 624), ('PA', 531), ('OH', 531), ('NC', 529), ('FL', 429), ('VA', 429), ('GA', 395), ('NY', 383), ('IN', 362), ('SC', 357), ('AL', 353), ('TN', 307), ('LA', 256), ('KY', 239), ('MO', 216), ('MS', 200), ('MI', 190)]\n",
      "VAR_0283 [(nan, 10115), ('S', 7837), ('H', 1627), ('-1', 335), ('P', 48), ('R', 21), ('F', 16), ('U', 1)]\n",
      "VAR_0305 [(nan, 10115), ('S', 7537), ('H', 1668), ('P', 463), ('-1', 184), ('R', 28), ('M', 4), ('U', 1)]\n",
      "VAR_0325 [(nan, 10115), ('S', 6223), ('H', 1841), ('-1', 846), ('P', 752), ('R', 149), ('F', 57), ('M', 6), ('U', 6), ('G', 5)]\n",
      "VAR_0342 [(nan, 10115), ('-1', 2090), ('FF', 1472), ('EE', 804), ('FE', 759), ('DD', 691), ('EF', 659), ('ED', 503), ('FD', 469), ('DE', 423), ('DF', 360), ('UU', 304), ('CD', 157), ('DC', 145), ('CE', 122), ('EC', 113), ('CC', 109), ('UF', 97), ('UE', 69), ('FU', 66)]\n",
      "VAR_0352 [(nan, 10115), ('U', 4172), ('O', 3529), ('R', 2019), ('-1', 165)]\n",
      "VAR_0353 [(nan, 10115), ('U', 4699), ('R', 2671), ('O', 2137), ('-1', 378)]\n",
      "VAR_0354 [(nan, 10115), ('U', 4636), ('R', 2472), ('-1', 1621), ('O', 1156)]\n",
      "VAR_0404 [(nan, 10115), ('-1', 8923), ('CONTACT', 149), ('PRESIDENT', 91), ('AGENT', 84), ('DIRECTOR', 69), ('OWNER', 63), ('INDIVIDUAL - SOLE OWNER', 39), ('MEMBER', 38), ('SECRETARY', 29), ('INCORPORATOR', 26), ('MANAGER', 19), ('TREASURER', 19), ('VICE PRESIDENT', 16), ('BOARD MEMBER', 15), ('MEMBER MANAGER', 15), ('CEO', 13), ('CONTA', 12), ('TAX RESPONSIBLE PARTY', 10), ('OFFICE MANAGER', 9)]\n",
      "VAR_0466 [(nan, 10115), ('-1', 8333), ('I', 1552)]\n",
      "VAR_0467 [(nan, 10115), ('-1', 8348), ('Discharged', 1437), ('Dismissed', 94), ('Discharge NA', 6)]\n",
      "VAR_0493 [(nan, 10115), ('-1', 9306), ('REGISTERED NURSE', 63), ('LICENSED PRACTICAL NURSE', 44), ('COSMETOLOGIST', 36), ('PHARMACY TECHNICIAN', 31), ('GUARD', 29), ('REAL ESTATE', 21), ('PERMANENT EMPLOYEE REGISTRATION CARD', 19), ('NURSE AIDE', 17), ('PROFESSIONAL NURSE', 14), ('LICENSED VOCATIONAL NURSE', 14), ('CERTIFIED NURSING ASSISTANT', 12), ('INSURANCE AGENTS', 10), ('PRACTICAL NURSE', 9), ('REAL ESTATE SALESPERSON', 8), ('FIREARM PERMIT', 8), ('RN', 7), ('TECH', 6), ('REAL ESTATE BROKER OR SALES', 5)]\n",
      "VAR_1934 [(nan, 10055), ('IAPS', 4633), ('BRANCH', 4630), ('MOBILE', 260), ('RCC', 216), ('CSC', 206)]\n"
     ]
    }
   ],
   "source": [
    "for c in object_cols:\n",
    "    if c not in dates_cols:\n",
    "        print c, Counter(train.loc[r,c]).most_common(20)"
   ]
  },
  {
   "cell_type": "code",
   "execution_count": 9,
   "metadata": {
    "collapsed": false
   },
   "outputs": [],
   "source": [
    "redundant_0008 = ['VAR_0008', 'VAR_0009', 'VAR_0010','VAR_0011','VAR_0012', 'VAR_0043','VAR_0044','VAR_0196', 'VAR_0229', ] #Contains redundant information\n",
    "train.drop(redundant_0008, axis = 1, inplace = True)\n",
    "test.drop(redundant_0008, axis = 1, inplace = True)"
   ]
  },
  {
   "cell_type": "code",
   "execution_count": 10,
   "metadata": {
    "collapsed": false
   },
   "outputs": [
    {
     "ename": "MemoryError",
     "evalue": "",
     "output_type": "error",
     "traceback": [
      "\u001b[1;31m---------------------------------------------------------------------------\u001b[0m",
      "\u001b[1;31mMemoryError\u001b[0m                               Traceback (most recent call last)",
      "\u001b[1;32m<ipython-input-10-0dbabdb97612>\u001b[0m in \u001b[0;36m<module>\u001b[1;34m()\u001b[0m\n\u001b[1;32m----> 1\u001b[1;33m \u001b[0mtrain\u001b[0m\u001b[1;33m[\u001b[0m\u001b[1;34m'NaNs'\u001b[0m\u001b[1;33m]\u001b[0m \u001b[1;33m=\u001b[0m \u001b[0mtrain\u001b[0m\u001b[1;33m.\u001b[0m\u001b[0mapply\u001b[0m\u001b[1;33m(\u001b[0m\u001b[1;32mlambda\u001b[0m \u001b[0mx\u001b[0m\u001b[1;33m:\u001b[0m \u001b[0mnp\u001b[0m\u001b[1;33m.\u001b[0m\u001b[0msum\u001b[0m\u001b[1;33m(\u001b[0m\u001b[0mpd\u001b[0m\u001b[1;33m.\u001b[0m\u001b[0misnull\u001b[0m\u001b[1;33m(\u001b[0m\u001b[0mx\u001b[0m\u001b[1;33m)\u001b[0m\u001b[1;33m)\u001b[0m\u001b[1;33m,\u001b[0m \u001b[0maxis\u001b[0m \u001b[1;33m=\u001b[0m \u001b[1;36m1\u001b[0m\u001b[1;33m)\u001b[0m \u001b[1;31m#Count the number of NaNs in each row will allow us to separate the types of data\u001b[0m\u001b[1;33m\u001b[0m\u001b[0m\n\u001b[0m\u001b[0;32m      2\u001b[0m \u001b[0mtest\u001b[0m\u001b[1;33m[\u001b[0m\u001b[1;34m'NaNs'\u001b[0m\u001b[1;33m]\u001b[0m \u001b[1;33m=\u001b[0m \u001b[0mtest\u001b[0m\u001b[1;33m.\u001b[0m\u001b[0mapply\u001b[0m\u001b[1;33m(\u001b[0m\u001b[1;32mlambda\u001b[0m \u001b[0mx\u001b[0m\u001b[1;33m:\u001b[0m \u001b[0mnp\u001b[0m\u001b[1;33m.\u001b[0m\u001b[0msum\u001b[0m\u001b[1;33m(\u001b[0m\u001b[0mpd\u001b[0m\u001b[1;33m.\u001b[0m\u001b[0misnull\u001b[0m\u001b[1;33m(\u001b[0m\u001b[0mx\u001b[0m\u001b[1;33m)\u001b[0m\u001b[1;33m)\u001b[0m\u001b[1;33m,\u001b[0m \u001b[0maxis\u001b[0m \u001b[1;33m=\u001b[0m \u001b[1;36m1\u001b[0m\u001b[1;33m)\u001b[0m\u001b[1;33m\u001b[0m\u001b[0m\n",
      "\u001b[1;32m/home/ubuntu/anaconda/lib/python2.7/site-packages/pandas/core/frame.py\u001b[0m in \u001b[0;36mapply\u001b[1;34m(self, func, axis, broadcast, raw, reduce, args, **kwds)\u001b[0m\n\u001b[0;32m   3912\u001b[0m                     \u001b[1;32mif\u001b[0m \u001b[0mreduce\u001b[0m \u001b[1;32mis\u001b[0m \u001b[0mNone\u001b[0m\u001b[1;33m:\u001b[0m\u001b[1;33m\u001b[0m\u001b[0m\n\u001b[0;32m   3913\u001b[0m                         \u001b[0mreduce\u001b[0m \u001b[1;33m=\u001b[0m \u001b[0mTrue\u001b[0m\u001b[1;33m\u001b[0m\u001b[0m\n\u001b[1;32m-> 3914\u001b[1;33m                     \u001b[1;32mreturn\u001b[0m \u001b[0mself\u001b[0m\u001b[1;33m.\u001b[0m\u001b[0m_apply_standard\u001b[0m\u001b[1;33m(\u001b[0m\u001b[0mf\u001b[0m\u001b[1;33m,\u001b[0m \u001b[0maxis\u001b[0m\u001b[1;33m,\u001b[0m \u001b[0mreduce\u001b[0m\u001b[1;33m=\u001b[0m\u001b[0mreduce\u001b[0m\u001b[1;33m)\u001b[0m\u001b[1;33m\u001b[0m\u001b[0m\n\u001b[0m\u001b[0;32m   3915\u001b[0m             \u001b[1;32melse\u001b[0m\u001b[1;33m:\u001b[0m\u001b[1;33m\u001b[0m\u001b[0m\n\u001b[0;32m   3916\u001b[0m                 \u001b[1;32mreturn\u001b[0m \u001b[0mself\u001b[0m\u001b[1;33m.\u001b[0m\u001b[0m_apply_broadcast\u001b[0m\u001b[1;33m(\u001b[0m\u001b[0mf\u001b[0m\u001b[1;33m,\u001b[0m \u001b[0maxis\u001b[0m\u001b[1;33m)\u001b[0m\u001b[1;33m\u001b[0m\u001b[0m\n",
      "\u001b[1;32m/home/ubuntu/anaconda/lib/python2.7/site-packages/pandas/core/frame.py\u001b[0m in \u001b[0;36m_apply_standard\u001b[1;34m(self, func, axis, ignore_failures, reduce)\u001b[0m\n\u001b[0;32m   3979\u001b[0m             \u001b[0mres_index\u001b[0m \u001b[1;33m=\u001b[0m \u001b[0mself\u001b[0m\u001b[1;33m.\u001b[0m\u001b[0mindex\u001b[0m\u001b[1;33m\u001b[0m\u001b[0m\n\u001b[0;32m   3980\u001b[0m             \u001b[0mres_columns\u001b[0m \u001b[1;33m=\u001b[0m \u001b[0mself\u001b[0m\u001b[1;33m.\u001b[0m\u001b[0mcolumns\u001b[0m\u001b[1;33m\u001b[0m\u001b[0m\n\u001b[1;32m-> 3981\u001b[1;33m             \u001b[0mvalues\u001b[0m \u001b[1;33m=\u001b[0m \u001b[0mself\u001b[0m\u001b[1;33m.\u001b[0m\u001b[0mvalues\u001b[0m\u001b[1;33m\u001b[0m\u001b[0m\n\u001b[0m\u001b[0;32m   3982\u001b[0m             series_gen = (Series.from_array(arr, index=res_columns, name=name, dtype=dtype)\n\u001b[0;32m   3983\u001b[0m                           \u001b[1;32mfor\u001b[0m \u001b[0mi\u001b[0m\u001b[1;33m,\u001b[0m \u001b[1;33m(\u001b[0m\u001b[0marr\u001b[0m\u001b[1;33m,\u001b[0m \u001b[0mname\u001b[0m\u001b[1;33m)\u001b[0m \u001b[1;32min\u001b[0m\u001b[1;33m\u001b[0m\u001b[0m\n",
      "\u001b[1;32m/home/ubuntu/anaconda/lib/python2.7/site-packages/pandas/core/generic.py\u001b[0m in \u001b[0;36mvalues\u001b[1;34m(self)\u001b[0m\n\u001b[0;32m   2418\u001b[0m         \u001b[0mint32\u001b[0m\u001b[1;33m.\u001b[0m\u001b[1;33m\u001b[0m\u001b[0m\n\u001b[0;32m   2419\u001b[0m         \"\"\"\n\u001b[1;32m-> 2420\u001b[1;33m         \u001b[1;32mreturn\u001b[0m \u001b[0mself\u001b[0m\u001b[1;33m.\u001b[0m\u001b[0mas_matrix\u001b[0m\u001b[1;33m(\u001b[0m\u001b[1;33m)\u001b[0m\u001b[1;33m\u001b[0m\u001b[0m\n\u001b[0m\u001b[0;32m   2421\u001b[0m \u001b[1;33m\u001b[0m\u001b[0m\n\u001b[0;32m   2422\u001b[0m     \u001b[1;33m@\u001b[0m\u001b[0mproperty\u001b[0m\u001b[1;33m\u001b[0m\u001b[0m\n",
      "\u001b[1;32m/home/ubuntu/anaconda/lib/python2.7/site-packages/pandas/core/generic.py\u001b[0m in \u001b[0;36mas_matrix\u001b[1;34m(self, columns)\u001b[0m\n\u001b[0;32m   2400\u001b[0m         \u001b[0mself\u001b[0m\u001b[1;33m.\u001b[0m\u001b[0m_consolidate_inplace\u001b[0m\u001b[1;33m(\u001b[0m\u001b[1;33m)\u001b[0m\u001b[1;33m\u001b[0m\u001b[0m\n\u001b[0;32m   2401\u001b[0m         \u001b[1;32mif\u001b[0m \u001b[0mself\u001b[0m\u001b[1;33m.\u001b[0m\u001b[0m_AXIS_REVERSED\u001b[0m\u001b[1;33m:\u001b[0m\u001b[1;33m\u001b[0m\u001b[0m\n\u001b[1;32m-> 2402\u001b[1;33m             \u001b[1;32mreturn\u001b[0m \u001b[0mself\u001b[0m\u001b[1;33m.\u001b[0m\u001b[0m_data\u001b[0m\u001b[1;33m.\u001b[0m\u001b[0mas_matrix\u001b[0m\u001b[1;33m(\u001b[0m\u001b[0mcolumns\u001b[0m\u001b[1;33m)\u001b[0m\u001b[1;33m.\u001b[0m\u001b[0mT\u001b[0m\u001b[1;33m\u001b[0m\u001b[0m\n\u001b[0m\u001b[0;32m   2403\u001b[0m         \u001b[1;32mreturn\u001b[0m \u001b[0mself\u001b[0m\u001b[1;33m.\u001b[0m\u001b[0m_data\u001b[0m\u001b[1;33m.\u001b[0m\u001b[0mas_matrix\u001b[0m\u001b[1;33m(\u001b[0m\u001b[0mcolumns\u001b[0m\u001b[1;33m)\u001b[0m\u001b[1;33m\u001b[0m\u001b[0m\n\u001b[0;32m   2404\u001b[0m \u001b[1;33m\u001b[0m\u001b[0m\n",
      "\u001b[1;32m/home/ubuntu/anaconda/lib/python2.7/site-packages/pandas/core/internals.py\u001b[0m in \u001b[0;36mas_matrix\u001b[1;34m(self, items)\u001b[0m\n\u001b[0;32m   2962\u001b[0m             \u001b[1;32mreturn\u001b[0m \u001b[0mmgr\u001b[0m\u001b[1;33m.\u001b[0m\u001b[0mblocks\u001b[0m\u001b[1;33m[\u001b[0m\u001b[1;36m0\u001b[0m\u001b[1;33m]\u001b[0m\u001b[1;33m.\u001b[0m\u001b[0mget_values\u001b[0m\u001b[1;33m(\u001b[0m\u001b[1;33m)\u001b[0m\u001b[1;33m\u001b[0m\u001b[0m\n\u001b[0;32m   2963\u001b[0m         \u001b[1;32melse\u001b[0m\u001b[1;33m:\u001b[0m\u001b[1;33m\u001b[0m\u001b[0m\n\u001b[1;32m-> 2964\u001b[1;33m             \u001b[1;32mreturn\u001b[0m \u001b[0mmgr\u001b[0m\u001b[1;33m.\u001b[0m\u001b[0m_interleave\u001b[0m\u001b[1;33m(\u001b[0m\u001b[1;33m)\u001b[0m\u001b[1;33m\u001b[0m\u001b[0m\n\u001b[0m\u001b[0;32m   2965\u001b[0m \u001b[1;33m\u001b[0m\u001b[0m\n\u001b[0;32m   2966\u001b[0m     \u001b[1;32mdef\u001b[0m \u001b[0m_interleave\u001b[0m\u001b[1;33m(\u001b[0m\u001b[0mself\u001b[0m\u001b[1;33m)\u001b[0m\u001b[1;33m:\u001b[0m\u001b[1;33m\u001b[0m\u001b[0m\n",
      "\u001b[1;32m/home/ubuntu/anaconda/lib/python2.7/site-packages/pandas/core/internals.py\u001b[0m in \u001b[0;36m_interleave\u001b[1;34m(self)\u001b[0m\n\u001b[0;32m   2971\u001b[0m         \u001b[0mdtype\u001b[0m \u001b[1;33m=\u001b[0m \u001b[0m_interleaved_dtype\u001b[0m\u001b[1;33m(\u001b[0m\u001b[0mself\u001b[0m\u001b[1;33m.\u001b[0m\u001b[0mblocks\u001b[0m\u001b[1;33m)\u001b[0m\u001b[1;33m\u001b[0m\u001b[0m\n\u001b[0;32m   2972\u001b[0m \u001b[1;33m\u001b[0m\u001b[0m\n\u001b[1;32m-> 2973\u001b[1;33m         \u001b[0mresult\u001b[0m \u001b[1;33m=\u001b[0m \u001b[0mnp\u001b[0m\u001b[1;33m.\u001b[0m\u001b[0mempty\u001b[0m\u001b[1;33m(\u001b[0m\u001b[0mself\u001b[0m\u001b[1;33m.\u001b[0m\u001b[0mshape\u001b[0m\u001b[1;33m,\u001b[0m \u001b[0mdtype\u001b[0m\u001b[1;33m=\u001b[0m\u001b[0mdtype\u001b[0m\u001b[1;33m)\u001b[0m\u001b[1;33m\u001b[0m\u001b[0m\n\u001b[0m\u001b[0;32m   2974\u001b[0m \u001b[1;33m\u001b[0m\u001b[0m\n\u001b[0;32m   2975\u001b[0m         \u001b[1;32mif\u001b[0m \u001b[0mresult\u001b[0m\u001b[1;33m.\u001b[0m\u001b[0mshape\u001b[0m\u001b[1;33m[\u001b[0m\u001b[1;36m0\u001b[0m\u001b[1;33m]\u001b[0m \u001b[1;33m==\u001b[0m \u001b[1;36m0\u001b[0m\u001b[1;33m:\u001b[0m\u001b[1;33m\u001b[0m\u001b[0m\n",
      "\u001b[1;31mMemoryError\u001b[0m: "
     ]
    }
   ],
   "source": [
    "train['NaNs'] = train.apply(lambda x: np.sum(pd.isnull(x)), axis = 1) #Count the number of NaNs in each row will allow us to separate the types of data\n",
    "test['NaNs'] = test.apply(lambda x: np.sum(pd.isnull(x)), axis = 1)"
   ]
  },
  {
   "cell_type": "code",
   "execution_count": null,
   "metadata": {
    "collapsed": true
   },
   "outputs": [],
   "source": [
    "def to_date(date_str):\n",
    "    if pd.notnull(date_str):\n",
    "        return datetime.datetime.strptime(date_str, '%d%b%y:%H:%M:%S')\n",
    "    else:\n",
    "        return date_str"
   ]
  },
  {
   "cell_type": "code",
   "execution_count": null,
   "metadata": {
    "collapsed": false
   },
   "outputs": [],
   "source": [
    "for c in dates_cols:\n",
    "    train[c] = train[c].apply(to_date)\n",
    "    test[c] = test[c].apply(to_date)"
   ]
  },
  {
   "cell_type": "code",
   "execution_count": null,
   "metadata": {
    "collapsed": false
   },
   "outputs": [],
   "source": [
    "diff = list(set(test.columns[test.dtypes == 'datetime64[ns]']) - set(train.columns[train.dtypes == 'datetime64[ns]'])) ##test got converted into date time format while train is still object format"
   ]
  },
  {
   "cell_type": "code",
   "execution_count": null,
   "metadata": {
    "collapsed": false
   },
   "outputs": [],
   "source": [
    "train.drop(diff, axis = 1, inplace = True)\n",
    "test.drop(diff, axis = 1, inplace = True)"
   ]
  },
  {
   "cell_type": "code",
   "execution_count": null,
   "metadata": {
    "collapsed": false
   },
   "outputs": [],
   "source": [
    "dates_cols_fixed = train.columns[train.dtypes == 'datetime64[ns]']"
   ]
  },
  {
   "cell_type": "code",
   "execution_count": null,
   "metadata": {
    "collapsed": false
   },
   "outputs": [],
   "source": [
    "errors_dates = [] #Does not matter because will convert to float\n",
    "for c in dates_cols_fixed: \n",
    "    try:\n",
    "        train[c] = train[c].apply(lambda x: x.year)\n",
    "        test[c] = test[c].apply(lambda x: x.year)\n",
    "    except:\n",
    "        errors.append(c)"
   ]
  },
  {
   "cell_type": "code",
   "execution_count": null,
   "metadata": {
    "collapsed": true
   },
   "outputs": [],
   "source": [
    "object_cols = train.columns[train.dtypes == 'object']"
   ]
  },
  {
   "cell_type": "code",
   "execution_count": null,
   "metadata": {
    "collapsed": false
   },
   "outputs": [],
   "source": [
    "enc= {}\n",
    "errors = []\n",
    "for c in object_cols:\n",
    "    try:\n",
    "        enc[c] = LabelEncoder()\n",
    "        train[c] = enc[c].fit_transform(train[c])\n",
    "        test[c] = enc[c].transform(test[c])\n",
    "    except:\n",
    "        errors.append(c)"
   ]
  },
  {
   "cell_type": "code",
   "execution_count": null,
   "metadata": {
    "collapsed": false
   },
   "outputs": [],
   "source": [
    "#Will need to adjust errors.. can fit transform on test and train data\n",
    "print errors # ['VAR_0157', 'VAR_0158', 'VAR_0167', 'VAR_0177', 'VAR_0200', 'VAR_0214', 'VAR_0237', 'VAR_0283', 'VAR_0404', 'VAR_0493']"
   ]
  },
  {
   "cell_type": "code",
   "execution_count": null,
   "metadata": {
    "collapsed": false
   },
   "outputs": [],
   "source": [
    "train.drop(errors, axis = 1, inplace = True)\n",
    "test.drop(errors, axis = 1, inplace = True)"
   ]
  },
  {
   "cell_type": "code",
   "execution_count": null,
   "metadata": {
    "collapsed": false
   },
   "outputs": [],
   "source": [
    "print train.info()\n",
    "print test.info()"
   ]
  },
  {
   "cell_type": "code",
   "execution_count": null,
   "metadata": {
    "collapsed": false
   },
   "outputs": [],
   "source": [
    "X = train.drop('target', axis = 1).values\n",
    "y = train.target.values"
   ]
  },
  {
   "cell_type": "code",
   "execution_count": null,
   "metadata": {
    "collapsed": false
   },
   "outputs": [],
   "source": [
    "imputer = sklearn.preprocessing.Imputer(strategy='median')\n",
    "X = imputer.fit_transform(X)"
   ]
  },
  {
   "cell_type": "code",
   "execution_count": null,
   "metadata": {
    "collapsed": true
   },
   "outputs": [],
   "source": [
    "rf = RandomForestClassifier(n_estimators = 45)"
   ]
  },
  {
   "cell_type": "code",
   "execution_count": null,
   "metadata": {
    "collapsed": false
   },
   "outputs": [],
   "source": [
    "sklearn.cross_validation.cross_val_score(rf, X, y, scoring = 'roc_auc')"
   ]
  },
  {
   "cell_type": "code",
   "execution_count": null,
   "metadata": {
    "collapsed": false
   },
   "outputs": [],
   "source": [
    "#ada = AdaBoostClassifier()"
   ]
  },
  {
   "cell_type": "code",
   "execution_count": null,
   "metadata": {
    "collapsed": false
   },
   "outputs": [],
   "source": [
    "#sklearn.cross_validation.cross_val_score(ada, X, y, scoring = 'roc_auc')"
   ]
  },
  {
   "cell_type": "code",
   "execution_count": null,
   "metadata": {
    "collapsed": false
   },
   "outputs": [],
   "source": [
    "rf.fit(X,y)"
   ]
  },
  {
   "cell_type": "code",
   "execution_count": null,
   "metadata": {
    "collapsed": false
   },
   "outputs": [],
   "source": [
    "X_test = test.values\n",
    "X_test = imputer.transform(X_test)\n"
   ]
  },
  {
   "cell_type": "code",
   "execution_count": null,
   "metadata": {
    "collapsed": false
   },
   "outputs": [],
   "source": [
    "y_pred = rf.predict(X_test)"
   ]
  },
  {
   "cell_type": "code",
   "execution_count": null,
   "metadata": {
    "collapsed": true
   },
   "outputs": [],
   "source": [
    "# MAKING SUBMISSION\n",
    "submission = pd.DataFrame(y_pred, index=test.index, columns=['target'])\n",
    "submission.index.name = 'ID'\n",
    "submission.to_csv('beat_withrf_B.csv')"
   ]
  },
  {
   "cell_type": "code",
   "execution_count": null,
   "metadata": {
    "collapsed": false
   },
   "outputs": [],
   "source": []
  }
 ],
 "metadata": {
  "kernelspec": {
   "display_name": "Python 2",
   "language": "python",
   "name": "python2"
  },
  "language_info": {
   "codemirror_mode": {
    "name": "ipython",
    "version": 2
   },
   "file_extension": ".py",
   "mimetype": "text/x-python",
   "name": "python",
   "nbconvert_exporter": "python",
   "pygments_lexer": "ipython2",
   "version": "2.7.10"
  }
 },
 "nbformat": 4,
 "nbformat_minor": 0
}
